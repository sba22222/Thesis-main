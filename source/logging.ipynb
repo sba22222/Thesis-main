{
 "cells": [
  {
   "cell_type": "code",
   "execution_count": 1,
   "id": "d62fbc8f",
   "metadata": {},
   "outputs": [],
   "source": [
    "# Original License:\n",
    "# Copyright 2021 Tristan Behrens.\n",
    "#\n",
    "# Licensed under the Apache License, Version 2.0 (the \"License\");\n",
    "# you may not use this file except in compliance with the License.\n",
    "# You may obtain a copy of the License at\n",
    "#\n",
    "#     http://www.apache.org/licenses/LICENSE-2.0\n",
    "#\n",
    "# Unless required by applicable law or agreed to in writing, software\n",
    "# distributed under the License is distributed on an \"AS IS\" BASIS,\n",
    "# WITHOUT WARRANTIES OR CONDITIONS OF ANY KIND, either express or implied.\n",
    "# See the License for the specific language governing permissions and\n",
    "# limitations under the License.\n",
    "\n",
    "# Lint as: python3\n",
    "\n",
    "import logging\n",
    "\n",
    "loggers_dict = {}\n",
    "\n",
    "\n",
    "def create_logger(name: str):\n",
    "    global loggers_dict\n",
    "    if name in loggers_dict:\n",
    "        return loggers_dict[name]\n",
    "    else:\n",
    "        logger = logging.getLogger(name)\n",
    "        loggers_dict[name] = logger\n",
    "        logger.setLevel(logging.DEBUG)\n",
    "        handler = logging.StreamHandler()\n",
    "        handler.setLevel(logging.DEBUG)\n",
    "        formatter = logging.Formatter(\n",
    "            \"%(asctime)s - %(name)s - %(levelname)s - %(message)s\"\n",
    "        )\n",
    "        handler.setFormatter(formatter)\n",
    "        logger.addHandler(handler)\n",
    "        logger.propagate = False\n",
    "        return logger\n",
    "\n",
    "\n",
    "def set_log_level(name, level):\n",
    "    logger_names = []\n",
    "    if name == \"all\":\n",
    "        logger_names = list(loggers_dict.keys())\n",
    "    else:\n",
    "        logger_names = [name]\n",
    "    for name in logger_names:\n",
    "        logger = loggers_dict[name]\n",
    "        logger.setLevel(level)"
   ]
  },
  {
   "cell_type": "code",
   "execution_count": null,
   "id": "6b9d23ce",
   "metadata": {},
   "outputs": [],
   "source": []
  }
 ],
 "metadata": {
  "kernelspec": {
   "display_name": "Python 3 (ipykernel)",
   "language": "python",
   "name": "python3"
  },
  "language_info": {
   "codemirror_mode": {
    "name": "ipython",
    "version": 3
   },
   "file_extension": ".py",
   "mimetype": "text/x-python",
   "name": "python",
   "nbconvert_exporter": "python",
   "pygments_lexer": "ipython3",
   "version": "3.9.13"
  }
 },
 "nbformat": 4,
 "nbformat_minor": 5
}

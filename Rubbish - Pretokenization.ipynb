{
 "cells": [
  {
   "cell_type": "markdown",
   "id": "11a0dc38",
   "metadata": {},
   "source": [
    "reference: https://colab.research.google.com/drive/1876dq54hRsWGWdsrC6E4cYdxmacb5a4S?usp=sharing#scrollTo=3Se37G7o30ap"
   ]
  },
  {
   "cell_type": "code",
   "execution_count": 2,
   "id": "727edb7e",
   "metadata": {},
   "outputs": [
    {
     "name": "stdout",
     "output_type": "stream",
     "text": [
      "PIECE_START TRACK_START INST=0 BAR_START TIME_DELTA=24 NOTE_ON=70 NOTE_ON=59 NOTE_ON=63 NOTE_ON=47 TIME_DELTA=3 NOTE_OFF=70 TIME_DELTA=1 NOTE_ON=78 TIME_DELTA=3 NOTE_OFF=78 TIME_DELTA=2 NOTE_ON=66 NOTE_ON=80 NOTE_ON=54 NOTE_OFF=59 TIME_DELTA=\n"
     ]
    }
   ],
   "source": [
    "# File path\n",
    "file_path = \"C:/Users/naomi/Thesis/Thesis/Thesis-main/tokenized_output_v2/all_tokenized_outputs.txt\"\n",
    "\n",
    "# Read the content of the file\n",
    "with open(file_path, 'r') as file:\n",
    "    all_tokenized_outputs = file.readlines()\n",
    "\n",
    "# Calculate the index for the 10% split\n",
    "split_index = int(0.1 * len(all_tokenized_outputs))\n",
    "\n",
    "# Extract the 11th sample (index 10)\n",
    "sample_10 = all_tokenized_outputs[10]\n",
    "\n",
    "# Take the first 242 characters of the sample\n",
    "sample = sample_10[:242]\n",
    "\n",
    "# Output the content of the sample variable\n",
    "print(sample)\n"
   ]
  },
  {
   "cell_type": "code",
   "execution_count": 3,
   "id": "5ef3606a",
   "metadata": {},
   "outputs": [
    {
     "data": {
      "application/vnd.jupyter.widget-view+json": {
       "model_id": "a094d06c73de4674b099a5621f9fa983",
       "version_major": 2,
       "version_minor": 0
      },
      "text/plain": [
       "config.json:   0%|          | 0.00/665 [00:00<?, ?B/s]"
      ]
     },
     "metadata": {},
     "output_type": "display_data"
    },
    {
     "name": "stderr",
     "output_type": "stream",
     "text": [
      "C:\\Users\\naomi\\anaconda3\\lib\\site-packages\\huggingface_hub\\file_download.py:147: UserWarning: `huggingface_hub` cache-system uses symlinks by default to efficiently store duplicated files but your machine does not support them in C:\\Users\\naomi\\.cache\\huggingface\\hub. Caching files will still work but in a degraded version that might require more space on your disk. This warning can be disabled by setting the `HF_HUB_DISABLE_SYMLINKS_WARNING` environment variable. For more details, see https://huggingface.co/docs/huggingface_hub/how-to-cache#limitations.\n",
      "To support symlinks on Windows, you either need to activate Developer Mode or to run Python as an administrator. In order to see activate developer mode, see this article: https://docs.microsoft.com/en-us/windows/apps/get-started/enable-your-device-for-development\n",
      "  warnings.warn(message)\n"
     ]
    },
    {
     "data": {
      "application/vnd.jupyter.widget-view+json": {
       "model_id": "ff6e1c61a39e4b2aaf885494d2923ac6",
       "version_major": 2,
       "version_minor": 0
      },
      "text/plain": [
       "vocab.json:   0%|          | 0.00/1.04M [00:00<?, ?B/s]"
      ]
     },
     "metadata": {},
     "output_type": "display_data"
    },
    {
     "data": {
      "application/vnd.jupyter.widget-view+json": {
       "model_id": "28aa399f2c06474b9db3af691f46f836",
       "version_major": 2,
       "version_minor": 0
      },
      "text/plain": [
       "merges.txt:   0%|          | 0.00/456k [00:00<?, ?B/s]"
      ]
     },
     "metadata": {},
     "output_type": "display_data"
    },
    {
     "data": {
      "application/vnd.jupyter.widget-view+json": {
       "model_id": "07f3f4b293714d0f968a3ba65177931e",
       "version_major": 2,
       "version_minor": 0
      },
      "text/plain": [
       "tokenizer.json:   0%|          | 0.00/1.36M [00:00<?, ?B/s]"
      ]
     },
     "metadata": {},
     "output_type": "display_data"
    },
    {
     "name": "stdout",
     "output_type": "stream",
     "text": [
      "['PI', 'EC', 'E', '_', 'ST', 'ART', 'ĠTR', 'ACK', '_', 'ST', 'ART', 'ĠINST', '=', '0', 'ĠBAR', '_', 'ST', 'ART', 'ĠTIME', '_', 'D', 'EL', 'TA', '=', '24', 'ĠNOTE', '_', 'ON', '=', '70', 'ĠNOTE', '_', 'ON', '=', '59', 'ĠNOTE', '_', 'ON', '=', '63', 'ĠNOTE', '_', 'ON', '=', '47', 'ĠTIME', '_', 'D', 'EL', 'TA', '=', '3', 'ĠNOTE', '_', 'OFF', '=', '70', 'ĠTIME', '_', 'D', 'EL', 'TA', '=', '1', 'ĠNOTE', '_', 'ON', '=', '78', 'ĠTIME', '_', 'D', 'EL', 'TA', '=', '3', 'ĠNOTE', '_', 'OFF', '=', '78', 'ĠTIME', '_', 'D', 'EL', 'TA', '=', '2', 'ĠNOTE', '_', 'ON', '=', '66', 'ĠNOTE', '_', 'ON', '=', '80', 'ĠNOTE', '_', 'ON', '=', '54', 'ĠNOTE', '_', 'OFF', '=', '59', 'ĠTIME', '_', 'D', 'EL', 'TA', '=']\n"
     ]
    }
   ],
   "source": [
    "# Default GPT-2 tokenizer applied to our dataset\n",
    "from transformers import AutoTokenizer\n",
    "\n",
    "tokenizer = AutoTokenizer.from_pretrained(\"gpt2\")\n",
    "print(tokenizer(sample).tokens())"
   ]
  },
  {
   "cell_type": "code",
   "execution_count": 4,
   "id": "8bb3c6b6",
   "metadata": {},
   "outputs": [
    {
     "data": {
      "text/plain": [
       "[('PIECE_START', (0, 11)),\n",
       " ('TRACK_START', (12, 23)),\n",
       " ('INST=0', (24, 30)),\n",
       " ('BAR_START', (31, 40)),\n",
       " ('TIME_DELTA=24', (41, 54)),\n",
       " ('NOTE_ON=70', (55, 65)),\n",
       " ('NOTE_ON=59', (66, 76)),\n",
       " ('NOTE_ON=63', (77, 87)),\n",
       " ('NOTE_ON=47', (88, 98)),\n",
       " ('TIME_DELTA=3', (99, 111)),\n",
       " ('NOTE_OFF=70', (112, 123)),\n",
       " ('TIME_DELTA=1', (124, 136)),\n",
       " ('NOTE_ON=78', (137, 147)),\n",
       " ('TIME_DELTA=3', (148, 160)),\n",
       " ('NOTE_OFF=78', (161, 172)),\n",
       " ('TIME_DELTA=2', (173, 185)),\n",
       " ('NOTE_ON=66', (186, 196)),\n",
       " ('NOTE_ON=80', (197, 207)),\n",
       " ('NOTE_ON=54', (208, 218)),\n",
       " ('NOTE_OFF=59', (219, 230)),\n",
       " ('TIME_DELTA=', (231, 242))]"
      ]
     },
     "execution_count": 4,
     "metadata": {},
     "output_type": "execute_result"
    }
   ],
   "source": [
    "from tokenizers import Tokenizer\n",
    "from tokenizers.models import WordLevel\n",
    "\n",
    "# We need to specify the UNK token\n",
    "new_tokenizer = Tokenizer(model=WordLevel(unk_token=\"[UNK]\"))\n",
    "\n",
    "# Add pretokenizer\n",
    "from tokenizers.pre_tokenizers import WhitespaceSplit\n",
    "\n",
    "new_tokenizer.pre_tokenizer = WhitespaceSplit()\n",
    "\n",
    "# Let's test our pre_tokenizer\n",
    "new_tokenizer.pre_tokenizer.pre_tokenize_str(sample)"
   ]
  },
  {
   "cell_type": "code",
   "execution_count": 6,
   "id": "304a58ba",
   "metadata": {},
   "outputs": [],
   "source": [
    "# Yield batches of 1,000 texts\n",
    "def get_training_corpus():\n",
    "  dataset = raw_datasets[\"train\"]\n",
    "  for i in range(0, len(dataset), 1000):\n",
    "    yield dataset[i : i + 1000][\"text\"]\n",
    "\n",
    "from tokenizers.trainers import WordLevelTrainer\n",
    "\n",
    "# Add special tokens\n",
    "trainer = WordLevelTrainer(\n",
    "    special_tokens=[\"[UNK]\", \"[CLS]\", \"[SEP]\", \"[PAD]\", \"[MASK]\"]\n",
    ")\n"
   ]
  },
  {
   "cell_type": "code",
   "execution_count": 7,
   "id": "c8f29933",
   "metadata": {},
   "outputs": [
    {
     "ename": "AttributeError",
     "evalue": "'PreTrainedTokenizerFast' object has no attribute 'train_from_iterator'",
     "output_type": "error",
     "traceback": [
      "\u001b[1;31m---------------------------------------------------------------------------\u001b[0m",
      "\u001b[1;31mAttributeError\u001b[0m                            Traceback (most recent call last)",
      "Cell \u001b[1;32mIn[7], line 1\u001b[0m\n\u001b[1;32m----> 1\u001b[0m \u001b[43mnew_tokenizer\u001b[49m\u001b[38;5;241;43m.\u001b[39;49m\u001b[43mtrain_from_iterator\u001b[49m(get_training_corpus(), trainer\u001b[38;5;241m=\u001b[39mtrainer)\n",
      "\u001b[1;31mAttributeError\u001b[0m: 'PreTrainedTokenizerFast' object has no attribute 'train_from_iterator'"
     ]
    }
   ],
   "source": [
    "new_tokenizer.train_from_iterator(get_training_corpus(), trainer=trainer)"
   ]
  },
  {
   "cell_type": "code",
   "execution_count": null,
   "id": "444eff48",
   "metadata": {},
   "outputs": [],
   "source": []
  },
  {
   "cell_type": "code",
   "execution_count": null,
   "id": "2bd5e57e",
   "metadata": {},
   "outputs": [],
   "source": []
  },
  {
   "cell_type": "code",
   "execution_count": null,
   "id": "165f6bef",
   "metadata": {},
   "outputs": [],
   "source": []
  }
 ],
 "metadata": {
  "kernelspec": {
   "display_name": "Python 3 (ipykernel)",
   "language": "python",
   "name": "python3"
  },
  "language_info": {
   "codemirror_mode": {
    "name": "ipython",
    "version": 3
   },
   "file_extension": ".py",
   "mimetype": "text/x-python",
   "name": "python",
   "nbconvert_exporter": "python",
   "pygments_lexer": "ipython3",
   "version": "3.9.13"
  }
 },
 "nbformat": 4,
 "nbformat_minor": 5
}

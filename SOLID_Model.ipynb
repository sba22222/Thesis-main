{
 "cells": [
  {
   "cell_type": "code",
   "execution_count": 1,
   "id": "e5904dcf",
   "metadata": {},
   "outputs": [
    {
     "name": "stdout",
     "output_type": "stream",
     "text": [
      "Collecting note_seq\n",
      "  Downloading note_seq-0.0.5-py3-none-any.whl (209 kB)\n",
      "     -------------------------------------- 209.4/209.4 kB 2.1 MB/s eta 0:00:00\n",
      "Requirement already satisfied: attrs in c:\\users\\naomi\\anaconda3\\lib\\site-packages (from note_seq) (21.4.0)\n",
      "Requirement already satisfied: protobuf>=4.21.2 in c:\\users\\naomi\\anaconda3\\lib\\site-packages (from note_seq) (4.21.3)\n",
      "Requirement already satisfied: IPython in c:\\users\\naomi\\appdata\\roaming\\python\\python39\\site-packages (from note_seq) (8.7.0)\n",
      "Requirement already satisfied: pydub in c:\\users\\naomi\\anaconda3\\lib\\site-packages (from note_seq) (0.25.1)\n",
      "Requirement already satisfied: pretty-midi>=0.2.6 in c:\\users\\naomi\\anaconda3\\lib\\site-packages (from note_seq) (0.2.9)\n",
      "Requirement already satisfied: scipy>=0.18.1 in c:\\users\\naomi\\anaconda3\\lib\\site-packages (from note_seq) (1.9.1)\n",
      "Collecting librosa>=0.6.2\n",
      "  Downloading librosa-0.10.1-py3-none-any.whl (253 kB)\n",
      "     -------------------------------------- 253.7/253.7 kB 3.9 MB/s eta 0:00:00\n",
      "Requirement already satisfied: intervaltree>=2.1.0 in c:\\users\\naomi\\anaconda3\\lib\\site-packages (from note_seq) (3.1.0)\n",
      "Requirement already satisfied: numpy in c:\\users\\naomi\\anaconda3\\lib\\site-packages (from note_seq) (1.21.5)\n",
      "Requirement already satisfied: absl-py in c:\\users\\naomi\\anaconda3\\lib\\site-packages (from note_seq) (1.4.0)\n",
      "Requirement already satisfied: pandas>=0.18.1 in c:\\users\\naomi\\anaconda3\\lib\\site-packages (from note_seq) (1.4.4)\n",
      "Requirement already satisfied: bokeh>=0.12.0 in c:\\users\\naomi\\anaconda3\\lib\\site-packages (from note_seq) (2.4.3)\n",
      "Requirement already satisfied: Jinja2>=2.9 in c:\\users\\naomi\\anaconda3\\lib\\site-packages (from bokeh>=0.12.0->note_seq) (2.11.3)\n",
      "Requirement already satisfied: PyYAML>=3.10 in c:\\users\\naomi\\anaconda3\\lib\\site-packages (from bokeh>=0.12.0->note_seq) (6.0)\n",
      "Requirement already satisfied: packaging>=16.8 in c:\\users\\naomi\\appdata\\roaming\\python\\python39\\site-packages (from bokeh>=0.12.0->note_seq) (22.0)\n",
      "Requirement already satisfied: pillow>=7.1.0 in c:\\users\\naomi\\anaconda3\\lib\\site-packages (from bokeh>=0.12.0->note_seq) (9.2.0)\n",
      "Requirement already satisfied: tornado>=5.1 in c:\\users\\naomi\\appdata\\roaming\\python\\python39\\site-packages (from bokeh>=0.12.0->note_seq) (6.2)\n",
      "Requirement already satisfied: typing-extensions>=3.10.0 in c:\\users\\naomi\\anaconda3\\lib\\site-packages (from bokeh>=0.12.0->note_seq) (4.9.0)\n",
      "Requirement already satisfied: sortedcontainers<3.0,>=2.0 in c:\\users\\naomi\\anaconda3\\lib\\site-packages (from intervaltree>=2.1.0->note_seq) (2.4.0)\n",
      "Collecting lazy-loader>=0.1\n",
      "  Downloading lazy_loader-0.3-py3-none-any.whl (9.1 kB)\n",
      "Requirement already satisfied: numba>=0.51.0 in c:\\users\\naomi\\anaconda3\\lib\\site-packages (from librosa>=0.6.2->note_seq) (0.55.1)\n",
      "Collecting soxr>=0.3.2\n",
      "  Downloading soxr-0.3.7-cp39-cp39-win_amd64.whl (184 kB)\n",
      "     -------------------------------------- 184.8/184.8 kB 2.8 MB/s eta 0:00:00\n",
      "Requirement already satisfied: scikit-learn>=0.20.0 in c:\\users\\naomi\\anaconda3\\lib\\site-packages (from librosa>=0.6.2->note_seq) (1.0.2)\n",
      "Collecting audioread>=2.1.9\n",
      "  Downloading audioread-3.0.1-py3-none-any.whl (23 kB)\n",
      "Collecting soundfile>=0.12.1\n",
      "  Downloading soundfile-0.12.1-py2.py3-none-win_amd64.whl (1.0 MB)\n",
      "     ---------------------------------------- 1.0/1.0 MB 3.0 MB/s eta 0:00:00\n",
      "Requirement already satisfied: decorator>=4.3.0 in c:\\users\\naomi\\appdata\\roaming\\python\\python39\\site-packages (from librosa>=0.6.2->note_seq) (5.1.1)\n",
      "Collecting pooch>=1.0\n",
      "  Downloading pooch-1.8.0-py3-none-any.whl (62 kB)\n",
      "     ---------------------------------------- 62.7/62.7 kB 3.5 MB/s eta 0:00:00\n",
      "Requirement already satisfied: msgpack>=1.0 in c:\\users\\naomi\\anaconda3\\lib\\site-packages (from librosa>=0.6.2->note_seq) (1.0.3)\n",
      "Requirement already satisfied: joblib>=0.14 in c:\\users\\naomi\\anaconda3\\lib\\site-packages (from librosa>=0.6.2->note_seq) (1.1.0)\n",
      "Requirement already satisfied: python-dateutil>=2.8.1 in c:\\users\\naomi\\appdata\\roaming\\python\\python39\\site-packages (from pandas>=0.18.1->note_seq) (2.8.2)\n",
      "Requirement already satisfied: pytz>=2020.1 in c:\\users\\naomi\\anaconda3\\lib\\site-packages (from pandas>=0.18.1->note_seq) (2022.1)\n",
      "Requirement already satisfied: six in c:\\users\\naomi\\appdata\\roaming\\python\\python39\\site-packages (from pretty-midi>=0.2.6->note_seq) (1.16.0)\n",
      "Requirement already satisfied: mido>=1.1.16 in c:\\users\\naomi\\anaconda3\\lib\\site-packages (from pretty-midi>=0.2.6->note_seq) (1.2.10)\n",
      "Requirement already satisfied: prompt-toolkit<3.1.0,>=3.0.11 in c:\\users\\naomi\\appdata\\roaming\\python\\python39\\site-packages (from IPython->note_seq) (3.0.36)\n",
      "Requirement already satisfied: stack-data in c:\\users\\naomi\\appdata\\roaming\\python\\python39\\site-packages (from IPython->note_seq) (0.6.2)\n",
      "Requirement already satisfied: matplotlib-inline in c:\\users\\naomi\\appdata\\roaming\\python\\python39\\site-packages (from IPython->note_seq) (0.1.6)\n",
      "Requirement already satisfied: traitlets>=5 in c:\\users\\naomi\\appdata\\roaming\\python\\python39\\site-packages (from IPython->note_seq) (5.7.1)\n",
      "Requirement already satisfied: pickleshare in c:\\users\\naomi\\appdata\\roaming\\python\\python39\\site-packages (from IPython->note_seq) (0.7.5)\n",
      "Requirement already satisfied: pygments>=2.4.0 in c:\\users\\naomi\\appdata\\roaming\\python\\python39\\site-packages (from IPython->note_seq) (2.13.0)\n",
      "Requirement already satisfied: colorama in c:\\users\\naomi\\appdata\\roaming\\python\\python39\\site-packages (from IPython->note_seq) (0.4.6)\n",
      "Requirement already satisfied: jedi>=0.16 in c:\\users\\naomi\\appdata\\roaming\\python\\python39\\site-packages (from IPython->note_seq) (0.18.2)\n",
      "Requirement already satisfied: backcall in c:\\users\\naomi\\appdata\\roaming\\python\\python39\\site-packages (from IPython->note_seq) (0.2.0)\n",
      "Requirement already satisfied: parso<0.9.0,>=0.8.0 in c:\\users\\naomi\\appdata\\roaming\\python\\python39\\site-packages (from jedi>=0.16->IPython->note_seq) (0.8.3)\n",
      "Requirement already satisfied: MarkupSafe>=0.23 in c:\\users\\naomi\\anaconda3\\lib\\site-packages (from Jinja2>=2.9->bokeh>=0.12.0->note_seq) (2.0.1)\n",
      "Requirement already satisfied: llvmlite<0.39,>=0.38.0rc1 in c:\\users\\naomi\\anaconda3\\lib\\site-packages (from numba>=0.51.0->librosa>=0.6.2->note_seq) (0.38.0)\n",
      "Requirement already satisfied: setuptools in c:\\users\\naomi\\anaconda3\\lib\\site-packages (from numba>=0.51.0->librosa>=0.6.2->note_seq) (63.4.1)\n",
      "Requirement already satisfied: requests>=2.19.0 in c:\\users\\naomi\\anaconda3\\lib\\site-packages (from pooch>=1.0->librosa>=0.6.2->note_seq) (2.28.1)\n",
      "Requirement already satisfied: platformdirs>=2.5.0 in c:\\users\\naomi\\anaconda3\\lib\\site-packages (from pooch>=1.0->librosa>=0.6.2->note_seq) (4.1.0)\n",
      "Requirement already satisfied: wcwidth in c:\\users\\naomi\\appdata\\roaming\\python\\python39\\site-packages (from prompt-toolkit<3.1.0,>=3.0.11->IPython->note_seq) (0.2.5)\n",
      "Requirement already satisfied: threadpoolctl>=2.0.0 in c:\\users\\naomi\\anaconda3\\lib\\site-packages (from scikit-learn>=0.20.0->librosa>=0.6.2->note_seq) (2.2.0)\n",
      "Requirement already satisfied: cffi>=1.0 in c:\\users\\naomi\\anaconda3\\lib\\site-packages (from soundfile>=0.12.1->librosa>=0.6.2->note_seq) (1.15.1)\n",
      "Requirement already satisfied: pure-eval in c:\\users\\naomi\\appdata\\roaming\\python\\python39\\site-packages (from stack-data->IPython->note_seq) (0.2.2)\n",
      "Requirement already satisfied: executing>=1.2.0 in c:\\users\\naomi\\appdata\\roaming\\python\\python39\\site-packages (from stack-data->IPython->note_seq) (1.2.0)\n",
      "Requirement already satisfied: asttokens>=2.1.0 in c:\\users\\naomi\\appdata\\roaming\\python\\python39\\site-packages (from stack-data->IPython->note_seq) (2.2.1)\n",
      "Requirement already satisfied: pycparser in c:\\users\\naomi\\anaconda3\\lib\\site-packages (from cffi>=1.0->soundfile>=0.12.1->librosa>=0.6.2->note_seq) (2.21)\n",
      "Requirement already satisfied: idna<4,>=2.5 in c:\\users\\naomi\\anaconda3\\lib\\site-packages (from requests>=2.19.0->pooch>=1.0->librosa>=0.6.2->note_seq) (3.3)\n",
      "Requirement already satisfied: certifi>=2017.4.17 in c:\\users\\naomi\\anaconda3\\lib\\site-packages (from requests>=2.19.0->pooch>=1.0->librosa>=0.6.2->note_seq) (2022.9.14)\n",
      "Requirement already satisfied: charset-normalizer<3,>=2 in c:\\users\\naomi\\anaconda3\\lib\\site-packages (from requests>=2.19.0->pooch>=1.0->librosa>=0.6.2->note_seq) (2.0.4)\n",
      "Requirement already satisfied: urllib3<1.27,>=1.21.1 in c:\\users\\naomi\\anaconda3\\lib\\site-packages (from requests>=2.19.0->pooch>=1.0->librosa>=0.6.2->note_seq) (1.26.11)\n",
      "Installing collected packages: soxr, lazy-loader, audioread, soundfile, pooch, librosa, note_seq\n",
      "Successfully installed audioread-3.0.1 lazy-loader-0.3 librosa-0.10.1 note_seq-0.0.5 pooch-1.8.0 soundfile-0.12.1 soxr-0.3.7\n"
     ]
    },
    {
     "name": "stdout",
     "output_type": "stream",
     "text": [
      "Requirement already satisfied: transformers[torch] in c:\\users\\naomi\\anaconda3\\lib\\site-packages (4.35.2)\n",
      "Requirement already satisfied: pyyaml>=5.1 in c:\\users\\naomi\\anaconda3\\lib\\site-packages (from transformers[torch]) (6.0)\n",
      "Requirement already satisfied: filelock in c:\\users\\naomi\\anaconda3\\lib\\site-packages (from transformers[torch]) (3.13.1)\n",
      "Requirement already satisfied: huggingface-hub<1.0,>=0.16.4 in c:\\users\\naomi\\anaconda3\\lib\\site-packages (from transformers[torch]) (0.19.4)\n",
      "Requirement already satisfied: regex!=2019.12.17 in c:\\users\\naomi\\anaconda3\\lib\\site-packages (from transformers[torch]) (2022.7.9)\n",
      "Requirement already satisfied: numpy>=1.17 in c:\\users\\naomi\\anaconda3\\lib\\site-packages (from transformers[torch]) (1.21.5)\n",
      "Requirement already satisfied: tokenizers<0.19,>=0.14 in c:\\users\\naomi\\anaconda3\\lib\\site-packages (from transformers[torch]) (0.15.0)\n",
      "Requirement already satisfied: packaging>=20.0 in c:\\users\\naomi\\appdata\\roaming\\python\\python39\\site-packages (from transformers[torch]) (22.0)\n",
      "Requirement already satisfied: requests in c:\\users\\naomi\\anaconda3\\lib\\site-packages (from transformers[torch]) (2.28.1)\n",
      "Requirement already satisfied: safetensors>=0.3.1 in c:\\users\\naomi\\anaconda3\\lib\\site-packages (from transformers[torch]) (0.4.1)\n",
      "Requirement already satisfied: tqdm>=4.27 in c:\\users\\naomi\\anaconda3\\lib\\site-packages (from transformers[torch]) (4.64.0)\n",
      "Requirement already satisfied: accelerate>=0.20.3 in c:\\users\\naomi\\anaconda3\\lib\\site-packages (from transformers[torch]) (0.25.0)\n",
      "Requirement already satisfied: torch!=1.12.0,>=1.10 in c:\\users\\naomi\\anaconda3\\lib\\site-packages (from transformers[torch]) (1.11.0)\n",
      "Requirement already satisfied: psutil in c:\\users\\naomi\\appdata\\roaming\\python\\python39\\site-packages (from accelerate>=0.20.3->transformers[torch]) (5.9.4)\n",
      "Requirement already satisfied: typing-extensions>=3.7.4.3 in c:\\users\\naomi\\anaconda3\\lib\\site-packages (from huggingface-hub<1.0,>=0.16.4->transformers[torch]) (4.9.0)\n",
      "Requirement already satisfied: fsspec>=2023.5.0 in c:\\users\\naomi\\anaconda3\\lib\\site-packages (from huggingface-hub<1.0,>=0.16.4->transformers[torch]) (2023.10.0)\n",
      "Requirement already satisfied: colorama in c:\\users\\naomi\\appdata\\roaming\\python\\python39\\site-packages (from tqdm>=4.27->transformers[torch]) (0.4.6)\n",
      "Requirement already satisfied: urllib3<1.27,>=1.21.1 in c:\\users\\naomi\\anaconda3\\lib\\site-packages (from requests->transformers[torch]) (1.26.11)\n",
      "Requirement already satisfied: idna<4,>=2.5 in c:\\users\\naomi\\anaconda3\\lib\\site-packages (from requests->transformers[torch]) (3.3)\n",
      "Requirement already satisfied: certifi>=2017.4.17 in c:\\users\\naomi\\anaconda3\\lib\\site-packages (from requests->transformers[torch]) (2022.9.14)\n",
      "Requirement already satisfied: charset-normalizer<3,>=2 in c:\\users\\naomi\\anaconda3\\lib\\site-packages (from requests->transformers[torch]) (2.0.4)\n"
     ]
    }
   ],
   "source": [
    "!pip install note_seq\n",
    "!pip install transformers[torch]"
   ]
  },
  {
   "cell_type": "code",
   "execution_count": 2,
   "id": "59d7a8de",
   "metadata": {},
   "outputs": [
    {
     "name": "stderr",
     "output_type": "stream",
     "text": [
      "'apt-get' is not recognized as an internal or external command,\n",
      "operable program or batch file.\n"
     ]
    }
   ],
   "source": [
    "!apt-get update -qq && apt-get install -qq libfluidsynth2 build-essential libasound2-dev libjack-dev\n",
    "!pip install -qU pyfluidsynth"
   ]
  },
  {
   "cell_type": "code",
   "execution_count": null,
   "id": "ea958175",
   "metadata": {},
   "outputs": [],
   "source": []
  }
 ],
 "metadata": {
  "kernelspec": {
   "display_name": "Python 3 (ipykernel)",
   "language": "python",
   "name": "python3"
  },
  "language_info": {
   "codemirror_mode": {
    "name": "ipython",
    "version": 3
   },
   "file_extension": ".py",
   "mimetype": "text/x-python",
   "name": "python",
   "nbconvert_exporter": "python",
   "pygments_lexer": "ipython3",
   "version": "3.9.13"
  }
 },
 "nbformat": 4,
 "nbformat_minor": 5
}

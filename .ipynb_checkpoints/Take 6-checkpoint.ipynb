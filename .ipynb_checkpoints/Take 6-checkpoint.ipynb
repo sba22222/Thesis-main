{
 "cells": [
  {
   "cell_type": "markdown",
   "id": "ed8fc398",
   "metadata": {},
   "source": [
    "## To Do List\n",
    "*\n"
   ]
  },
  {
   "cell_type": "markdown",
   "id": "3100adb8",
   "metadata": {},
   "source": [
    "**music21** for symbolic analysis <br> \n",
    "**midiexplorer** for exploring MIDI file structure <br>\n",
    "**pretty_midi** for detailed note and instrument information <br>\n",
    "**mido** for low-level MIDI message handling"
   ]
  },
  {
   "cell_type": "markdown",
   "id": "1bb14c12",
   "metadata": {},
   "source": [
    "#### Remove all the files with modified_ at the start of the file name"
   ]
  },
  {
   "cell_type": "code",
   "execution_count": null,
   "id": "d56c2967",
   "metadata": {},
   "outputs": [],
   "source": [
    "# import os\n",
    "\n",
    "# # Base directory where all composers' folders are located\n",
    "# base_filepath = \"POP909\"\n",
    "\n",
    "# # Looping through all the composers' folders\n",
    "# for composer in os.listdir(base_filepath):\n",
    "#     # Constructing the full path to the composer's folder\n",
    "#     composer_filepath = os.path.join(base_filepath, composer)\n",
    "\n",
    "#     # Checking if it's a directory before proceeding\n",
    "#     if os.path.isdir(composer_filepath):\n",
    "#         # Looping through all the files in the composer's folder\n",
    "#         for filename in os.listdir(composer_filepath):\n",
    "#             file_path = os.path.join(composer_filepath, filename)\n",
    "\n",
    "#             # Checking if the file starts with \"modified_\"\n",
    "#             if filename.startswith(\"modified_\"):\n",
    "#                 try:\n",
    "#                     # Remove the file\n",
    "#                     os.remove(file_path)\n",
    "#                     print(f\"Removed file: {file_path}\")\n",
    "#                 except Exception as e:\n",
    "#                     print(f\"Error removing file {file_path}: {e}\")"
   ]
  },
  {
   "cell_type": "markdown",
   "id": "e55b6195",
   "metadata": {},
   "source": [
    "#### Parse the midi files  "
   ]
  },
  {
   "cell_type": "markdown",
   "id": "cbb40989",
   "metadata": {},
   "source": [
    "In the music21 library, the primary data structure for representing musical elements is the Stream class. A Stream is a container that holds a sequence of musical events, such as notes, rests, chords, and other elements. The music21 library provides a rich set of classes to represent various musical concepts, and these can be organized within a Stream to create a hierarchical representation of a musical score."
   ]
  },
  {
   "cell_type": "code",
   "execution_count": 5,
   "id": "4eec3f43",
   "metadata": {},
   "outputs": [
    {
     "name": "stdout",
     "output_type": "stream",
     "text": [
      "Deleted: POP909_v2\\048/048.mid\n",
      "Deleted: POP909_v2\\071/071.mid\n",
      "Deleted: POP909_v2\\072/072.mid\n",
      "Deleted: POP909_v2\\077/077.mid\n",
      "Deleted: POP909_v2\\102/102.mid\n",
      "Deleted: POP909_v2\\320/320.mid\n",
      "Deleted: POP909_v2\\372/372.mid\n",
      "Deleted: POP909_v2\\408/408.mid\n",
      "Deleted: POP909_v2\\437/437.mid\n",
      "Deleted: POP909_v2\\500/500.mid\n",
      "Deleted: POP909_v2\\503/503.mid\n",
      "Deleted: POP909_v2\\509/509.mid\n",
      "Deleted: POP909_v2\\512/512.mid\n",
      "Deleted: POP909_v2\\513/513.mid\n",
      "Deleted: POP909_v2\\519/519.mid\n",
      "Deleted: POP909_v2\\524/524.mid\n",
      "Deleted: POP909_v2\\563/563.mid\n",
      "Deleted: POP909_v2\\647/647.mid\n",
      "Deleted: POP909_v2\\691/691.mid\n",
      "Deleted: POP909_v2\\701/701.mid\n",
      "Deleted: POP909_v2\\731/731.mid\n",
      "Deleted: POP909_v2\\732/732.mid\n",
      "Deleted: POP909_v2\\733/733.mid\n",
      "Deleted: POP909_v2\\734/734.mid\n",
      "Deleted: POP909_v2\\735/735.mid\n",
      "Deleted: POP909_v2\\740/740.mid\n",
      "Deleted: POP909_v2\\744/744.mid\n",
      "Deleted: POP909_v2\\745/745.mid\n",
      "Deleted: POP909_v2\\747/747.mid\n",
      "Deleted: POP909_v2\\748/748.mid\n",
      "Deleted: POP909_v2\\749/749.mid\n"
     ]
    }
   ],
   "source": [
    "# import os\n",
    "\n",
    "# # List of known problematic files to delete\n",
    "# known_problematic_files = [\n",
    "#     \"048/048.mid\",\n",
    "#     \"071/071.mid\",\n",
    "#     \"072/072.mid\",\n",
    "#     \"077/077.mid\",\n",
    "#     \"102/102.mid\",\n",
    "#     \"320/320.mid\",\n",
    "#     \"372/372.mid\",\n",
    "#     \"408/408.mid\",\n",
    "#     \"437/437.mid\",\n",
    "#     \"500/500.mid\",\n",
    "#     \"503/503.mid\",\n",
    "#     \"509/509.mid\",\n",
    "#     \"512/512.mid\",\n",
    "#     \"513/513.mid\",\n",
    "#     \"519/519.mid\",\n",
    "#     \"524/524.mid\",\n",
    "#     \"563/563.mid\",\n",
    "#     \"647/647.mid\",\n",
    "#     \"691/691.mid\",\n",
    "#     \"701/701.mid\",\n",
    "#     \"731/731.mid\",\n",
    "#     \"732/732.mid\",\n",
    "#     \"733/733.mid\",\n",
    "#     \"734/734.mid\",\n",
    "#     \"735/735.mid\",\n",
    "#     \"740/740.mid\",\n",
    "#     \"744/744.mid\",\n",
    "#     \"745/745.mid\",\n",
    "#     \"747/747.mid\",\n",
    "#     \"748/748.mid\",\n",
    "#     \"749/749.mid\",\n",
    "# ]\n",
    "\n",
    "\n",
    "# # Base directory where all composers' folders are located\n",
    "# base_filepath = \"POP909_v2\"\n",
    "\n",
    "# for file_path in known_problematic_files:\n",
    "#     full_path = os.path.join(base_filepath, file_path)\n",
    "#     try:\n",
    "#         os.remove(full_path)\n",
    "#         print(f\"Deleted: {full_path}\")\n",
    "#     except OSError as e:\n",
    "#         print(f\"Error deleting {full_path}: {e}\")\n"
   ]
  },
  {
   "cell_type": "code",
   "execution_count": null,
   "id": "c06b10a4",
   "metadata": {},
   "outputs": [],
   "source": [
    "from music21 import converter\n",
    "import os\n",
    "\n",
    "# Base directory where all composers' folders are located\n",
    "base_filepath = \"POP909_v2\"\n",
    "\n",
    "# Initializing an empty list to hold all the MIDI files\n",
    "all_midis = []\n",
    "\n",
    "# Looping through all the composers' folders\n",
    "for composer in os.listdir(base_filepath):\n",
    "    # Constructing the full path to the composer's folder\n",
    "    composer_filepath = os.path.join(base_filepath, composer)\n",
    "\n",
    "    # Checking if it's a directory before proceeding\n",
    "    if os.path.isdir(composer_filepath):\n",
    "        # Looping through all the files in the composer's folder\n",
    "        for filename in os.listdir(composer_filepath):\n",
    "            if filename.endswith(\".mid\"):\n",
    "                midi_filepath = os.path.join(composer_filepath, filename)\n",
    "                try:\n",
    "                    # Reading the MIDI file using music21 converter\n",
    "                    midi_stream = converter.parse(midi_filepath)\n",
    "                    all_midis.append(midi_stream)\n",
    "                except Exception as e:\n",
    "                    print(f\"Error reading MIDI file {midi_filepath}: {e}\")\n"
   ]
  },
  {
   "cell_type": "code",
   "execution_count": null,
   "id": "17b6e834",
   "metadata": {},
   "outputs": [],
   "source": [
    "import os\n",
    "import pickle\n",
    "from music21 import converter\n",
    "\n",
    "# Base directory where all composers' folders are located\n",
    "base_filepath = \"POP909_v2\"\n",
    "\n",
    "# File to store the accumulated MIDI data\n",
    "pickle_filepath = \"all_midis.pkl\"\n",
    "\n",
    "# Initialize an empty list to hold all the MIDI files\n",
    "all_midis = []\n",
    "\n",
    "# Load previously saved MIDI data if available\n",
    "if os.path.exists(pickle_filepath):\n",
    "    with open(pickle_filepath, 'rb') as file:\n",
    "        all_midis = pickle.load(file)\n",
    "\n",
    "# Your next piece of code can now use the populated `all_midis` list\n",
    "# ...\n",
    "\n",
    "# After processing the current run, save the updated MIDI data\n",
    "with open(pickle_filepath, 'wb') as file:\n",
    "    pickle.dump(all_midis, file)\n"
   ]
  },
  {
   "cell_type": "markdown",
   "id": "b318a70e",
   "metadata": {},
   "source": [
    "#### View Basic Information"
   ]
  },
  {
   "cell_type": "code",
   "execution_count": null,
   "id": "251095e3",
   "metadata": {},
   "outputs": [],
   "source": [
    "for midi_stream in all_midis:\n",
    "    print(midi_stream.metadata)"
   ]
  },
  {
   "cell_type": "code",
   "execution_count": null,
   "id": "6837c958",
   "metadata": {},
   "outputs": [],
   "source": [
    "metadata = midi_data.metadata\n",
    "time_signature = midi_data.getElementsByClass('TimeSignature')[0]\n",
    "key_signature = midi_data.getElementsByClass('KeySignature')[0]"
   ]
  },
  {
   "cell_type": "markdown",
   "id": "1743b28e",
   "metadata": {},
   "source": [
    "#### Displaying the Score"
   ]
  },
  {
   "cell_type": "code",
   "execution_count": null,
   "id": "85683691",
   "metadata": {},
   "outputs": [],
   "source": [
    "for midi_stream in all_midis:\n",
    "    midi_stream.show()"
   ]
  },
  {
   "cell_type": "markdown",
   "id": "e019e11a",
   "metadata": {},
   "source": [
    "#### Accessing Parts and Elements"
   ]
  },
  {
   "cell_type": "code",
   "execution_count": null,
   "id": "48ba49ce",
   "metadata": {},
   "outputs": [],
   "source": [
    "for midi_stream in all_midis:\n",
    "    for part in midi_stream.parts:\n",
    "        for element in part:\n",
    "            # Access individual elements in the MIDI file\n",
    "            print(element)\n"
   ]
  },
  {
   "cell_type": "code",
   "execution_count": null,
   "id": "f7311157",
   "metadata": {},
   "outputs": [],
   "source": [
    "parts = midi_data.parts\n",
    "voices = midi_data.getElementsByClass('Part')"
   ]
  },
  {
   "cell_type": "markdown",
   "id": "d35e8954",
   "metadata": {},
   "source": [
    "#### Analyzing Harmony and Chords"
   ]
  },
  {
   "cell_type": "code",
   "execution_count": null,
   "id": "70675742",
   "metadata": {},
   "outputs": [],
   "source": [
    "for midi_stream in all_midis:\n",
    "    chords = midi_stream.chordify()\n",
    "    for chord in chords.flat.getElementsByClass('Chord'):\n",
    "        # Analyze chord information\n",
    "        print(chord)\n"
   ]
  },
  {
   "cell_type": "code",
   "execution_count": null,
   "id": "22016326",
   "metadata": {},
   "outputs": [],
   "source": [
    "notes = midi_data.flat.notes\n",
    "chords = midi_data.flat.getElementsByClass('Chord')"
   ]
  },
  {
   "cell_type": "markdown",
   "id": "1dd4b8ac",
   "metadata": {},
   "source": [
    "#### Duration and Timing"
   ]
  },
  {
   "cell_type": "code",
   "execution_count": null,
   "id": "bbb6c119",
   "metadata": {},
   "outputs": [],
   "source": [
    "for element in midi_data.flat:\n",
    "    if 'Note' in element.classes:\n",
    "        print(f\"Note: {element.name}, Duration: {element.duration.quarterLength}\")\n",
    "    elif 'Rest' in element.classes:\n",
    "        print(f\"Rest, Duration: {element.duration.quarterLength}\")\n"
   ]
  },
  {
   "cell_type": "markdown",
   "id": "619fb9e7",
   "metadata": {},
   "source": [
    "#### Key Analysis"
   ]
  },
  {
   "cell_type": "code",
   "execution_count": null,
   "id": "c9913bc1",
   "metadata": {},
   "outputs": [],
   "source": [
    "key_analysis = midi_data.analyze('key')"
   ]
  },
  {
   "cell_type": "markdown",
   "id": "b64f8f7f",
   "metadata": {},
   "source": [
    "#### Pitch and Octave Analysis"
   ]
  },
  {
   "cell_type": "code",
   "execution_count": null,
   "id": "4875f36a",
   "metadata": {},
   "outputs": [],
   "source": [
    "pitch_distribution = [note.pitch for note in notes]\n",
    "octave_distribution = [note.octave for note in notes]"
   ]
  },
  {
   "cell_type": "markdown",
   "id": "45949d95",
   "metadata": {},
   "source": [
    "#### Time Signature Changes"
   ]
  },
  {
   "cell_type": "code",
   "execution_count": null,
   "id": "c4520e3c",
   "metadata": {},
   "outputs": [],
   "source": [
    "time_signature_changes = midi_data.parts[0].getElementsByClass('TimeSignature')"
   ]
  },
  {
   "cell_type": "markdown",
   "id": "1eea319e",
   "metadata": {},
   "source": [
    "#### Key Signature Changes"
   ]
  },
  {
   "cell_type": "code",
   "execution_count": null,
   "id": "55f99f2d",
   "metadata": {},
   "outputs": [],
   "source": [
    "key_signature_changes = midi_data.parts[0].getElementsByClass('KeySignature')"
   ]
  },
  {
   "cell_type": "markdown",
   "id": "90732e0c",
   "metadata": {},
   "source": [
    "#### Dynamics"
   ]
  },
  {
   "cell_type": "code",
   "execution_count": null,
   "id": "3e7c9536",
   "metadata": {},
   "outputs": [],
   "source": [
    "dynamics = midi_data.flat.getElementsByClass('Dynamic')"
   ]
  },
  {
   "cell_type": "markdown",
   "id": "99f0c48d",
   "metadata": {},
   "source": [
    "#### Tempo Changes"
   ]
  },
  {
   "cell_type": "code",
   "execution_count": null,
   "id": "1affb483",
   "metadata": {},
   "outputs": [],
   "source": [
    "tempo_changes = midi_data.flat.getElementsByClass('MetronomeMark')"
   ]
  },
  {
   "cell_type": "markdown",
   "id": "3c809c9c",
   "metadata": {},
   "source": [
    "#### Instrumentation"
   ]
  },
  {
   "cell_type": "code",
   "execution_count": null,
   "id": "01fd78c8",
   "metadata": {},
   "outputs": [],
   "source": [
    "instruments = midi_data.parts[0].getElementsByClass('Instrument')"
   ]
  },
  {
   "cell_type": "markdown",
   "id": "5915a5a6",
   "metadata": {},
   "source": [
    "#### Time Intervals"
   ]
  },
  {
   "cell_type": "code",
   "execution_count": null,
   "id": "ce7885ae",
   "metadata": {},
   "outputs": [],
   "source": [
    "time_intervals = midi_data.parts[0].getTimeSignatures()"
   ]
  },
  {
   "cell_type": "markdown",
   "id": "b146a081",
   "metadata": {},
   "source": [
    "#### Melodic Analysis"
   ]
  },
  {
   "cell_type": "code",
   "execution_count": null,
   "id": "2ce33c0e",
   "metadata": {},
   "outputs": [],
   "source": [
    "melody_analysis = midi_data.parts[0].melodicIntervals()"
   ]
  },
  {
   "cell_type": "markdown",
   "id": "2ac40368",
   "metadata": {},
   "source": [
    "#### Harmonic Analysis"
   ]
  },
  {
   "cell_type": "code",
   "execution_count": null,
   "id": "7080cfc4",
   "metadata": {},
   "outputs": [],
   "source": [
    "harmonic_analysis = midi_data.chordify()"
   ]
  },
  {
   "cell_type": "markdown",
   "id": "e782440c",
   "metadata": {},
   "source": [
    "#### Bar Analysis"
   ]
  },
  {
   "cell_type": "code",
   "execution_count": null,
   "id": "18daf1eb",
   "metadata": {},
   "outputs": [],
   "source": [
    "bars = midi_data.parts[0].getElementsByClass('Measure')"
   ]
  },
  {
   "cell_type": "markdown",
   "id": "26d40568",
   "metadata": {},
   "source": [
    "#### Scale Analysis"
   ]
  },
  {
   "cell_type": "code",
   "execution_count": null,
   "id": "35b5b0a2",
   "metadata": {},
   "outputs": [],
   "source": [
    "scale_analysis = midi_data.analyze('ambitus')"
   ]
  },
  {
   "cell_type": "code",
   "execution_count": null,
   "id": "ff0c3cf5",
   "metadata": {},
   "outputs": [],
   "source": []
  },
  {
   "cell_type": "code",
   "execution_count": null,
   "id": "ba458ee8",
   "metadata": {},
   "outputs": [],
   "source": []
  },
  {
   "cell_type": "code",
   "execution_count": null,
   "id": "a78bcb57",
   "metadata": {},
   "outputs": [],
   "source": []
  },
  {
   "cell_type": "markdown",
   "id": "92390c34",
   "metadata": {},
   "source": [
    "## 3. Analyzing & Processing the MIDI Data"
   ]
  },
  {
   "cell_type": "markdown",
   "id": "bbfef218",
   "metadata": {},
   "source": [
    "Use the first midi file as a tester to see what information is in the files"
   ]
  },
  {
   "cell_type": "code",
   "execution_count": null,
   "id": "06faa4cf",
   "metadata": {},
   "outputs": [],
   "source": []
  }
 ],
 "metadata": {
  "kernelspec": {
   "display_name": "Python 3 (ipykernel)",
   "language": "python",
   "name": "python3"
  },
  "language_info": {
   "codemirror_mode": {
    "name": "ipython",
    "version": 3
   },
   "file_extension": ".py",
   "mimetype": "text/x-python",
   "name": "python",
   "nbconvert_exporter": "python",
   "pygments_lexer": "ipython3",
   "version": "3.9.13"
  }
 },
 "nbformat": 4,
 "nbformat_minor": 5
}

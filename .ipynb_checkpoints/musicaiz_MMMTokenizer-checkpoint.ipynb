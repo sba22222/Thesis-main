{
 "cells": [
  {
   "cell_type": "code",
   "execution_count": 1,
   "id": "78d10974",
   "metadata": {},
   "outputs": [
    {
     "ename": "IndentationError",
     "evalue": "unexpected indent (1153789396.py, line 4)",
     "output_type": "error",
     "traceback": [
      "\u001b[1;36m  Cell \u001b[1;32mIn[1], line 4\u001b[1;36m\u001b[0m\n\u001b[1;33m    midi = \"my_midifile.mid\"\u001b[0m\n\u001b[1;37m    ^\u001b[0m\n\u001b[1;31mIndentationError\u001b[0m\u001b[1;31m:\u001b[0m unexpected indent\n"
     ]
    }
   ],
   "source": [
    "from musicaiz.tokenizers import MMMTokenizer, MMMTokenizerArguments\n",
    "\n",
    "    # Tokenize file\n",
    "    midi = \"my_midifile.mid\"\n",
    "    args = MMMTokenizerArguments(\n",
    "      windowing=True,\n",
    "      time_unit=\"SIXTEENTH\",\n",
    "      num_programs=None,\n",
    "      shuffle_tracks=True,\n",
    "      track_density=False,\n",
    "      window_size=4,\n",
    "      hop_length=1,\n",
    "      time_sig=False,\n",
    "      velocity=False,\n",
    "      quantize=False,\n",
    "      tempo=True,\n",
    "    )\n",
    "    # save configs\n",
    "    MMMTokenizerArguments.save(args, \"./\")\n",
    "    tokenizer = MMMTokenizer(midi, args)\n",
    "    got = tokenizer.tokenize_file()\n",
    "\n",
    "    # get tokens analysis\n",
    "    my_tokens = \"PIECE_START TRACK_START ...\"\n",
    "    MMMTokenizer.get_tokens_analytics(my_tokens)\n",
    "\n",
    "    # Convert tokens to Musa objects\n",
    "    MMMTokenizer.tokens_to_musa(\n",
    "      tokens=my_tokens,\n",
    "      absolute_timing=True,\n",
    "      time_unit=\"SIXTEENTH\",\n",
    "      time_sig=\"4/4\",\n",
    "      resolution=96\n",
    "    )\n",
    "\n",
    "    # get vocabulary\n",
    "    MMMTokenizer.get_vocabulary(\n",
    "      dataset_path=\"apth/to/dataset/tokens\",\n",
    "    )"
   ]
  },
  {
   "cell_type": "code",
   "execution_count": null,
   "id": "9d990494",
   "metadata": {},
   "outputs": [],
   "source": []
  }
 ],
 "metadata": {
  "kernelspec": {
   "display_name": "Python 3 (ipykernel)",
   "language": "python",
   "name": "python3"
  },
  "language_info": {
   "codemirror_mode": {
    "name": "ipython",
    "version": 3
   },
   "file_extension": ".py",
   "mimetype": "text/x-python",
   "name": "python",
   "nbconvert_exporter": "python",
   "pygments_lexer": "ipython3",
   "version": "3.9.13"
  }
 },
 "nbformat": 4,
 "nbformat_minor": 5
}

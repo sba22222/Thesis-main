{
 "cells": [
  {
   "cell_type": "code",
   "execution_count": 1,
   "metadata": {
    "id": "o3lJKe6TGC8R"
   },
   "outputs": [
    {
     "name": "stderr",
     "output_type": "stream",
     "text": [
      "'nvidia-smi' is not recognized as an internal or external command,\n",
      "operable program or batch file.\n"
     ]
    }
   ],
   "source": [
    "!nvidia-smi"
   ]
  },
  {
   "cell_type": "code",
   "execution_count": 2,
   "metadata": {
    "id": "_gsfH-EU7KPi"
   },
   "outputs": [
    {
     "name": "stderr",
     "output_type": "stream",
     "text": [
      "Cloning into 'Thesis-main'...\n",
      "Updating files:   0% (140/36310)\n",
      "Updating files:   1% (364/36310)\n",
      "Updating files:   2% (727/36310)\n",
      "Updating files:   3% (1090/36310)\n",
      "Updating files:   4% (1453/36310)\n",
      "Updating files:   5% (1816/36310)\n",
      "Updating files:   6% (2179/36310)\n",
      "Updating files:   6% (2291/36310)\n",
      "Updating files:   7% (2542/36310)\n",
      "Updating files:   8% (2905/36310)\n",
      "Updating files:   9% (3268/36310)\n",
      "Updating files:  10% (3631/36310)\n",
      "Updating files:  11% (3995/36310)\n",
      "Updating files:  11% (4319/36310)\n",
      "Updating files:  12% (4358/36310)\n",
      "Updating files:  13% (4721/36310)\n",
      "Updating files:  14% (5084/36310)\n",
      "Updating files:  15% (5447/36310)\n",
      "Updating files:  16% (5810/36310)\n",
      "Updating files:  17% (6173/36310)\n",
      "Updating files:  18% (6536/36310)\n",
      "Updating files:  18% (6769/36310)\n",
      "Updating files:  19% (6899/36310)\n",
      "Updating files:  20% (7262/36310)\n",
      "Updating files:  21% (7626/36310)\n",
      "Updating files:  22% (7989/36310)\n",
      "Updating files:  23% (8352/36310)\n",
      "Updating files:  24% (8715/36310)\n",
      "Updating files:  24% (8915/36310)\n",
      "Updating files:  25% (9078/36310)\n",
      "Updating files:  26% (9441/36310)\n",
      "Updating files:  27% (9804/36310)\n",
      "Updating files:  28% (10167/36310)\n",
      "Updating files:  29% (10530/36310)\n",
      "Updating files:  30% (10893/36310)\n",
      "Updating files:  31% (11257/36310)\n",
      "Updating files:  31% (11266/36310)\n",
      "Updating files:  32% (11620/36310)\n",
      "Updating files:  33% (11983/36310)\n",
      "Updating files:  34% (12346/36310)\n",
      "Updating files:  35% (12709/36310)\n",
      "Updating files:  36% (13072/36310)\n",
      "Updating files:  37% (13435/36310)\n",
      "Updating files:  38% (13798/36310)\n",
      "Updating files:  38% (13867/36310)\n",
      "Updating files:  39% (14161/36310)\n",
      "Updating files:  40% (14524/36310)\n",
      "Updating files:  41% (14888/36310)\n",
      "Updating files:  42% (15251/36310)\n",
      "Updating files:  43% (15614/36310)\n",
      "Updating files:  44% (15977/36310)\n",
      "Updating files:  45% (16340/36310)\n",
      "Updating files:  45% (16352/36310)\n",
      "Updating files:  46% (16703/36310)\n",
      "Updating files:  46% (16826/36310)\n",
      "Updating files:  47% (17066/36310)\n",
      "Updating files:  48% (17429/36310)\n",
      "Updating files:  49% (17792/36310)\n",
      "Updating files:  50% (18155/36310)\n",
      "Updating files:  51% (18519/36310)\n",
      "Updating files:  51% (18600/36310)\n",
      "Updating files:  52% (18882/36310)\n",
      "Updating files:  53% (19245/36310)\n",
      "Updating files:  54% (19608/36310)\n",
      "Updating files:  55% (19971/36310)\n",
      "Updating files:  55% (20292/36310)\n",
      "Updating files:  56% (20334/36310)\n",
      "Updating files:  57% (20697/36310)\n",
      "Updating files:  58% (21060/36310)\n",
      "Updating files:  59% (21423/36310)\n",
      "Updating files:  60% (21786/36310)\n",
      "Updating files:  61% (22150/36310)\n",
      "Updating files:  61% (22271/36310)\n",
      "Updating files:  62% (22513/36310)\n",
      "Updating files:  63% (22876/36310)\n",
      "Updating files:  64% (23239/36310)\n",
      "Updating files:  65% (23602/36310)\n",
      "Updating files:  66% (23965/36310)\n",
      "Updating files:  67% (24328/36310)\n",
      "Updating files:  68% (24691/36310)\n",
      "Updating files:  68% (24943/36310)\n",
      "Updating files:  69% (25054/36310)\n",
      "Updating files:  70% (25417/36310)\n",
      "Updating files:  71% (25781/36310)\n",
      "Updating files:  72% (26144/36310)\n",
      "Updating files:  73% (26507/36310)\n",
      "Updating files:  74% (26870/36310)\n",
      "Updating files:  75% (27233/36310)\n",
      "Updating files:  76% (27596/36310)\n",
      "Updating files:  77% (27959/36310)\n",
      "Updating files:  77% (28014/36310)\n",
      "Updating files:  78% (28322/36310)\n",
      "Updating files:  79% (28685/36310)\n",
      "Updating files:  80% (29048/36310)\n",
      "Updating files:  81% (29412/36310)\n",
      "Updating files:  82% (29775/36310)\n",
      "Updating files:  83% (30138/36310)\n",
      "Updating files:  84% (30501/36310)\n",
      "Updating files:  84% (30820/36310)\n",
      "Updating files:  85% (30864/36310)\n",
      "Updating files:  86% (31227/36310)\n",
      "Updating files:  87% (31590/36310)\n",
      "Updating files:  88% (31953/36310)\n",
      "Updating files:  89% (32316/36310)\n",
      "Updating files:  90% (32679/36310)\n",
      "Updating files:  91% (33043/36310)\n",
      "Updating files:  92% (33406/36310)\n",
      "Updating files:  92% (33494/36310)\n",
      "Updating files:  93% (33769/36310)\n",
      "Updating files:  94% (34132/36310)\n",
      "Updating files:  95% (34495/36310)\n",
      "Updating files:  96% (34858/36310)\n",
      "Updating files:  97% (35221/36310)\n",
      "Updating files:  97% (35567/36310)\n",
      "Updating files:  98% (35584/36310)\n",
      "Updating files:  99% (35947/36310)\n",
      "Updating files: 100% (36310/36310)\n",
      "Updating files: 100% (36310/36310), done.\n"
     ]
    }
   ],
   "source": [
    "!git clone https://github.com/sba22222/Thesis-main"
   ]
  },
  {
   "cell_type": "code",
   "execution_count": 3,
   "metadata": {
    "id": "SbO3hmaF7T2e"
   },
   "outputs": [
    {
     "name": "stdout",
     "output_type": "stream",
     "text": [
      "Requirement already satisfied: datasets in c:\\users\\naomi\\anaconda3\\lib\\site-packages (2.12.0)\n",
      "Requirement already satisfied: transformers in c:\\users\\naomi\\anaconda3\\lib\\site-packages (4.32.1)\n",
      "Requirement already satisfied: evaluate in c:\\users\\naomi\\anaconda3\\lib\\site-packages (0.4.1)\n",
      "Requirement already satisfied: accelerate in c:\\users\\naomi\\anaconda3\\lib\\site-packages (0.26.1)\n",
      "Requirement already satisfied: numpy>=1.17 in c:\\users\\naomi\\anaconda3\\lib\\site-packages (from datasets) (1.24.3)\n",
      "Requirement already satisfied: pyarrow>=8.0.0 in c:\\users\\naomi\\anaconda3\\lib\\site-packages (from datasets) (11.0.0)\n",
      "Requirement already satisfied: dill<0.3.7,>=0.3.0 in c:\\users\\naomi\\anaconda3\\lib\\site-packages (from datasets) (0.3.6)\n",
      "Requirement already satisfied: pandas in c:\\users\\naomi\\anaconda3\\lib\\site-packages (from datasets) (2.0.3)\n",
      "Requirement already satisfied: requests>=2.19.0 in c:\\users\\naomi\\anaconda3\\lib\\site-packages (from datasets) (2.31.0)\n",
      "Requirement already satisfied: tqdm>=4.62.1 in c:\\users\\naomi\\anaconda3\\lib\\site-packages (from datasets) (4.65.0)\n",
      "Requirement already satisfied: xxhash in c:\\users\\naomi\\anaconda3\\lib\\site-packages (from datasets) (2.0.2)\n",
      "Requirement already satisfied: multiprocess in c:\\users\\naomi\\anaconda3\\lib\\site-packages (from datasets) (0.70.14)\n",
      "Requirement already satisfied: fsspec[http]>=2021.11.1 in c:\\users\\naomi\\anaconda3\\lib\\site-packages (from datasets) (2023.4.0)\n",
      "Requirement already satisfied: aiohttp in c:\\users\\naomi\\anaconda3\\lib\\site-packages (from datasets) (3.8.5)\n",
      "Requirement already satisfied: huggingface-hub<1.0.0,>=0.11.0 in c:\\users\\naomi\\anaconda3\\lib\\site-packages (from datasets) (0.15.1)\n",
      "Requirement already satisfied: packaging in c:\\users\\naomi\\anaconda3\\lib\\site-packages (from datasets) (23.1)\n",
      "Requirement already satisfied: responses<0.19 in c:\\users\\naomi\\anaconda3\\lib\\site-packages (from datasets) (0.13.3)\n",
      "Requirement already satisfied: pyyaml>=5.1 in c:\\users\\naomi\\anaconda3\\lib\\site-packages (from datasets) (6.0)\n",
      "Requirement already satisfied: filelock in c:\\users\\naomi\\anaconda3\\lib\\site-packages (from transformers) (3.9.0)\n",
      "Requirement already satisfied: regex!=2019.12.17 in c:\\users\\naomi\\anaconda3\\lib\\site-packages (from transformers) (2022.7.9)\n",
      "Requirement already satisfied: tokenizers!=0.11.3,<0.14,>=0.11.1 in c:\\users\\naomi\\anaconda3\\lib\\site-packages (from transformers) (0.13.2)\n",
      "Requirement already satisfied: safetensors>=0.3.1 in c:\\users\\naomi\\anaconda3\\lib\\site-packages (from transformers) (0.3.2)\n",
      "Requirement already satisfied: psutil in c:\\users\\naomi\\anaconda3\\lib\\site-packages (from accelerate) (5.9.0)\n",
      "Requirement already satisfied: torch>=1.10.0 in c:\\users\\naomi\\anaconda3\\lib\\site-packages (from accelerate) (2.1.2)\n",
      "Requirement already satisfied: attrs>=17.3.0 in c:\\users\\naomi\\anaconda3\\lib\\site-packages (from aiohttp->datasets) (22.1.0)\n",
      "Requirement already satisfied: charset-normalizer<4.0,>=2.0 in c:\\users\\naomi\\anaconda3\\lib\\site-packages (from aiohttp->datasets) (2.0.4)\n",
      "Requirement already satisfied: multidict<7.0,>=4.5 in c:\\users\\naomi\\anaconda3\\lib\\site-packages (from aiohttp->datasets) (6.0.2)\n",
      "Requirement already satisfied: async-timeout<5.0,>=4.0.0a3 in c:\\users\\naomi\\anaconda3\\lib\\site-packages (from aiohttp->datasets) (4.0.2)\n",
      "Requirement already satisfied: yarl<2.0,>=1.0 in c:\\users\\naomi\\anaconda3\\lib\\site-packages (from aiohttp->datasets) (1.8.1)\n",
      "Requirement already satisfied: frozenlist>=1.1.1 in c:\\users\\naomi\\anaconda3\\lib\\site-packages (from aiohttp->datasets) (1.3.3)\n",
      "Requirement already satisfied: aiosignal>=1.1.2 in c:\\users\\naomi\\anaconda3\\lib\\site-packages (from aiohttp->datasets) (1.2.0)\n",
      "Requirement already satisfied: typing-extensions>=3.7.4.3 in c:\\users\\naomi\\anaconda3\\lib\\site-packages (from huggingface-hub<1.0.0,>=0.11.0->datasets) (4.7.1)\n",
      "Requirement already satisfied: idna<4,>=2.5 in c:\\users\\naomi\\anaconda3\\lib\\site-packages (from requests>=2.19.0->datasets) (3.4)\n",
      "Requirement already satisfied: urllib3<3,>=1.21.1 in c:\\users\\naomi\\anaconda3\\lib\\site-packages (from requests>=2.19.0->datasets) (1.26.16)\n",
      "Requirement already satisfied: certifi>=2017.4.17 in c:\\users\\naomi\\anaconda3\\lib\\site-packages (from requests>=2.19.0->datasets) (2023.7.22)\n",
      "Requirement already satisfied: six in c:\\users\\naomi\\anaconda3\\lib\\site-packages (from responses<0.19->datasets) (1.16.0)\n",
      "Requirement already satisfied: sympy in c:\\users\\naomi\\anaconda3\\lib\\site-packages (from torch>=1.10.0->accelerate) (1.11.1)\n",
      "Requirement already satisfied: networkx in c:\\users\\naomi\\anaconda3\\lib\\site-packages (from torch>=1.10.0->accelerate) (3.1)\n",
      "Requirement already satisfied: jinja2 in c:\\users\\naomi\\anaconda3\\lib\\site-packages (from torch>=1.10.0->accelerate) (3.1.2)\n",
      "Requirement already satisfied: colorama in c:\\users\\naomi\\anaconda3\\lib\\site-packages (from tqdm>=4.62.1->datasets) (0.4.6)\n",
      "Requirement already satisfied: python-dateutil>=2.8.2 in c:\\users\\naomi\\anaconda3\\lib\\site-packages (from pandas->datasets) (2.8.2)\n",
      "Requirement already satisfied: pytz>=2020.1 in c:\\users\\naomi\\anaconda3\\lib\\site-packages (from pandas->datasets) (2023.3.post1)\n",
      "Requirement already satisfied: tzdata>=2022.1 in c:\\users\\naomi\\anaconda3\\lib\\site-packages (from pandas->datasets) (2023.3)\n",
      "Requirement already satisfied: MarkupSafe>=2.0 in c:\\users\\naomi\\anaconda3\\lib\\site-packages (from jinja2->torch>=1.10.0->accelerate) (2.1.1)\n",
      "Requirement already satisfied: mpmath>=0.19 in c:\\users\\naomi\\anaconda3\\lib\\site-packages (from sympy->torch>=1.10.0->accelerate) (1.3.0)\n",
      "Requirement already satisfied: wandb in c:\\users\\naomi\\anaconda3\\lib\\site-packages (0.16.2)\n",
      "Requirement already satisfied: Click!=8.0.0,>=7.1 in c:\\users\\naomi\\anaconda3\\lib\\site-packages (from wandb) (8.0.4)\n",
      "Requirement already satisfied: GitPython!=3.1.29,>=1.0.0 in c:\\users\\naomi\\anaconda3\\lib\\site-packages (from wandb) (3.1.41)\n",
      "Requirement already satisfied: requests<3,>=2.0.0 in c:\\users\\naomi\\anaconda3\\lib\\site-packages (from wandb) (2.31.0)\n",
      "Requirement already satisfied: psutil>=5.0.0 in c:\\users\\naomi\\anaconda3\\lib\\site-packages (from wandb) (5.9.0)\n",
      "Requirement already satisfied: sentry-sdk>=1.0.0 in c:\\users\\naomi\\anaconda3\\lib\\site-packages (from wandb) (1.39.2)\n",
      "Requirement already satisfied: docker-pycreds>=0.4.0 in c:\\users\\naomi\\anaconda3\\lib\\site-packages (from wandb) (0.4.0)\n",
      "Requirement already satisfied: PyYAML in c:\\users\\naomi\\anaconda3\\lib\\site-packages (from wandb) (6.0)\n",
      "Requirement already satisfied: setproctitle in c:\\users\\naomi\\anaconda3\\lib\\site-packages (from wandb) (1.3.3)\n",
      "Requirement already satisfied: setuptools in c:\\users\\naomi\\anaconda3\\lib\\site-packages (from wandb) (68.0.0)\n",
      "Requirement already satisfied: appdirs>=1.4.3 in c:\\users\\naomi\\anaconda3\\lib\\site-packages (from wandb) (1.4.4)\n",
      "Requirement already satisfied: protobuf!=4.21.0,<5,>=3.19.0 in c:\\users\\naomi\\anaconda3\\lib\\site-packages (from wandb) (4.25.2)\n",
      "Requirement already satisfied: colorama in c:\\users\\naomi\\anaconda3\\lib\\site-packages (from Click!=8.0.0,>=7.1->wandb) (0.4.6)\n",
      "Requirement already satisfied: six>=1.4.0 in c:\\users\\naomi\\anaconda3\\lib\\site-packages (from docker-pycreds>=0.4.0->wandb) (1.16.0)\n",
      "Requirement already satisfied: gitdb<5,>=4.0.1 in c:\\users\\naomi\\anaconda3\\lib\\site-packages (from GitPython!=3.1.29,>=1.0.0->wandb) (4.0.11)\n",
      "Requirement already satisfied: charset-normalizer<4,>=2 in c:\\users\\naomi\\anaconda3\\lib\\site-packages (from requests<3,>=2.0.0->wandb) (2.0.4)\n",
      "Requirement already satisfied: idna<4,>=2.5 in c:\\users\\naomi\\anaconda3\\lib\\site-packages (from requests<3,>=2.0.0->wandb) (3.4)\n",
      "Requirement already satisfied: urllib3<3,>=1.21.1 in c:\\users\\naomi\\anaconda3\\lib\\site-packages (from requests<3,>=2.0.0->wandb) (1.26.16)\n",
      "Requirement already satisfied: certifi>=2017.4.17 in c:\\users\\naomi\\anaconda3\\lib\\site-packages (from requests<3,>=2.0.0->wandb) (2023.7.22)\n",
      "Requirement already satisfied: smmap<6,>=3.0.1 in c:\\users\\naomi\\anaconda3\\lib\\site-packages (from gitdb<5,>=4.0.1->GitPython!=3.1.29,>=1.0.0->wandb) (5.0.1)\n",
      "Requirement already satisfied: note_seq in c:\\users\\naomi\\anaconda3\\lib\\site-packages (0.0.5)\n",
      "Requirement already satisfied: absl-py in c:\\users\\naomi\\anaconda3\\lib\\site-packages (from note_seq) (2.0.0)\n",
      "Requirement already satisfied: attrs in c:\\users\\naomi\\anaconda3\\lib\\site-packages (from note_seq) (22.1.0)\n",
      "Requirement already satisfied: bokeh>=0.12.0 in c:\\users\\naomi\\anaconda3\\lib\\site-packages (from note_seq) (3.2.1)\n",
      "Requirement already satisfied: intervaltree>=2.1.0 in c:\\users\\naomi\\anaconda3\\lib\\site-packages (from note_seq) (3.1.0)\n",
      "Requirement already satisfied: IPython in c:\\users\\naomi\\anaconda3\\lib\\site-packages (from note_seq) (8.15.0)\n",
      "Requirement already satisfied: librosa>=0.6.2 in c:\\users\\naomi\\anaconda3\\lib\\site-packages (from note_seq) (0.10.1)\n",
      "Requirement already satisfied: numpy in c:\\users\\naomi\\anaconda3\\lib\\site-packages (from note_seq) (1.24.3)\n",
      "Requirement already satisfied: pandas>=0.18.1 in c:\\users\\naomi\\anaconda3\\lib\\site-packages (from note_seq) (2.0.3)\n",
      "Requirement already satisfied: pretty-midi>=0.2.6 in c:\\users\\naomi\\anaconda3\\lib\\site-packages (from note_seq) (0.2.10)\n",
      "Requirement already satisfied: protobuf>=4.21.2 in c:\\users\\naomi\\anaconda3\\lib\\site-packages (from note_seq) (4.25.2)\n",
      "Requirement already satisfied: pydub in c:\\users\\naomi\\anaconda3\\lib\\site-packages (from note_seq) (0.25.1)\n",
      "Requirement already satisfied: scipy>=0.18.1 in c:\\users\\naomi\\anaconda3\\lib\\site-packages (from note_seq) (1.11.1)\n",
      "Requirement already satisfied: Jinja2>=2.9 in c:\\users\\naomi\\anaconda3\\lib\\site-packages (from bokeh>=0.12.0->note_seq) (3.1.2)\n",
      "Requirement already satisfied: contourpy>=1 in c:\\users\\naomi\\anaconda3\\lib\\site-packages (from bokeh>=0.12.0->note_seq) (1.0.5)\n",
      "Requirement already satisfied: packaging>=16.8 in c:\\users\\naomi\\anaconda3\\lib\\site-packages (from bokeh>=0.12.0->note_seq) (23.1)\n",
      "Requirement already satisfied: pillow>=7.1.0 in c:\\users\\naomi\\anaconda3\\lib\\site-packages (from bokeh>=0.12.0->note_seq) (9.4.0)\n",
      "Requirement already satisfied: PyYAML>=3.10 in c:\\users\\naomi\\anaconda3\\lib\\site-packages (from bokeh>=0.12.0->note_seq) (6.0)\n",
      "Requirement already satisfied: tornado>=5.1 in c:\\users\\naomi\\anaconda3\\lib\\site-packages (from bokeh>=0.12.0->note_seq) (6.3.2)\n",
      "Requirement already satisfied: xyzservices>=2021.09.1 in c:\\users\\naomi\\anaconda3\\lib\\site-packages (from bokeh>=0.12.0->note_seq) (2022.9.0)\n",
      "Requirement already satisfied: sortedcontainers<3.0,>=2.0 in c:\\users\\naomi\\anaconda3\\lib\\site-packages (from intervaltree>=2.1.0->note_seq) (2.4.0)\n",
      "Requirement already satisfied: audioread>=2.1.9 in c:\\users\\naomi\\anaconda3\\lib\\site-packages (from librosa>=0.6.2->note_seq) (3.0.1)\n",
      "Requirement already satisfied: scikit-learn>=0.20.0 in c:\\users\\naomi\\anaconda3\\lib\\site-packages (from librosa>=0.6.2->note_seq) (1.3.0)\n",
      "Requirement already satisfied: joblib>=0.14 in c:\\users\\naomi\\anaconda3\\lib\\site-packages (from librosa>=0.6.2->note_seq) (1.2.0)\n",
      "Requirement already satisfied: decorator>=4.3.0 in c:\\users\\naomi\\anaconda3\\lib\\site-packages (from librosa>=0.6.2->note_seq) (5.1.1)\n",
      "Requirement already satisfied: numba>=0.51.0 in c:\\users\\naomi\\anaconda3\\lib\\site-packages (from librosa>=0.6.2->note_seq) (0.57.1)\n",
      "Requirement already satisfied: soundfile>=0.12.1 in c:\\users\\naomi\\anaconda3\\lib\\site-packages (from librosa>=0.6.2->note_seq) (0.12.1)\n",
      "Requirement already satisfied: pooch>=1.0 in c:\\users\\naomi\\anaconda3\\lib\\site-packages (from librosa>=0.6.2->note_seq) (1.8.0)\n",
      "Requirement already satisfied: soxr>=0.3.2 in c:\\users\\naomi\\anaconda3\\lib\\site-packages (from librosa>=0.6.2->note_seq) (0.3.7)\n",
      "Requirement already satisfied: typing-extensions>=4.1.1 in c:\\users\\naomi\\anaconda3\\lib\\site-packages (from librosa>=0.6.2->note_seq) (4.7.1)\n",
      "Requirement already satisfied: lazy-loader>=0.1 in c:\\users\\naomi\\anaconda3\\lib\\site-packages (from librosa>=0.6.2->note_seq) (0.2)\n",
      "Requirement already satisfied: msgpack>=1.0 in c:\\users\\naomi\\anaconda3\\lib\\site-packages (from librosa>=0.6.2->note_seq) (1.0.3)\n",
      "Requirement already satisfied: python-dateutil>=2.8.2 in c:\\users\\naomi\\anaconda3\\lib\\site-packages (from pandas>=0.18.1->note_seq) (2.8.2)\n",
      "Requirement already satisfied: pytz>=2020.1 in c:\\users\\naomi\\anaconda3\\lib\\site-packages (from pandas>=0.18.1->note_seq) (2023.3.post1)\n",
      "Requirement already satisfied: tzdata>=2022.1 in c:\\users\\naomi\\anaconda3\\lib\\site-packages (from pandas>=0.18.1->note_seq) (2023.3)\n",
      "Requirement already satisfied: mido>=1.1.16 in c:\\users\\naomi\\anaconda3\\lib\\site-packages (from pretty-midi>=0.2.6->note_seq) (1.3.2)\n",
      "Requirement already satisfied: six in c:\\users\\naomi\\anaconda3\\lib\\site-packages (from pretty-midi>=0.2.6->note_seq) (1.16.0)\n",
      "Requirement already satisfied: backcall in c:\\users\\naomi\\anaconda3\\lib\\site-packages (from IPython->note_seq) (0.2.0)\n",
      "Requirement already satisfied: jedi>=0.16 in c:\\users\\naomi\\anaconda3\\lib\\site-packages (from IPython->note_seq) (0.18.1)\n",
      "Requirement already satisfied: matplotlib-inline in c:\\users\\naomi\\anaconda3\\lib\\site-packages (from IPython->note_seq) (0.1.6)\n",
      "Requirement already satisfied: pickleshare in c:\\users\\naomi\\anaconda3\\lib\\site-packages (from IPython->note_seq) (0.7.5)\n",
      "Requirement already satisfied: prompt-toolkit!=3.0.37,<3.1.0,>=3.0.30 in c:\\users\\naomi\\anaconda3\\lib\\site-packages (from IPython->note_seq) (3.0.36)\n",
      "Requirement already satisfied: pygments>=2.4.0 in c:\\users\\naomi\\anaconda3\\lib\\site-packages (from IPython->note_seq) (2.15.1)\n",
      "Requirement already satisfied: stack-data in c:\\users\\naomi\\anaconda3\\lib\\site-packages (from IPython->note_seq) (0.2.0)\n",
      "Requirement already satisfied: traitlets>=5 in c:\\users\\naomi\\anaconda3\\lib\\site-packages (from IPython->note_seq) (5.7.1)\n",
      "Requirement already satisfied: colorama in c:\\users\\naomi\\anaconda3\\lib\\site-packages (from IPython->note_seq) (0.4.6)\n",
      "Requirement already satisfied: parso<0.9.0,>=0.8.0 in c:\\users\\naomi\\anaconda3\\lib\\site-packages (from jedi>=0.16->IPython->note_seq) (0.8.3)\n",
      "Requirement already satisfied: MarkupSafe>=2.0 in c:\\users\\naomi\\anaconda3\\lib\\site-packages (from Jinja2>=2.9->bokeh>=0.12.0->note_seq) (2.1.1)\n",
      "Requirement already satisfied: llvmlite<0.41,>=0.40.0dev0 in c:\\users\\naomi\\anaconda3\\lib\\site-packages (from numba>=0.51.0->librosa>=0.6.2->note_seq) (0.40.0)\n",
      "Requirement already satisfied: platformdirs>=2.5.0 in c:\\users\\naomi\\anaconda3\\lib\\site-packages (from pooch>=1.0->librosa>=0.6.2->note_seq) (3.10.0)\n",
      "Requirement already satisfied: requests>=2.19.0 in c:\\users\\naomi\\anaconda3\\lib\\site-packages (from pooch>=1.0->librosa>=0.6.2->note_seq) (2.31.0)\n",
      "Requirement already satisfied: wcwidth in c:\\users\\naomi\\anaconda3\\lib\\site-packages (from prompt-toolkit!=3.0.37,<3.1.0,>=3.0.30->IPython->note_seq) (0.2.5)\n",
      "Requirement already satisfied: threadpoolctl>=2.0.0 in c:\\users\\naomi\\anaconda3\\lib\\site-packages (from scikit-learn>=0.20.0->librosa>=0.6.2->note_seq) (2.2.0)\n",
      "Requirement already satisfied: cffi>=1.0 in c:\\users\\naomi\\anaconda3\\lib\\site-packages (from soundfile>=0.12.1->librosa>=0.6.2->note_seq) (1.15.1)\n",
      "Requirement already satisfied: executing in c:\\users\\naomi\\anaconda3\\lib\\site-packages (from stack-data->IPython->note_seq) (0.8.3)\n",
      "Requirement already satisfied: asttokens in c:\\users\\naomi\\anaconda3\\lib\\site-packages (from stack-data->IPython->note_seq) (2.0.5)\n",
      "Requirement already satisfied: pure-eval in c:\\users\\naomi\\anaconda3\\lib\\site-packages (from stack-data->IPython->note_seq) (0.2.2)\n",
      "Requirement already satisfied: pycparser in c:\\users\\naomi\\anaconda3\\lib\\site-packages (from cffi>=1.0->soundfile>=0.12.1->librosa>=0.6.2->note_seq) (2.21)\n",
      "Requirement already satisfied: charset-normalizer<4,>=2 in c:\\users\\naomi\\anaconda3\\lib\\site-packages (from requests>=2.19.0->pooch>=1.0->librosa>=0.6.2->note_seq) (2.0.4)\n",
      "Requirement already satisfied: idna<4,>=2.5 in c:\\users\\naomi\\anaconda3\\lib\\site-packages (from requests>=2.19.0->pooch>=1.0->librosa>=0.6.2->note_seq) (3.4)\n",
      "Requirement already satisfied: urllib3<3,>=1.21.1 in c:\\users\\naomi\\anaconda3\\lib\\site-packages (from requests>=2.19.0->pooch>=1.0->librosa>=0.6.2->note_seq) (1.26.16)\n",
      "Requirement already satisfied: certifi>=2017.4.17 in c:\\users\\naomi\\anaconda3\\lib\\site-packages (from requests>=2.19.0->pooch>=1.0->librosa>=0.6.2->note_seq) (2023.7.22)\n"
     ]
    }
   ],
   "source": [
    "!pip install datasets transformers evaluate accelerate\n",
    "!pip install wandb\n",
    "!pip install note_seq"
   ]
  },
  {
   "cell_type": "code",
   "execution_count": 4,
   "metadata": {
    "id": "KN2VoNGM7XUi"
   },
   "outputs": [],
   "source": [
    "if \"google.colab\" in str(get_ipython()):\n",
    "    print(\"Installing dependencies...\")\n",
    "    !apt-get update -qq && apt-get install -qq libfluidsynth2 build-essential libasound2-dev libjack-dev\n",
    "    !pip install -qU pyfluidsynth"
   ]
  },
  {
   "cell_type": "code",
   "execution_count": 5,
   "metadata": {
    "id": "qjrncEFe7ZWL"
   },
   "outputs": [],
   "source": [
    "import os\n",
    "os.environ[\"PROTOCOL_BUFFERS_PYTHON_IMPLEMENTATION\"] = \"python\""
   ]
  },
  {
   "cell_type": "code",
   "execution_count": 6,
   "metadata": {
    "id": "f_iFGg-U7btB"
   },
   "outputs": [
    {
     "name": "stderr",
     "output_type": "stream",
     "text": [
      "\u001b[34m\u001b[1mwandb\u001b[0m: Currently logged in as: \u001b[33mnaomitunstead\u001b[0m (\u001b[33mmusicgen\u001b[0m). Use \u001b[1m`wandb login --relogin`\u001b[0m to force relogin\n"
     ]
    },
    {
     "data": {
      "text/plain": [
       "True"
      ]
     },
     "execution_count": 6,
     "metadata": {},
     "output_type": "execute_result"
    }
   ],
   "source": [
    "# Login into wandb\n",
    "import wandb\n",
    "wandb.login()"
   ]
  },
  {
   "cell_type": "code",
   "execution_count": 7,
   "metadata": {
    "id": "b66O3eTo_Xl6"
   },
   "outputs": [
    {
     "data": {
      "application/vnd.jupyter.widget-view+json": {
       "model_id": "a2b5c69c57aa4117be5a483eb129b0a4",
       "version_major": 2,
       "version_minor": 0
      },
      "text/plain": [
       "VBox(children=(HTML(value='<center> <img\\nsrc=https://huggingface.co/front/assets/huggingface_logo-noborder.sv…"
      ]
     },
     "metadata": {},
     "output_type": "display_data"
    }
   ],
   "source": [
    "from huggingface_hub import notebook_login\n",
    "notebook_login()"
   ]
  },
  {
   "cell_type": "code",
   "execution_count": 11,
   "metadata": {
    "id": "cYBi7VhS7d2y"
   },
   "outputs": [
    {
     "name": "stdout",
     "output_type": "stream",
     "text": [
      "C:\\Users\\naomi\\Thesis\\Thesis\\Thesis-main\n"
     ]
    }
   ],
   "source": [
    "%cd C:\\Users\\naomi\\Thesis\\Thesis\\Thesis-main"
   ]
  },
  {
   "cell_type": "code",
   "execution_count": 12,
   "metadata": {
    "id": "wN1-by9X71_q"
   },
   "outputs": [
    {
     "name": "stderr",
     "output_type": "stream",
     "text": [
      "'ls' is not recognized as an internal or external command,\n",
      "operable program or batch file.\n"
     ]
    }
   ],
   "source": [
    "!ls"
   ]
  },
  {
   "cell_type": "code",
   "execution_count": 13,
   "metadata": {
    "id": "HNUoloqNCgol"
   },
   "outputs": [
    {
     "name": "stdout",
     "output_type": "stream",
     "text": [
      "env: WANDB_LOG_MODEL='end'\n"
     ]
    }
   ],
   "source": [
    "%env WANDB_LOG_MODEL='end'"
   ]
  },
  {
   "cell_type": "code",
   "execution_count": 14,
   "metadata": {
    "id": "UMur9GROJt0U"
   },
   "outputs": [
    {
     "name": "stdout",
     "output_type": "stream",
     "text": [
      "$WANDB_LOG_MODEL\n"
     ]
    }
   ],
   "source": [
    "!echo $WANDB_LOG_MODEL"
   ]
  },
  {
   "cell_type": "code",
   "execution_count": 15,
   "metadata": {
    "id": "38XiKM2NChLz"
   },
   "outputs": [
    {
     "name": "stdout",
     "output_type": "stream",
     "text": [
      "env: WANDB_WATCH='all'\n"
     ]
    }
   ],
   "source": [
    "%env WANDB_WATCH='all'"
   ]
  },
  {
   "cell_type": "code",
   "execution_count": 16,
   "metadata": {
    "id": "spnFh669721a"
   },
   "outputs": [
    {
     "name": "stdout",
     "output_type": "stream",
     "text": [
      "usage: train.py [-h] [--output_dir OUTPUT_DIR]\n",
      "                [--num_train_epochs NUM_TRAIN_EPOCHS]\n",
      "                [--per_device_train_batch_size PER_DEVICE_TRAIN_BATCH_SIZE]\n",
      "                [--per_device_eval_batch_size PER_DEVICE_EVAL_BATCH_SIZE]\n",
      "                [--evaluation_strategy EVALUATION_STRATEGY]\n",
      "                [--save_strategy SAVE_STRATEGY] [--eval_steps EVAL_STEPS]\n",
      "                [--logging_steps LOGGING_STEPS]\n",
      "                [--logging_first_step LOGGING_FIRST_STEP]\n",
      "                [--save_total_limit SAVE_TOTAL_LIMIT]\n",
      "                [--save_steps SAVE_STEPS]\n",
      "                [--lr_scheduler_type LR_SCHEDULER_TYPE]\n",
      "                [--learning_rate LEARNING_RATE] [--warmup_ratio WARMUP_RATIO]\n",
      "                [--weight_decay WEIGHT_DECAY] [--seed SEED]\n",
      "                [--load_best_model_at_end LOAD_BEST_MODEL_AT_END]\n",
      "                [--report_to REPORT_TO]\n",
      "                [--prediction_loss_only PREDICTION_LOSS_ONLY]\n",
      "                [--push_to_hub PUSH_TO_HUB]\n",
      "                [--gradient_accumulation_steps GRADIENT_ACCUMULATION_STEPS]\n",
      "\n",
      "Process hyper-parameters\n",
      "\n",
      "options:\n",
      "  -h, --help            show this help message and exit\n",
      "  --output_dir OUTPUT_DIR\n",
      "                        Output directory\n",
      "  --num_train_epochs NUM_TRAIN_EPOCHS\n",
      "                        num train epochs\n",
      "  --per_device_train_batch_size PER_DEVICE_TRAIN_BATCH_SIZE\n",
      "                        per device train batch size\n",
      "  --per_device_eval_batch_size PER_DEVICE_EVAL_BATCH_SIZE\n",
      "                        per device eval batch size\n",
      "  --evaluation_strategy EVALUATION_STRATEGY\n",
      "                        evaluation strategy\n",
      "  --save_strategy SAVE_STRATEGY\n",
      "                        save strategy\n",
      "  --eval_steps EVAL_STEPS\n",
      "                        eval steps\n",
      "  --logging_steps LOGGING_STEPS\n",
      "                        logging steps\n",
      "  --logging_first_step LOGGING_FIRST_STEP\n",
      "                        logging first step\n",
      "  --save_total_limit SAVE_TOTAL_LIMIT\n",
      "                        save total limit\n",
      "  --save_steps SAVE_STEPS\n",
      "                        save steps\n",
      "  --lr_scheduler_type LR_SCHEDULER_TYPE\n",
      "                        lr scheduler type\n",
      "  --learning_rate LEARNING_RATE\n",
      "                        learning rate\n",
      "  --warmup_ratio WARMUP_RATIO\n",
      "                        warmup ratio\n",
      "  --weight_decay WEIGHT_DECAY\n",
      "                        weight decay\n",
      "  --seed SEED           seed\n",
      "  --load_best_model_at_end LOAD_BEST_MODEL_AT_END\n",
      "                        load best model at end\n",
      "  --report_to REPORT_TO\n",
      "                        report to\n",
      "  --prediction_loss_only PREDICTION_LOSS_ONLY\n",
      "                        prediction loss only\n",
      "  --push_to_hub PUSH_TO_HUB\n",
      "                        push model to HF hub\n",
      "  --gradient_accumulation_steps GRADIENT_ACCUMULATION_STEPS\n",
      "                        gradient accumulation steps to compensate batch size\n"
     ]
    },
    {
     "name": "stderr",
     "output_type": "stream",
     "text": [
      "C:\\Users\\naomi\\anaconda3\\Lib\\site-packages\\pydub\\utils.py:170: RuntimeWarning: Couldn't find ffmpeg or avconv - defaulting to ffmpeg, but may not work\n",
      "  warn(\"Couldn't find ffmpeg or avconv - defaulting to ffmpeg, but may not work\", RuntimeWarning)\n"
     ]
    }
   ],
   "source": [
    "!python train.py --help"
   ]
  },
  {
   "cell_type": "markdown",
   "metadata": {
    "id": "Kgv-VBor-vvp"
   },
   "source": [
    "# Sweeps"
   ]
  },
  {
   "cell_type": "code",
   "execution_count": null,
   "metadata": {
    "id": "4_BbB-3a768L"
   },
   "outputs": [],
   "source": [
    "!wandb sweep sweep.yaml"
   ]
  },
  {
   "cell_type": "code",
   "execution_count": null,
   "metadata": {
    "id": "kNSVZ96r8Gry"
   },
   "outputs": [],
   "source": [
    "!wandb agent --help"
   ]
  },
  {
   "cell_type": "code",
   "execution_count": null,
   "metadata": {
    "colab": {
     "background_save": true
    },
    "id": "V7HycP1zF1f7"
   },
   "outputs": [],
   "source": [
    "\n",
    "!wandb agent musicgen/pop909-pretokenization/hetog7iv --count 15"
   ]
  },
  {
   "cell_type": "markdown",
   "metadata": {
    "id": "1-3cH3wp-zU1"
   },
   "source": [
    "# Final trained model"
   ]
  },
  {
   "cell_type": "code",
   "execution_count": null,
   "metadata": {
    "colab": {
     "background_save": true
    },
    "id": "YvTv6TEaGAsj"
   },
   "outputs": [],
   "source": [
    "!python train.py --learning_rate=0.0005 --per_device_train_batch_size=8 --per_device_eval_batch_size=4 --num_train_epochs=10 --push_to_hub=True --eval_steps=4994 --logging_steps=4994 --save_steps=4994 --output_dir=\"lmd-8bars-2048-epochs10\" --gradient_accumulation_steps=2"
   ]
  },
  {
   "cell_type": "code",
   "execution_count": null,
   "metadata": {
    "id": "bV8g0GkCAm6I"
   },
   "outputs": [],
   "source": []
  }
 ],
 "metadata": {
  "accelerator": "GPU",
  "colab": {
   "gpuClass": "premium",
   "machine_shape": "hm",
   "provenance": []
  },
  "gpuClass": "premium",
  "kernelspec": {
   "display_name": "Python 3 (ipykernel)",
   "language": "python",
   "name": "python3"
  },
  "language_info": {
   "codemirror_mode": {
    "name": "ipython",
    "version": 3
   },
   "file_extension": ".py",
   "mimetype": "text/x-python",
   "name": "python",
   "nbconvert_exporter": "python",
   "pygments_lexer": "ipython3",
   "version": "3.11.5"
  }
 },
 "nbformat": 4,
 "nbformat_minor": 1
}

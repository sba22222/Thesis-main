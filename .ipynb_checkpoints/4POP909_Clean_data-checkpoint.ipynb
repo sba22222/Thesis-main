{
 "cells": [
  {
   "cell_type": "markdown",
   "metadata": {},
   "source": [
    "# Cleaning and Preprocessing Data\n",
    "\n",
    "The below script is dedicated to cleaning and preprocessing data extracted from the POP909 dataset, ensuring it is suitable for further analysis and modeling tasks. It begins by installing necessary libraries, including datasets, and importing required modules such as glob, load_dataset, and pandas.\n",
    "\n",
    "The script then proceeds to load and preprocess the dataset. It identifies and handles missing values by checking for empty rows in the 'text' column, removing them if found. Next, it addresses duplicate rows, first by detecting them based on the 'text' column and then removing them to ensure data integrity. Furthermore, it verifies that each row contains 'NOTE_ON', ensuring that each entry represents a musical event. Any rows lacking this information are filtered out.\n",
    "\n",
    "After data cleaning, the script performs additional preprocessing steps, such as removing specific substrings like '=4_4' and calculating statistics on the number of words in each row. It visualizes the distribution of word counts with a histogram and filters out texts with fewer than 100 words.\n",
    "\n",
    "Subsequently, the cleaned dataset is converted into a Hugging Face dataset object for further processing. It removes unnecessary columns and pushes the cleaned dataset to the Hugging Face Hub, making it accessible for other users or downstream tasks.\n",
    "\n",
    "Throughout the script, detailed comments accompany each step, providing clarity and insight into the data cleaning and preprocessing procedures. Overall, this notebook serves as a comprehensive guide for preparing MIDI data from the POP909 dataset for subsequent analysis and modeling."
   ]
  },
  {
   "cell_type": "code",
   "execution_count": 37,
   "metadata": {
    "id": "btPMKsNcR0xW"
   },
   "outputs": [
    {
     "name": "stdout",
     "output_type": "stream",
     "text": [
      "Requirement already satisfied: datasets in c:\\users\\naomi\\anaconda3\\lib\\site-packages (2.12.0)\n",
      "Requirement already satisfied: numpy>=1.17 in c:\\users\\naomi\\anaconda3\\lib\\site-packages (from datasets) (1.24.3)\n",
      "Requirement already satisfied: pyarrow>=8.0.0 in c:\\users\\naomi\\anaconda3\\lib\\site-packages (from datasets) (11.0.0)\n",
      "Requirement already satisfied: dill<0.3.7,>=0.3.0 in c:\\users\\naomi\\anaconda3\\lib\\site-packages (from datasets) (0.3.6)\n",
      "Requirement already satisfied: pandas in c:\\users\\naomi\\anaconda3\\lib\\site-packages (from datasets) (2.0.3)\n",
      "Requirement already satisfied: requests>=2.19.0 in c:\\users\\naomi\\anaconda3\\lib\\site-packages (from datasets) (2.31.0)\n",
      "Requirement already satisfied: tqdm>=4.62.1 in c:\\users\\naomi\\anaconda3\\lib\\site-packages (from datasets) (4.65.0)\n",
      "Requirement already satisfied: xxhash in c:\\users\\naomi\\anaconda3\\lib\\site-packages (from datasets) (2.0.2)\n",
      "Requirement already satisfied: multiprocess in c:\\users\\naomi\\anaconda3\\lib\\site-packages (from datasets) (0.70.14)\n",
      "Requirement already satisfied: fsspec[http]>=2021.11.1 in c:\\users\\naomi\\anaconda3\\lib\\site-packages (from datasets) (2023.4.0)\n",
      "Requirement already satisfied: aiohttp in c:\\users\\naomi\\anaconda3\\lib\\site-packages (from datasets) (3.8.5)\n",
      "Requirement already satisfied: huggingface-hub<1.0.0,>=0.11.0 in c:\\users\\naomi\\anaconda3\\lib\\site-packages (from datasets) (0.15.1)\n",
      "Requirement already satisfied: packaging in c:\\users\\naomi\\anaconda3\\lib\\site-packages (from datasets) (23.1)\n",
      "Requirement already satisfied: responses<0.19 in c:\\users\\naomi\\anaconda3\\lib\\site-packages (from datasets) (0.13.3)\n",
      "Requirement already satisfied: pyyaml>=5.1 in c:\\users\\naomi\\anaconda3\\lib\\site-packages (from datasets) (6.0)\n",
      "Requirement already satisfied: attrs>=17.3.0 in c:\\users\\naomi\\anaconda3\\lib\\site-packages (from aiohttp->datasets) (22.1.0)\n",
      "Requirement already satisfied: charset-normalizer<4.0,>=2.0 in c:\\users\\naomi\\anaconda3\\lib\\site-packages (from aiohttp->datasets) (2.0.4)\n",
      "Requirement already satisfied: multidict<7.0,>=4.5 in c:\\users\\naomi\\anaconda3\\lib\\site-packages (from aiohttp->datasets) (6.0.2)\n",
      "Requirement already satisfied: async-timeout<5.0,>=4.0.0a3 in c:\\users\\naomi\\anaconda3\\lib\\site-packages (from aiohttp->datasets) (4.0.2)\n",
      "Requirement already satisfied: yarl<2.0,>=1.0 in c:\\users\\naomi\\anaconda3\\lib\\site-packages (from aiohttp->datasets) (1.8.1)\n",
      "Requirement already satisfied: frozenlist>=1.1.1 in c:\\users\\naomi\\anaconda3\\lib\\site-packages (from aiohttp->datasets) (1.3.3)\n",
      "Requirement already satisfied: aiosignal>=1.1.2 in c:\\users\\naomi\\anaconda3\\lib\\site-packages (from aiohttp->datasets) (1.2.0)\n",
      "Requirement already satisfied: filelock in c:\\users\\naomi\\anaconda3\\lib\\site-packages (from huggingface-hub<1.0.0,>=0.11.0->datasets) (3.9.0)\n",
      "Requirement already satisfied: typing-extensions>=3.7.4.3 in c:\\users\\naomi\\anaconda3\\lib\\site-packages (from huggingface-hub<1.0.0,>=0.11.0->datasets) (4.7.1)\n",
      "Requirement already satisfied: idna<4,>=2.5 in c:\\users\\naomi\\anaconda3\\lib\\site-packages (from requests>=2.19.0->datasets) (3.4)\n",
      "Requirement already satisfied: urllib3<3,>=1.21.1 in c:\\users\\naomi\\anaconda3\\lib\\site-packages (from requests>=2.19.0->datasets) (1.26.16)\n",
      "Requirement already satisfied: certifi>=2017.4.17 in c:\\users\\naomi\\anaconda3\\lib\\site-packages (from requests>=2.19.0->datasets) (2023.7.22)\n",
      "Requirement already satisfied: six in c:\\users\\naomi\\anaconda3\\lib\\site-packages (from responses<0.19->datasets) (1.16.0)\n",
      "Requirement already satisfied: colorama in c:\\users\\naomi\\anaconda3\\lib\\site-packages (from tqdm>=4.62.1->datasets) (0.4.6)\n",
      "Requirement already satisfied: python-dateutil>=2.8.2 in c:\\users\\naomi\\anaconda3\\lib\\site-packages (from pandas->datasets) (2.8.2)\n",
      "Requirement already satisfied: pytz>=2020.1 in c:\\users\\naomi\\anaconda3\\lib\\site-packages (from pandas->datasets) (2023.3.post1)\n",
      "Requirement already satisfied: tzdata>=2022.1 in c:\\users\\naomi\\anaconda3\\lib\\site-packages (from pandas->datasets) (2023.3)\n"
     ]
    }
   ],
   "source": [
    "!pip install datasets"
   ]
  },
  {
   "cell_type": "code",
   "execution_count": 71,
   "metadata": {},
   "outputs": [],
   "source": [
    "# Import necessary libraries\n",
    "\n",
    "import glob  # Module for reading files and directories\n",
    "from datasets import load_dataset  # Hugging Face's library for loading datasets\n",
    "import pandas as pd  # Popular data manipulation library\n",
    "from huggingface_hub import notebook_login  # Hugging Face's library for interacting with the Hub\n",
    "from datasets import Dataset # Hugging Face's library for working with various datasets"
   ]
  },
  {
   "cell_type": "markdown",
   "metadata": {},
   "source": [
    "### Loading and Preprocessing the Dataset\n",
    "\n",
    "In this section, we load a dataset named \"text\" from the below file path using the Hugging Face `load_dataset` function. We then access the training split (\"train\") and convert it to a Pandas DataFrame for further analysis."
   ]
  },
  {
   "cell_type": "code",
   "execution_count": 39,
   "metadata": {
    "id": "kY2RUbWcSbTi"
   },
   "outputs": [],
   "source": [
    "# Find all files with the extension \".txt\" in the specified directory and subdirectories\n",
    "dataset_files = glob.glob(r\"C:\\Users\\naomi\\Thesis\\Thesis\\Thesis-main\\tokenized_output_v2\\all_tokenized_outputs.txt\")"
   ]
  },
  {
   "cell_type": "code",
   "execution_count": 40,
   "metadata": {
    "id": "dNxgf-F9R6ar"
   },
   "outputs": [
    {
     "name": "stderr",
     "output_type": "stream",
     "text": [
      "Found cached dataset text (C:/Users/naomi/.cache/huggingface/datasets/text/default-57dab39ad4c2d6ee/0.0.0/cb1e9bd71a82ad27976be3b12b407850fe2837d80c22c5e03a28949843a8ace2)\n"
     ]
    },
    {
     "data": {
      "application/vnd.jupyter.widget-view+json": {
       "model_id": "ff9d331f789141ef80a48d9d949ed9ca",
       "version_major": 2,
       "version_minor": 0
      },
      "text/plain": [
       "  0%|          | 0/1 [00:00<?, ?it/s]"
      ]
     },
     "metadata": {},
     "output_type": "display_data"
    }
   ],
   "source": [
    "# Load a dataset type \"text\" using the specified file paths\n",
    "dataset = load_dataset(\"text\", data_files=dataset_files)"
   ]
  },
  {
   "cell_type": "code",
   "execution_count": 41,
   "metadata": {},
   "outputs": [
    {
     "name": "stdout",
     "output_type": "stream",
     "text": [
      "Available splits: dict_keys(['train'])\n"
     ]
    }
   ],
   "source": [
    "# Check the available splits in the dataset\n",
    "available_splits = dataset.keys()\n",
    "\n",
    "# Print the list of available splits\n",
    "print(\"Available splits:\", available_splits)"
   ]
  },
  {
   "cell_type": "code",
   "execution_count": 42,
   "metadata": {
    "id": "sSymUp-cTdAD"
   },
   "outputs": [],
   "source": [
    "# Access the training split (\"train\") from the loaded dataset\n",
    "ds = dataset[\"train\"]"
   ]
  },
  {
   "cell_type": "code",
   "execution_count": 43,
   "metadata": {
    "id": "FjUY6GvJUqe2"
   },
   "outputs": [],
   "source": [
    "# Convert the training split (ds) to a Pandas DataFrame\n",
    "df = ds.to_pandas()"
   ]
  },
  {
   "cell_type": "markdown",
   "metadata": {},
   "source": [
    "The code first loads the dataset and extracts the training split. It then converts this split into a Pandas DataFrame (df) to facilitate exploratory data analysis."
   ]
  },
  {
   "cell_type": "code",
   "execution_count": 44,
   "metadata": {
    "id": "_d3cRpOjWPfP"
   },
   "outputs": [
    {
     "data": {
      "text/html": [
       "<div>\n",
       "<style scoped>\n",
       "    .dataframe tbody tr th:only-of-type {\n",
       "        vertical-align: middle;\n",
       "    }\n",
       "\n",
       "    .dataframe tbody tr th {\n",
       "        vertical-align: top;\n",
       "    }\n",
       "\n",
       "    .dataframe thead th {\n",
       "        text-align: right;\n",
       "    }\n",
       "</style>\n",
       "<table border=\"1\" class=\"dataframe\">\n",
       "  <thead>\n",
       "    <tr style=\"text-align: right;\">\n",
       "      <th></th>\n",
       "      <th>text</th>\n",
       "    </tr>\n",
       "  </thead>\n",
       "  <tbody>\n",
       "    <tr>\n",
       "      <th>0</th>\n",
       "      <td>PIECE_START TRACK_START INST=0 BAR_START TIME_DELTA=24 BAR_END BAR_START TIME_DELTA=24 NOTE_ON=66 TIME_DELTA=8 NOTE_OFF=66 BAR_END BAR_START TIME_DELTA=24 NOTE_ON=75 NOTE_ON=47 TIME_DELTA=5 NOTE_ON=54 TIME_DELTA=5 NOTE_OFF=75 NOTE_ON=73 NOTE_ON=59 TIME_DELTA=5 NOTE_ON=66 NOTE_OFF=73 TIME_DELTA=4 NOTE_ON=71 TIME_DELTA=6 NOTE_OFF=59 NOTE_OFF=71 TIME_DELTA=1 NOTE_OFF=47 TIME_DELTA=1 NOTE_OFF=54 TIME_DELTA=1 NOTE_ON=80 TIME_DELTA=4 NOTE_OFF=80 TIME_DELTA=1 NOTE_ON=82 TIME_DELTA=4 NOTE_OFF=66 NOTE_OFF=82 BAR_END BAR_START TIME_DELTA=24 NOTE_ON=80 NOTE_ON=49 TIME_DELTA=5 NOTE_ON=56 TIME_DELTA=5 NOTE_ON=61 TIME_DELTA=5 NOTE_ON=65 TIME_DELTA=8 NOTE_OFF=56 TIME_DELTA=2 NOTE_OFF=80 NOTE_OFF=49 TIME_DELTA=3 NOTE_OFF=61 NOTE_OFF=65 TIME_DELTA=1 NOTE_ON=66 TIME_DELTA=6 NOTE_OFF=66 TIME_DELTA=1 BAR_END TRACK_END TRACK_START INST=0 BAR_START TIME_DELTA=24 BAR_END BAR_START TIME_DELTA=24 NOTE_ON=66 TIME_DELTA=8 NOTE_OFF=66 BAR_END BAR_START TIME_DELTA=24 NOTE_ON=75 NOTE_ON=47 TIME_DELTA=5 NOTE_ON=54 TIME_DELTA=5 NOTE_OFF=75 NOTE_ON=73 NOTE_ON=59 TIME_DELTA=5 NOTE_ON=66 NOTE_OFF=73 TIME_DELTA=4 NOTE_ON=71 TIME_DELTA=6 NOTE_OFF=59 NOTE_OFF=71 TIME_DELTA=1 NOTE_OFF=47 TIME_DELTA=1 NOTE_OFF=54 TIME_DELTA=1 NOTE_ON=80 TIME_DELTA=4 NOTE_OFF=80 TIME_DELTA=1 NOTE_ON=82 TIME_DELTA=4 NOTE_OFF=66 NOTE_OFF=82 BAR_END BAR_START TIME_DELTA=24 NOTE_ON=80 NOTE_ON=49 TIME_DELTA=5 NOTE_ON=56 TIME_DELTA=5 NOTE_ON=61 TIME_DELTA=5 NOTE_ON=65 TIME_DELTA=8 NOTE_OFF=56 TIME_DELTA=2 NOTE_OFF=80 NOTE_OFF=49 TIME_DELTA=3 NOTE_OFF=61 NOTE_OFF=65 TIME_DELTA=1 NOTE_ON=66 TIME_DELTA=6 NOTE_OFF=66 TIME_DELTA=1 BAR_END TRACK_END TRACK_START INST=0 BAR_START TIME_DELTA=24 BAR_END BAR_START TIME_DELTA=24 NOTE_ON=66 TIME_DELTA=8 NOTE_OFF=66 BAR_END BAR_START TIME_DELTA=24 NOTE_ON=75 NOTE_ON=47 TIME_DELTA=5 NOTE_ON=54 TIME_DELTA=5 NOTE_OFF=75 NOTE_ON=73 NOTE_ON=59 TIME_DELTA=5 NOTE_ON=66 NOTE_OFF=73 TIME_DELTA=4 NOTE_ON=71 TIME_DELTA=6 NOTE_OFF=59 NOTE_OFF=71 TIME_DELTA=1 NOTE_OFF=47 TIME_DELTA=1 NOTE_OFF=54 TIME_DELTA=1 NOTE_ON=80 TIME_DELTA=4 NOTE_OFF=80 TIME_DELTA=1 NOTE_ON=82 TIME_DELTA=4 NOTE_OFF=66 NOTE_OFF=82 BAR_END BAR_START TIME_DELTA=24 NOTE_ON=80 NOTE_ON=49 TIME_DELTA=5 NOTE_ON=56 TIME_DELTA=5 NOTE_ON=61 TIME_DELTA=5 NOTE_ON=65 TIME_DELTA=8 NOTE_OFF=56 TIME_DELTA=2 NOTE_OFF=80 NOTE_OFF=49 TIME_DELTA=3 NOTE_OFF=61 NOTE_OFF=65 TIME_DELTA=1 NOTE_ON=66 TIME_DELTA=6 NOTE_OFF=66 TIME_DELTA=1 BAR_END TRACK_END</td>\n",
       "    </tr>\n",
       "    <tr>\n",
       "      <th>1</th>\n",
       "      <td>PIECE_START TRACK_START INST=0 BAR_START TIME_DELTA=24 NOTE_ON=66 TIME_DELTA=8 NOTE_OFF=66 BAR_END BAR_START TIME_DELTA=24 NOTE_ON=75 NOTE_ON=47 TIME_DELTA=5 NOTE_ON=54 TIME_DELTA=5 NOTE_OFF=75 NOTE_ON=73 NOTE_ON=59 TIME_DELTA=5 NOTE_ON=66 NOTE_OFF=73 TIME_DELTA=4 NOTE_ON=71 TIME_DELTA=6 NOTE_OFF=59 NOTE_OFF=71 TIME_DELTA=1 NOTE_OFF=47 TIME_DELTA=1 NOTE_OFF=54 TIME_DELTA=1 NOTE_ON=80 TIME_DELTA=4 NOTE_OFF=80 TIME_DELTA=1 NOTE_ON=82 TIME_DELTA=4 NOTE_OFF=66 NOTE_OFF=82 BAR_END BAR_START TIME_DELTA=24 NOTE_ON=80 NOTE_ON=49 TIME_DELTA=5 NOTE_ON=56 TIME_DELTA=5 NOTE_ON=61 TIME_DELTA=5 NOTE_ON=65 TIME_DELTA=8 NOTE_OFF=56 TIME_DELTA=2 NOTE_OFF=80 NOTE_OFF=49 TIME_DELTA=3 NOTE_OFF=61 NOTE_OFF=65 TIME_DELTA=1 NOTE_ON=66 TIME_DELTA=6 NOTE_OFF=66 TIME_DELTA=1 BAR_END BAR_START TIME_DELTA=24 NOTE_ON=75 NOTE_ON=46 TIME_DELTA=5 NOTE_ON=53 TIME_DELTA=5 NOTE_ON=73 NOTE_ON=58 NOTE_OFF=75 TIME_DELTA=4 NOTE_ON=61 TIME_DELTA=12 NOTE_OFF=73 TIME_DELTA=4 NOTE_ON=70 TIME_DELTA=1 NOTE_OFF=53 TIME_DELTA=1 NOTE_OFF=46 TIME_DELTA=4 NOTE_OFF=61 TIME_DELTA=2 NOTE_OFF=58 TIME_DELTA=24 NOTE_OFF=70 BAR_END TRACK_END TRACK_START INST=0 BAR_START TIME_DELTA=24 NOTE_ON=66 TIME_DELTA=8 NOTE_OFF=66 BAR_END BAR_START TIME_DELTA=24 NOTE_ON=75 NOTE_ON=47 TIME_DELTA=5 NOTE_ON=54 TIME_DELTA=5 NOTE_OFF=75 NOTE_ON=73 NOTE_ON=59 TIME_DELTA=5 NOTE_ON=66 NOTE_OFF=73 TIME_DELTA=4 NOTE_ON=71 TIME_DELTA=6 NOTE_OFF=59 NOTE_OFF=71 TIME_DELTA=1 NOTE_OFF=47 TIME_DELTA=1 NOTE_OFF=54 TIME_DELTA=1 NOTE_ON=80 TIME_DELTA=4 NOTE_OFF=80 TIME_DELTA=1 NOTE_ON=82 TIME_DELTA=4 NOTE_OFF=66 NOTE_OFF=82 BAR_END BAR_START TIME_DELTA=24 NOTE_ON=80 NOTE_ON=49 TIME_DELTA=5 NOTE_ON=56 TIME_DELTA=5 NOTE_ON=61 TIME_DELTA=5 NOTE_ON=65 TIME_DELTA=8 NOTE_OFF=56 TIME_DELTA=2 NOTE_OFF=80 NOTE_OFF=49 TIME_DELTA=3 NOTE_OFF=61 NOTE_OFF=65 TIME_DELTA=1 NOTE_ON=66 TIME_DELTA=6 NOTE_OFF=66 TIME_DELTA=1 BAR_END BAR_START TIME_DELTA=24 NOTE_ON=75 NOTE_ON=46 TIME_DELTA=5 NOTE_ON=53 TIME_DELTA=5 NOTE_ON=73 NOTE_ON=58 NOTE_OFF=75 TIME_DELTA=4 NOTE_ON=61 TIME_DELTA=12 NOTE_OFF=73 TIME_DELTA=4 NOTE_ON=70 TIME_DELTA=1 NOTE_OFF=53 TIME_DELTA=1 NOTE_OFF=46 TIME_DELTA=4 NOTE_OFF=61 TIME_DELTA=2 NOTE_OFF=58 TIME_DELTA=24 NOTE_OFF=70 BAR_END TRACK_END TRACK_START INST=0 BAR_START TIME_DELTA=24 NOTE_ON=66 TIME_DELTA=8 NOTE_OFF=66 BAR_END BAR_START TIME_DELTA=24 NOTE_ON=75 NOTE_ON=47 TIME_DELTA=5 NOTE_ON=54 TIME_DELTA=5 NOTE_OFF=75 NOTE_ON=73 NOTE_ON=59 TIME_DELTA=5 NOTE_ON=66 NOTE_OFF=73 TIME_DELTA=4 NOTE_ON=71 TIME_DELTA=6 NOTE_OFF=59 NOTE_OFF=71 TIME_DELTA=1 NOTE_OFF=47 TIME_DELTA=1 NOTE_OFF=54 TIME_DELTA=1 NOTE_ON=80 TIME_DELTA=4 NOTE_OFF=80 TIME_DELTA=1 NOTE_ON=82 TIME_DELTA=4 NOTE_OFF=66 NOTE_OFF=82 BAR_END BAR_START TIME_DELTA=24 NOTE_ON=80 NOTE_ON=49 TIME_DELTA=5 NOTE_ON=56 TIME_DELTA=5 NOTE_ON=61 TIME_DELTA=5 NOTE_ON=65 TIME_DELTA=8 NOTE_OFF=56 TIME_DELTA=2 NOTE_OFF=80 NOTE_OFF=49 TIME_DELTA=3 NOTE_OFF=61 NOTE_OFF=65 TIME_DELTA=1 NOTE_ON=66 TIME_DELTA=6 NOTE_OFF=66 TIME_DELTA=1 BAR_END BAR_START TIME_DELTA=24 NOTE_ON=75 NOTE_ON=46 TIME_DELTA=5 NOTE_ON=53 TIME_DELTA=5 NOTE_ON=73 NOTE_ON=58 NOTE_OFF=75 TIME_DELTA=4 NOTE_ON=61 TIME_DELTA=12 NOTE_OFF=73 TIME_DELTA=4 NOTE_ON=70 TIME_DELTA=1 NOTE_OFF=53 TIME_DELTA=1 NOTE_OFF=46 TIME_DELTA=4 NOTE_OFF=61 TIME_DELTA=2 NOTE_OFF=58 TIME_DELTA=24 NOTE_OFF=70 BAR_END TRACK_END</td>\n",
       "    </tr>\n",
       "    <tr>\n",
       "      <th>2</th>\n",
       "      <td>PIECE_START TRACK_START INST=0 BAR_START TIME_DELTA=24 NOTE_ON=75 NOTE_ON=47 TIME_DELTA=5 NOTE_ON=54 TIME_DELTA=5 NOTE_OFF=75 NOTE_ON=73 NOTE_ON=59 TIME_DELTA=5 NOTE_ON=66 NOTE_OFF=73 TIME_DELTA=4 NOTE_ON=71 TIME_DELTA=6 NOTE_OFF=59 NOTE_OFF=71 TIME_DELTA=1 NOTE_OFF=47 TIME_DELTA=1 NOTE_OFF=54 TIME_DELTA=1 NOTE_ON=80 TIME_DELTA=4 NOTE_OFF=80 TIME_DELTA=1 NOTE_ON=82 TIME_DELTA=4 NOTE_OFF=66 NOTE_OFF=82 BAR_END BAR_START TIME_DELTA=24 NOTE_ON=80 NOTE_ON=49 TIME_DELTA=5 NOTE_ON=56 TIME_DELTA=5 NOTE_ON=61 TIME_DELTA=5 NOTE_ON=65 TIME_DELTA=8 NOTE_OFF=56 TIME_DELTA=2 NOTE_OFF=80 NOTE_OFF=49 TIME_DELTA=3 NOTE_OFF=61 NOTE_OFF=65 TIME_DELTA=1 NOTE_ON=66 TIME_DELTA=6 NOTE_OFF=66 TIME_DELTA=1 BAR_END BAR_START TIME_DELTA=24 NOTE_ON=75 NOTE_ON=46 TIME_DELTA=5 NOTE_ON=53 TIME_DELTA=5 NOTE_ON=73 NOTE_ON=58 NOTE_OFF=75 TIME_DELTA=4 NOTE_ON=61 TIME_DELTA=12 NOTE_OFF=73 TIME_DELTA=4 NOTE_ON=70 TIME_DELTA=1 NOTE_OFF=53 TIME_DELTA=1 NOTE_OFF=46 TIME_DELTA=4 NOTE_OFF=61 TIME_DELTA=2 NOTE_OFF=58 TIME_DELTA=24 NOTE_OFF=70 BAR_END BAR_START TIME_DELTA=24 NOTE_ON=51 TIME_DELTA=5 NOTE_ON=54 TIME_DELTA=5 NOTE_ON=58 NOTE_OFF=51 TIME_DELTA=4 NOTE_ON=66 TIME_DELTA=16 NOTE_ON=73 NOTE_OFF=54 TIME_DELTA=3 NOTE_OFF=58 TIME_DELTA=2 NOTE_OFF=73 TIME_DELTA=1 NOTE_OFF=66 TIME_DELTA=2 BAR_END TRACK_END TRACK_START INST=0 BAR_START TIME_DELTA=24 NOTE_ON=75 NOTE_ON=47 TIME_DELTA=5 NOTE_ON=54 TIME_DELTA=5 NOTE_OFF=75 NOTE_ON=73 NOTE_ON=59 TIME_DELTA=5 NOTE_ON=66 NOTE_OFF=73 TIME_DELTA=4 NOTE_ON=71 TIME_DELTA=6 NOTE_OFF=59 NOTE_OFF=71 TIME_DELTA=1 NOTE_OFF=47 TIME_DELTA=1 NOTE_OFF=54 TIME_DELTA=1 NOTE_ON=80 TIME_DELTA=4 NOTE_OFF=80 TIME_DELTA=1 NOTE_ON=82 TIME_DELTA=4 NOTE_OFF=66 NOTE_OFF=82 BAR_END BAR_START TIME_DELTA=24 NOTE_ON=80 NOTE_ON=49 TIME_DELTA=5 NOTE_ON=56 TIME_DELTA=5 NOTE_ON=61 TIME_DELTA=5 NOTE_ON=65 TIME_DELTA=8 NOTE_OFF=56 TIME_DELTA=2 NOTE_OFF=80 NOTE_OFF=49 TIME_DELTA=3 NOTE_OFF=61 NOTE_OFF=65 TIME_DELTA=1 NOTE_ON=66 TIME_DELTA=6 NOTE_OFF=66 TIME_DELTA=1 BAR_END BAR_START TIME_DELTA=24 NOTE_ON=75 NOTE_ON=46 TIME_DELTA=5 NOTE_ON=53 TIME_DELTA=5 NOTE_ON=73 NOTE_ON=58 NOTE_OFF=75 TIME_DELTA=4 NOTE_ON=61 TIME_DELTA=12 NOTE_OFF=73 TIME_DELTA=4 NOTE_ON=70 TIME_DELTA=1 NOTE_OFF=53 TIME_DELTA=1 NOTE_OFF=46 TIME_DELTA=4 NOTE_OFF=61 TIME_DELTA=2 NOTE_OFF=58 TIME_DELTA=24 NOTE_OFF=70 BAR_END BAR_START TIME_DELTA=24 NOTE_ON=51 TIME_DELTA=5 NOTE_ON=54 TIME_DELTA=5 NOTE_ON=58 NOTE_OFF=51 TIME_DELTA=4 NOTE_ON=66 TIME_DELTA=16 NOTE_ON=73 NOTE_OFF=54 TIME_DELTA=3 NOTE_OFF=58 TIME_DELTA=2 NOTE_OFF=73 TIME_DELTA=1 NOTE_OFF=66 TIME_DELTA=2 BAR_END TRACK_END TRACK_START INST=0 BAR_START TIME_DELTA=24 NOTE_ON=75 NOTE_ON=47 TIME_DELTA=5 NOTE_ON=54 TIME_DELTA=5 NOTE_OFF=75 NOTE_ON=73 NOTE_ON=59 TIME_DELTA=5 NOTE_ON=66 NOTE_OFF=73 TIME_DELTA=4 NOTE_ON=71 TIME_DELTA=6 NOTE_OFF=59 NOTE_OFF=71 TIME_DELTA=1 NOTE_OFF=47 TIME_DELTA=1 NOTE_OFF=54 TIME_DELTA=1 NOTE_ON=80 TIME_DELTA=4 NOTE_OFF=80 TIME_DELTA=1 NOTE_ON=82 TIME_DELTA=4 NOTE_OFF=66 NOTE_OFF=82 BAR_END BAR_START TIME_DELTA=24 NOTE_ON=80 NOTE_ON=49 TIME_DELTA=5 NOTE_ON=56 TIME_DELTA=5 NOTE_ON=61 TIME_DELTA=5 NOTE_ON=65 TIME_DELTA=8 NOTE_OFF=56 TIME_DELTA=2 NOTE_OFF=80 NOTE_OFF=49 TIME_DELTA=3 NOTE_OFF=61 NOTE_OFF=65 TIME_DELTA=1 NOTE_ON=66 TIME_DELTA=6 NOTE_OFF=66 TIME_DELTA=1 BAR_END BAR_START TIME_DELTA=24 NOTE_ON=75 NOTE_ON=46 TIME_DELTA=5 NOTE_ON=53 TIME_DELTA=5 NOTE_ON=73 NOTE_ON=58 NOTE_OFF=75 TIME_DELTA=4 NOTE_ON=61 TIME_DELTA=12 NOTE_OFF=73 TIME_DELTA=4 NOTE_ON=70 TIME_DELTA=1 NOTE_OFF=53 TIME_DELTA=1 NOTE_OFF=46 TIME_DELTA=4 NOTE_OFF=61 TIME_DELTA=2 NOTE_OFF=58 TIME_DELTA=24 NOTE_OFF=70 BAR_END BAR_START TIME_DELTA=24 NOTE_ON=51 TIME_DELTA=5 NOTE_ON=54 TIME_DELTA=5 NOTE_ON=58 NOTE_OFF=51 TIME_DELTA=4 NOTE_ON=66 TIME_DELTA=16 NOTE_ON=73 NOTE_OFF=54 TIME_DELTA=3 NOTE_OFF=58 TIME_DELTA=2 NOTE_OFF=73 TIME_DELTA=1 NOTE_OFF=66 TIME_DELTA=2 BAR_END TRACK_END</td>\n",
       "    </tr>\n",
       "    <tr>\n",
       "      <th>3</th>\n",
       "      <td>PIECE_START TRACK_START INST=0 BAR_START TIME_DELTA=24 NOTE_ON=80 NOTE_ON=49 TIME_DELTA=5 NOTE_ON=56 TIME_DELTA=5 NOTE_ON=61 TIME_DELTA=5 NOTE_ON=65 TIME_DELTA=8 NOTE_OFF=56 TIME_DELTA=2 NOTE_OFF=80 NOTE_OFF=49 TIME_DELTA=3 NOTE_OFF=61 NOTE_OFF=65 TIME_DELTA=1 NOTE_ON=66 TIME_DELTA=6 NOTE_OFF=66 TIME_DELTA=1 BAR_END BAR_START TIME_DELTA=24 NOTE_ON=75 NOTE_ON=46 TIME_DELTA=5 NOTE_ON=53 TIME_DELTA=5 NOTE_ON=73 NOTE_ON=58 NOTE_OFF=75 TIME_DELTA=4 NOTE_ON=61 TIME_DELTA=12 NOTE_OFF=73 TIME_DELTA=4 NOTE_ON=70 TIME_DELTA=1 NOTE_OFF=53 TIME_DELTA=1 NOTE_OFF=46 TIME_DELTA=4 NOTE_OFF=61 TIME_DELTA=2 NOTE_OFF=58 TIME_DELTA=24 NOTE_OFF=70 BAR_END BAR_START TIME_DELTA=24 NOTE_ON=51 TIME_DELTA=5 NOTE_ON=54 TIME_DELTA=5 NOTE_ON=58 NOTE_OFF=51 TIME_DELTA=4 NOTE_ON=66 TIME_DELTA=16 NOTE_ON=73 NOTE_OFF=54 TIME_DELTA=3 NOTE_OFF=58 TIME_DELTA=2 NOTE_OFF=73 TIME_DELTA=1 NOTE_OFF=66 TIME_DELTA=2 BAR_END BAR_START TIME_DELTA=24 NOTE_ON=78 NOTE_ON=47 TIME_DELTA=5 NOTE_ON=80 NOTE_ON=54 NOTE_OFF=78 TIME_DELTA=2 NOTE_OFF=80 TIME_DELTA=2 NOTE_ON=82 NOTE_ON=59 TIME_DELTA=5 NOTE_ON=63 TIME_DELTA=12 NOTE_OFF=54 NOTE_OFF=47 NOTE_OFF=82 NOTE_OFF=59 TIME_DELTA=2 NOTE_ON=73 TIME_DELTA=4 NOTE_OFF=63 NOTE_OFF=73 TIME_DELTA=4 BAR_END TRACK_END TRACK_START INST=0 BAR_START TIME_DELTA=24 NOTE_ON=80 NOTE_ON=49 TIME_DELTA=5 NOTE_ON=56 TIME_DELTA=5 NOTE_ON=61 TIME_DELTA=5 NOTE_ON=65 TIME_DELTA=8 NOTE_OFF=56 TIME_DELTA=2 NOTE_OFF=80 NOTE_OFF=49 TIME_DELTA=3 NOTE_OFF=61 NOTE_OFF=65 TIME_DELTA=1 NOTE_ON=66 TIME_DELTA=6 NOTE_OFF=66 TIME_DELTA=1 BAR_END BAR_START TIME_DELTA=24 NOTE_ON=75 NOTE_ON=46 TIME_DELTA=5 NOTE_ON=53 TIME_DELTA=5 NOTE_ON=73 NOTE_ON=58 NOTE_OFF=75 TIME_DELTA=4 NOTE_ON=61 TIME_DELTA=12 NOTE_OFF=73 TIME_DELTA=4 NOTE_ON=70 TIME_DELTA=1 NOTE_OFF=53 TIME_DELTA=1 NOTE_OFF=46 TIME_DELTA=4 NOTE_OFF=61 TIME_DELTA=2 NOTE_OFF=58 TIME_DELTA=24 NOTE_OFF=70 BAR_END BAR_START TIME_DELTA=24 NOTE_ON=51 TIME_DELTA=5 NOTE_ON=54 TIME_DELTA=5 NOTE_ON=58 NOTE_OFF=51 TIME_DELTA=4 NOTE_ON=66 TIME_DELTA=16 NOTE_ON=73 NOTE_OFF=54 TIME_DELTA=3 NOTE_OFF=58 TIME_DELTA=2 NOTE_OFF=73 TIME_DELTA=1 NOTE_OFF=66 TIME_DELTA=2 BAR_END BAR_START TIME_DELTA=24 NOTE_ON=78 NOTE_ON=47 TIME_DELTA=5 NOTE_ON=80 NOTE_ON=54 NOTE_OFF=78 TIME_DELTA=2 NOTE_OFF=80 TIME_DELTA=2 NOTE_ON=82 NOTE_ON=59 TIME_DELTA=5 NOTE_ON=63 TIME_DELTA=12 NOTE_OFF=54 NOTE_OFF=47 NOTE_OFF=82 NOTE_OFF=59 TIME_DELTA=2 NOTE_ON=73 TIME_DELTA=4 NOTE_OFF=63 NOTE_OFF=73 TIME_DELTA=4 BAR_END TRACK_END TRACK_START INST=0 BAR_START TIME_DELTA=24 NOTE_ON=80 NOTE_ON=49 TIME_DELTA=5 NOTE_ON=56 TIME_DELTA=5 NOTE_ON=61 TIME_DELTA=5 NOTE_ON=65 TIME_DELTA=8 NOTE_OFF=56 TIME_DELTA=2 NOTE_OFF=80 NOTE_OFF=49 TIME_DELTA=3 NOTE_OFF=61 NOTE_OFF=65 TIME_DELTA=1 NOTE_ON=66 TIME_DELTA=6 NOTE_OFF=66 TIME_DELTA=1 BAR_END BAR_START TIME_DELTA=24 NOTE_ON=75 NOTE_ON=46 TIME_DELTA=5 NOTE_ON=53 TIME_DELTA=5 NOTE_ON=73 NOTE_ON=58 NOTE_OFF=75 TIME_DELTA=4 NOTE_ON=61 TIME_DELTA=12 NOTE_OFF=73 TIME_DELTA=4 NOTE_ON=70 TIME_DELTA=1 NOTE_OFF=53 TIME_DELTA=1 NOTE_OFF=46 TIME_DELTA=4 NOTE_OFF=61 TIME_DELTA=2 NOTE_OFF=58 TIME_DELTA=24 NOTE_OFF=70 BAR_END BAR_START TIME_DELTA=24 NOTE_ON=51 TIME_DELTA=5 NOTE_ON=54 TIME_DELTA=5 NOTE_ON=58 NOTE_OFF=51 TIME_DELTA=4 NOTE_ON=66 TIME_DELTA=16 NOTE_ON=73 NOTE_OFF=54 TIME_DELTA=3 NOTE_OFF=58 TIME_DELTA=2 NOTE_OFF=73 TIME_DELTA=1 NOTE_OFF=66 TIME_DELTA=2 BAR_END BAR_START TIME_DELTA=24 NOTE_ON=78 NOTE_ON=47 TIME_DELTA=5 NOTE_ON=80 NOTE_ON=54 NOTE_OFF=78 TIME_DELTA=2 NOTE_OFF=80 TIME_DELTA=2 NOTE_ON=82 NOTE_ON=59 TIME_DELTA=5 NOTE_ON=63 TIME_DELTA=12 NOTE_OFF=54 NOTE_OFF=47 NOTE_OFF=82 NOTE_OFF=59 TIME_DELTA=2 NOTE_ON=73 TIME_DELTA=4 NOTE_OFF=63 NOTE_OFF=73 TIME_DELTA=4 BAR_END TRACK_END</td>\n",
       "    </tr>\n",
       "    <tr>\n",
       "      <th>4</th>\n",
       "      <td>PIECE_START TRACK_START INST=0 BAR_START TIME_DELTA=24 NOTE_ON=75 NOTE_ON=46 TIME_DELTA=5 NOTE_ON=53 TIME_DELTA=5 NOTE_ON=73 NOTE_ON=58 NOTE_OFF=75 TIME_DELTA=4 NOTE_ON=61 TIME_DELTA=12 NOTE_OFF=73 TIME_DELTA=4 NOTE_ON=70 TIME_DELTA=1 NOTE_OFF=53 TIME_DELTA=1 NOTE_OFF=46 TIME_DELTA=4 NOTE_OFF=61 TIME_DELTA=2 NOTE_OFF=58 TIME_DELTA=24 NOTE_OFF=70 BAR_END BAR_START TIME_DELTA=24 NOTE_ON=51 TIME_DELTA=5 NOTE_ON=54 TIME_DELTA=5 NOTE_ON=58 NOTE_OFF=51 TIME_DELTA=4 NOTE_ON=66 TIME_DELTA=16 NOTE_ON=73 NOTE_OFF=54 TIME_DELTA=3 NOTE_OFF=58 TIME_DELTA=2 NOTE_OFF=73 TIME_DELTA=1 NOTE_OFF=66 TIME_DELTA=2 BAR_END BAR_START TIME_DELTA=24 NOTE_ON=78 NOTE_ON=47 TIME_DELTA=5 NOTE_ON=80 NOTE_ON=54 NOTE_OFF=78 TIME_DELTA=2 NOTE_OFF=80 TIME_DELTA=2 NOTE_ON=82 NOTE_ON=59 TIME_DELTA=5 NOTE_ON=63 TIME_DELTA=12 NOTE_OFF=54 NOTE_OFF=47 NOTE_OFF=82 NOTE_OFF=59 TIME_DELTA=2 NOTE_ON=73 TIME_DELTA=4 NOTE_OFF=63 NOTE_OFF=73 TIME_DELTA=4 BAR_END BAR_START TIME_DELTA=24 NOTE_ON=78 NOTE_ON=56 NOTE_ON=61 NOTE_ON=49 TIME_DELTA=4 NOTE_OFF=78 NOTE_ON=80 TIME_DELTA=2 NOTE_OFF=56 NOTE_OFF=80 TIME_DELTA=2 NOTE_ON=82 NOTE_ON=56 TIME_DELTA=5 NOTE_ON=65 TIME_DELTA=1 NOTE_OFF=56 NOTE_OFF=61 TIME_DELTA=8 NOTE_OFF=82 TIME_DELTA=4 NOTE_OFF=65 NOTE_OFF=49 TIME_DELTA=12 BAR_END TRACK_END TRACK_START INST=0 BAR_START TIME_DELTA=24 NOTE_ON=75 NOTE_ON=46 TIME_DELTA=5 NOTE_ON=53 TIME_DELTA=5 NOTE_ON=73 NOTE_ON=58 NOTE_OFF=75 TIME_DELTA=4 NOTE_ON=61 TIME_DELTA=12 NOTE_OFF=73 TIME_DELTA=4 NOTE_ON=70 TIME_DELTA=1 NOTE_OFF=53 TIME_DELTA=1 NOTE_OFF=46 TIME_DELTA=4 NOTE_OFF=61 TIME_DELTA=2 NOTE_OFF=58 TIME_DELTA=24 NOTE_OFF=70 BAR_END BAR_START TIME_DELTA=24 NOTE_ON=51 TIME_DELTA=5 NOTE_ON=54 TIME_DELTA=5 NOTE_ON=58 NOTE_OFF=51 TIME_DELTA=4 NOTE_ON=66 TIME_DELTA=16 NOTE_ON=73 NOTE_OFF=54 TIME_DELTA=3 NOTE_OFF=58 TIME_DELTA=2 NOTE_OFF=73 TIME_DELTA=1 NOTE_OFF=66 TIME_DELTA=2 BAR_END BAR_START TIME_DELTA=24 NOTE_ON=78 NOTE_ON=47 TIME_DELTA=5 NOTE_ON=80 NOTE_ON=54 NOTE_OFF=78 TIME_DELTA=2 NOTE_OFF=80 TIME_DELTA=2 NOTE_ON=82 NOTE_ON=59 TIME_DELTA=5 NOTE_ON=63 TIME_DELTA=12 NOTE_OFF=54 NOTE_OFF=47 NOTE_OFF=82 NOTE_OFF=59 TIME_DELTA=2 NOTE_ON=73 TIME_DELTA=4 NOTE_OFF=63 NOTE_OFF=73 TIME_DELTA=4 BAR_END BAR_START TIME_DELTA=24 NOTE_ON=78 NOTE_ON=56 NOTE_ON=61 NOTE_ON=49 TIME_DELTA=4 NOTE_OFF=78 NOTE_ON=80 TIME_DELTA=2 NOTE_OFF=56 NOTE_OFF=80 TIME_DELTA=2 NOTE_ON=82 NOTE_ON=56 TIME_DELTA=5 NOTE_ON=65 TIME_DELTA=1 NOTE_OFF=56 NOTE_OFF=61 TIME_DELTA=8 NOTE_OFF=82 TIME_DELTA=4 NOTE_OFF=65 NOTE_OFF=49 TIME_DELTA=12 BAR_END TRACK_END TRACK_START INST=0 BAR_START TIME_DELTA=24 NOTE_ON=75 NOTE_ON=46 TIME_DELTA=5 NOTE_ON=53 TIME_DELTA=5 NOTE_ON=73 NOTE_ON=58 NOTE_OFF=75 TIME_DELTA=4 NOTE_ON=61 TIME_DELTA=12 NOTE_OFF=73 TIME_DELTA=4 NOTE_ON=70 TIME_DELTA=1 NOTE_OFF=53 TIME_DELTA=1 NOTE_OFF=46 TIME_DELTA=4 NOTE_OFF=61 TIME_DELTA=2 NOTE_OFF=58 TIME_DELTA=24 NOTE_OFF=70 BAR_END BAR_START TIME_DELTA=24 NOTE_ON=51 TIME_DELTA=5 NOTE_ON=54 TIME_DELTA=5 NOTE_ON=58 NOTE_OFF=51 TIME_DELTA=4 NOTE_ON=66 TIME_DELTA=16 NOTE_ON=73 NOTE_OFF=54 TIME_DELTA=3 NOTE_OFF=58 TIME_DELTA=2 NOTE_OFF=73 TIME_DELTA=1 NOTE_OFF=66 TIME_DELTA=2 BAR_END BAR_START TIME_DELTA=24 NOTE_ON=78 NOTE_ON=47 TIME_DELTA=5 NOTE_ON=80 NOTE_ON=54 NOTE_OFF=78 TIME_DELTA=2 NOTE_OFF=80 TIME_DELTA=2 NOTE_ON=82 NOTE_ON=59 TIME_DELTA=5 NOTE_ON=63 TIME_DELTA=12 NOTE_OFF=54 NOTE_OFF=47 NOTE_OFF=82 NOTE_OFF=59 TIME_DELTA=2 NOTE_ON=73 TIME_DELTA=4 NOTE_OFF=63 NOTE_OFF=73 TIME_DELTA=4 BAR_END BAR_START TIME_DELTA=24 NOTE_ON=78 NOTE_ON=56 NOTE_ON=61 NOTE_ON=49 TIME_DELTA=4 NOTE_OFF=78 NOTE_ON=80 TIME_DELTA=2 NOTE_OFF=56 NOTE_OFF=80 TIME_DELTA=2 NOTE_ON=82 NOTE_ON=56 TIME_DELTA=5 NOTE_ON=65 TIME_DELTA=1 NOTE_OFF=56 NOTE_OFF=61 TIME_DELTA=8 NOTE_OFF=82 TIME_DELTA=4 NOTE_OFF=65 NOTE_OFF=49 TIME_DELTA=12 BAR_END TRACK_END</td>\n",
       "    </tr>\n",
       "  </tbody>\n",
       "</table>\n",
       "</div>"
      ],
      "text/plain": [
       "                                                                                                                                                                                                                                                                                                                                                                                                                                                                                                                                                                                                                                                                                                                                                                                                                                                                                                                                                                                                                                                                                                                                                                                                                                                                                                                                                                                                                                                                                                                                                                                                                                                                                                                                                                                                                                                                                                                                                                                                                                                                                                                                                                                                                                                                                                                                                                                                                                                                                                                                                                                                                                                                                                                                                                                                                                                                                                                                                                                                                                                                                                                                                                                                                                                                                                                                                                                                                                                                                                                                                                                                                                                                                                                                                                                                                                                                                                                                                                                           text\n",
       "0                                                                                                                                                                                                                                                                                                                                                                                                                                                                                                                                                                                                                                                                                                                                                                                                                                                                                                                                                                                                                                                                                                                                                                                                                                                                                                                                                                                                                                                                                         PIECE_START TRACK_START INST=0 BAR_START TIME_DELTA=24 BAR_END BAR_START TIME_DELTA=24 NOTE_ON=66 TIME_DELTA=8 NOTE_OFF=66 BAR_END BAR_START TIME_DELTA=24 NOTE_ON=75 NOTE_ON=47 TIME_DELTA=5 NOTE_ON=54 TIME_DELTA=5 NOTE_OFF=75 NOTE_ON=73 NOTE_ON=59 TIME_DELTA=5 NOTE_ON=66 NOTE_OFF=73 TIME_DELTA=4 NOTE_ON=71 TIME_DELTA=6 NOTE_OFF=59 NOTE_OFF=71 TIME_DELTA=1 NOTE_OFF=47 TIME_DELTA=1 NOTE_OFF=54 TIME_DELTA=1 NOTE_ON=80 TIME_DELTA=4 NOTE_OFF=80 TIME_DELTA=1 NOTE_ON=82 TIME_DELTA=4 NOTE_OFF=66 NOTE_OFF=82 BAR_END BAR_START TIME_DELTA=24 NOTE_ON=80 NOTE_ON=49 TIME_DELTA=5 NOTE_ON=56 TIME_DELTA=5 NOTE_ON=61 TIME_DELTA=5 NOTE_ON=65 TIME_DELTA=8 NOTE_OFF=56 TIME_DELTA=2 NOTE_OFF=80 NOTE_OFF=49 TIME_DELTA=3 NOTE_OFF=61 NOTE_OFF=65 TIME_DELTA=1 NOTE_ON=66 TIME_DELTA=6 NOTE_OFF=66 TIME_DELTA=1 BAR_END TRACK_END TRACK_START INST=0 BAR_START TIME_DELTA=24 BAR_END BAR_START TIME_DELTA=24 NOTE_ON=66 TIME_DELTA=8 NOTE_OFF=66 BAR_END BAR_START TIME_DELTA=24 NOTE_ON=75 NOTE_ON=47 TIME_DELTA=5 NOTE_ON=54 TIME_DELTA=5 NOTE_OFF=75 NOTE_ON=73 NOTE_ON=59 TIME_DELTA=5 NOTE_ON=66 NOTE_OFF=73 TIME_DELTA=4 NOTE_ON=71 TIME_DELTA=6 NOTE_OFF=59 NOTE_OFF=71 TIME_DELTA=1 NOTE_OFF=47 TIME_DELTA=1 NOTE_OFF=54 TIME_DELTA=1 NOTE_ON=80 TIME_DELTA=4 NOTE_OFF=80 TIME_DELTA=1 NOTE_ON=82 TIME_DELTA=4 NOTE_OFF=66 NOTE_OFF=82 BAR_END BAR_START TIME_DELTA=24 NOTE_ON=80 NOTE_ON=49 TIME_DELTA=5 NOTE_ON=56 TIME_DELTA=5 NOTE_ON=61 TIME_DELTA=5 NOTE_ON=65 TIME_DELTA=8 NOTE_OFF=56 TIME_DELTA=2 NOTE_OFF=80 NOTE_OFF=49 TIME_DELTA=3 NOTE_OFF=61 NOTE_OFF=65 TIME_DELTA=1 NOTE_ON=66 TIME_DELTA=6 NOTE_OFF=66 TIME_DELTA=1 BAR_END TRACK_END TRACK_START INST=0 BAR_START TIME_DELTA=24 BAR_END BAR_START TIME_DELTA=24 NOTE_ON=66 TIME_DELTA=8 NOTE_OFF=66 BAR_END BAR_START TIME_DELTA=24 NOTE_ON=75 NOTE_ON=47 TIME_DELTA=5 NOTE_ON=54 TIME_DELTA=5 NOTE_OFF=75 NOTE_ON=73 NOTE_ON=59 TIME_DELTA=5 NOTE_ON=66 NOTE_OFF=73 TIME_DELTA=4 NOTE_ON=71 TIME_DELTA=6 NOTE_OFF=59 NOTE_OFF=71 TIME_DELTA=1 NOTE_OFF=47 TIME_DELTA=1 NOTE_OFF=54 TIME_DELTA=1 NOTE_ON=80 TIME_DELTA=4 NOTE_OFF=80 TIME_DELTA=1 NOTE_ON=82 TIME_DELTA=4 NOTE_OFF=66 NOTE_OFF=82 BAR_END BAR_START TIME_DELTA=24 NOTE_ON=80 NOTE_ON=49 TIME_DELTA=5 NOTE_ON=56 TIME_DELTA=5 NOTE_ON=61 TIME_DELTA=5 NOTE_ON=65 TIME_DELTA=8 NOTE_OFF=56 TIME_DELTA=2 NOTE_OFF=80 NOTE_OFF=49 TIME_DELTA=3 NOTE_OFF=61 NOTE_OFF=65 TIME_DELTA=1 NOTE_ON=66 TIME_DELTA=6 NOTE_OFF=66 TIME_DELTA=1 BAR_END TRACK_END\n",
       "1                                                                                                                                                                                                                                                                                                                                                                                                                                                                                                                                                                          PIECE_START TRACK_START INST=0 BAR_START TIME_DELTA=24 NOTE_ON=66 TIME_DELTA=8 NOTE_OFF=66 BAR_END BAR_START TIME_DELTA=24 NOTE_ON=75 NOTE_ON=47 TIME_DELTA=5 NOTE_ON=54 TIME_DELTA=5 NOTE_OFF=75 NOTE_ON=73 NOTE_ON=59 TIME_DELTA=5 NOTE_ON=66 NOTE_OFF=73 TIME_DELTA=4 NOTE_ON=71 TIME_DELTA=6 NOTE_OFF=59 NOTE_OFF=71 TIME_DELTA=1 NOTE_OFF=47 TIME_DELTA=1 NOTE_OFF=54 TIME_DELTA=1 NOTE_ON=80 TIME_DELTA=4 NOTE_OFF=80 TIME_DELTA=1 NOTE_ON=82 TIME_DELTA=4 NOTE_OFF=66 NOTE_OFF=82 BAR_END BAR_START TIME_DELTA=24 NOTE_ON=80 NOTE_ON=49 TIME_DELTA=5 NOTE_ON=56 TIME_DELTA=5 NOTE_ON=61 TIME_DELTA=5 NOTE_ON=65 TIME_DELTA=8 NOTE_OFF=56 TIME_DELTA=2 NOTE_OFF=80 NOTE_OFF=49 TIME_DELTA=3 NOTE_OFF=61 NOTE_OFF=65 TIME_DELTA=1 NOTE_ON=66 TIME_DELTA=6 NOTE_OFF=66 TIME_DELTA=1 BAR_END BAR_START TIME_DELTA=24 NOTE_ON=75 NOTE_ON=46 TIME_DELTA=5 NOTE_ON=53 TIME_DELTA=5 NOTE_ON=73 NOTE_ON=58 NOTE_OFF=75 TIME_DELTA=4 NOTE_ON=61 TIME_DELTA=12 NOTE_OFF=73 TIME_DELTA=4 NOTE_ON=70 TIME_DELTA=1 NOTE_OFF=53 TIME_DELTA=1 NOTE_OFF=46 TIME_DELTA=4 NOTE_OFF=61 TIME_DELTA=2 NOTE_OFF=58 TIME_DELTA=24 NOTE_OFF=70 BAR_END TRACK_END TRACK_START INST=0 BAR_START TIME_DELTA=24 NOTE_ON=66 TIME_DELTA=8 NOTE_OFF=66 BAR_END BAR_START TIME_DELTA=24 NOTE_ON=75 NOTE_ON=47 TIME_DELTA=5 NOTE_ON=54 TIME_DELTA=5 NOTE_OFF=75 NOTE_ON=73 NOTE_ON=59 TIME_DELTA=5 NOTE_ON=66 NOTE_OFF=73 TIME_DELTA=4 NOTE_ON=71 TIME_DELTA=6 NOTE_OFF=59 NOTE_OFF=71 TIME_DELTA=1 NOTE_OFF=47 TIME_DELTA=1 NOTE_OFF=54 TIME_DELTA=1 NOTE_ON=80 TIME_DELTA=4 NOTE_OFF=80 TIME_DELTA=1 NOTE_ON=82 TIME_DELTA=4 NOTE_OFF=66 NOTE_OFF=82 BAR_END BAR_START TIME_DELTA=24 NOTE_ON=80 NOTE_ON=49 TIME_DELTA=5 NOTE_ON=56 TIME_DELTA=5 NOTE_ON=61 TIME_DELTA=5 NOTE_ON=65 TIME_DELTA=8 NOTE_OFF=56 TIME_DELTA=2 NOTE_OFF=80 NOTE_OFF=49 TIME_DELTA=3 NOTE_OFF=61 NOTE_OFF=65 TIME_DELTA=1 NOTE_ON=66 TIME_DELTA=6 NOTE_OFF=66 TIME_DELTA=1 BAR_END BAR_START TIME_DELTA=24 NOTE_ON=75 NOTE_ON=46 TIME_DELTA=5 NOTE_ON=53 TIME_DELTA=5 NOTE_ON=73 NOTE_ON=58 NOTE_OFF=75 TIME_DELTA=4 NOTE_ON=61 TIME_DELTA=12 NOTE_OFF=73 TIME_DELTA=4 NOTE_ON=70 TIME_DELTA=1 NOTE_OFF=53 TIME_DELTA=1 NOTE_OFF=46 TIME_DELTA=4 NOTE_OFF=61 TIME_DELTA=2 NOTE_OFF=58 TIME_DELTA=24 NOTE_OFF=70 BAR_END TRACK_END TRACK_START INST=0 BAR_START TIME_DELTA=24 NOTE_ON=66 TIME_DELTA=8 NOTE_OFF=66 BAR_END BAR_START TIME_DELTA=24 NOTE_ON=75 NOTE_ON=47 TIME_DELTA=5 NOTE_ON=54 TIME_DELTA=5 NOTE_OFF=75 NOTE_ON=73 NOTE_ON=59 TIME_DELTA=5 NOTE_ON=66 NOTE_OFF=73 TIME_DELTA=4 NOTE_ON=71 TIME_DELTA=6 NOTE_OFF=59 NOTE_OFF=71 TIME_DELTA=1 NOTE_OFF=47 TIME_DELTA=1 NOTE_OFF=54 TIME_DELTA=1 NOTE_ON=80 TIME_DELTA=4 NOTE_OFF=80 TIME_DELTA=1 NOTE_ON=82 TIME_DELTA=4 NOTE_OFF=66 NOTE_OFF=82 BAR_END BAR_START TIME_DELTA=24 NOTE_ON=80 NOTE_ON=49 TIME_DELTA=5 NOTE_ON=56 TIME_DELTA=5 NOTE_ON=61 TIME_DELTA=5 NOTE_ON=65 TIME_DELTA=8 NOTE_OFF=56 TIME_DELTA=2 NOTE_OFF=80 NOTE_OFF=49 TIME_DELTA=3 NOTE_OFF=61 NOTE_OFF=65 TIME_DELTA=1 NOTE_ON=66 TIME_DELTA=6 NOTE_OFF=66 TIME_DELTA=1 BAR_END BAR_START TIME_DELTA=24 NOTE_ON=75 NOTE_ON=46 TIME_DELTA=5 NOTE_ON=53 TIME_DELTA=5 NOTE_ON=73 NOTE_ON=58 NOTE_OFF=75 TIME_DELTA=4 NOTE_ON=61 TIME_DELTA=12 NOTE_OFF=73 TIME_DELTA=4 NOTE_ON=70 TIME_DELTA=1 NOTE_OFF=53 TIME_DELTA=1 NOTE_OFF=46 TIME_DELTA=4 NOTE_OFF=61 TIME_DELTA=2 NOTE_OFF=58 TIME_DELTA=24 NOTE_OFF=70 BAR_END TRACK_END\n",
       "2  PIECE_START TRACK_START INST=0 BAR_START TIME_DELTA=24 NOTE_ON=75 NOTE_ON=47 TIME_DELTA=5 NOTE_ON=54 TIME_DELTA=5 NOTE_OFF=75 NOTE_ON=73 NOTE_ON=59 TIME_DELTA=5 NOTE_ON=66 NOTE_OFF=73 TIME_DELTA=4 NOTE_ON=71 TIME_DELTA=6 NOTE_OFF=59 NOTE_OFF=71 TIME_DELTA=1 NOTE_OFF=47 TIME_DELTA=1 NOTE_OFF=54 TIME_DELTA=1 NOTE_ON=80 TIME_DELTA=4 NOTE_OFF=80 TIME_DELTA=1 NOTE_ON=82 TIME_DELTA=4 NOTE_OFF=66 NOTE_OFF=82 BAR_END BAR_START TIME_DELTA=24 NOTE_ON=80 NOTE_ON=49 TIME_DELTA=5 NOTE_ON=56 TIME_DELTA=5 NOTE_ON=61 TIME_DELTA=5 NOTE_ON=65 TIME_DELTA=8 NOTE_OFF=56 TIME_DELTA=2 NOTE_OFF=80 NOTE_OFF=49 TIME_DELTA=3 NOTE_OFF=61 NOTE_OFF=65 TIME_DELTA=1 NOTE_ON=66 TIME_DELTA=6 NOTE_OFF=66 TIME_DELTA=1 BAR_END BAR_START TIME_DELTA=24 NOTE_ON=75 NOTE_ON=46 TIME_DELTA=5 NOTE_ON=53 TIME_DELTA=5 NOTE_ON=73 NOTE_ON=58 NOTE_OFF=75 TIME_DELTA=4 NOTE_ON=61 TIME_DELTA=12 NOTE_OFF=73 TIME_DELTA=4 NOTE_ON=70 TIME_DELTA=1 NOTE_OFF=53 TIME_DELTA=1 NOTE_OFF=46 TIME_DELTA=4 NOTE_OFF=61 TIME_DELTA=2 NOTE_OFF=58 TIME_DELTA=24 NOTE_OFF=70 BAR_END BAR_START TIME_DELTA=24 NOTE_ON=51 TIME_DELTA=5 NOTE_ON=54 TIME_DELTA=5 NOTE_ON=58 NOTE_OFF=51 TIME_DELTA=4 NOTE_ON=66 TIME_DELTA=16 NOTE_ON=73 NOTE_OFF=54 TIME_DELTA=3 NOTE_OFF=58 TIME_DELTA=2 NOTE_OFF=73 TIME_DELTA=1 NOTE_OFF=66 TIME_DELTA=2 BAR_END TRACK_END TRACK_START INST=0 BAR_START TIME_DELTA=24 NOTE_ON=75 NOTE_ON=47 TIME_DELTA=5 NOTE_ON=54 TIME_DELTA=5 NOTE_OFF=75 NOTE_ON=73 NOTE_ON=59 TIME_DELTA=5 NOTE_ON=66 NOTE_OFF=73 TIME_DELTA=4 NOTE_ON=71 TIME_DELTA=6 NOTE_OFF=59 NOTE_OFF=71 TIME_DELTA=1 NOTE_OFF=47 TIME_DELTA=1 NOTE_OFF=54 TIME_DELTA=1 NOTE_ON=80 TIME_DELTA=4 NOTE_OFF=80 TIME_DELTA=1 NOTE_ON=82 TIME_DELTA=4 NOTE_OFF=66 NOTE_OFF=82 BAR_END BAR_START TIME_DELTA=24 NOTE_ON=80 NOTE_ON=49 TIME_DELTA=5 NOTE_ON=56 TIME_DELTA=5 NOTE_ON=61 TIME_DELTA=5 NOTE_ON=65 TIME_DELTA=8 NOTE_OFF=56 TIME_DELTA=2 NOTE_OFF=80 NOTE_OFF=49 TIME_DELTA=3 NOTE_OFF=61 NOTE_OFF=65 TIME_DELTA=1 NOTE_ON=66 TIME_DELTA=6 NOTE_OFF=66 TIME_DELTA=1 BAR_END BAR_START TIME_DELTA=24 NOTE_ON=75 NOTE_ON=46 TIME_DELTA=5 NOTE_ON=53 TIME_DELTA=5 NOTE_ON=73 NOTE_ON=58 NOTE_OFF=75 TIME_DELTA=4 NOTE_ON=61 TIME_DELTA=12 NOTE_OFF=73 TIME_DELTA=4 NOTE_ON=70 TIME_DELTA=1 NOTE_OFF=53 TIME_DELTA=1 NOTE_OFF=46 TIME_DELTA=4 NOTE_OFF=61 TIME_DELTA=2 NOTE_OFF=58 TIME_DELTA=24 NOTE_OFF=70 BAR_END BAR_START TIME_DELTA=24 NOTE_ON=51 TIME_DELTA=5 NOTE_ON=54 TIME_DELTA=5 NOTE_ON=58 NOTE_OFF=51 TIME_DELTA=4 NOTE_ON=66 TIME_DELTA=16 NOTE_ON=73 NOTE_OFF=54 TIME_DELTA=3 NOTE_OFF=58 TIME_DELTA=2 NOTE_OFF=73 TIME_DELTA=1 NOTE_OFF=66 TIME_DELTA=2 BAR_END TRACK_END TRACK_START INST=0 BAR_START TIME_DELTA=24 NOTE_ON=75 NOTE_ON=47 TIME_DELTA=5 NOTE_ON=54 TIME_DELTA=5 NOTE_OFF=75 NOTE_ON=73 NOTE_ON=59 TIME_DELTA=5 NOTE_ON=66 NOTE_OFF=73 TIME_DELTA=4 NOTE_ON=71 TIME_DELTA=6 NOTE_OFF=59 NOTE_OFF=71 TIME_DELTA=1 NOTE_OFF=47 TIME_DELTA=1 NOTE_OFF=54 TIME_DELTA=1 NOTE_ON=80 TIME_DELTA=4 NOTE_OFF=80 TIME_DELTA=1 NOTE_ON=82 TIME_DELTA=4 NOTE_OFF=66 NOTE_OFF=82 BAR_END BAR_START TIME_DELTA=24 NOTE_ON=80 NOTE_ON=49 TIME_DELTA=5 NOTE_ON=56 TIME_DELTA=5 NOTE_ON=61 TIME_DELTA=5 NOTE_ON=65 TIME_DELTA=8 NOTE_OFF=56 TIME_DELTA=2 NOTE_OFF=80 NOTE_OFF=49 TIME_DELTA=3 NOTE_OFF=61 NOTE_OFF=65 TIME_DELTA=1 NOTE_ON=66 TIME_DELTA=6 NOTE_OFF=66 TIME_DELTA=1 BAR_END BAR_START TIME_DELTA=24 NOTE_ON=75 NOTE_ON=46 TIME_DELTA=5 NOTE_ON=53 TIME_DELTA=5 NOTE_ON=73 NOTE_ON=58 NOTE_OFF=75 TIME_DELTA=4 NOTE_ON=61 TIME_DELTA=12 NOTE_OFF=73 TIME_DELTA=4 NOTE_ON=70 TIME_DELTA=1 NOTE_OFF=53 TIME_DELTA=1 NOTE_OFF=46 TIME_DELTA=4 NOTE_OFF=61 TIME_DELTA=2 NOTE_OFF=58 TIME_DELTA=24 NOTE_OFF=70 BAR_END BAR_START TIME_DELTA=24 NOTE_ON=51 TIME_DELTA=5 NOTE_ON=54 TIME_DELTA=5 NOTE_ON=58 NOTE_OFF=51 TIME_DELTA=4 NOTE_ON=66 TIME_DELTA=16 NOTE_ON=73 NOTE_OFF=54 TIME_DELTA=3 NOTE_OFF=58 TIME_DELTA=2 NOTE_OFF=73 TIME_DELTA=1 NOTE_OFF=66 TIME_DELTA=2 BAR_END TRACK_END\n",
       "3                                                                                                                                                                                         PIECE_START TRACK_START INST=0 BAR_START TIME_DELTA=24 NOTE_ON=80 NOTE_ON=49 TIME_DELTA=5 NOTE_ON=56 TIME_DELTA=5 NOTE_ON=61 TIME_DELTA=5 NOTE_ON=65 TIME_DELTA=8 NOTE_OFF=56 TIME_DELTA=2 NOTE_OFF=80 NOTE_OFF=49 TIME_DELTA=3 NOTE_OFF=61 NOTE_OFF=65 TIME_DELTA=1 NOTE_ON=66 TIME_DELTA=6 NOTE_OFF=66 TIME_DELTA=1 BAR_END BAR_START TIME_DELTA=24 NOTE_ON=75 NOTE_ON=46 TIME_DELTA=5 NOTE_ON=53 TIME_DELTA=5 NOTE_ON=73 NOTE_ON=58 NOTE_OFF=75 TIME_DELTA=4 NOTE_ON=61 TIME_DELTA=12 NOTE_OFF=73 TIME_DELTA=4 NOTE_ON=70 TIME_DELTA=1 NOTE_OFF=53 TIME_DELTA=1 NOTE_OFF=46 TIME_DELTA=4 NOTE_OFF=61 TIME_DELTA=2 NOTE_OFF=58 TIME_DELTA=24 NOTE_OFF=70 BAR_END BAR_START TIME_DELTA=24 NOTE_ON=51 TIME_DELTA=5 NOTE_ON=54 TIME_DELTA=5 NOTE_ON=58 NOTE_OFF=51 TIME_DELTA=4 NOTE_ON=66 TIME_DELTA=16 NOTE_ON=73 NOTE_OFF=54 TIME_DELTA=3 NOTE_OFF=58 TIME_DELTA=2 NOTE_OFF=73 TIME_DELTA=1 NOTE_OFF=66 TIME_DELTA=2 BAR_END BAR_START TIME_DELTA=24 NOTE_ON=78 NOTE_ON=47 TIME_DELTA=5 NOTE_ON=80 NOTE_ON=54 NOTE_OFF=78 TIME_DELTA=2 NOTE_OFF=80 TIME_DELTA=2 NOTE_ON=82 NOTE_ON=59 TIME_DELTA=5 NOTE_ON=63 TIME_DELTA=12 NOTE_OFF=54 NOTE_OFF=47 NOTE_OFF=82 NOTE_OFF=59 TIME_DELTA=2 NOTE_ON=73 TIME_DELTA=4 NOTE_OFF=63 NOTE_OFF=73 TIME_DELTA=4 BAR_END TRACK_END TRACK_START INST=0 BAR_START TIME_DELTA=24 NOTE_ON=80 NOTE_ON=49 TIME_DELTA=5 NOTE_ON=56 TIME_DELTA=5 NOTE_ON=61 TIME_DELTA=5 NOTE_ON=65 TIME_DELTA=8 NOTE_OFF=56 TIME_DELTA=2 NOTE_OFF=80 NOTE_OFF=49 TIME_DELTA=3 NOTE_OFF=61 NOTE_OFF=65 TIME_DELTA=1 NOTE_ON=66 TIME_DELTA=6 NOTE_OFF=66 TIME_DELTA=1 BAR_END BAR_START TIME_DELTA=24 NOTE_ON=75 NOTE_ON=46 TIME_DELTA=5 NOTE_ON=53 TIME_DELTA=5 NOTE_ON=73 NOTE_ON=58 NOTE_OFF=75 TIME_DELTA=4 NOTE_ON=61 TIME_DELTA=12 NOTE_OFF=73 TIME_DELTA=4 NOTE_ON=70 TIME_DELTA=1 NOTE_OFF=53 TIME_DELTA=1 NOTE_OFF=46 TIME_DELTA=4 NOTE_OFF=61 TIME_DELTA=2 NOTE_OFF=58 TIME_DELTA=24 NOTE_OFF=70 BAR_END BAR_START TIME_DELTA=24 NOTE_ON=51 TIME_DELTA=5 NOTE_ON=54 TIME_DELTA=5 NOTE_ON=58 NOTE_OFF=51 TIME_DELTA=4 NOTE_ON=66 TIME_DELTA=16 NOTE_ON=73 NOTE_OFF=54 TIME_DELTA=3 NOTE_OFF=58 TIME_DELTA=2 NOTE_OFF=73 TIME_DELTA=1 NOTE_OFF=66 TIME_DELTA=2 BAR_END BAR_START TIME_DELTA=24 NOTE_ON=78 NOTE_ON=47 TIME_DELTA=5 NOTE_ON=80 NOTE_ON=54 NOTE_OFF=78 TIME_DELTA=2 NOTE_OFF=80 TIME_DELTA=2 NOTE_ON=82 NOTE_ON=59 TIME_DELTA=5 NOTE_ON=63 TIME_DELTA=12 NOTE_OFF=54 NOTE_OFF=47 NOTE_OFF=82 NOTE_OFF=59 TIME_DELTA=2 NOTE_ON=73 TIME_DELTA=4 NOTE_OFF=63 NOTE_OFF=73 TIME_DELTA=4 BAR_END TRACK_END TRACK_START INST=0 BAR_START TIME_DELTA=24 NOTE_ON=80 NOTE_ON=49 TIME_DELTA=5 NOTE_ON=56 TIME_DELTA=5 NOTE_ON=61 TIME_DELTA=5 NOTE_ON=65 TIME_DELTA=8 NOTE_OFF=56 TIME_DELTA=2 NOTE_OFF=80 NOTE_OFF=49 TIME_DELTA=3 NOTE_OFF=61 NOTE_OFF=65 TIME_DELTA=1 NOTE_ON=66 TIME_DELTA=6 NOTE_OFF=66 TIME_DELTA=1 BAR_END BAR_START TIME_DELTA=24 NOTE_ON=75 NOTE_ON=46 TIME_DELTA=5 NOTE_ON=53 TIME_DELTA=5 NOTE_ON=73 NOTE_ON=58 NOTE_OFF=75 TIME_DELTA=4 NOTE_ON=61 TIME_DELTA=12 NOTE_OFF=73 TIME_DELTA=4 NOTE_ON=70 TIME_DELTA=1 NOTE_OFF=53 TIME_DELTA=1 NOTE_OFF=46 TIME_DELTA=4 NOTE_OFF=61 TIME_DELTA=2 NOTE_OFF=58 TIME_DELTA=24 NOTE_OFF=70 BAR_END BAR_START TIME_DELTA=24 NOTE_ON=51 TIME_DELTA=5 NOTE_ON=54 TIME_DELTA=5 NOTE_ON=58 NOTE_OFF=51 TIME_DELTA=4 NOTE_ON=66 TIME_DELTA=16 NOTE_ON=73 NOTE_OFF=54 TIME_DELTA=3 NOTE_OFF=58 TIME_DELTA=2 NOTE_OFF=73 TIME_DELTA=1 NOTE_OFF=66 TIME_DELTA=2 BAR_END BAR_START TIME_DELTA=24 NOTE_ON=78 NOTE_ON=47 TIME_DELTA=5 NOTE_ON=80 NOTE_ON=54 NOTE_OFF=78 TIME_DELTA=2 NOTE_OFF=80 TIME_DELTA=2 NOTE_ON=82 NOTE_ON=59 TIME_DELTA=5 NOTE_ON=63 TIME_DELTA=12 NOTE_OFF=54 NOTE_OFF=47 NOTE_OFF=82 NOTE_OFF=59 TIME_DELTA=2 NOTE_ON=73 TIME_DELTA=4 NOTE_OFF=63 NOTE_OFF=73 TIME_DELTA=4 BAR_END TRACK_END\n",
       "4                                                                                   PIECE_START TRACK_START INST=0 BAR_START TIME_DELTA=24 NOTE_ON=75 NOTE_ON=46 TIME_DELTA=5 NOTE_ON=53 TIME_DELTA=5 NOTE_ON=73 NOTE_ON=58 NOTE_OFF=75 TIME_DELTA=4 NOTE_ON=61 TIME_DELTA=12 NOTE_OFF=73 TIME_DELTA=4 NOTE_ON=70 TIME_DELTA=1 NOTE_OFF=53 TIME_DELTA=1 NOTE_OFF=46 TIME_DELTA=4 NOTE_OFF=61 TIME_DELTA=2 NOTE_OFF=58 TIME_DELTA=24 NOTE_OFF=70 BAR_END BAR_START TIME_DELTA=24 NOTE_ON=51 TIME_DELTA=5 NOTE_ON=54 TIME_DELTA=5 NOTE_ON=58 NOTE_OFF=51 TIME_DELTA=4 NOTE_ON=66 TIME_DELTA=16 NOTE_ON=73 NOTE_OFF=54 TIME_DELTA=3 NOTE_OFF=58 TIME_DELTA=2 NOTE_OFF=73 TIME_DELTA=1 NOTE_OFF=66 TIME_DELTA=2 BAR_END BAR_START TIME_DELTA=24 NOTE_ON=78 NOTE_ON=47 TIME_DELTA=5 NOTE_ON=80 NOTE_ON=54 NOTE_OFF=78 TIME_DELTA=2 NOTE_OFF=80 TIME_DELTA=2 NOTE_ON=82 NOTE_ON=59 TIME_DELTA=5 NOTE_ON=63 TIME_DELTA=12 NOTE_OFF=54 NOTE_OFF=47 NOTE_OFF=82 NOTE_OFF=59 TIME_DELTA=2 NOTE_ON=73 TIME_DELTA=4 NOTE_OFF=63 NOTE_OFF=73 TIME_DELTA=4 BAR_END BAR_START TIME_DELTA=24 NOTE_ON=78 NOTE_ON=56 NOTE_ON=61 NOTE_ON=49 TIME_DELTA=4 NOTE_OFF=78 NOTE_ON=80 TIME_DELTA=2 NOTE_OFF=56 NOTE_OFF=80 TIME_DELTA=2 NOTE_ON=82 NOTE_ON=56 TIME_DELTA=5 NOTE_ON=65 TIME_DELTA=1 NOTE_OFF=56 NOTE_OFF=61 TIME_DELTA=8 NOTE_OFF=82 TIME_DELTA=4 NOTE_OFF=65 NOTE_OFF=49 TIME_DELTA=12 BAR_END TRACK_END TRACK_START INST=0 BAR_START TIME_DELTA=24 NOTE_ON=75 NOTE_ON=46 TIME_DELTA=5 NOTE_ON=53 TIME_DELTA=5 NOTE_ON=73 NOTE_ON=58 NOTE_OFF=75 TIME_DELTA=4 NOTE_ON=61 TIME_DELTA=12 NOTE_OFF=73 TIME_DELTA=4 NOTE_ON=70 TIME_DELTA=1 NOTE_OFF=53 TIME_DELTA=1 NOTE_OFF=46 TIME_DELTA=4 NOTE_OFF=61 TIME_DELTA=2 NOTE_OFF=58 TIME_DELTA=24 NOTE_OFF=70 BAR_END BAR_START TIME_DELTA=24 NOTE_ON=51 TIME_DELTA=5 NOTE_ON=54 TIME_DELTA=5 NOTE_ON=58 NOTE_OFF=51 TIME_DELTA=4 NOTE_ON=66 TIME_DELTA=16 NOTE_ON=73 NOTE_OFF=54 TIME_DELTA=3 NOTE_OFF=58 TIME_DELTA=2 NOTE_OFF=73 TIME_DELTA=1 NOTE_OFF=66 TIME_DELTA=2 BAR_END BAR_START TIME_DELTA=24 NOTE_ON=78 NOTE_ON=47 TIME_DELTA=5 NOTE_ON=80 NOTE_ON=54 NOTE_OFF=78 TIME_DELTA=2 NOTE_OFF=80 TIME_DELTA=2 NOTE_ON=82 NOTE_ON=59 TIME_DELTA=5 NOTE_ON=63 TIME_DELTA=12 NOTE_OFF=54 NOTE_OFF=47 NOTE_OFF=82 NOTE_OFF=59 TIME_DELTA=2 NOTE_ON=73 TIME_DELTA=4 NOTE_OFF=63 NOTE_OFF=73 TIME_DELTA=4 BAR_END BAR_START TIME_DELTA=24 NOTE_ON=78 NOTE_ON=56 NOTE_ON=61 NOTE_ON=49 TIME_DELTA=4 NOTE_OFF=78 NOTE_ON=80 TIME_DELTA=2 NOTE_OFF=56 NOTE_OFF=80 TIME_DELTA=2 NOTE_ON=82 NOTE_ON=56 TIME_DELTA=5 NOTE_ON=65 TIME_DELTA=1 NOTE_OFF=56 NOTE_OFF=61 TIME_DELTA=8 NOTE_OFF=82 TIME_DELTA=4 NOTE_OFF=65 NOTE_OFF=49 TIME_DELTA=12 BAR_END TRACK_END TRACK_START INST=0 BAR_START TIME_DELTA=24 NOTE_ON=75 NOTE_ON=46 TIME_DELTA=5 NOTE_ON=53 TIME_DELTA=5 NOTE_ON=73 NOTE_ON=58 NOTE_OFF=75 TIME_DELTA=4 NOTE_ON=61 TIME_DELTA=12 NOTE_OFF=73 TIME_DELTA=4 NOTE_ON=70 TIME_DELTA=1 NOTE_OFF=53 TIME_DELTA=1 NOTE_OFF=46 TIME_DELTA=4 NOTE_OFF=61 TIME_DELTA=2 NOTE_OFF=58 TIME_DELTA=24 NOTE_OFF=70 BAR_END BAR_START TIME_DELTA=24 NOTE_ON=51 TIME_DELTA=5 NOTE_ON=54 TIME_DELTA=5 NOTE_ON=58 NOTE_OFF=51 TIME_DELTA=4 NOTE_ON=66 TIME_DELTA=16 NOTE_ON=73 NOTE_OFF=54 TIME_DELTA=3 NOTE_OFF=58 TIME_DELTA=2 NOTE_OFF=73 TIME_DELTA=1 NOTE_OFF=66 TIME_DELTA=2 BAR_END BAR_START TIME_DELTA=24 NOTE_ON=78 NOTE_ON=47 TIME_DELTA=5 NOTE_ON=80 NOTE_ON=54 NOTE_OFF=78 TIME_DELTA=2 NOTE_OFF=80 TIME_DELTA=2 NOTE_ON=82 NOTE_ON=59 TIME_DELTA=5 NOTE_ON=63 TIME_DELTA=12 NOTE_OFF=54 NOTE_OFF=47 NOTE_OFF=82 NOTE_OFF=59 TIME_DELTA=2 NOTE_ON=73 TIME_DELTA=4 NOTE_OFF=63 NOTE_OFF=73 TIME_DELTA=4 BAR_END BAR_START TIME_DELTA=24 NOTE_ON=78 NOTE_ON=56 NOTE_ON=61 NOTE_ON=49 TIME_DELTA=4 NOTE_OFF=78 NOTE_ON=80 TIME_DELTA=2 NOTE_OFF=56 NOTE_OFF=80 TIME_DELTA=2 NOTE_ON=82 NOTE_ON=56 TIME_DELTA=5 NOTE_ON=65 TIME_DELTA=1 NOTE_OFF=56 NOTE_OFF=61 TIME_DELTA=8 NOTE_OFF=82 TIME_DELTA=4 NOTE_OFF=65 NOTE_OFF=49 TIME_DELTA=12 BAR_END TRACK_END"
      ]
     },
     "execution_count": 44,
     "metadata": {},
     "output_type": "execute_result"
    }
   ],
   "source": [
    "# Display the first few rows of the Pandas DataFrame (df)\n",
    "df.head()"
   ]
  },
  {
   "cell_type": "markdown",
   "metadata": {},
   "source": [
    "## Handling Missing Values"
   ]
  },
  {
   "cell_type": "markdown",
   "metadata": {},
   "source": [
    "### Checking for Empty Rows in the 'text' Column\n",
    "\n",
    "In the following code snippet, we are validating the quality of our dataset by checking for empty or missing values in the 'text' column. This is a crucial step in data preprocessing to ensure the dataset is clean and suitable for modeling."
   ]
  },
  {
   "cell_type": "code",
   "execution_count": 45,
   "metadata": {
    "id": "L_V8oZJcWhb5"
   },
   "outputs": [
    {
     "name": "stdout",
     "output_type": "stream",
     "text": [
      "Empty rows at the following indices: Index([    13,     26,     40,     54,     68,     82,     96,    110,    125,\n",
      "          140,\n",
      "       ...\n",
      "       205025, 205055, 205086, 205117, 205123, 205153, 205184, 205214, 205244,\n",
      "       205274],\n",
      "      dtype='int64', length=9234)\n"
     ]
    }
   ],
   "source": [
    "# Create a mask for empty rows\n",
    "mask = df['text'].isna() | (df['text'] == '')\n",
    "\n",
    "# Apply the mask and get the index of empty rows\n",
    "empty_rows_index = df[mask].index\n",
    "\n",
    "# Check if there are any empty rows\n",
    "if empty_rows_index.empty:\n",
    "    print('No empty rows')\n",
    "else:\n",
    "    print('Empty rows at the following indices:', empty_rows_index)"
   ]
  },
  {
   "cell_type": "markdown",
   "metadata": {},
   "source": [
    "The code first creates a boolean mask identifying rows where the 'text' column is either NaN or an empty string. It then collects the indices of these rows and checks if there are any. If empty rows are found, the code prints the indices; otherwise, it prints 'No empty rows.'"
   ]
  },
  {
   "cell_type": "code",
   "execution_count": 46,
   "metadata": {
    "id": "bY8Vaa2nWnWX"
   },
   "outputs": [
    {
     "data": {
      "text/plain": [
       "205282"
      ]
     },
     "execution_count": 46,
     "metadata": {},
     "output_type": "execute_result"
    }
   ],
   "source": [
    "# Calculate the number of rows in the Pandas DataFrame (df)\n",
    "num_rows = len(df)\n",
    "num_rows"
   ]
  },
  {
   "cell_type": "markdown",
   "metadata": {},
   "source": [
    "The len(df) expression returns the total number of rows in the DataFrame. This information is useful for understanding the size and scope of the dataset. Here we can see we have 205,282 rows of data."
   ]
  },
  {
   "cell_type": "code",
   "execution_count": 47,
   "metadata": {
    "id": "KMEr8g5BWrBy"
   },
   "outputs": [],
   "source": [
    "# Filter the Pandas DataFrame (df) to exclude rows where the 'text' column is an empty string\n",
    "df = df[df['text'] != '']"
   ]
  },
  {
   "cell_type": "markdown",
   "metadata": {},
   "source": [
    "This operation removes rows with empty 'text' values, ensuring that the DataFrame contains only rows where the 'text' column has meaningful content"
   ]
  },
  {
   "cell_type": "code",
   "execution_count": 48,
   "metadata": {
    "id": "Q4hzPql_WsaX"
   },
   "outputs": [
    {
     "data": {
      "text/plain": [
       "196048"
      ]
     },
     "execution_count": 48,
     "metadata": {},
     "output_type": "execute_result"
    }
   ],
   "source": [
    "# Calculate the number of rows in the Pandas DataFrame (df)\n",
    "num_rows = len(df)\n",
    "num_rows"
   ]
  },
  {
   "cell_type": "code",
   "execution_count": 49,
   "metadata": {},
   "outputs": [
    {
     "data": {
      "text/plain": [
       "-4.498202472696096"
      ]
     },
     "execution_count": 49,
     "metadata": {},
     "output_type": "execute_result"
    }
   ],
   "source": [
    "((196048 - 205282) / 205282) * 100"
   ]
  },
  {
   "cell_type": "markdown",
   "metadata": {},
   "source": [
    "This means that only 4.5% of the rows were removed because they were empty."
   ]
  },
  {
   "cell_type": "markdown",
   "metadata": {},
   "source": [
    "## Identify and handling of duplicate rows"
   ]
  },
  {
   "cell_type": "code",
   "execution_count": 50,
   "metadata": {
    "id": "T5OAXaUMWtDG"
   },
   "outputs": [
    {
     "name": "stdout",
     "output_type": "stream",
     "text": [
      "Duplicate rows at the following indices: Index([    29,     30,     37,     38,     39,     51,     52,     53,     56,\n",
      "           57,\n",
      "       ...\n",
      "       205268, 205269, 205270, 205271, 205272, 205273, 205276, 205277, 205278,\n",
      "       205279],\n",
      "      dtype='int64', length=35970)\n"
     ]
    }
   ],
   "source": [
    "# Create a mask for duplicate rows\n",
    "duplicate_mask = df.duplicated(subset=['text'], keep='first')\n",
    "\n",
    "# Apply the mask and get the index of duplicate rows\n",
    "duplicate_rows_index = df[duplicate_mask].index\n",
    "\n",
    "# Check if there are any duplicate rows\n",
    "if duplicate_rows_index.empty:\n",
    "    print('No duplicate rows')\n",
    "else:\n",
    "    print('Duplicate rows at the following indices:', duplicate_rows_index)"
   ]
  },
  {
   "cell_type": "markdown",
   "metadata": {},
   "source": [
    "Create a boolean mask for duplicate rows based on the 'text' column. Extract the indices of these duplicates and check for their presence. If duplicates are found, print their indices; otherwise, print 'No duplicate rows.'\n",
    "\n",
    "The Int64Index represents the indices of the DataFrame where duplicate rows are found. The indices are listed in the form of a Pandas Index object, which is a sequence of integers. In this case, there are 35,970 duplicate rows identified, and their indices are provided in the output. For example, the first few duplicate indices are from 29 to 57, and it continues until index 205279. Each of these indices corresponds to a row in your DataFrame that has the same value in the 'text' column as another row, indicating a duplicate entry.\n"
   ]
  },
  {
   "cell_type": "code",
   "execution_count": 51,
   "metadata": {
    "id": "UI8u33r_XDKg"
   },
   "outputs": [],
   "source": [
    "# Remove duplicate rows based on the values in the 'text' column\n",
    "# The drop_duplicates() method is used to eliminate duplicate rows from the DataFrame\n",
    "# 'subset=['text']' specifies that duplicates are identified based on the 'text' column\n",
    "# 'keep='first'' ensures that the first occurrence of a duplicate is retained, and subsequent duplicates are dropped\n",
    "df = df.drop_duplicates(subset=['text'], keep='first')"
   ]
  },
  {
   "cell_type": "markdown",
   "metadata": {},
   "source": [
    "Now to check and see if all the duplicates were removed."
   ]
  },
  {
   "cell_type": "code",
   "execution_count": 52,
   "metadata": {
    "id": "WzGw-stdXjD-"
   },
   "outputs": [
    {
     "name": "stdout",
     "output_type": "stream",
     "text": [
      "No duplicate rows\n"
     ]
    }
   ],
   "source": [
    "# Create a mask for duplicate rows\n",
    "duplicate_mask = df.duplicated(subset=['text'], keep='first')\n",
    "\n",
    "# Apply the mask and get the index of duplicate rows\n",
    "duplicate_rows_index = df[duplicate_mask].index\n",
    "\n",
    "# Check if there are any duplicate rows\n",
    "if duplicate_rows_index.empty:\n",
    "    print('No duplicate rows')\n",
    "else:\n",
    "    print('Duplicate rows at the following indices:', duplicate_rows_index)"
   ]
  },
  {
   "cell_type": "code",
   "execution_count": 53,
   "metadata": {
    "id": "GXK3YblJXq7n"
   },
   "outputs": [
    {
     "data": {
      "text/plain": [
       "160078"
      ]
     },
     "execution_count": 53,
     "metadata": {},
     "output_type": "execute_result"
    }
   ],
   "source": [
    "# Calculate the number of rows in the Pandas DataFrame (df)\n",
    "num_rows = len(df)\n",
    "num_rows"
   ]
  },
  {
   "cell_type": "markdown",
   "metadata": {},
   "source": [
    "## Music in each row\n",
    "\n",
    "Check to see if all rows contain 'NOTE_ON' to ensure there is atleast one note being played in each row. "
   ]
  },
  {
   "cell_type": "code",
   "execution_count": 54,
   "metadata": {
    "id": "qZf34Ak5XsOu"
   },
   "outputs": [
    {
     "name": "stdout",
     "output_type": "stream",
     "text": [
      "Rows that do not contain \"NOTE_ON\" at the following indices: Index([   266,   1440,   1635,   3047,   3048,   3049,   6276,   7279,   8306,\n",
      "        17145,  17146,  18898,  18899,  37960,  60380,  60381,  65362,  65672,\n",
      "        67947,  67948,  67949,  74613,  75929,  76001,  76239,  92151,  92152,\n",
      "       124792, 124793, 124794, 124925, 124926, 162775, 171003, 171004, 171005],\n",
      "      dtype='int64')\n"
     ]
    }
   ],
   "source": [
    "# Create a boolean mask to identify rows where the 'text' column does not contain the substring 'NOTE_ON'\n",
    "mask = ~df['text'].str.contains('NOTE_ON')\n",
    "\n",
    "# Apply the mask and get the index of rows that do not contain 'NOTE_ON'\n",
    "no_note_on_index = df[mask].index\n",
    "\n",
    "# Check if there are any rows that do not contain 'NOTE_ON'\n",
    "if no_note_on_index.empty:\n",
    "    print('All rows contain \"NOTE_ON\"')\n",
    "else:\n",
    "    print('Rows that do not contain \"NOTE_ON\" at the following indices:', no_note_on_index)"
   ]
  },
  {
   "cell_type": "markdown",
   "metadata": {},
   "source": [
    "Here is the list of the row numbers that do NOT contain 'NOTE_ON' "
   ]
  },
  {
   "cell_type": "markdown",
   "metadata": {},
   "source": [
    "Let's have a look at one of these rows and see what is inside."
   ]
  },
  {
   "cell_type": "code",
   "execution_count": 55,
   "metadata": {
    "id": "0V-7ITqMYMUZ"
   },
   "outputs": [
    {
     "name": "stdout",
     "output_type": "stream",
     "text": [
      "text    PIECE_START TRACK_START INST=0 BAR_START TIME_DELTA=24 BAR_END BAR_START TIME_DELTA=24 BAR_END BAR_START TIME_DELTA=24 BAR_END BAR_START TIME_DELTA=24 BAR_END TRACK_END TRACK_START INST=0 BAR_START TIME_DELTA=24 BAR_END BAR_START TIME_DELTA=24 BAR_END BAR_START TIME_DELTA=24 BAR_END BAR_START TIME_DELTA=24 BAR_END TRACK_END\n",
      "Name: 266, dtype: object\n"
     ]
    }
   ],
   "source": [
    "# Access and print the content of a specific row\n",
    "row = df.loc[266]\n",
    "print(row)"
   ]
  },
  {
   "cell_type": "code",
   "execution_count": 56,
   "metadata": {
    "id": "HGnCQByJYSd2"
   },
   "outputs": [],
   "source": [
    "# Create a boolean mask to identify rows where the 'text' column contains the substring 'NOTE_ON'\n",
    "mask = df['text'].str.contains('NOTE_ON')\n",
    "\n",
    "# Apply the mask and keep only the rows that contain 'NOTE_ON'\n",
    "df = df[mask]"
   ]
  },
  {
   "cell_type": "markdown",
   "metadata": {},
   "source": [
    "This code filters the DataFrame to retain only the rows where the 'text' column contains the substring 'NOTE_ON'. The resulting DataFrame (df) includes only those rows that satisfy this condition."
   ]
  },
  {
   "cell_type": "code",
   "execution_count": 57,
   "metadata": {},
   "outputs": [],
   "source": [
    "pd.set_option('display.max_columns', None)  # This ensures that all columns are displayed\n",
    "pd.set_option('display.width', None)        # This ensures that each line of output will be as wide as necessary\n",
    "pd.set_option('display.max_colwidth', None) # This ensures that columns will not be truncated"
   ]
  },
  {
   "cell_type": "code",
   "execution_count": 58,
   "metadata": {
    "id": "ASGnnNdJYbhw"
   },
   "outputs": [
    {
     "data": {
      "text/html": [
       "<div>\n",
       "<style scoped>\n",
       "    .dataframe tbody tr th:only-of-type {\n",
       "        vertical-align: middle;\n",
       "    }\n",
       "\n",
       "    .dataframe tbody tr th {\n",
       "        vertical-align: top;\n",
       "    }\n",
       "\n",
       "    .dataframe thead th {\n",
       "        text-align: right;\n",
       "    }\n",
       "</style>\n",
       "<table border=\"1\" class=\"dataframe\">\n",
       "  <thead>\n",
       "    <tr style=\"text-align: right;\">\n",
       "      <th></th>\n",
       "      <th>text</th>\n",
       "    </tr>\n",
       "  </thead>\n",
       "  <tbody>\n",
       "    <tr>\n",
       "      <th>0</th>\n",
       "      <td>PIECE_START TRACK_START INST=0 BAR_START TIME_DELTA=24 BAR_END BAR_START TIME_DELTA=24 NOTE_ON=66 TIME_DELTA=8 NOTE_OFF=66 BAR_END BAR_START TIME_DELTA=24 NOTE_ON=75 NOTE_ON=47 TIME_DELTA=5 NOTE_ON=54 TIME_DELTA=5 NOTE_OFF=75 NOTE_ON=73 NOTE_ON=59 TIME_DELTA=5 NOTE_ON=66 NOTE_OFF=73 TIME_DELTA=4 NOTE_ON=71 TIME_DELTA=6 NOTE_OFF=59 NOTE_OFF=71 TIME_DELTA=1 NOTE_OFF=47 TIME_DELTA=1 NOTE_OFF=54 TIME_DELTA=1 NOTE_ON=80 TIME_DELTA=4 NOTE_OFF=80 TIME_DELTA=1 NOTE_ON=82 TIME_DELTA=4 NOTE_OFF=66 NOTE_OFF=82 BAR_END BAR_START TIME_DELTA=24 NOTE_ON=80 NOTE_ON=49 TIME_DELTA=5 NOTE_ON=56 TIME_DELTA=5 NOTE_ON=61 TIME_DELTA=5 NOTE_ON=65 TIME_DELTA=8 NOTE_OFF=56 TIME_DELTA=2 NOTE_OFF=80 NOTE_OFF=49 TIME_DELTA=3 NOTE_OFF=61 NOTE_OFF=65 TIME_DELTA=1 NOTE_ON=66 TIME_DELTA=6 NOTE_OFF=66 TIME_DELTA=1 BAR_END TRACK_END TRACK_START INST=0 BAR_START TIME_DELTA=24 BAR_END BAR_START TIME_DELTA=24 NOTE_ON=66 TIME_DELTA=8 NOTE_OFF=66 BAR_END BAR_START TIME_DELTA=24 NOTE_ON=75 NOTE_ON=47 TIME_DELTA=5 NOTE_ON=54 TIME_DELTA=5 NOTE_OFF=75 NOTE_ON=73 NOTE_ON=59 TIME_DELTA=5 NOTE_ON=66 NOTE_OFF=73 TIME_DELTA=4 NOTE_ON=71 TIME_DELTA=6 NOTE_OFF=59 NOTE_OFF=71 TIME_DELTA=1 NOTE_OFF=47 TIME_DELTA=1 NOTE_OFF=54 TIME_DELTA=1 NOTE_ON=80 TIME_DELTA=4 NOTE_OFF=80 TIME_DELTA=1 NOTE_ON=82 TIME_DELTA=4 NOTE_OFF=66 NOTE_OFF=82 BAR_END BAR_START TIME_DELTA=24 NOTE_ON=80 NOTE_ON=49 TIME_DELTA=5 NOTE_ON=56 TIME_DELTA=5 NOTE_ON=61 TIME_DELTA=5 NOTE_ON=65 TIME_DELTA=8 NOTE_OFF=56 TIME_DELTA=2 NOTE_OFF=80 NOTE_OFF=49 TIME_DELTA=3 NOTE_OFF=61 NOTE_OFF=65 TIME_DELTA=1 NOTE_ON=66 TIME_DELTA=6 NOTE_OFF=66 TIME_DELTA=1 BAR_END TRACK_END TRACK_START INST=0 BAR_START TIME_DELTA=24 BAR_END BAR_START TIME_DELTA=24 NOTE_ON=66 TIME_DELTA=8 NOTE_OFF=66 BAR_END BAR_START TIME_DELTA=24 NOTE_ON=75 NOTE_ON=47 TIME_DELTA=5 NOTE_ON=54 TIME_DELTA=5 NOTE_OFF=75 NOTE_ON=73 NOTE_ON=59 TIME_DELTA=5 NOTE_ON=66 NOTE_OFF=73 TIME_DELTA=4 NOTE_ON=71 TIME_DELTA=6 NOTE_OFF=59 NOTE_OFF=71 TIME_DELTA=1 NOTE_OFF=47 TIME_DELTA=1 NOTE_OFF=54 TIME_DELTA=1 NOTE_ON=80 TIME_DELTA=4 NOTE_OFF=80 TIME_DELTA=1 NOTE_ON=82 TIME_DELTA=4 NOTE_OFF=66 NOTE_OFF=82 BAR_END BAR_START TIME_DELTA=24 NOTE_ON=80 NOTE_ON=49 TIME_DELTA=5 NOTE_ON=56 TIME_DELTA=5 NOTE_ON=61 TIME_DELTA=5 NOTE_ON=65 TIME_DELTA=8 NOTE_OFF=56 TIME_DELTA=2 NOTE_OFF=80 NOTE_OFF=49 TIME_DELTA=3 NOTE_OFF=61 NOTE_OFF=65 TIME_DELTA=1 NOTE_ON=66 TIME_DELTA=6 NOTE_OFF=66 TIME_DELTA=1 BAR_END TRACK_END</td>\n",
       "    </tr>\n",
       "    <tr>\n",
       "      <th>1</th>\n",
       "      <td>PIECE_START TRACK_START INST=0 BAR_START TIME_DELTA=24 NOTE_ON=66 TIME_DELTA=8 NOTE_OFF=66 BAR_END BAR_START TIME_DELTA=24 NOTE_ON=75 NOTE_ON=47 TIME_DELTA=5 NOTE_ON=54 TIME_DELTA=5 NOTE_OFF=75 NOTE_ON=73 NOTE_ON=59 TIME_DELTA=5 NOTE_ON=66 NOTE_OFF=73 TIME_DELTA=4 NOTE_ON=71 TIME_DELTA=6 NOTE_OFF=59 NOTE_OFF=71 TIME_DELTA=1 NOTE_OFF=47 TIME_DELTA=1 NOTE_OFF=54 TIME_DELTA=1 NOTE_ON=80 TIME_DELTA=4 NOTE_OFF=80 TIME_DELTA=1 NOTE_ON=82 TIME_DELTA=4 NOTE_OFF=66 NOTE_OFF=82 BAR_END BAR_START TIME_DELTA=24 NOTE_ON=80 NOTE_ON=49 TIME_DELTA=5 NOTE_ON=56 TIME_DELTA=5 NOTE_ON=61 TIME_DELTA=5 NOTE_ON=65 TIME_DELTA=8 NOTE_OFF=56 TIME_DELTA=2 NOTE_OFF=80 NOTE_OFF=49 TIME_DELTA=3 NOTE_OFF=61 NOTE_OFF=65 TIME_DELTA=1 NOTE_ON=66 TIME_DELTA=6 NOTE_OFF=66 TIME_DELTA=1 BAR_END BAR_START TIME_DELTA=24 NOTE_ON=75 NOTE_ON=46 TIME_DELTA=5 NOTE_ON=53 TIME_DELTA=5 NOTE_ON=73 NOTE_ON=58 NOTE_OFF=75 TIME_DELTA=4 NOTE_ON=61 TIME_DELTA=12 NOTE_OFF=73 TIME_DELTA=4 NOTE_ON=70 TIME_DELTA=1 NOTE_OFF=53 TIME_DELTA=1 NOTE_OFF=46 TIME_DELTA=4 NOTE_OFF=61 TIME_DELTA=2 NOTE_OFF=58 TIME_DELTA=24 NOTE_OFF=70 BAR_END TRACK_END TRACK_START INST=0 BAR_START TIME_DELTA=24 NOTE_ON=66 TIME_DELTA=8 NOTE_OFF=66 BAR_END BAR_START TIME_DELTA=24 NOTE_ON=75 NOTE_ON=47 TIME_DELTA=5 NOTE_ON=54 TIME_DELTA=5 NOTE_OFF=75 NOTE_ON=73 NOTE_ON=59 TIME_DELTA=5 NOTE_ON=66 NOTE_OFF=73 TIME_DELTA=4 NOTE_ON=71 TIME_DELTA=6 NOTE_OFF=59 NOTE_OFF=71 TIME_DELTA=1 NOTE_OFF=47 TIME_DELTA=1 NOTE_OFF=54 TIME_DELTA=1 NOTE_ON=80 TIME_DELTA=4 NOTE_OFF=80 TIME_DELTA=1 NOTE_ON=82 TIME_DELTA=4 NOTE_OFF=66 NOTE_OFF=82 BAR_END BAR_START TIME_DELTA=24 NOTE_ON=80 NOTE_ON=49 TIME_DELTA=5 NOTE_ON=56 TIME_DELTA=5 NOTE_ON=61 TIME_DELTA=5 NOTE_ON=65 TIME_DELTA=8 NOTE_OFF=56 TIME_DELTA=2 NOTE_OFF=80 NOTE_OFF=49 TIME_DELTA=3 NOTE_OFF=61 NOTE_OFF=65 TIME_DELTA=1 NOTE_ON=66 TIME_DELTA=6 NOTE_OFF=66 TIME_DELTA=1 BAR_END BAR_START TIME_DELTA=24 NOTE_ON=75 NOTE_ON=46 TIME_DELTA=5 NOTE_ON=53 TIME_DELTA=5 NOTE_ON=73 NOTE_ON=58 NOTE_OFF=75 TIME_DELTA=4 NOTE_ON=61 TIME_DELTA=12 NOTE_OFF=73 TIME_DELTA=4 NOTE_ON=70 TIME_DELTA=1 NOTE_OFF=53 TIME_DELTA=1 NOTE_OFF=46 TIME_DELTA=4 NOTE_OFF=61 TIME_DELTA=2 NOTE_OFF=58 TIME_DELTA=24 NOTE_OFF=70 BAR_END TRACK_END TRACK_START INST=0 BAR_START TIME_DELTA=24 NOTE_ON=66 TIME_DELTA=8 NOTE_OFF=66 BAR_END BAR_START TIME_DELTA=24 NOTE_ON=75 NOTE_ON=47 TIME_DELTA=5 NOTE_ON=54 TIME_DELTA=5 NOTE_OFF=75 NOTE_ON=73 NOTE_ON=59 TIME_DELTA=5 NOTE_ON=66 NOTE_OFF=73 TIME_DELTA=4 NOTE_ON=71 TIME_DELTA=6 NOTE_OFF=59 NOTE_OFF=71 TIME_DELTA=1 NOTE_OFF=47 TIME_DELTA=1 NOTE_OFF=54 TIME_DELTA=1 NOTE_ON=80 TIME_DELTA=4 NOTE_OFF=80 TIME_DELTA=1 NOTE_ON=82 TIME_DELTA=4 NOTE_OFF=66 NOTE_OFF=82 BAR_END BAR_START TIME_DELTA=24 NOTE_ON=80 NOTE_ON=49 TIME_DELTA=5 NOTE_ON=56 TIME_DELTA=5 NOTE_ON=61 TIME_DELTA=5 NOTE_ON=65 TIME_DELTA=8 NOTE_OFF=56 TIME_DELTA=2 NOTE_OFF=80 NOTE_OFF=49 TIME_DELTA=3 NOTE_OFF=61 NOTE_OFF=65 TIME_DELTA=1 NOTE_ON=66 TIME_DELTA=6 NOTE_OFF=66 TIME_DELTA=1 BAR_END BAR_START TIME_DELTA=24 NOTE_ON=75 NOTE_ON=46 TIME_DELTA=5 NOTE_ON=53 TIME_DELTA=5 NOTE_ON=73 NOTE_ON=58 NOTE_OFF=75 TIME_DELTA=4 NOTE_ON=61 TIME_DELTA=12 NOTE_OFF=73 TIME_DELTA=4 NOTE_ON=70 TIME_DELTA=1 NOTE_OFF=53 TIME_DELTA=1 NOTE_OFF=46 TIME_DELTA=4 NOTE_OFF=61 TIME_DELTA=2 NOTE_OFF=58 TIME_DELTA=24 NOTE_OFF=70 BAR_END TRACK_END</td>\n",
       "    </tr>\n",
       "    <tr>\n",
       "      <th>2</th>\n",
       "      <td>PIECE_START TRACK_START INST=0 BAR_START TIME_DELTA=24 NOTE_ON=75 NOTE_ON=47 TIME_DELTA=5 NOTE_ON=54 TIME_DELTA=5 NOTE_OFF=75 NOTE_ON=73 NOTE_ON=59 TIME_DELTA=5 NOTE_ON=66 NOTE_OFF=73 TIME_DELTA=4 NOTE_ON=71 TIME_DELTA=6 NOTE_OFF=59 NOTE_OFF=71 TIME_DELTA=1 NOTE_OFF=47 TIME_DELTA=1 NOTE_OFF=54 TIME_DELTA=1 NOTE_ON=80 TIME_DELTA=4 NOTE_OFF=80 TIME_DELTA=1 NOTE_ON=82 TIME_DELTA=4 NOTE_OFF=66 NOTE_OFF=82 BAR_END BAR_START TIME_DELTA=24 NOTE_ON=80 NOTE_ON=49 TIME_DELTA=5 NOTE_ON=56 TIME_DELTA=5 NOTE_ON=61 TIME_DELTA=5 NOTE_ON=65 TIME_DELTA=8 NOTE_OFF=56 TIME_DELTA=2 NOTE_OFF=80 NOTE_OFF=49 TIME_DELTA=3 NOTE_OFF=61 NOTE_OFF=65 TIME_DELTA=1 NOTE_ON=66 TIME_DELTA=6 NOTE_OFF=66 TIME_DELTA=1 BAR_END BAR_START TIME_DELTA=24 NOTE_ON=75 NOTE_ON=46 TIME_DELTA=5 NOTE_ON=53 TIME_DELTA=5 NOTE_ON=73 NOTE_ON=58 NOTE_OFF=75 TIME_DELTA=4 NOTE_ON=61 TIME_DELTA=12 NOTE_OFF=73 TIME_DELTA=4 NOTE_ON=70 TIME_DELTA=1 NOTE_OFF=53 TIME_DELTA=1 NOTE_OFF=46 TIME_DELTA=4 NOTE_OFF=61 TIME_DELTA=2 NOTE_OFF=58 TIME_DELTA=24 NOTE_OFF=70 BAR_END BAR_START TIME_DELTA=24 NOTE_ON=51 TIME_DELTA=5 NOTE_ON=54 TIME_DELTA=5 NOTE_ON=58 NOTE_OFF=51 TIME_DELTA=4 NOTE_ON=66 TIME_DELTA=16 NOTE_ON=73 NOTE_OFF=54 TIME_DELTA=3 NOTE_OFF=58 TIME_DELTA=2 NOTE_OFF=73 TIME_DELTA=1 NOTE_OFF=66 TIME_DELTA=2 BAR_END TRACK_END TRACK_START INST=0 BAR_START TIME_DELTA=24 NOTE_ON=75 NOTE_ON=47 TIME_DELTA=5 NOTE_ON=54 TIME_DELTA=5 NOTE_OFF=75 NOTE_ON=73 NOTE_ON=59 TIME_DELTA=5 NOTE_ON=66 NOTE_OFF=73 TIME_DELTA=4 NOTE_ON=71 TIME_DELTA=6 NOTE_OFF=59 NOTE_OFF=71 TIME_DELTA=1 NOTE_OFF=47 TIME_DELTA=1 NOTE_OFF=54 TIME_DELTA=1 NOTE_ON=80 TIME_DELTA=4 NOTE_OFF=80 TIME_DELTA=1 NOTE_ON=82 TIME_DELTA=4 NOTE_OFF=66 NOTE_OFF=82 BAR_END BAR_START TIME_DELTA=24 NOTE_ON=80 NOTE_ON=49 TIME_DELTA=5 NOTE_ON=56 TIME_DELTA=5 NOTE_ON=61 TIME_DELTA=5 NOTE_ON=65 TIME_DELTA=8 NOTE_OFF=56 TIME_DELTA=2 NOTE_OFF=80 NOTE_OFF=49 TIME_DELTA=3 NOTE_OFF=61 NOTE_OFF=65 TIME_DELTA=1 NOTE_ON=66 TIME_DELTA=6 NOTE_OFF=66 TIME_DELTA=1 BAR_END BAR_START TIME_DELTA=24 NOTE_ON=75 NOTE_ON=46 TIME_DELTA=5 NOTE_ON=53 TIME_DELTA=5 NOTE_ON=73 NOTE_ON=58 NOTE_OFF=75 TIME_DELTA=4 NOTE_ON=61 TIME_DELTA=12 NOTE_OFF=73 TIME_DELTA=4 NOTE_ON=70 TIME_DELTA=1 NOTE_OFF=53 TIME_DELTA=1 NOTE_OFF=46 TIME_DELTA=4 NOTE_OFF=61 TIME_DELTA=2 NOTE_OFF=58 TIME_DELTA=24 NOTE_OFF=70 BAR_END BAR_START TIME_DELTA=24 NOTE_ON=51 TIME_DELTA=5 NOTE_ON=54 TIME_DELTA=5 NOTE_ON=58 NOTE_OFF=51 TIME_DELTA=4 NOTE_ON=66 TIME_DELTA=16 NOTE_ON=73 NOTE_OFF=54 TIME_DELTA=3 NOTE_OFF=58 TIME_DELTA=2 NOTE_OFF=73 TIME_DELTA=1 NOTE_OFF=66 TIME_DELTA=2 BAR_END TRACK_END TRACK_START INST=0 BAR_START TIME_DELTA=24 NOTE_ON=75 NOTE_ON=47 TIME_DELTA=5 NOTE_ON=54 TIME_DELTA=5 NOTE_OFF=75 NOTE_ON=73 NOTE_ON=59 TIME_DELTA=5 NOTE_ON=66 NOTE_OFF=73 TIME_DELTA=4 NOTE_ON=71 TIME_DELTA=6 NOTE_OFF=59 NOTE_OFF=71 TIME_DELTA=1 NOTE_OFF=47 TIME_DELTA=1 NOTE_OFF=54 TIME_DELTA=1 NOTE_ON=80 TIME_DELTA=4 NOTE_OFF=80 TIME_DELTA=1 NOTE_ON=82 TIME_DELTA=4 NOTE_OFF=66 NOTE_OFF=82 BAR_END BAR_START TIME_DELTA=24 NOTE_ON=80 NOTE_ON=49 TIME_DELTA=5 NOTE_ON=56 TIME_DELTA=5 NOTE_ON=61 TIME_DELTA=5 NOTE_ON=65 TIME_DELTA=8 NOTE_OFF=56 TIME_DELTA=2 NOTE_OFF=80 NOTE_OFF=49 TIME_DELTA=3 NOTE_OFF=61 NOTE_OFF=65 TIME_DELTA=1 NOTE_ON=66 TIME_DELTA=6 NOTE_OFF=66 TIME_DELTA=1 BAR_END BAR_START TIME_DELTA=24 NOTE_ON=75 NOTE_ON=46 TIME_DELTA=5 NOTE_ON=53 TIME_DELTA=5 NOTE_ON=73 NOTE_ON=58 NOTE_OFF=75 TIME_DELTA=4 NOTE_ON=61 TIME_DELTA=12 NOTE_OFF=73 TIME_DELTA=4 NOTE_ON=70 TIME_DELTA=1 NOTE_OFF=53 TIME_DELTA=1 NOTE_OFF=46 TIME_DELTA=4 NOTE_OFF=61 TIME_DELTA=2 NOTE_OFF=58 TIME_DELTA=24 NOTE_OFF=70 BAR_END BAR_START TIME_DELTA=24 NOTE_ON=51 TIME_DELTA=5 NOTE_ON=54 TIME_DELTA=5 NOTE_ON=58 NOTE_OFF=51 TIME_DELTA=4 NOTE_ON=66 TIME_DELTA=16 NOTE_ON=73 NOTE_OFF=54 TIME_DELTA=3 NOTE_OFF=58 TIME_DELTA=2 NOTE_OFF=73 TIME_DELTA=1 NOTE_OFF=66 TIME_DELTA=2 BAR_END TRACK_END</td>\n",
       "    </tr>\n",
       "    <tr>\n",
       "      <th>3</th>\n",
       "      <td>PIECE_START TRACK_START INST=0 BAR_START TIME_DELTA=24 NOTE_ON=80 NOTE_ON=49 TIME_DELTA=5 NOTE_ON=56 TIME_DELTA=5 NOTE_ON=61 TIME_DELTA=5 NOTE_ON=65 TIME_DELTA=8 NOTE_OFF=56 TIME_DELTA=2 NOTE_OFF=80 NOTE_OFF=49 TIME_DELTA=3 NOTE_OFF=61 NOTE_OFF=65 TIME_DELTA=1 NOTE_ON=66 TIME_DELTA=6 NOTE_OFF=66 TIME_DELTA=1 BAR_END BAR_START TIME_DELTA=24 NOTE_ON=75 NOTE_ON=46 TIME_DELTA=5 NOTE_ON=53 TIME_DELTA=5 NOTE_ON=73 NOTE_ON=58 NOTE_OFF=75 TIME_DELTA=4 NOTE_ON=61 TIME_DELTA=12 NOTE_OFF=73 TIME_DELTA=4 NOTE_ON=70 TIME_DELTA=1 NOTE_OFF=53 TIME_DELTA=1 NOTE_OFF=46 TIME_DELTA=4 NOTE_OFF=61 TIME_DELTA=2 NOTE_OFF=58 TIME_DELTA=24 NOTE_OFF=70 BAR_END BAR_START TIME_DELTA=24 NOTE_ON=51 TIME_DELTA=5 NOTE_ON=54 TIME_DELTA=5 NOTE_ON=58 NOTE_OFF=51 TIME_DELTA=4 NOTE_ON=66 TIME_DELTA=16 NOTE_ON=73 NOTE_OFF=54 TIME_DELTA=3 NOTE_OFF=58 TIME_DELTA=2 NOTE_OFF=73 TIME_DELTA=1 NOTE_OFF=66 TIME_DELTA=2 BAR_END BAR_START TIME_DELTA=24 NOTE_ON=78 NOTE_ON=47 TIME_DELTA=5 NOTE_ON=80 NOTE_ON=54 NOTE_OFF=78 TIME_DELTA=2 NOTE_OFF=80 TIME_DELTA=2 NOTE_ON=82 NOTE_ON=59 TIME_DELTA=5 NOTE_ON=63 TIME_DELTA=12 NOTE_OFF=54 NOTE_OFF=47 NOTE_OFF=82 NOTE_OFF=59 TIME_DELTA=2 NOTE_ON=73 TIME_DELTA=4 NOTE_OFF=63 NOTE_OFF=73 TIME_DELTA=4 BAR_END TRACK_END TRACK_START INST=0 BAR_START TIME_DELTA=24 NOTE_ON=80 NOTE_ON=49 TIME_DELTA=5 NOTE_ON=56 TIME_DELTA=5 NOTE_ON=61 TIME_DELTA=5 NOTE_ON=65 TIME_DELTA=8 NOTE_OFF=56 TIME_DELTA=2 NOTE_OFF=80 NOTE_OFF=49 TIME_DELTA=3 NOTE_OFF=61 NOTE_OFF=65 TIME_DELTA=1 NOTE_ON=66 TIME_DELTA=6 NOTE_OFF=66 TIME_DELTA=1 BAR_END BAR_START TIME_DELTA=24 NOTE_ON=75 NOTE_ON=46 TIME_DELTA=5 NOTE_ON=53 TIME_DELTA=5 NOTE_ON=73 NOTE_ON=58 NOTE_OFF=75 TIME_DELTA=4 NOTE_ON=61 TIME_DELTA=12 NOTE_OFF=73 TIME_DELTA=4 NOTE_ON=70 TIME_DELTA=1 NOTE_OFF=53 TIME_DELTA=1 NOTE_OFF=46 TIME_DELTA=4 NOTE_OFF=61 TIME_DELTA=2 NOTE_OFF=58 TIME_DELTA=24 NOTE_OFF=70 BAR_END BAR_START TIME_DELTA=24 NOTE_ON=51 TIME_DELTA=5 NOTE_ON=54 TIME_DELTA=5 NOTE_ON=58 NOTE_OFF=51 TIME_DELTA=4 NOTE_ON=66 TIME_DELTA=16 NOTE_ON=73 NOTE_OFF=54 TIME_DELTA=3 NOTE_OFF=58 TIME_DELTA=2 NOTE_OFF=73 TIME_DELTA=1 NOTE_OFF=66 TIME_DELTA=2 BAR_END BAR_START TIME_DELTA=24 NOTE_ON=78 NOTE_ON=47 TIME_DELTA=5 NOTE_ON=80 NOTE_ON=54 NOTE_OFF=78 TIME_DELTA=2 NOTE_OFF=80 TIME_DELTA=2 NOTE_ON=82 NOTE_ON=59 TIME_DELTA=5 NOTE_ON=63 TIME_DELTA=12 NOTE_OFF=54 NOTE_OFF=47 NOTE_OFF=82 NOTE_OFF=59 TIME_DELTA=2 NOTE_ON=73 TIME_DELTA=4 NOTE_OFF=63 NOTE_OFF=73 TIME_DELTA=4 BAR_END TRACK_END TRACK_START INST=0 BAR_START TIME_DELTA=24 NOTE_ON=80 NOTE_ON=49 TIME_DELTA=5 NOTE_ON=56 TIME_DELTA=5 NOTE_ON=61 TIME_DELTA=5 NOTE_ON=65 TIME_DELTA=8 NOTE_OFF=56 TIME_DELTA=2 NOTE_OFF=80 NOTE_OFF=49 TIME_DELTA=3 NOTE_OFF=61 NOTE_OFF=65 TIME_DELTA=1 NOTE_ON=66 TIME_DELTA=6 NOTE_OFF=66 TIME_DELTA=1 BAR_END BAR_START TIME_DELTA=24 NOTE_ON=75 NOTE_ON=46 TIME_DELTA=5 NOTE_ON=53 TIME_DELTA=5 NOTE_ON=73 NOTE_ON=58 NOTE_OFF=75 TIME_DELTA=4 NOTE_ON=61 TIME_DELTA=12 NOTE_OFF=73 TIME_DELTA=4 NOTE_ON=70 TIME_DELTA=1 NOTE_OFF=53 TIME_DELTA=1 NOTE_OFF=46 TIME_DELTA=4 NOTE_OFF=61 TIME_DELTA=2 NOTE_OFF=58 TIME_DELTA=24 NOTE_OFF=70 BAR_END BAR_START TIME_DELTA=24 NOTE_ON=51 TIME_DELTA=5 NOTE_ON=54 TIME_DELTA=5 NOTE_ON=58 NOTE_OFF=51 TIME_DELTA=4 NOTE_ON=66 TIME_DELTA=16 NOTE_ON=73 NOTE_OFF=54 TIME_DELTA=3 NOTE_OFF=58 TIME_DELTA=2 NOTE_OFF=73 TIME_DELTA=1 NOTE_OFF=66 TIME_DELTA=2 BAR_END BAR_START TIME_DELTA=24 NOTE_ON=78 NOTE_ON=47 TIME_DELTA=5 NOTE_ON=80 NOTE_ON=54 NOTE_OFF=78 TIME_DELTA=2 NOTE_OFF=80 TIME_DELTA=2 NOTE_ON=82 NOTE_ON=59 TIME_DELTA=5 NOTE_ON=63 TIME_DELTA=12 NOTE_OFF=54 NOTE_OFF=47 NOTE_OFF=82 NOTE_OFF=59 TIME_DELTA=2 NOTE_ON=73 TIME_DELTA=4 NOTE_OFF=63 NOTE_OFF=73 TIME_DELTA=4 BAR_END TRACK_END</td>\n",
       "    </tr>\n",
       "    <tr>\n",
       "      <th>4</th>\n",
       "      <td>PIECE_START TRACK_START INST=0 BAR_START TIME_DELTA=24 NOTE_ON=75 NOTE_ON=46 TIME_DELTA=5 NOTE_ON=53 TIME_DELTA=5 NOTE_ON=73 NOTE_ON=58 NOTE_OFF=75 TIME_DELTA=4 NOTE_ON=61 TIME_DELTA=12 NOTE_OFF=73 TIME_DELTA=4 NOTE_ON=70 TIME_DELTA=1 NOTE_OFF=53 TIME_DELTA=1 NOTE_OFF=46 TIME_DELTA=4 NOTE_OFF=61 TIME_DELTA=2 NOTE_OFF=58 TIME_DELTA=24 NOTE_OFF=70 BAR_END BAR_START TIME_DELTA=24 NOTE_ON=51 TIME_DELTA=5 NOTE_ON=54 TIME_DELTA=5 NOTE_ON=58 NOTE_OFF=51 TIME_DELTA=4 NOTE_ON=66 TIME_DELTA=16 NOTE_ON=73 NOTE_OFF=54 TIME_DELTA=3 NOTE_OFF=58 TIME_DELTA=2 NOTE_OFF=73 TIME_DELTA=1 NOTE_OFF=66 TIME_DELTA=2 BAR_END BAR_START TIME_DELTA=24 NOTE_ON=78 NOTE_ON=47 TIME_DELTA=5 NOTE_ON=80 NOTE_ON=54 NOTE_OFF=78 TIME_DELTA=2 NOTE_OFF=80 TIME_DELTA=2 NOTE_ON=82 NOTE_ON=59 TIME_DELTA=5 NOTE_ON=63 TIME_DELTA=12 NOTE_OFF=54 NOTE_OFF=47 NOTE_OFF=82 NOTE_OFF=59 TIME_DELTA=2 NOTE_ON=73 TIME_DELTA=4 NOTE_OFF=63 NOTE_OFF=73 TIME_DELTA=4 BAR_END BAR_START TIME_DELTA=24 NOTE_ON=78 NOTE_ON=56 NOTE_ON=61 NOTE_ON=49 TIME_DELTA=4 NOTE_OFF=78 NOTE_ON=80 TIME_DELTA=2 NOTE_OFF=56 NOTE_OFF=80 TIME_DELTA=2 NOTE_ON=82 NOTE_ON=56 TIME_DELTA=5 NOTE_ON=65 TIME_DELTA=1 NOTE_OFF=56 NOTE_OFF=61 TIME_DELTA=8 NOTE_OFF=82 TIME_DELTA=4 NOTE_OFF=65 NOTE_OFF=49 TIME_DELTA=12 BAR_END TRACK_END TRACK_START INST=0 BAR_START TIME_DELTA=24 NOTE_ON=75 NOTE_ON=46 TIME_DELTA=5 NOTE_ON=53 TIME_DELTA=5 NOTE_ON=73 NOTE_ON=58 NOTE_OFF=75 TIME_DELTA=4 NOTE_ON=61 TIME_DELTA=12 NOTE_OFF=73 TIME_DELTA=4 NOTE_ON=70 TIME_DELTA=1 NOTE_OFF=53 TIME_DELTA=1 NOTE_OFF=46 TIME_DELTA=4 NOTE_OFF=61 TIME_DELTA=2 NOTE_OFF=58 TIME_DELTA=24 NOTE_OFF=70 BAR_END BAR_START TIME_DELTA=24 NOTE_ON=51 TIME_DELTA=5 NOTE_ON=54 TIME_DELTA=5 NOTE_ON=58 NOTE_OFF=51 TIME_DELTA=4 NOTE_ON=66 TIME_DELTA=16 NOTE_ON=73 NOTE_OFF=54 TIME_DELTA=3 NOTE_OFF=58 TIME_DELTA=2 NOTE_OFF=73 TIME_DELTA=1 NOTE_OFF=66 TIME_DELTA=2 BAR_END BAR_START TIME_DELTA=24 NOTE_ON=78 NOTE_ON=47 TIME_DELTA=5 NOTE_ON=80 NOTE_ON=54 NOTE_OFF=78 TIME_DELTA=2 NOTE_OFF=80 TIME_DELTA=2 NOTE_ON=82 NOTE_ON=59 TIME_DELTA=5 NOTE_ON=63 TIME_DELTA=12 NOTE_OFF=54 NOTE_OFF=47 NOTE_OFF=82 NOTE_OFF=59 TIME_DELTA=2 NOTE_ON=73 TIME_DELTA=4 NOTE_OFF=63 NOTE_OFF=73 TIME_DELTA=4 BAR_END BAR_START TIME_DELTA=24 NOTE_ON=78 NOTE_ON=56 NOTE_ON=61 NOTE_ON=49 TIME_DELTA=4 NOTE_OFF=78 NOTE_ON=80 TIME_DELTA=2 NOTE_OFF=56 NOTE_OFF=80 TIME_DELTA=2 NOTE_ON=82 NOTE_ON=56 TIME_DELTA=5 NOTE_ON=65 TIME_DELTA=1 NOTE_OFF=56 NOTE_OFF=61 TIME_DELTA=8 NOTE_OFF=82 TIME_DELTA=4 NOTE_OFF=65 NOTE_OFF=49 TIME_DELTA=12 BAR_END TRACK_END TRACK_START INST=0 BAR_START TIME_DELTA=24 NOTE_ON=75 NOTE_ON=46 TIME_DELTA=5 NOTE_ON=53 TIME_DELTA=5 NOTE_ON=73 NOTE_ON=58 NOTE_OFF=75 TIME_DELTA=4 NOTE_ON=61 TIME_DELTA=12 NOTE_OFF=73 TIME_DELTA=4 NOTE_ON=70 TIME_DELTA=1 NOTE_OFF=53 TIME_DELTA=1 NOTE_OFF=46 TIME_DELTA=4 NOTE_OFF=61 TIME_DELTA=2 NOTE_OFF=58 TIME_DELTA=24 NOTE_OFF=70 BAR_END BAR_START TIME_DELTA=24 NOTE_ON=51 TIME_DELTA=5 NOTE_ON=54 TIME_DELTA=5 NOTE_ON=58 NOTE_OFF=51 TIME_DELTA=4 NOTE_ON=66 TIME_DELTA=16 NOTE_ON=73 NOTE_OFF=54 TIME_DELTA=3 NOTE_OFF=58 TIME_DELTA=2 NOTE_OFF=73 TIME_DELTA=1 NOTE_OFF=66 TIME_DELTA=2 BAR_END BAR_START TIME_DELTA=24 NOTE_ON=78 NOTE_ON=47 TIME_DELTA=5 NOTE_ON=80 NOTE_ON=54 NOTE_OFF=78 TIME_DELTA=2 NOTE_OFF=80 TIME_DELTA=2 NOTE_ON=82 NOTE_ON=59 TIME_DELTA=5 NOTE_ON=63 TIME_DELTA=12 NOTE_OFF=54 NOTE_OFF=47 NOTE_OFF=82 NOTE_OFF=59 TIME_DELTA=2 NOTE_ON=73 TIME_DELTA=4 NOTE_OFF=63 NOTE_OFF=73 TIME_DELTA=4 BAR_END BAR_START TIME_DELTA=24 NOTE_ON=78 NOTE_ON=56 NOTE_ON=61 NOTE_ON=49 TIME_DELTA=4 NOTE_OFF=78 NOTE_ON=80 TIME_DELTA=2 NOTE_OFF=56 NOTE_OFF=80 TIME_DELTA=2 NOTE_ON=82 NOTE_ON=56 TIME_DELTA=5 NOTE_ON=65 TIME_DELTA=1 NOTE_OFF=56 NOTE_OFF=61 TIME_DELTA=8 NOTE_OFF=82 TIME_DELTA=4 NOTE_OFF=65 NOTE_OFF=49 TIME_DELTA=12 BAR_END TRACK_END</td>\n",
       "    </tr>\n",
       "  </tbody>\n",
       "</table>\n",
       "</div>"
      ],
      "text/plain": [
       "                                                                                                                                                                                                                                                                                                                                                                                                                                                                                                                                                                                                                                                                                                                                                                                                                                                                                                                                                                                                                                                                                                                                                                                                                                                                                                                                                                                                                                                                                                                                                                                                                                                                                                                                                                                                                                                                                                                                                                                                                                                                                                                                                                                                                                                                                                                                                                                                                                                                                                                                                                                                                                                                                                                                                                                                                                                                                                                                                                                                                                                                                                                                                                                                                                                                                                                                                                                                                                                                                                                                                                                                                                                                                                                                                                                                                                                                                                                                                                                           text\n",
       "0                                                                                                                                                                                                                                                                                                                                                                                                                                                                                                                                                                                                                                                                                                                                                                                                                                                                                                                                                                                                                                                                                                                                                                                                                                                                                                                                                                                                                                                                                         PIECE_START TRACK_START INST=0 BAR_START TIME_DELTA=24 BAR_END BAR_START TIME_DELTA=24 NOTE_ON=66 TIME_DELTA=8 NOTE_OFF=66 BAR_END BAR_START TIME_DELTA=24 NOTE_ON=75 NOTE_ON=47 TIME_DELTA=5 NOTE_ON=54 TIME_DELTA=5 NOTE_OFF=75 NOTE_ON=73 NOTE_ON=59 TIME_DELTA=5 NOTE_ON=66 NOTE_OFF=73 TIME_DELTA=4 NOTE_ON=71 TIME_DELTA=6 NOTE_OFF=59 NOTE_OFF=71 TIME_DELTA=1 NOTE_OFF=47 TIME_DELTA=1 NOTE_OFF=54 TIME_DELTA=1 NOTE_ON=80 TIME_DELTA=4 NOTE_OFF=80 TIME_DELTA=1 NOTE_ON=82 TIME_DELTA=4 NOTE_OFF=66 NOTE_OFF=82 BAR_END BAR_START TIME_DELTA=24 NOTE_ON=80 NOTE_ON=49 TIME_DELTA=5 NOTE_ON=56 TIME_DELTA=5 NOTE_ON=61 TIME_DELTA=5 NOTE_ON=65 TIME_DELTA=8 NOTE_OFF=56 TIME_DELTA=2 NOTE_OFF=80 NOTE_OFF=49 TIME_DELTA=3 NOTE_OFF=61 NOTE_OFF=65 TIME_DELTA=1 NOTE_ON=66 TIME_DELTA=6 NOTE_OFF=66 TIME_DELTA=1 BAR_END TRACK_END TRACK_START INST=0 BAR_START TIME_DELTA=24 BAR_END BAR_START TIME_DELTA=24 NOTE_ON=66 TIME_DELTA=8 NOTE_OFF=66 BAR_END BAR_START TIME_DELTA=24 NOTE_ON=75 NOTE_ON=47 TIME_DELTA=5 NOTE_ON=54 TIME_DELTA=5 NOTE_OFF=75 NOTE_ON=73 NOTE_ON=59 TIME_DELTA=5 NOTE_ON=66 NOTE_OFF=73 TIME_DELTA=4 NOTE_ON=71 TIME_DELTA=6 NOTE_OFF=59 NOTE_OFF=71 TIME_DELTA=1 NOTE_OFF=47 TIME_DELTA=1 NOTE_OFF=54 TIME_DELTA=1 NOTE_ON=80 TIME_DELTA=4 NOTE_OFF=80 TIME_DELTA=1 NOTE_ON=82 TIME_DELTA=4 NOTE_OFF=66 NOTE_OFF=82 BAR_END BAR_START TIME_DELTA=24 NOTE_ON=80 NOTE_ON=49 TIME_DELTA=5 NOTE_ON=56 TIME_DELTA=5 NOTE_ON=61 TIME_DELTA=5 NOTE_ON=65 TIME_DELTA=8 NOTE_OFF=56 TIME_DELTA=2 NOTE_OFF=80 NOTE_OFF=49 TIME_DELTA=3 NOTE_OFF=61 NOTE_OFF=65 TIME_DELTA=1 NOTE_ON=66 TIME_DELTA=6 NOTE_OFF=66 TIME_DELTA=1 BAR_END TRACK_END TRACK_START INST=0 BAR_START TIME_DELTA=24 BAR_END BAR_START TIME_DELTA=24 NOTE_ON=66 TIME_DELTA=8 NOTE_OFF=66 BAR_END BAR_START TIME_DELTA=24 NOTE_ON=75 NOTE_ON=47 TIME_DELTA=5 NOTE_ON=54 TIME_DELTA=5 NOTE_OFF=75 NOTE_ON=73 NOTE_ON=59 TIME_DELTA=5 NOTE_ON=66 NOTE_OFF=73 TIME_DELTA=4 NOTE_ON=71 TIME_DELTA=6 NOTE_OFF=59 NOTE_OFF=71 TIME_DELTA=1 NOTE_OFF=47 TIME_DELTA=1 NOTE_OFF=54 TIME_DELTA=1 NOTE_ON=80 TIME_DELTA=4 NOTE_OFF=80 TIME_DELTA=1 NOTE_ON=82 TIME_DELTA=4 NOTE_OFF=66 NOTE_OFF=82 BAR_END BAR_START TIME_DELTA=24 NOTE_ON=80 NOTE_ON=49 TIME_DELTA=5 NOTE_ON=56 TIME_DELTA=5 NOTE_ON=61 TIME_DELTA=5 NOTE_ON=65 TIME_DELTA=8 NOTE_OFF=56 TIME_DELTA=2 NOTE_OFF=80 NOTE_OFF=49 TIME_DELTA=3 NOTE_OFF=61 NOTE_OFF=65 TIME_DELTA=1 NOTE_ON=66 TIME_DELTA=6 NOTE_OFF=66 TIME_DELTA=1 BAR_END TRACK_END\n",
       "1                                                                                                                                                                                                                                                                                                                                                                                                                                                                                                                                                                          PIECE_START TRACK_START INST=0 BAR_START TIME_DELTA=24 NOTE_ON=66 TIME_DELTA=8 NOTE_OFF=66 BAR_END BAR_START TIME_DELTA=24 NOTE_ON=75 NOTE_ON=47 TIME_DELTA=5 NOTE_ON=54 TIME_DELTA=5 NOTE_OFF=75 NOTE_ON=73 NOTE_ON=59 TIME_DELTA=5 NOTE_ON=66 NOTE_OFF=73 TIME_DELTA=4 NOTE_ON=71 TIME_DELTA=6 NOTE_OFF=59 NOTE_OFF=71 TIME_DELTA=1 NOTE_OFF=47 TIME_DELTA=1 NOTE_OFF=54 TIME_DELTA=1 NOTE_ON=80 TIME_DELTA=4 NOTE_OFF=80 TIME_DELTA=1 NOTE_ON=82 TIME_DELTA=4 NOTE_OFF=66 NOTE_OFF=82 BAR_END BAR_START TIME_DELTA=24 NOTE_ON=80 NOTE_ON=49 TIME_DELTA=5 NOTE_ON=56 TIME_DELTA=5 NOTE_ON=61 TIME_DELTA=5 NOTE_ON=65 TIME_DELTA=8 NOTE_OFF=56 TIME_DELTA=2 NOTE_OFF=80 NOTE_OFF=49 TIME_DELTA=3 NOTE_OFF=61 NOTE_OFF=65 TIME_DELTA=1 NOTE_ON=66 TIME_DELTA=6 NOTE_OFF=66 TIME_DELTA=1 BAR_END BAR_START TIME_DELTA=24 NOTE_ON=75 NOTE_ON=46 TIME_DELTA=5 NOTE_ON=53 TIME_DELTA=5 NOTE_ON=73 NOTE_ON=58 NOTE_OFF=75 TIME_DELTA=4 NOTE_ON=61 TIME_DELTA=12 NOTE_OFF=73 TIME_DELTA=4 NOTE_ON=70 TIME_DELTA=1 NOTE_OFF=53 TIME_DELTA=1 NOTE_OFF=46 TIME_DELTA=4 NOTE_OFF=61 TIME_DELTA=2 NOTE_OFF=58 TIME_DELTA=24 NOTE_OFF=70 BAR_END TRACK_END TRACK_START INST=0 BAR_START TIME_DELTA=24 NOTE_ON=66 TIME_DELTA=8 NOTE_OFF=66 BAR_END BAR_START TIME_DELTA=24 NOTE_ON=75 NOTE_ON=47 TIME_DELTA=5 NOTE_ON=54 TIME_DELTA=5 NOTE_OFF=75 NOTE_ON=73 NOTE_ON=59 TIME_DELTA=5 NOTE_ON=66 NOTE_OFF=73 TIME_DELTA=4 NOTE_ON=71 TIME_DELTA=6 NOTE_OFF=59 NOTE_OFF=71 TIME_DELTA=1 NOTE_OFF=47 TIME_DELTA=1 NOTE_OFF=54 TIME_DELTA=1 NOTE_ON=80 TIME_DELTA=4 NOTE_OFF=80 TIME_DELTA=1 NOTE_ON=82 TIME_DELTA=4 NOTE_OFF=66 NOTE_OFF=82 BAR_END BAR_START TIME_DELTA=24 NOTE_ON=80 NOTE_ON=49 TIME_DELTA=5 NOTE_ON=56 TIME_DELTA=5 NOTE_ON=61 TIME_DELTA=5 NOTE_ON=65 TIME_DELTA=8 NOTE_OFF=56 TIME_DELTA=2 NOTE_OFF=80 NOTE_OFF=49 TIME_DELTA=3 NOTE_OFF=61 NOTE_OFF=65 TIME_DELTA=1 NOTE_ON=66 TIME_DELTA=6 NOTE_OFF=66 TIME_DELTA=1 BAR_END BAR_START TIME_DELTA=24 NOTE_ON=75 NOTE_ON=46 TIME_DELTA=5 NOTE_ON=53 TIME_DELTA=5 NOTE_ON=73 NOTE_ON=58 NOTE_OFF=75 TIME_DELTA=4 NOTE_ON=61 TIME_DELTA=12 NOTE_OFF=73 TIME_DELTA=4 NOTE_ON=70 TIME_DELTA=1 NOTE_OFF=53 TIME_DELTA=1 NOTE_OFF=46 TIME_DELTA=4 NOTE_OFF=61 TIME_DELTA=2 NOTE_OFF=58 TIME_DELTA=24 NOTE_OFF=70 BAR_END TRACK_END TRACK_START INST=0 BAR_START TIME_DELTA=24 NOTE_ON=66 TIME_DELTA=8 NOTE_OFF=66 BAR_END BAR_START TIME_DELTA=24 NOTE_ON=75 NOTE_ON=47 TIME_DELTA=5 NOTE_ON=54 TIME_DELTA=5 NOTE_OFF=75 NOTE_ON=73 NOTE_ON=59 TIME_DELTA=5 NOTE_ON=66 NOTE_OFF=73 TIME_DELTA=4 NOTE_ON=71 TIME_DELTA=6 NOTE_OFF=59 NOTE_OFF=71 TIME_DELTA=1 NOTE_OFF=47 TIME_DELTA=1 NOTE_OFF=54 TIME_DELTA=1 NOTE_ON=80 TIME_DELTA=4 NOTE_OFF=80 TIME_DELTA=1 NOTE_ON=82 TIME_DELTA=4 NOTE_OFF=66 NOTE_OFF=82 BAR_END BAR_START TIME_DELTA=24 NOTE_ON=80 NOTE_ON=49 TIME_DELTA=5 NOTE_ON=56 TIME_DELTA=5 NOTE_ON=61 TIME_DELTA=5 NOTE_ON=65 TIME_DELTA=8 NOTE_OFF=56 TIME_DELTA=2 NOTE_OFF=80 NOTE_OFF=49 TIME_DELTA=3 NOTE_OFF=61 NOTE_OFF=65 TIME_DELTA=1 NOTE_ON=66 TIME_DELTA=6 NOTE_OFF=66 TIME_DELTA=1 BAR_END BAR_START TIME_DELTA=24 NOTE_ON=75 NOTE_ON=46 TIME_DELTA=5 NOTE_ON=53 TIME_DELTA=5 NOTE_ON=73 NOTE_ON=58 NOTE_OFF=75 TIME_DELTA=4 NOTE_ON=61 TIME_DELTA=12 NOTE_OFF=73 TIME_DELTA=4 NOTE_ON=70 TIME_DELTA=1 NOTE_OFF=53 TIME_DELTA=1 NOTE_OFF=46 TIME_DELTA=4 NOTE_OFF=61 TIME_DELTA=2 NOTE_OFF=58 TIME_DELTA=24 NOTE_OFF=70 BAR_END TRACK_END\n",
       "2  PIECE_START TRACK_START INST=0 BAR_START TIME_DELTA=24 NOTE_ON=75 NOTE_ON=47 TIME_DELTA=5 NOTE_ON=54 TIME_DELTA=5 NOTE_OFF=75 NOTE_ON=73 NOTE_ON=59 TIME_DELTA=5 NOTE_ON=66 NOTE_OFF=73 TIME_DELTA=4 NOTE_ON=71 TIME_DELTA=6 NOTE_OFF=59 NOTE_OFF=71 TIME_DELTA=1 NOTE_OFF=47 TIME_DELTA=1 NOTE_OFF=54 TIME_DELTA=1 NOTE_ON=80 TIME_DELTA=4 NOTE_OFF=80 TIME_DELTA=1 NOTE_ON=82 TIME_DELTA=4 NOTE_OFF=66 NOTE_OFF=82 BAR_END BAR_START TIME_DELTA=24 NOTE_ON=80 NOTE_ON=49 TIME_DELTA=5 NOTE_ON=56 TIME_DELTA=5 NOTE_ON=61 TIME_DELTA=5 NOTE_ON=65 TIME_DELTA=8 NOTE_OFF=56 TIME_DELTA=2 NOTE_OFF=80 NOTE_OFF=49 TIME_DELTA=3 NOTE_OFF=61 NOTE_OFF=65 TIME_DELTA=1 NOTE_ON=66 TIME_DELTA=6 NOTE_OFF=66 TIME_DELTA=1 BAR_END BAR_START TIME_DELTA=24 NOTE_ON=75 NOTE_ON=46 TIME_DELTA=5 NOTE_ON=53 TIME_DELTA=5 NOTE_ON=73 NOTE_ON=58 NOTE_OFF=75 TIME_DELTA=4 NOTE_ON=61 TIME_DELTA=12 NOTE_OFF=73 TIME_DELTA=4 NOTE_ON=70 TIME_DELTA=1 NOTE_OFF=53 TIME_DELTA=1 NOTE_OFF=46 TIME_DELTA=4 NOTE_OFF=61 TIME_DELTA=2 NOTE_OFF=58 TIME_DELTA=24 NOTE_OFF=70 BAR_END BAR_START TIME_DELTA=24 NOTE_ON=51 TIME_DELTA=5 NOTE_ON=54 TIME_DELTA=5 NOTE_ON=58 NOTE_OFF=51 TIME_DELTA=4 NOTE_ON=66 TIME_DELTA=16 NOTE_ON=73 NOTE_OFF=54 TIME_DELTA=3 NOTE_OFF=58 TIME_DELTA=2 NOTE_OFF=73 TIME_DELTA=1 NOTE_OFF=66 TIME_DELTA=2 BAR_END TRACK_END TRACK_START INST=0 BAR_START TIME_DELTA=24 NOTE_ON=75 NOTE_ON=47 TIME_DELTA=5 NOTE_ON=54 TIME_DELTA=5 NOTE_OFF=75 NOTE_ON=73 NOTE_ON=59 TIME_DELTA=5 NOTE_ON=66 NOTE_OFF=73 TIME_DELTA=4 NOTE_ON=71 TIME_DELTA=6 NOTE_OFF=59 NOTE_OFF=71 TIME_DELTA=1 NOTE_OFF=47 TIME_DELTA=1 NOTE_OFF=54 TIME_DELTA=1 NOTE_ON=80 TIME_DELTA=4 NOTE_OFF=80 TIME_DELTA=1 NOTE_ON=82 TIME_DELTA=4 NOTE_OFF=66 NOTE_OFF=82 BAR_END BAR_START TIME_DELTA=24 NOTE_ON=80 NOTE_ON=49 TIME_DELTA=5 NOTE_ON=56 TIME_DELTA=5 NOTE_ON=61 TIME_DELTA=5 NOTE_ON=65 TIME_DELTA=8 NOTE_OFF=56 TIME_DELTA=2 NOTE_OFF=80 NOTE_OFF=49 TIME_DELTA=3 NOTE_OFF=61 NOTE_OFF=65 TIME_DELTA=1 NOTE_ON=66 TIME_DELTA=6 NOTE_OFF=66 TIME_DELTA=1 BAR_END BAR_START TIME_DELTA=24 NOTE_ON=75 NOTE_ON=46 TIME_DELTA=5 NOTE_ON=53 TIME_DELTA=5 NOTE_ON=73 NOTE_ON=58 NOTE_OFF=75 TIME_DELTA=4 NOTE_ON=61 TIME_DELTA=12 NOTE_OFF=73 TIME_DELTA=4 NOTE_ON=70 TIME_DELTA=1 NOTE_OFF=53 TIME_DELTA=1 NOTE_OFF=46 TIME_DELTA=4 NOTE_OFF=61 TIME_DELTA=2 NOTE_OFF=58 TIME_DELTA=24 NOTE_OFF=70 BAR_END BAR_START TIME_DELTA=24 NOTE_ON=51 TIME_DELTA=5 NOTE_ON=54 TIME_DELTA=5 NOTE_ON=58 NOTE_OFF=51 TIME_DELTA=4 NOTE_ON=66 TIME_DELTA=16 NOTE_ON=73 NOTE_OFF=54 TIME_DELTA=3 NOTE_OFF=58 TIME_DELTA=2 NOTE_OFF=73 TIME_DELTA=1 NOTE_OFF=66 TIME_DELTA=2 BAR_END TRACK_END TRACK_START INST=0 BAR_START TIME_DELTA=24 NOTE_ON=75 NOTE_ON=47 TIME_DELTA=5 NOTE_ON=54 TIME_DELTA=5 NOTE_OFF=75 NOTE_ON=73 NOTE_ON=59 TIME_DELTA=5 NOTE_ON=66 NOTE_OFF=73 TIME_DELTA=4 NOTE_ON=71 TIME_DELTA=6 NOTE_OFF=59 NOTE_OFF=71 TIME_DELTA=1 NOTE_OFF=47 TIME_DELTA=1 NOTE_OFF=54 TIME_DELTA=1 NOTE_ON=80 TIME_DELTA=4 NOTE_OFF=80 TIME_DELTA=1 NOTE_ON=82 TIME_DELTA=4 NOTE_OFF=66 NOTE_OFF=82 BAR_END BAR_START TIME_DELTA=24 NOTE_ON=80 NOTE_ON=49 TIME_DELTA=5 NOTE_ON=56 TIME_DELTA=5 NOTE_ON=61 TIME_DELTA=5 NOTE_ON=65 TIME_DELTA=8 NOTE_OFF=56 TIME_DELTA=2 NOTE_OFF=80 NOTE_OFF=49 TIME_DELTA=3 NOTE_OFF=61 NOTE_OFF=65 TIME_DELTA=1 NOTE_ON=66 TIME_DELTA=6 NOTE_OFF=66 TIME_DELTA=1 BAR_END BAR_START TIME_DELTA=24 NOTE_ON=75 NOTE_ON=46 TIME_DELTA=5 NOTE_ON=53 TIME_DELTA=5 NOTE_ON=73 NOTE_ON=58 NOTE_OFF=75 TIME_DELTA=4 NOTE_ON=61 TIME_DELTA=12 NOTE_OFF=73 TIME_DELTA=4 NOTE_ON=70 TIME_DELTA=1 NOTE_OFF=53 TIME_DELTA=1 NOTE_OFF=46 TIME_DELTA=4 NOTE_OFF=61 TIME_DELTA=2 NOTE_OFF=58 TIME_DELTA=24 NOTE_OFF=70 BAR_END BAR_START TIME_DELTA=24 NOTE_ON=51 TIME_DELTA=5 NOTE_ON=54 TIME_DELTA=5 NOTE_ON=58 NOTE_OFF=51 TIME_DELTA=4 NOTE_ON=66 TIME_DELTA=16 NOTE_ON=73 NOTE_OFF=54 TIME_DELTA=3 NOTE_OFF=58 TIME_DELTA=2 NOTE_OFF=73 TIME_DELTA=1 NOTE_OFF=66 TIME_DELTA=2 BAR_END TRACK_END\n",
       "3                                                                                                                                                                                         PIECE_START TRACK_START INST=0 BAR_START TIME_DELTA=24 NOTE_ON=80 NOTE_ON=49 TIME_DELTA=5 NOTE_ON=56 TIME_DELTA=5 NOTE_ON=61 TIME_DELTA=5 NOTE_ON=65 TIME_DELTA=8 NOTE_OFF=56 TIME_DELTA=2 NOTE_OFF=80 NOTE_OFF=49 TIME_DELTA=3 NOTE_OFF=61 NOTE_OFF=65 TIME_DELTA=1 NOTE_ON=66 TIME_DELTA=6 NOTE_OFF=66 TIME_DELTA=1 BAR_END BAR_START TIME_DELTA=24 NOTE_ON=75 NOTE_ON=46 TIME_DELTA=5 NOTE_ON=53 TIME_DELTA=5 NOTE_ON=73 NOTE_ON=58 NOTE_OFF=75 TIME_DELTA=4 NOTE_ON=61 TIME_DELTA=12 NOTE_OFF=73 TIME_DELTA=4 NOTE_ON=70 TIME_DELTA=1 NOTE_OFF=53 TIME_DELTA=1 NOTE_OFF=46 TIME_DELTA=4 NOTE_OFF=61 TIME_DELTA=2 NOTE_OFF=58 TIME_DELTA=24 NOTE_OFF=70 BAR_END BAR_START TIME_DELTA=24 NOTE_ON=51 TIME_DELTA=5 NOTE_ON=54 TIME_DELTA=5 NOTE_ON=58 NOTE_OFF=51 TIME_DELTA=4 NOTE_ON=66 TIME_DELTA=16 NOTE_ON=73 NOTE_OFF=54 TIME_DELTA=3 NOTE_OFF=58 TIME_DELTA=2 NOTE_OFF=73 TIME_DELTA=1 NOTE_OFF=66 TIME_DELTA=2 BAR_END BAR_START TIME_DELTA=24 NOTE_ON=78 NOTE_ON=47 TIME_DELTA=5 NOTE_ON=80 NOTE_ON=54 NOTE_OFF=78 TIME_DELTA=2 NOTE_OFF=80 TIME_DELTA=2 NOTE_ON=82 NOTE_ON=59 TIME_DELTA=5 NOTE_ON=63 TIME_DELTA=12 NOTE_OFF=54 NOTE_OFF=47 NOTE_OFF=82 NOTE_OFF=59 TIME_DELTA=2 NOTE_ON=73 TIME_DELTA=4 NOTE_OFF=63 NOTE_OFF=73 TIME_DELTA=4 BAR_END TRACK_END TRACK_START INST=0 BAR_START TIME_DELTA=24 NOTE_ON=80 NOTE_ON=49 TIME_DELTA=5 NOTE_ON=56 TIME_DELTA=5 NOTE_ON=61 TIME_DELTA=5 NOTE_ON=65 TIME_DELTA=8 NOTE_OFF=56 TIME_DELTA=2 NOTE_OFF=80 NOTE_OFF=49 TIME_DELTA=3 NOTE_OFF=61 NOTE_OFF=65 TIME_DELTA=1 NOTE_ON=66 TIME_DELTA=6 NOTE_OFF=66 TIME_DELTA=1 BAR_END BAR_START TIME_DELTA=24 NOTE_ON=75 NOTE_ON=46 TIME_DELTA=5 NOTE_ON=53 TIME_DELTA=5 NOTE_ON=73 NOTE_ON=58 NOTE_OFF=75 TIME_DELTA=4 NOTE_ON=61 TIME_DELTA=12 NOTE_OFF=73 TIME_DELTA=4 NOTE_ON=70 TIME_DELTA=1 NOTE_OFF=53 TIME_DELTA=1 NOTE_OFF=46 TIME_DELTA=4 NOTE_OFF=61 TIME_DELTA=2 NOTE_OFF=58 TIME_DELTA=24 NOTE_OFF=70 BAR_END BAR_START TIME_DELTA=24 NOTE_ON=51 TIME_DELTA=5 NOTE_ON=54 TIME_DELTA=5 NOTE_ON=58 NOTE_OFF=51 TIME_DELTA=4 NOTE_ON=66 TIME_DELTA=16 NOTE_ON=73 NOTE_OFF=54 TIME_DELTA=3 NOTE_OFF=58 TIME_DELTA=2 NOTE_OFF=73 TIME_DELTA=1 NOTE_OFF=66 TIME_DELTA=2 BAR_END BAR_START TIME_DELTA=24 NOTE_ON=78 NOTE_ON=47 TIME_DELTA=5 NOTE_ON=80 NOTE_ON=54 NOTE_OFF=78 TIME_DELTA=2 NOTE_OFF=80 TIME_DELTA=2 NOTE_ON=82 NOTE_ON=59 TIME_DELTA=5 NOTE_ON=63 TIME_DELTA=12 NOTE_OFF=54 NOTE_OFF=47 NOTE_OFF=82 NOTE_OFF=59 TIME_DELTA=2 NOTE_ON=73 TIME_DELTA=4 NOTE_OFF=63 NOTE_OFF=73 TIME_DELTA=4 BAR_END TRACK_END TRACK_START INST=0 BAR_START TIME_DELTA=24 NOTE_ON=80 NOTE_ON=49 TIME_DELTA=5 NOTE_ON=56 TIME_DELTA=5 NOTE_ON=61 TIME_DELTA=5 NOTE_ON=65 TIME_DELTA=8 NOTE_OFF=56 TIME_DELTA=2 NOTE_OFF=80 NOTE_OFF=49 TIME_DELTA=3 NOTE_OFF=61 NOTE_OFF=65 TIME_DELTA=1 NOTE_ON=66 TIME_DELTA=6 NOTE_OFF=66 TIME_DELTA=1 BAR_END BAR_START TIME_DELTA=24 NOTE_ON=75 NOTE_ON=46 TIME_DELTA=5 NOTE_ON=53 TIME_DELTA=5 NOTE_ON=73 NOTE_ON=58 NOTE_OFF=75 TIME_DELTA=4 NOTE_ON=61 TIME_DELTA=12 NOTE_OFF=73 TIME_DELTA=4 NOTE_ON=70 TIME_DELTA=1 NOTE_OFF=53 TIME_DELTA=1 NOTE_OFF=46 TIME_DELTA=4 NOTE_OFF=61 TIME_DELTA=2 NOTE_OFF=58 TIME_DELTA=24 NOTE_OFF=70 BAR_END BAR_START TIME_DELTA=24 NOTE_ON=51 TIME_DELTA=5 NOTE_ON=54 TIME_DELTA=5 NOTE_ON=58 NOTE_OFF=51 TIME_DELTA=4 NOTE_ON=66 TIME_DELTA=16 NOTE_ON=73 NOTE_OFF=54 TIME_DELTA=3 NOTE_OFF=58 TIME_DELTA=2 NOTE_OFF=73 TIME_DELTA=1 NOTE_OFF=66 TIME_DELTA=2 BAR_END BAR_START TIME_DELTA=24 NOTE_ON=78 NOTE_ON=47 TIME_DELTA=5 NOTE_ON=80 NOTE_ON=54 NOTE_OFF=78 TIME_DELTA=2 NOTE_OFF=80 TIME_DELTA=2 NOTE_ON=82 NOTE_ON=59 TIME_DELTA=5 NOTE_ON=63 TIME_DELTA=12 NOTE_OFF=54 NOTE_OFF=47 NOTE_OFF=82 NOTE_OFF=59 TIME_DELTA=2 NOTE_ON=73 TIME_DELTA=4 NOTE_OFF=63 NOTE_OFF=73 TIME_DELTA=4 BAR_END TRACK_END\n",
       "4                                                                                   PIECE_START TRACK_START INST=0 BAR_START TIME_DELTA=24 NOTE_ON=75 NOTE_ON=46 TIME_DELTA=5 NOTE_ON=53 TIME_DELTA=5 NOTE_ON=73 NOTE_ON=58 NOTE_OFF=75 TIME_DELTA=4 NOTE_ON=61 TIME_DELTA=12 NOTE_OFF=73 TIME_DELTA=4 NOTE_ON=70 TIME_DELTA=1 NOTE_OFF=53 TIME_DELTA=1 NOTE_OFF=46 TIME_DELTA=4 NOTE_OFF=61 TIME_DELTA=2 NOTE_OFF=58 TIME_DELTA=24 NOTE_OFF=70 BAR_END BAR_START TIME_DELTA=24 NOTE_ON=51 TIME_DELTA=5 NOTE_ON=54 TIME_DELTA=5 NOTE_ON=58 NOTE_OFF=51 TIME_DELTA=4 NOTE_ON=66 TIME_DELTA=16 NOTE_ON=73 NOTE_OFF=54 TIME_DELTA=3 NOTE_OFF=58 TIME_DELTA=2 NOTE_OFF=73 TIME_DELTA=1 NOTE_OFF=66 TIME_DELTA=2 BAR_END BAR_START TIME_DELTA=24 NOTE_ON=78 NOTE_ON=47 TIME_DELTA=5 NOTE_ON=80 NOTE_ON=54 NOTE_OFF=78 TIME_DELTA=2 NOTE_OFF=80 TIME_DELTA=2 NOTE_ON=82 NOTE_ON=59 TIME_DELTA=5 NOTE_ON=63 TIME_DELTA=12 NOTE_OFF=54 NOTE_OFF=47 NOTE_OFF=82 NOTE_OFF=59 TIME_DELTA=2 NOTE_ON=73 TIME_DELTA=4 NOTE_OFF=63 NOTE_OFF=73 TIME_DELTA=4 BAR_END BAR_START TIME_DELTA=24 NOTE_ON=78 NOTE_ON=56 NOTE_ON=61 NOTE_ON=49 TIME_DELTA=4 NOTE_OFF=78 NOTE_ON=80 TIME_DELTA=2 NOTE_OFF=56 NOTE_OFF=80 TIME_DELTA=2 NOTE_ON=82 NOTE_ON=56 TIME_DELTA=5 NOTE_ON=65 TIME_DELTA=1 NOTE_OFF=56 NOTE_OFF=61 TIME_DELTA=8 NOTE_OFF=82 TIME_DELTA=4 NOTE_OFF=65 NOTE_OFF=49 TIME_DELTA=12 BAR_END TRACK_END TRACK_START INST=0 BAR_START TIME_DELTA=24 NOTE_ON=75 NOTE_ON=46 TIME_DELTA=5 NOTE_ON=53 TIME_DELTA=5 NOTE_ON=73 NOTE_ON=58 NOTE_OFF=75 TIME_DELTA=4 NOTE_ON=61 TIME_DELTA=12 NOTE_OFF=73 TIME_DELTA=4 NOTE_ON=70 TIME_DELTA=1 NOTE_OFF=53 TIME_DELTA=1 NOTE_OFF=46 TIME_DELTA=4 NOTE_OFF=61 TIME_DELTA=2 NOTE_OFF=58 TIME_DELTA=24 NOTE_OFF=70 BAR_END BAR_START TIME_DELTA=24 NOTE_ON=51 TIME_DELTA=5 NOTE_ON=54 TIME_DELTA=5 NOTE_ON=58 NOTE_OFF=51 TIME_DELTA=4 NOTE_ON=66 TIME_DELTA=16 NOTE_ON=73 NOTE_OFF=54 TIME_DELTA=3 NOTE_OFF=58 TIME_DELTA=2 NOTE_OFF=73 TIME_DELTA=1 NOTE_OFF=66 TIME_DELTA=2 BAR_END BAR_START TIME_DELTA=24 NOTE_ON=78 NOTE_ON=47 TIME_DELTA=5 NOTE_ON=80 NOTE_ON=54 NOTE_OFF=78 TIME_DELTA=2 NOTE_OFF=80 TIME_DELTA=2 NOTE_ON=82 NOTE_ON=59 TIME_DELTA=5 NOTE_ON=63 TIME_DELTA=12 NOTE_OFF=54 NOTE_OFF=47 NOTE_OFF=82 NOTE_OFF=59 TIME_DELTA=2 NOTE_ON=73 TIME_DELTA=4 NOTE_OFF=63 NOTE_OFF=73 TIME_DELTA=4 BAR_END BAR_START TIME_DELTA=24 NOTE_ON=78 NOTE_ON=56 NOTE_ON=61 NOTE_ON=49 TIME_DELTA=4 NOTE_OFF=78 NOTE_ON=80 TIME_DELTA=2 NOTE_OFF=56 NOTE_OFF=80 TIME_DELTA=2 NOTE_ON=82 NOTE_ON=56 TIME_DELTA=5 NOTE_ON=65 TIME_DELTA=1 NOTE_OFF=56 NOTE_OFF=61 TIME_DELTA=8 NOTE_OFF=82 TIME_DELTA=4 NOTE_OFF=65 NOTE_OFF=49 TIME_DELTA=12 BAR_END TRACK_END TRACK_START INST=0 BAR_START TIME_DELTA=24 NOTE_ON=75 NOTE_ON=46 TIME_DELTA=5 NOTE_ON=53 TIME_DELTA=5 NOTE_ON=73 NOTE_ON=58 NOTE_OFF=75 TIME_DELTA=4 NOTE_ON=61 TIME_DELTA=12 NOTE_OFF=73 TIME_DELTA=4 NOTE_ON=70 TIME_DELTA=1 NOTE_OFF=53 TIME_DELTA=1 NOTE_OFF=46 TIME_DELTA=4 NOTE_OFF=61 TIME_DELTA=2 NOTE_OFF=58 TIME_DELTA=24 NOTE_OFF=70 BAR_END BAR_START TIME_DELTA=24 NOTE_ON=51 TIME_DELTA=5 NOTE_ON=54 TIME_DELTA=5 NOTE_ON=58 NOTE_OFF=51 TIME_DELTA=4 NOTE_ON=66 TIME_DELTA=16 NOTE_ON=73 NOTE_OFF=54 TIME_DELTA=3 NOTE_OFF=58 TIME_DELTA=2 NOTE_OFF=73 TIME_DELTA=1 NOTE_OFF=66 TIME_DELTA=2 BAR_END BAR_START TIME_DELTA=24 NOTE_ON=78 NOTE_ON=47 TIME_DELTA=5 NOTE_ON=80 NOTE_ON=54 NOTE_OFF=78 TIME_DELTA=2 NOTE_OFF=80 TIME_DELTA=2 NOTE_ON=82 NOTE_ON=59 TIME_DELTA=5 NOTE_ON=63 TIME_DELTA=12 NOTE_OFF=54 NOTE_OFF=47 NOTE_OFF=82 NOTE_OFF=59 TIME_DELTA=2 NOTE_ON=73 TIME_DELTA=4 NOTE_OFF=63 NOTE_OFF=73 TIME_DELTA=4 BAR_END BAR_START TIME_DELTA=24 NOTE_ON=78 NOTE_ON=56 NOTE_ON=61 NOTE_ON=49 TIME_DELTA=4 NOTE_OFF=78 NOTE_ON=80 TIME_DELTA=2 NOTE_OFF=56 NOTE_OFF=80 TIME_DELTA=2 NOTE_ON=82 NOTE_ON=56 TIME_DELTA=5 NOTE_ON=65 TIME_DELTA=1 NOTE_OFF=56 NOTE_OFF=61 TIME_DELTA=8 NOTE_OFF=82 TIME_DELTA=4 NOTE_OFF=65 NOTE_OFF=49 TIME_DELTA=12 BAR_END TRACK_END"
      ]
     },
     "execution_count": 58,
     "metadata": {},
     "output_type": "execute_result"
    }
   ],
   "source": [
    "# Display the first few rows of the Pandas DataFrame (df)\n",
    "df.head()"
   ]
  },
  {
   "cell_type": "code",
   "execution_count": 59,
   "metadata": {
    "id": "40JrkM72drkY"
   },
   "outputs": [
    {
     "data": {
      "text/plain": [
       "160042"
      ]
     },
     "execution_count": 59,
     "metadata": {},
     "output_type": "execute_result"
    }
   ],
   "source": [
    "# Calculate the number of rows in the Pandas DataFrame (df)\n",
    "num_rows = len(df)\n",
    "num_rows"
   ]
  },
  {
   "cell_type": "code",
   "execution_count": 60,
   "metadata": {},
   "outputs": [],
   "source": [
    "# Replace occurrences of the whole word '=4_4' with an empty string in the 'text' column\n",
    "# The use of regex with word boundaries ensures that only whole-word matches are replaced\n",
    "df.loc[:, 'text'] = df['text'].str.replace(r'\\b=4_4\\b', '', case=False, regex=True)"
   ]
  },
  {
   "cell_type": "code",
   "execution_count": 61,
   "metadata": {
    "id": "s4DYyDMPdeM5"
   },
   "outputs": [],
   "source": [
    "# Replace occurrences of '=4_4' (without considering word boundaries) with an empty string in the 'text' column\n",
    "# The use of regex allows for more flexibility in matching the specified pattern\n",
    "df['text'] = df['text'].str.replace(r'\\b=4_4\\b', '', case=False, regex=True)"
   ]
  },
  {
   "cell_type": "code",
   "execution_count": 62,
   "metadata": {
    "id": "QfuchdY6dtkX"
   },
   "outputs": [],
   "source": [
    "# Replace all occurrences of the literal string '=4_4' with an empty string in the 'text' column\n",
    "# This is a literal string replacement without using regular expressions\n",
    "df['text'] = df['text'].str.replace('=4_4', '', regex=False)"
   ]
  },
  {
   "cell_type": "code",
   "execution_count": 63,
   "metadata": {
    "id": "09uU7Y4TeZxh"
   },
   "outputs": [
    {
     "data": {
      "text/html": [
       "<div>\n",
       "<style scoped>\n",
       "    .dataframe tbody tr th:only-of-type {\n",
       "        vertical-align: middle;\n",
       "    }\n",
       "\n",
       "    .dataframe tbody tr th {\n",
       "        vertical-align: top;\n",
       "    }\n",
       "\n",
       "    .dataframe thead th {\n",
       "        text-align: right;\n",
       "    }\n",
       "</style>\n",
       "<table border=\"1\" class=\"dataframe\">\n",
       "  <thead>\n",
       "    <tr style=\"text-align: right;\">\n",
       "      <th></th>\n",
       "      <th>text</th>\n",
       "    </tr>\n",
       "  </thead>\n",
       "  <tbody>\n",
       "    <tr>\n",
       "      <th>0</th>\n",
       "      <td>PIECE_START TRACK_START INST=0 BAR_START TIME_DELTA=24 BAR_END BAR_START TIME_DELTA=24 NOTE_ON=66 TIME_DELTA=8 NOTE_OFF=66 BAR_END BAR_START TIME_DELTA=24 NOTE_ON=75 NOTE_ON=47 TIME_DELTA=5 NOTE_ON=54 TIME_DELTA=5 NOTE_OFF=75 NOTE_ON=73 NOTE_ON=59 TIME_DELTA=5 NOTE_ON=66 NOTE_OFF=73 TIME_DELTA=4 NOTE_ON=71 TIME_DELTA=6 NOTE_OFF=59 NOTE_OFF=71 TIME_DELTA=1 NOTE_OFF=47 TIME_DELTA=1 NOTE_OFF=54 TIME_DELTA=1 NOTE_ON=80 TIME_DELTA=4 NOTE_OFF=80 TIME_DELTA=1 NOTE_ON=82 TIME_DELTA=4 NOTE_OFF=66 NOTE_OFF=82 BAR_END BAR_START TIME_DELTA=24 NOTE_ON=80 NOTE_ON=49 TIME_DELTA=5 NOTE_ON=56 TIME_DELTA=5 NOTE_ON=61 TIME_DELTA=5 NOTE_ON=65 TIME_DELTA=8 NOTE_OFF=56 TIME_DELTA=2 NOTE_OFF=80 NOTE_OFF=49 TIME_DELTA=3 NOTE_OFF=61 NOTE_OFF=65 TIME_DELTA=1 NOTE_ON=66 TIME_DELTA=6 NOTE_OFF=66 TIME_DELTA=1 BAR_END TRACK_END TRACK_START INST=0 BAR_START TIME_DELTA=24 BAR_END BAR_START TIME_DELTA=24 NOTE_ON=66 TIME_DELTA=8 NOTE_OFF=66 BAR_END BAR_START TIME_DELTA=24 NOTE_ON=75 NOTE_ON=47 TIME_DELTA=5 NOTE_ON=54 TIME_DELTA=5 NOTE_OFF=75 NOTE_ON=73 NOTE_ON=59 TIME_DELTA=5 NOTE_ON=66 NOTE_OFF=73 TIME_DELTA=4 NOTE_ON=71 TIME_DELTA=6 NOTE_OFF=59 NOTE_OFF=71 TIME_DELTA=1 NOTE_OFF=47 TIME_DELTA=1 NOTE_OFF=54 TIME_DELTA=1 NOTE_ON=80 TIME_DELTA=4 NOTE_OFF=80 TIME_DELTA=1 NOTE_ON=82 TIME_DELTA=4 NOTE_OFF=66 NOTE_OFF=82 BAR_END BAR_START TIME_DELTA=24 NOTE_ON=80 NOTE_ON=49 TIME_DELTA=5 NOTE_ON=56 TIME_DELTA=5 NOTE_ON=61 TIME_DELTA=5 NOTE_ON=65 TIME_DELTA=8 NOTE_OFF=56 TIME_DELTA=2 NOTE_OFF=80 NOTE_OFF=49 TIME_DELTA=3 NOTE_OFF=61 NOTE_OFF=65 TIME_DELTA=1 NOTE_ON=66 TIME_DELTA=6 NOTE_OFF=66 TIME_DELTA=1 BAR_END TRACK_END TRACK_START INST=0 BAR_START TIME_DELTA=24 BAR_END BAR_START TIME_DELTA=24 NOTE_ON=66 TIME_DELTA=8 NOTE_OFF=66 BAR_END BAR_START TIME_DELTA=24 NOTE_ON=75 NOTE_ON=47 TIME_DELTA=5 NOTE_ON=54 TIME_DELTA=5 NOTE_OFF=75 NOTE_ON=73 NOTE_ON=59 TIME_DELTA=5 NOTE_ON=66 NOTE_OFF=73 TIME_DELTA=4 NOTE_ON=71 TIME_DELTA=6 NOTE_OFF=59 NOTE_OFF=71 TIME_DELTA=1 NOTE_OFF=47 TIME_DELTA=1 NOTE_OFF=54 TIME_DELTA=1 NOTE_ON=80 TIME_DELTA=4 NOTE_OFF=80 TIME_DELTA=1 NOTE_ON=82 TIME_DELTA=4 NOTE_OFF=66 NOTE_OFF=82 BAR_END BAR_START TIME_DELTA=24 NOTE_ON=80 NOTE_ON=49 TIME_DELTA=5 NOTE_ON=56 TIME_DELTA=5 NOTE_ON=61 TIME_DELTA=5 NOTE_ON=65 TIME_DELTA=8 NOTE_OFF=56 TIME_DELTA=2 NOTE_OFF=80 NOTE_OFF=49 TIME_DELTA=3 NOTE_OFF=61 NOTE_OFF=65 TIME_DELTA=1 NOTE_ON=66 TIME_DELTA=6 NOTE_OFF=66 TIME_DELTA=1 BAR_END TRACK_END</td>\n",
       "    </tr>\n",
       "    <tr>\n",
       "      <th>1</th>\n",
       "      <td>PIECE_START TRACK_START INST=0 BAR_START TIME_DELTA=24 NOTE_ON=66 TIME_DELTA=8 NOTE_OFF=66 BAR_END BAR_START TIME_DELTA=24 NOTE_ON=75 NOTE_ON=47 TIME_DELTA=5 NOTE_ON=54 TIME_DELTA=5 NOTE_OFF=75 NOTE_ON=73 NOTE_ON=59 TIME_DELTA=5 NOTE_ON=66 NOTE_OFF=73 TIME_DELTA=4 NOTE_ON=71 TIME_DELTA=6 NOTE_OFF=59 NOTE_OFF=71 TIME_DELTA=1 NOTE_OFF=47 TIME_DELTA=1 NOTE_OFF=54 TIME_DELTA=1 NOTE_ON=80 TIME_DELTA=4 NOTE_OFF=80 TIME_DELTA=1 NOTE_ON=82 TIME_DELTA=4 NOTE_OFF=66 NOTE_OFF=82 BAR_END BAR_START TIME_DELTA=24 NOTE_ON=80 NOTE_ON=49 TIME_DELTA=5 NOTE_ON=56 TIME_DELTA=5 NOTE_ON=61 TIME_DELTA=5 NOTE_ON=65 TIME_DELTA=8 NOTE_OFF=56 TIME_DELTA=2 NOTE_OFF=80 NOTE_OFF=49 TIME_DELTA=3 NOTE_OFF=61 NOTE_OFF=65 TIME_DELTA=1 NOTE_ON=66 TIME_DELTA=6 NOTE_OFF=66 TIME_DELTA=1 BAR_END BAR_START TIME_DELTA=24 NOTE_ON=75 NOTE_ON=46 TIME_DELTA=5 NOTE_ON=53 TIME_DELTA=5 NOTE_ON=73 NOTE_ON=58 NOTE_OFF=75 TIME_DELTA=4 NOTE_ON=61 TIME_DELTA=12 NOTE_OFF=73 TIME_DELTA=4 NOTE_ON=70 TIME_DELTA=1 NOTE_OFF=53 TIME_DELTA=1 NOTE_OFF=46 TIME_DELTA=4 NOTE_OFF=61 TIME_DELTA=2 NOTE_OFF=58 TIME_DELTA=24 NOTE_OFF=70 BAR_END TRACK_END TRACK_START INST=0 BAR_START TIME_DELTA=24 NOTE_ON=66 TIME_DELTA=8 NOTE_OFF=66 BAR_END BAR_START TIME_DELTA=24 NOTE_ON=75 NOTE_ON=47 TIME_DELTA=5 NOTE_ON=54 TIME_DELTA=5 NOTE_OFF=75 NOTE_ON=73 NOTE_ON=59 TIME_DELTA=5 NOTE_ON=66 NOTE_OFF=73 TIME_DELTA=4 NOTE_ON=71 TIME_DELTA=6 NOTE_OFF=59 NOTE_OFF=71 TIME_DELTA=1 NOTE_OFF=47 TIME_DELTA=1 NOTE_OFF=54 TIME_DELTA=1 NOTE_ON=80 TIME_DELTA=4 NOTE_OFF=80 TIME_DELTA=1 NOTE_ON=82 TIME_DELTA=4 NOTE_OFF=66 NOTE_OFF=82 BAR_END BAR_START TIME_DELTA=24 NOTE_ON=80 NOTE_ON=49 TIME_DELTA=5 NOTE_ON=56 TIME_DELTA=5 NOTE_ON=61 TIME_DELTA=5 NOTE_ON=65 TIME_DELTA=8 NOTE_OFF=56 TIME_DELTA=2 NOTE_OFF=80 NOTE_OFF=49 TIME_DELTA=3 NOTE_OFF=61 NOTE_OFF=65 TIME_DELTA=1 NOTE_ON=66 TIME_DELTA=6 NOTE_OFF=66 TIME_DELTA=1 BAR_END BAR_START TIME_DELTA=24 NOTE_ON=75 NOTE_ON=46 TIME_DELTA=5 NOTE_ON=53 TIME_DELTA=5 NOTE_ON=73 NOTE_ON=58 NOTE_OFF=75 TIME_DELTA=4 NOTE_ON=61 TIME_DELTA=12 NOTE_OFF=73 TIME_DELTA=4 NOTE_ON=70 TIME_DELTA=1 NOTE_OFF=53 TIME_DELTA=1 NOTE_OFF=46 TIME_DELTA=4 NOTE_OFF=61 TIME_DELTA=2 NOTE_OFF=58 TIME_DELTA=24 NOTE_OFF=70 BAR_END TRACK_END TRACK_START INST=0 BAR_START TIME_DELTA=24 NOTE_ON=66 TIME_DELTA=8 NOTE_OFF=66 BAR_END BAR_START TIME_DELTA=24 NOTE_ON=75 NOTE_ON=47 TIME_DELTA=5 NOTE_ON=54 TIME_DELTA=5 NOTE_OFF=75 NOTE_ON=73 NOTE_ON=59 TIME_DELTA=5 NOTE_ON=66 NOTE_OFF=73 TIME_DELTA=4 NOTE_ON=71 TIME_DELTA=6 NOTE_OFF=59 NOTE_OFF=71 TIME_DELTA=1 NOTE_OFF=47 TIME_DELTA=1 NOTE_OFF=54 TIME_DELTA=1 NOTE_ON=80 TIME_DELTA=4 NOTE_OFF=80 TIME_DELTA=1 NOTE_ON=82 TIME_DELTA=4 NOTE_OFF=66 NOTE_OFF=82 BAR_END BAR_START TIME_DELTA=24 NOTE_ON=80 NOTE_ON=49 TIME_DELTA=5 NOTE_ON=56 TIME_DELTA=5 NOTE_ON=61 TIME_DELTA=5 NOTE_ON=65 TIME_DELTA=8 NOTE_OFF=56 TIME_DELTA=2 NOTE_OFF=80 NOTE_OFF=49 TIME_DELTA=3 NOTE_OFF=61 NOTE_OFF=65 TIME_DELTA=1 NOTE_ON=66 TIME_DELTA=6 NOTE_OFF=66 TIME_DELTA=1 BAR_END BAR_START TIME_DELTA=24 NOTE_ON=75 NOTE_ON=46 TIME_DELTA=5 NOTE_ON=53 TIME_DELTA=5 NOTE_ON=73 NOTE_ON=58 NOTE_OFF=75 TIME_DELTA=4 NOTE_ON=61 TIME_DELTA=12 NOTE_OFF=73 TIME_DELTA=4 NOTE_ON=70 TIME_DELTA=1 NOTE_OFF=53 TIME_DELTA=1 NOTE_OFF=46 TIME_DELTA=4 NOTE_OFF=61 TIME_DELTA=2 NOTE_OFF=58 TIME_DELTA=24 NOTE_OFF=70 BAR_END TRACK_END</td>\n",
       "    </tr>\n",
       "    <tr>\n",
       "      <th>2</th>\n",
       "      <td>PIECE_START TRACK_START INST=0 BAR_START TIME_DELTA=24 NOTE_ON=75 NOTE_ON=47 TIME_DELTA=5 NOTE_ON=54 TIME_DELTA=5 NOTE_OFF=75 NOTE_ON=73 NOTE_ON=59 TIME_DELTA=5 NOTE_ON=66 NOTE_OFF=73 TIME_DELTA=4 NOTE_ON=71 TIME_DELTA=6 NOTE_OFF=59 NOTE_OFF=71 TIME_DELTA=1 NOTE_OFF=47 TIME_DELTA=1 NOTE_OFF=54 TIME_DELTA=1 NOTE_ON=80 TIME_DELTA=4 NOTE_OFF=80 TIME_DELTA=1 NOTE_ON=82 TIME_DELTA=4 NOTE_OFF=66 NOTE_OFF=82 BAR_END BAR_START TIME_DELTA=24 NOTE_ON=80 NOTE_ON=49 TIME_DELTA=5 NOTE_ON=56 TIME_DELTA=5 NOTE_ON=61 TIME_DELTA=5 NOTE_ON=65 TIME_DELTA=8 NOTE_OFF=56 TIME_DELTA=2 NOTE_OFF=80 NOTE_OFF=49 TIME_DELTA=3 NOTE_OFF=61 NOTE_OFF=65 TIME_DELTA=1 NOTE_ON=66 TIME_DELTA=6 NOTE_OFF=66 TIME_DELTA=1 BAR_END BAR_START TIME_DELTA=24 NOTE_ON=75 NOTE_ON=46 TIME_DELTA=5 NOTE_ON=53 TIME_DELTA=5 NOTE_ON=73 NOTE_ON=58 NOTE_OFF=75 TIME_DELTA=4 NOTE_ON=61 TIME_DELTA=12 NOTE_OFF=73 TIME_DELTA=4 NOTE_ON=70 TIME_DELTA=1 NOTE_OFF=53 TIME_DELTA=1 NOTE_OFF=46 TIME_DELTA=4 NOTE_OFF=61 TIME_DELTA=2 NOTE_OFF=58 TIME_DELTA=24 NOTE_OFF=70 BAR_END BAR_START TIME_DELTA=24 NOTE_ON=51 TIME_DELTA=5 NOTE_ON=54 TIME_DELTA=5 NOTE_ON=58 NOTE_OFF=51 TIME_DELTA=4 NOTE_ON=66 TIME_DELTA=16 NOTE_ON=73 NOTE_OFF=54 TIME_DELTA=3 NOTE_OFF=58 TIME_DELTA=2 NOTE_OFF=73 TIME_DELTA=1 NOTE_OFF=66 TIME_DELTA=2 BAR_END TRACK_END TRACK_START INST=0 BAR_START TIME_DELTA=24 NOTE_ON=75 NOTE_ON=47 TIME_DELTA=5 NOTE_ON=54 TIME_DELTA=5 NOTE_OFF=75 NOTE_ON=73 NOTE_ON=59 TIME_DELTA=5 NOTE_ON=66 NOTE_OFF=73 TIME_DELTA=4 NOTE_ON=71 TIME_DELTA=6 NOTE_OFF=59 NOTE_OFF=71 TIME_DELTA=1 NOTE_OFF=47 TIME_DELTA=1 NOTE_OFF=54 TIME_DELTA=1 NOTE_ON=80 TIME_DELTA=4 NOTE_OFF=80 TIME_DELTA=1 NOTE_ON=82 TIME_DELTA=4 NOTE_OFF=66 NOTE_OFF=82 BAR_END BAR_START TIME_DELTA=24 NOTE_ON=80 NOTE_ON=49 TIME_DELTA=5 NOTE_ON=56 TIME_DELTA=5 NOTE_ON=61 TIME_DELTA=5 NOTE_ON=65 TIME_DELTA=8 NOTE_OFF=56 TIME_DELTA=2 NOTE_OFF=80 NOTE_OFF=49 TIME_DELTA=3 NOTE_OFF=61 NOTE_OFF=65 TIME_DELTA=1 NOTE_ON=66 TIME_DELTA=6 NOTE_OFF=66 TIME_DELTA=1 BAR_END BAR_START TIME_DELTA=24 NOTE_ON=75 NOTE_ON=46 TIME_DELTA=5 NOTE_ON=53 TIME_DELTA=5 NOTE_ON=73 NOTE_ON=58 NOTE_OFF=75 TIME_DELTA=4 NOTE_ON=61 TIME_DELTA=12 NOTE_OFF=73 TIME_DELTA=4 NOTE_ON=70 TIME_DELTA=1 NOTE_OFF=53 TIME_DELTA=1 NOTE_OFF=46 TIME_DELTA=4 NOTE_OFF=61 TIME_DELTA=2 NOTE_OFF=58 TIME_DELTA=24 NOTE_OFF=70 BAR_END BAR_START TIME_DELTA=24 NOTE_ON=51 TIME_DELTA=5 NOTE_ON=54 TIME_DELTA=5 NOTE_ON=58 NOTE_OFF=51 TIME_DELTA=4 NOTE_ON=66 TIME_DELTA=16 NOTE_ON=73 NOTE_OFF=54 TIME_DELTA=3 NOTE_OFF=58 TIME_DELTA=2 NOTE_OFF=73 TIME_DELTA=1 NOTE_OFF=66 TIME_DELTA=2 BAR_END TRACK_END TRACK_START INST=0 BAR_START TIME_DELTA=24 NOTE_ON=75 NOTE_ON=47 TIME_DELTA=5 NOTE_ON=54 TIME_DELTA=5 NOTE_OFF=75 NOTE_ON=73 NOTE_ON=59 TIME_DELTA=5 NOTE_ON=66 NOTE_OFF=73 TIME_DELTA=4 NOTE_ON=71 TIME_DELTA=6 NOTE_OFF=59 NOTE_OFF=71 TIME_DELTA=1 NOTE_OFF=47 TIME_DELTA=1 NOTE_OFF=54 TIME_DELTA=1 NOTE_ON=80 TIME_DELTA=4 NOTE_OFF=80 TIME_DELTA=1 NOTE_ON=82 TIME_DELTA=4 NOTE_OFF=66 NOTE_OFF=82 BAR_END BAR_START TIME_DELTA=24 NOTE_ON=80 NOTE_ON=49 TIME_DELTA=5 NOTE_ON=56 TIME_DELTA=5 NOTE_ON=61 TIME_DELTA=5 NOTE_ON=65 TIME_DELTA=8 NOTE_OFF=56 TIME_DELTA=2 NOTE_OFF=80 NOTE_OFF=49 TIME_DELTA=3 NOTE_OFF=61 NOTE_OFF=65 TIME_DELTA=1 NOTE_ON=66 TIME_DELTA=6 NOTE_OFF=66 TIME_DELTA=1 BAR_END BAR_START TIME_DELTA=24 NOTE_ON=75 NOTE_ON=46 TIME_DELTA=5 NOTE_ON=53 TIME_DELTA=5 NOTE_ON=73 NOTE_ON=58 NOTE_OFF=75 TIME_DELTA=4 NOTE_ON=61 TIME_DELTA=12 NOTE_OFF=73 TIME_DELTA=4 NOTE_ON=70 TIME_DELTA=1 NOTE_OFF=53 TIME_DELTA=1 NOTE_OFF=46 TIME_DELTA=4 NOTE_OFF=61 TIME_DELTA=2 NOTE_OFF=58 TIME_DELTA=24 NOTE_OFF=70 BAR_END BAR_START TIME_DELTA=24 NOTE_ON=51 TIME_DELTA=5 NOTE_ON=54 TIME_DELTA=5 NOTE_ON=58 NOTE_OFF=51 TIME_DELTA=4 NOTE_ON=66 TIME_DELTA=16 NOTE_ON=73 NOTE_OFF=54 TIME_DELTA=3 NOTE_OFF=58 TIME_DELTA=2 NOTE_OFF=73 TIME_DELTA=1 NOTE_OFF=66 TIME_DELTA=2 BAR_END TRACK_END</td>\n",
       "    </tr>\n",
       "    <tr>\n",
       "      <th>3</th>\n",
       "      <td>PIECE_START TRACK_START INST=0 BAR_START TIME_DELTA=24 NOTE_ON=80 NOTE_ON=49 TIME_DELTA=5 NOTE_ON=56 TIME_DELTA=5 NOTE_ON=61 TIME_DELTA=5 NOTE_ON=65 TIME_DELTA=8 NOTE_OFF=56 TIME_DELTA=2 NOTE_OFF=80 NOTE_OFF=49 TIME_DELTA=3 NOTE_OFF=61 NOTE_OFF=65 TIME_DELTA=1 NOTE_ON=66 TIME_DELTA=6 NOTE_OFF=66 TIME_DELTA=1 BAR_END BAR_START TIME_DELTA=24 NOTE_ON=75 NOTE_ON=46 TIME_DELTA=5 NOTE_ON=53 TIME_DELTA=5 NOTE_ON=73 NOTE_ON=58 NOTE_OFF=75 TIME_DELTA=4 NOTE_ON=61 TIME_DELTA=12 NOTE_OFF=73 TIME_DELTA=4 NOTE_ON=70 TIME_DELTA=1 NOTE_OFF=53 TIME_DELTA=1 NOTE_OFF=46 TIME_DELTA=4 NOTE_OFF=61 TIME_DELTA=2 NOTE_OFF=58 TIME_DELTA=24 NOTE_OFF=70 BAR_END BAR_START TIME_DELTA=24 NOTE_ON=51 TIME_DELTA=5 NOTE_ON=54 TIME_DELTA=5 NOTE_ON=58 NOTE_OFF=51 TIME_DELTA=4 NOTE_ON=66 TIME_DELTA=16 NOTE_ON=73 NOTE_OFF=54 TIME_DELTA=3 NOTE_OFF=58 TIME_DELTA=2 NOTE_OFF=73 TIME_DELTA=1 NOTE_OFF=66 TIME_DELTA=2 BAR_END BAR_START TIME_DELTA=24 NOTE_ON=78 NOTE_ON=47 TIME_DELTA=5 NOTE_ON=80 NOTE_ON=54 NOTE_OFF=78 TIME_DELTA=2 NOTE_OFF=80 TIME_DELTA=2 NOTE_ON=82 NOTE_ON=59 TIME_DELTA=5 NOTE_ON=63 TIME_DELTA=12 NOTE_OFF=54 NOTE_OFF=47 NOTE_OFF=82 NOTE_OFF=59 TIME_DELTA=2 NOTE_ON=73 TIME_DELTA=4 NOTE_OFF=63 NOTE_OFF=73 TIME_DELTA=4 BAR_END TRACK_END TRACK_START INST=0 BAR_START TIME_DELTA=24 NOTE_ON=80 NOTE_ON=49 TIME_DELTA=5 NOTE_ON=56 TIME_DELTA=5 NOTE_ON=61 TIME_DELTA=5 NOTE_ON=65 TIME_DELTA=8 NOTE_OFF=56 TIME_DELTA=2 NOTE_OFF=80 NOTE_OFF=49 TIME_DELTA=3 NOTE_OFF=61 NOTE_OFF=65 TIME_DELTA=1 NOTE_ON=66 TIME_DELTA=6 NOTE_OFF=66 TIME_DELTA=1 BAR_END BAR_START TIME_DELTA=24 NOTE_ON=75 NOTE_ON=46 TIME_DELTA=5 NOTE_ON=53 TIME_DELTA=5 NOTE_ON=73 NOTE_ON=58 NOTE_OFF=75 TIME_DELTA=4 NOTE_ON=61 TIME_DELTA=12 NOTE_OFF=73 TIME_DELTA=4 NOTE_ON=70 TIME_DELTA=1 NOTE_OFF=53 TIME_DELTA=1 NOTE_OFF=46 TIME_DELTA=4 NOTE_OFF=61 TIME_DELTA=2 NOTE_OFF=58 TIME_DELTA=24 NOTE_OFF=70 BAR_END BAR_START TIME_DELTA=24 NOTE_ON=51 TIME_DELTA=5 NOTE_ON=54 TIME_DELTA=5 NOTE_ON=58 NOTE_OFF=51 TIME_DELTA=4 NOTE_ON=66 TIME_DELTA=16 NOTE_ON=73 NOTE_OFF=54 TIME_DELTA=3 NOTE_OFF=58 TIME_DELTA=2 NOTE_OFF=73 TIME_DELTA=1 NOTE_OFF=66 TIME_DELTA=2 BAR_END BAR_START TIME_DELTA=24 NOTE_ON=78 NOTE_ON=47 TIME_DELTA=5 NOTE_ON=80 NOTE_ON=54 NOTE_OFF=78 TIME_DELTA=2 NOTE_OFF=80 TIME_DELTA=2 NOTE_ON=82 NOTE_ON=59 TIME_DELTA=5 NOTE_ON=63 TIME_DELTA=12 NOTE_OFF=54 NOTE_OFF=47 NOTE_OFF=82 NOTE_OFF=59 TIME_DELTA=2 NOTE_ON=73 TIME_DELTA=4 NOTE_OFF=63 NOTE_OFF=73 TIME_DELTA=4 BAR_END TRACK_END TRACK_START INST=0 BAR_START TIME_DELTA=24 NOTE_ON=80 NOTE_ON=49 TIME_DELTA=5 NOTE_ON=56 TIME_DELTA=5 NOTE_ON=61 TIME_DELTA=5 NOTE_ON=65 TIME_DELTA=8 NOTE_OFF=56 TIME_DELTA=2 NOTE_OFF=80 NOTE_OFF=49 TIME_DELTA=3 NOTE_OFF=61 NOTE_OFF=65 TIME_DELTA=1 NOTE_ON=66 TIME_DELTA=6 NOTE_OFF=66 TIME_DELTA=1 BAR_END BAR_START TIME_DELTA=24 NOTE_ON=75 NOTE_ON=46 TIME_DELTA=5 NOTE_ON=53 TIME_DELTA=5 NOTE_ON=73 NOTE_ON=58 NOTE_OFF=75 TIME_DELTA=4 NOTE_ON=61 TIME_DELTA=12 NOTE_OFF=73 TIME_DELTA=4 NOTE_ON=70 TIME_DELTA=1 NOTE_OFF=53 TIME_DELTA=1 NOTE_OFF=46 TIME_DELTA=4 NOTE_OFF=61 TIME_DELTA=2 NOTE_OFF=58 TIME_DELTA=24 NOTE_OFF=70 BAR_END BAR_START TIME_DELTA=24 NOTE_ON=51 TIME_DELTA=5 NOTE_ON=54 TIME_DELTA=5 NOTE_ON=58 NOTE_OFF=51 TIME_DELTA=4 NOTE_ON=66 TIME_DELTA=16 NOTE_ON=73 NOTE_OFF=54 TIME_DELTA=3 NOTE_OFF=58 TIME_DELTA=2 NOTE_OFF=73 TIME_DELTA=1 NOTE_OFF=66 TIME_DELTA=2 BAR_END BAR_START TIME_DELTA=24 NOTE_ON=78 NOTE_ON=47 TIME_DELTA=5 NOTE_ON=80 NOTE_ON=54 NOTE_OFF=78 TIME_DELTA=2 NOTE_OFF=80 TIME_DELTA=2 NOTE_ON=82 NOTE_ON=59 TIME_DELTA=5 NOTE_ON=63 TIME_DELTA=12 NOTE_OFF=54 NOTE_OFF=47 NOTE_OFF=82 NOTE_OFF=59 TIME_DELTA=2 NOTE_ON=73 TIME_DELTA=4 NOTE_OFF=63 NOTE_OFF=73 TIME_DELTA=4 BAR_END TRACK_END</td>\n",
       "    </tr>\n",
       "    <tr>\n",
       "      <th>4</th>\n",
       "      <td>PIECE_START TRACK_START INST=0 BAR_START TIME_DELTA=24 NOTE_ON=75 NOTE_ON=46 TIME_DELTA=5 NOTE_ON=53 TIME_DELTA=5 NOTE_ON=73 NOTE_ON=58 NOTE_OFF=75 TIME_DELTA=4 NOTE_ON=61 TIME_DELTA=12 NOTE_OFF=73 TIME_DELTA=4 NOTE_ON=70 TIME_DELTA=1 NOTE_OFF=53 TIME_DELTA=1 NOTE_OFF=46 TIME_DELTA=4 NOTE_OFF=61 TIME_DELTA=2 NOTE_OFF=58 TIME_DELTA=24 NOTE_OFF=70 BAR_END BAR_START TIME_DELTA=24 NOTE_ON=51 TIME_DELTA=5 NOTE_ON=54 TIME_DELTA=5 NOTE_ON=58 NOTE_OFF=51 TIME_DELTA=4 NOTE_ON=66 TIME_DELTA=16 NOTE_ON=73 NOTE_OFF=54 TIME_DELTA=3 NOTE_OFF=58 TIME_DELTA=2 NOTE_OFF=73 TIME_DELTA=1 NOTE_OFF=66 TIME_DELTA=2 BAR_END BAR_START TIME_DELTA=24 NOTE_ON=78 NOTE_ON=47 TIME_DELTA=5 NOTE_ON=80 NOTE_ON=54 NOTE_OFF=78 TIME_DELTA=2 NOTE_OFF=80 TIME_DELTA=2 NOTE_ON=82 NOTE_ON=59 TIME_DELTA=5 NOTE_ON=63 TIME_DELTA=12 NOTE_OFF=54 NOTE_OFF=47 NOTE_OFF=82 NOTE_OFF=59 TIME_DELTA=2 NOTE_ON=73 TIME_DELTA=4 NOTE_OFF=63 NOTE_OFF=73 TIME_DELTA=4 BAR_END BAR_START TIME_DELTA=24 NOTE_ON=78 NOTE_ON=56 NOTE_ON=61 NOTE_ON=49 TIME_DELTA=4 NOTE_OFF=78 NOTE_ON=80 TIME_DELTA=2 NOTE_OFF=56 NOTE_OFF=80 TIME_DELTA=2 NOTE_ON=82 NOTE_ON=56 TIME_DELTA=5 NOTE_ON=65 TIME_DELTA=1 NOTE_OFF=56 NOTE_OFF=61 TIME_DELTA=8 NOTE_OFF=82 TIME_DELTA=4 NOTE_OFF=65 NOTE_OFF=49 TIME_DELTA=12 BAR_END TRACK_END TRACK_START INST=0 BAR_START TIME_DELTA=24 NOTE_ON=75 NOTE_ON=46 TIME_DELTA=5 NOTE_ON=53 TIME_DELTA=5 NOTE_ON=73 NOTE_ON=58 NOTE_OFF=75 TIME_DELTA=4 NOTE_ON=61 TIME_DELTA=12 NOTE_OFF=73 TIME_DELTA=4 NOTE_ON=70 TIME_DELTA=1 NOTE_OFF=53 TIME_DELTA=1 NOTE_OFF=46 TIME_DELTA=4 NOTE_OFF=61 TIME_DELTA=2 NOTE_OFF=58 TIME_DELTA=24 NOTE_OFF=70 BAR_END BAR_START TIME_DELTA=24 NOTE_ON=51 TIME_DELTA=5 NOTE_ON=54 TIME_DELTA=5 NOTE_ON=58 NOTE_OFF=51 TIME_DELTA=4 NOTE_ON=66 TIME_DELTA=16 NOTE_ON=73 NOTE_OFF=54 TIME_DELTA=3 NOTE_OFF=58 TIME_DELTA=2 NOTE_OFF=73 TIME_DELTA=1 NOTE_OFF=66 TIME_DELTA=2 BAR_END BAR_START TIME_DELTA=24 NOTE_ON=78 NOTE_ON=47 TIME_DELTA=5 NOTE_ON=80 NOTE_ON=54 NOTE_OFF=78 TIME_DELTA=2 NOTE_OFF=80 TIME_DELTA=2 NOTE_ON=82 NOTE_ON=59 TIME_DELTA=5 NOTE_ON=63 TIME_DELTA=12 NOTE_OFF=54 NOTE_OFF=47 NOTE_OFF=82 NOTE_OFF=59 TIME_DELTA=2 NOTE_ON=73 TIME_DELTA=4 NOTE_OFF=63 NOTE_OFF=73 TIME_DELTA=4 BAR_END BAR_START TIME_DELTA=24 NOTE_ON=78 NOTE_ON=56 NOTE_ON=61 NOTE_ON=49 TIME_DELTA=4 NOTE_OFF=78 NOTE_ON=80 TIME_DELTA=2 NOTE_OFF=56 NOTE_OFF=80 TIME_DELTA=2 NOTE_ON=82 NOTE_ON=56 TIME_DELTA=5 NOTE_ON=65 TIME_DELTA=1 NOTE_OFF=56 NOTE_OFF=61 TIME_DELTA=8 NOTE_OFF=82 TIME_DELTA=4 NOTE_OFF=65 NOTE_OFF=49 TIME_DELTA=12 BAR_END TRACK_END TRACK_START INST=0 BAR_START TIME_DELTA=24 NOTE_ON=75 NOTE_ON=46 TIME_DELTA=5 NOTE_ON=53 TIME_DELTA=5 NOTE_ON=73 NOTE_ON=58 NOTE_OFF=75 TIME_DELTA=4 NOTE_ON=61 TIME_DELTA=12 NOTE_OFF=73 TIME_DELTA=4 NOTE_ON=70 TIME_DELTA=1 NOTE_OFF=53 TIME_DELTA=1 NOTE_OFF=46 TIME_DELTA=4 NOTE_OFF=61 TIME_DELTA=2 NOTE_OFF=58 TIME_DELTA=24 NOTE_OFF=70 BAR_END BAR_START TIME_DELTA=24 NOTE_ON=51 TIME_DELTA=5 NOTE_ON=54 TIME_DELTA=5 NOTE_ON=58 NOTE_OFF=51 TIME_DELTA=4 NOTE_ON=66 TIME_DELTA=16 NOTE_ON=73 NOTE_OFF=54 TIME_DELTA=3 NOTE_OFF=58 TIME_DELTA=2 NOTE_OFF=73 TIME_DELTA=1 NOTE_OFF=66 TIME_DELTA=2 BAR_END BAR_START TIME_DELTA=24 NOTE_ON=78 NOTE_ON=47 TIME_DELTA=5 NOTE_ON=80 NOTE_ON=54 NOTE_OFF=78 TIME_DELTA=2 NOTE_OFF=80 TIME_DELTA=2 NOTE_ON=82 NOTE_ON=59 TIME_DELTA=5 NOTE_ON=63 TIME_DELTA=12 NOTE_OFF=54 NOTE_OFF=47 NOTE_OFF=82 NOTE_OFF=59 TIME_DELTA=2 NOTE_ON=73 TIME_DELTA=4 NOTE_OFF=63 NOTE_OFF=73 TIME_DELTA=4 BAR_END BAR_START TIME_DELTA=24 NOTE_ON=78 NOTE_ON=56 NOTE_ON=61 NOTE_ON=49 TIME_DELTA=4 NOTE_OFF=78 NOTE_ON=80 TIME_DELTA=2 NOTE_OFF=56 NOTE_OFF=80 TIME_DELTA=2 NOTE_ON=82 NOTE_ON=56 TIME_DELTA=5 NOTE_ON=65 TIME_DELTA=1 NOTE_OFF=56 NOTE_OFF=61 TIME_DELTA=8 NOTE_OFF=82 TIME_DELTA=4 NOTE_OFF=65 NOTE_OFF=49 TIME_DELTA=12 BAR_END TRACK_END</td>\n",
       "    </tr>\n",
       "  </tbody>\n",
       "</table>\n",
       "</div>"
      ],
      "text/plain": [
       "                                                                                                                                                                                                                                                                                                                                                                                                                                                                                                                                                                                                                                                                                                                                                                                                                                                                                                                                                                                                                                                                                                                                                                                                                                                                                                                                                                                                                                                                                                                                                                                                                                                                                                                                                                                                                                                                                                                                                                                                                                                                                                                                                                                                                                                                                                                                                                                                                                                                                                                                                                                                                                                                                                                                                                                                                                                                                                                                                                                                                                                                                                                                                                                                                                                                                                                                                                                                                                                                                                                                                                                                                                                                                                                                                                                                                                                                                                                                                                                           text\n",
       "0                                                                                                                                                                                                                                                                                                                                                                                                                                                                                                                                                                                                                                                                                                                                                                                                                                                                                                                                                                                                                                                                                                                                                                                                                                                                                                                                                                                                                                                                                         PIECE_START TRACK_START INST=0 BAR_START TIME_DELTA=24 BAR_END BAR_START TIME_DELTA=24 NOTE_ON=66 TIME_DELTA=8 NOTE_OFF=66 BAR_END BAR_START TIME_DELTA=24 NOTE_ON=75 NOTE_ON=47 TIME_DELTA=5 NOTE_ON=54 TIME_DELTA=5 NOTE_OFF=75 NOTE_ON=73 NOTE_ON=59 TIME_DELTA=5 NOTE_ON=66 NOTE_OFF=73 TIME_DELTA=4 NOTE_ON=71 TIME_DELTA=6 NOTE_OFF=59 NOTE_OFF=71 TIME_DELTA=1 NOTE_OFF=47 TIME_DELTA=1 NOTE_OFF=54 TIME_DELTA=1 NOTE_ON=80 TIME_DELTA=4 NOTE_OFF=80 TIME_DELTA=1 NOTE_ON=82 TIME_DELTA=4 NOTE_OFF=66 NOTE_OFF=82 BAR_END BAR_START TIME_DELTA=24 NOTE_ON=80 NOTE_ON=49 TIME_DELTA=5 NOTE_ON=56 TIME_DELTA=5 NOTE_ON=61 TIME_DELTA=5 NOTE_ON=65 TIME_DELTA=8 NOTE_OFF=56 TIME_DELTA=2 NOTE_OFF=80 NOTE_OFF=49 TIME_DELTA=3 NOTE_OFF=61 NOTE_OFF=65 TIME_DELTA=1 NOTE_ON=66 TIME_DELTA=6 NOTE_OFF=66 TIME_DELTA=1 BAR_END TRACK_END TRACK_START INST=0 BAR_START TIME_DELTA=24 BAR_END BAR_START TIME_DELTA=24 NOTE_ON=66 TIME_DELTA=8 NOTE_OFF=66 BAR_END BAR_START TIME_DELTA=24 NOTE_ON=75 NOTE_ON=47 TIME_DELTA=5 NOTE_ON=54 TIME_DELTA=5 NOTE_OFF=75 NOTE_ON=73 NOTE_ON=59 TIME_DELTA=5 NOTE_ON=66 NOTE_OFF=73 TIME_DELTA=4 NOTE_ON=71 TIME_DELTA=6 NOTE_OFF=59 NOTE_OFF=71 TIME_DELTA=1 NOTE_OFF=47 TIME_DELTA=1 NOTE_OFF=54 TIME_DELTA=1 NOTE_ON=80 TIME_DELTA=4 NOTE_OFF=80 TIME_DELTA=1 NOTE_ON=82 TIME_DELTA=4 NOTE_OFF=66 NOTE_OFF=82 BAR_END BAR_START TIME_DELTA=24 NOTE_ON=80 NOTE_ON=49 TIME_DELTA=5 NOTE_ON=56 TIME_DELTA=5 NOTE_ON=61 TIME_DELTA=5 NOTE_ON=65 TIME_DELTA=8 NOTE_OFF=56 TIME_DELTA=2 NOTE_OFF=80 NOTE_OFF=49 TIME_DELTA=3 NOTE_OFF=61 NOTE_OFF=65 TIME_DELTA=1 NOTE_ON=66 TIME_DELTA=6 NOTE_OFF=66 TIME_DELTA=1 BAR_END TRACK_END TRACK_START INST=0 BAR_START TIME_DELTA=24 BAR_END BAR_START TIME_DELTA=24 NOTE_ON=66 TIME_DELTA=8 NOTE_OFF=66 BAR_END BAR_START TIME_DELTA=24 NOTE_ON=75 NOTE_ON=47 TIME_DELTA=5 NOTE_ON=54 TIME_DELTA=5 NOTE_OFF=75 NOTE_ON=73 NOTE_ON=59 TIME_DELTA=5 NOTE_ON=66 NOTE_OFF=73 TIME_DELTA=4 NOTE_ON=71 TIME_DELTA=6 NOTE_OFF=59 NOTE_OFF=71 TIME_DELTA=1 NOTE_OFF=47 TIME_DELTA=1 NOTE_OFF=54 TIME_DELTA=1 NOTE_ON=80 TIME_DELTA=4 NOTE_OFF=80 TIME_DELTA=1 NOTE_ON=82 TIME_DELTA=4 NOTE_OFF=66 NOTE_OFF=82 BAR_END BAR_START TIME_DELTA=24 NOTE_ON=80 NOTE_ON=49 TIME_DELTA=5 NOTE_ON=56 TIME_DELTA=5 NOTE_ON=61 TIME_DELTA=5 NOTE_ON=65 TIME_DELTA=8 NOTE_OFF=56 TIME_DELTA=2 NOTE_OFF=80 NOTE_OFF=49 TIME_DELTA=3 NOTE_OFF=61 NOTE_OFF=65 TIME_DELTA=1 NOTE_ON=66 TIME_DELTA=6 NOTE_OFF=66 TIME_DELTA=1 BAR_END TRACK_END\n",
       "1                                                                                                                                                                                                                                                                                                                                                                                                                                                                                                                                                                          PIECE_START TRACK_START INST=0 BAR_START TIME_DELTA=24 NOTE_ON=66 TIME_DELTA=8 NOTE_OFF=66 BAR_END BAR_START TIME_DELTA=24 NOTE_ON=75 NOTE_ON=47 TIME_DELTA=5 NOTE_ON=54 TIME_DELTA=5 NOTE_OFF=75 NOTE_ON=73 NOTE_ON=59 TIME_DELTA=5 NOTE_ON=66 NOTE_OFF=73 TIME_DELTA=4 NOTE_ON=71 TIME_DELTA=6 NOTE_OFF=59 NOTE_OFF=71 TIME_DELTA=1 NOTE_OFF=47 TIME_DELTA=1 NOTE_OFF=54 TIME_DELTA=1 NOTE_ON=80 TIME_DELTA=4 NOTE_OFF=80 TIME_DELTA=1 NOTE_ON=82 TIME_DELTA=4 NOTE_OFF=66 NOTE_OFF=82 BAR_END BAR_START TIME_DELTA=24 NOTE_ON=80 NOTE_ON=49 TIME_DELTA=5 NOTE_ON=56 TIME_DELTA=5 NOTE_ON=61 TIME_DELTA=5 NOTE_ON=65 TIME_DELTA=8 NOTE_OFF=56 TIME_DELTA=2 NOTE_OFF=80 NOTE_OFF=49 TIME_DELTA=3 NOTE_OFF=61 NOTE_OFF=65 TIME_DELTA=1 NOTE_ON=66 TIME_DELTA=6 NOTE_OFF=66 TIME_DELTA=1 BAR_END BAR_START TIME_DELTA=24 NOTE_ON=75 NOTE_ON=46 TIME_DELTA=5 NOTE_ON=53 TIME_DELTA=5 NOTE_ON=73 NOTE_ON=58 NOTE_OFF=75 TIME_DELTA=4 NOTE_ON=61 TIME_DELTA=12 NOTE_OFF=73 TIME_DELTA=4 NOTE_ON=70 TIME_DELTA=1 NOTE_OFF=53 TIME_DELTA=1 NOTE_OFF=46 TIME_DELTA=4 NOTE_OFF=61 TIME_DELTA=2 NOTE_OFF=58 TIME_DELTA=24 NOTE_OFF=70 BAR_END TRACK_END TRACK_START INST=0 BAR_START TIME_DELTA=24 NOTE_ON=66 TIME_DELTA=8 NOTE_OFF=66 BAR_END BAR_START TIME_DELTA=24 NOTE_ON=75 NOTE_ON=47 TIME_DELTA=5 NOTE_ON=54 TIME_DELTA=5 NOTE_OFF=75 NOTE_ON=73 NOTE_ON=59 TIME_DELTA=5 NOTE_ON=66 NOTE_OFF=73 TIME_DELTA=4 NOTE_ON=71 TIME_DELTA=6 NOTE_OFF=59 NOTE_OFF=71 TIME_DELTA=1 NOTE_OFF=47 TIME_DELTA=1 NOTE_OFF=54 TIME_DELTA=1 NOTE_ON=80 TIME_DELTA=4 NOTE_OFF=80 TIME_DELTA=1 NOTE_ON=82 TIME_DELTA=4 NOTE_OFF=66 NOTE_OFF=82 BAR_END BAR_START TIME_DELTA=24 NOTE_ON=80 NOTE_ON=49 TIME_DELTA=5 NOTE_ON=56 TIME_DELTA=5 NOTE_ON=61 TIME_DELTA=5 NOTE_ON=65 TIME_DELTA=8 NOTE_OFF=56 TIME_DELTA=2 NOTE_OFF=80 NOTE_OFF=49 TIME_DELTA=3 NOTE_OFF=61 NOTE_OFF=65 TIME_DELTA=1 NOTE_ON=66 TIME_DELTA=6 NOTE_OFF=66 TIME_DELTA=1 BAR_END BAR_START TIME_DELTA=24 NOTE_ON=75 NOTE_ON=46 TIME_DELTA=5 NOTE_ON=53 TIME_DELTA=5 NOTE_ON=73 NOTE_ON=58 NOTE_OFF=75 TIME_DELTA=4 NOTE_ON=61 TIME_DELTA=12 NOTE_OFF=73 TIME_DELTA=4 NOTE_ON=70 TIME_DELTA=1 NOTE_OFF=53 TIME_DELTA=1 NOTE_OFF=46 TIME_DELTA=4 NOTE_OFF=61 TIME_DELTA=2 NOTE_OFF=58 TIME_DELTA=24 NOTE_OFF=70 BAR_END TRACK_END TRACK_START INST=0 BAR_START TIME_DELTA=24 NOTE_ON=66 TIME_DELTA=8 NOTE_OFF=66 BAR_END BAR_START TIME_DELTA=24 NOTE_ON=75 NOTE_ON=47 TIME_DELTA=5 NOTE_ON=54 TIME_DELTA=5 NOTE_OFF=75 NOTE_ON=73 NOTE_ON=59 TIME_DELTA=5 NOTE_ON=66 NOTE_OFF=73 TIME_DELTA=4 NOTE_ON=71 TIME_DELTA=6 NOTE_OFF=59 NOTE_OFF=71 TIME_DELTA=1 NOTE_OFF=47 TIME_DELTA=1 NOTE_OFF=54 TIME_DELTA=1 NOTE_ON=80 TIME_DELTA=4 NOTE_OFF=80 TIME_DELTA=1 NOTE_ON=82 TIME_DELTA=4 NOTE_OFF=66 NOTE_OFF=82 BAR_END BAR_START TIME_DELTA=24 NOTE_ON=80 NOTE_ON=49 TIME_DELTA=5 NOTE_ON=56 TIME_DELTA=5 NOTE_ON=61 TIME_DELTA=5 NOTE_ON=65 TIME_DELTA=8 NOTE_OFF=56 TIME_DELTA=2 NOTE_OFF=80 NOTE_OFF=49 TIME_DELTA=3 NOTE_OFF=61 NOTE_OFF=65 TIME_DELTA=1 NOTE_ON=66 TIME_DELTA=6 NOTE_OFF=66 TIME_DELTA=1 BAR_END BAR_START TIME_DELTA=24 NOTE_ON=75 NOTE_ON=46 TIME_DELTA=5 NOTE_ON=53 TIME_DELTA=5 NOTE_ON=73 NOTE_ON=58 NOTE_OFF=75 TIME_DELTA=4 NOTE_ON=61 TIME_DELTA=12 NOTE_OFF=73 TIME_DELTA=4 NOTE_ON=70 TIME_DELTA=1 NOTE_OFF=53 TIME_DELTA=1 NOTE_OFF=46 TIME_DELTA=4 NOTE_OFF=61 TIME_DELTA=2 NOTE_OFF=58 TIME_DELTA=24 NOTE_OFF=70 BAR_END TRACK_END\n",
       "2  PIECE_START TRACK_START INST=0 BAR_START TIME_DELTA=24 NOTE_ON=75 NOTE_ON=47 TIME_DELTA=5 NOTE_ON=54 TIME_DELTA=5 NOTE_OFF=75 NOTE_ON=73 NOTE_ON=59 TIME_DELTA=5 NOTE_ON=66 NOTE_OFF=73 TIME_DELTA=4 NOTE_ON=71 TIME_DELTA=6 NOTE_OFF=59 NOTE_OFF=71 TIME_DELTA=1 NOTE_OFF=47 TIME_DELTA=1 NOTE_OFF=54 TIME_DELTA=1 NOTE_ON=80 TIME_DELTA=4 NOTE_OFF=80 TIME_DELTA=1 NOTE_ON=82 TIME_DELTA=4 NOTE_OFF=66 NOTE_OFF=82 BAR_END BAR_START TIME_DELTA=24 NOTE_ON=80 NOTE_ON=49 TIME_DELTA=5 NOTE_ON=56 TIME_DELTA=5 NOTE_ON=61 TIME_DELTA=5 NOTE_ON=65 TIME_DELTA=8 NOTE_OFF=56 TIME_DELTA=2 NOTE_OFF=80 NOTE_OFF=49 TIME_DELTA=3 NOTE_OFF=61 NOTE_OFF=65 TIME_DELTA=1 NOTE_ON=66 TIME_DELTA=6 NOTE_OFF=66 TIME_DELTA=1 BAR_END BAR_START TIME_DELTA=24 NOTE_ON=75 NOTE_ON=46 TIME_DELTA=5 NOTE_ON=53 TIME_DELTA=5 NOTE_ON=73 NOTE_ON=58 NOTE_OFF=75 TIME_DELTA=4 NOTE_ON=61 TIME_DELTA=12 NOTE_OFF=73 TIME_DELTA=4 NOTE_ON=70 TIME_DELTA=1 NOTE_OFF=53 TIME_DELTA=1 NOTE_OFF=46 TIME_DELTA=4 NOTE_OFF=61 TIME_DELTA=2 NOTE_OFF=58 TIME_DELTA=24 NOTE_OFF=70 BAR_END BAR_START TIME_DELTA=24 NOTE_ON=51 TIME_DELTA=5 NOTE_ON=54 TIME_DELTA=5 NOTE_ON=58 NOTE_OFF=51 TIME_DELTA=4 NOTE_ON=66 TIME_DELTA=16 NOTE_ON=73 NOTE_OFF=54 TIME_DELTA=3 NOTE_OFF=58 TIME_DELTA=2 NOTE_OFF=73 TIME_DELTA=1 NOTE_OFF=66 TIME_DELTA=2 BAR_END TRACK_END TRACK_START INST=0 BAR_START TIME_DELTA=24 NOTE_ON=75 NOTE_ON=47 TIME_DELTA=5 NOTE_ON=54 TIME_DELTA=5 NOTE_OFF=75 NOTE_ON=73 NOTE_ON=59 TIME_DELTA=5 NOTE_ON=66 NOTE_OFF=73 TIME_DELTA=4 NOTE_ON=71 TIME_DELTA=6 NOTE_OFF=59 NOTE_OFF=71 TIME_DELTA=1 NOTE_OFF=47 TIME_DELTA=1 NOTE_OFF=54 TIME_DELTA=1 NOTE_ON=80 TIME_DELTA=4 NOTE_OFF=80 TIME_DELTA=1 NOTE_ON=82 TIME_DELTA=4 NOTE_OFF=66 NOTE_OFF=82 BAR_END BAR_START TIME_DELTA=24 NOTE_ON=80 NOTE_ON=49 TIME_DELTA=5 NOTE_ON=56 TIME_DELTA=5 NOTE_ON=61 TIME_DELTA=5 NOTE_ON=65 TIME_DELTA=8 NOTE_OFF=56 TIME_DELTA=2 NOTE_OFF=80 NOTE_OFF=49 TIME_DELTA=3 NOTE_OFF=61 NOTE_OFF=65 TIME_DELTA=1 NOTE_ON=66 TIME_DELTA=6 NOTE_OFF=66 TIME_DELTA=1 BAR_END BAR_START TIME_DELTA=24 NOTE_ON=75 NOTE_ON=46 TIME_DELTA=5 NOTE_ON=53 TIME_DELTA=5 NOTE_ON=73 NOTE_ON=58 NOTE_OFF=75 TIME_DELTA=4 NOTE_ON=61 TIME_DELTA=12 NOTE_OFF=73 TIME_DELTA=4 NOTE_ON=70 TIME_DELTA=1 NOTE_OFF=53 TIME_DELTA=1 NOTE_OFF=46 TIME_DELTA=4 NOTE_OFF=61 TIME_DELTA=2 NOTE_OFF=58 TIME_DELTA=24 NOTE_OFF=70 BAR_END BAR_START TIME_DELTA=24 NOTE_ON=51 TIME_DELTA=5 NOTE_ON=54 TIME_DELTA=5 NOTE_ON=58 NOTE_OFF=51 TIME_DELTA=4 NOTE_ON=66 TIME_DELTA=16 NOTE_ON=73 NOTE_OFF=54 TIME_DELTA=3 NOTE_OFF=58 TIME_DELTA=2 NOTE_OFF=73 TIME_DELTA=1 NOTE_OFF=66 TIME_DELTA=2 BAR_END TRACK_END TRACK_START INST=0 BAR_START TIME_DELTA=24 NOTE_ON=75 NOTE_ON=47 TIME_DELTA=5 NOTE_ON=54 TIME_DELTA=5 NOTE_OFF=75 NOTE_ON=73 NOTE_ON=59 TIME_DELTA=5 NOTE_ON=66 NOTE_OFF=73 TIME_DELTA=4 NOTE_ON=71 TIME_DELTA=6 NOTE_OFF=59 NOTE_OFF=71 TIME_DELTA=1 NOTE_OFF=47 TIME_DELTA=1 NOTE_OFF=54 TIME_DELTA=1 NOTE_ON=80 TIME_DELTA=4 NOTE_OFF=80 TIME_DELTA=1 NOTE_ON=82 TIME_DELTA=4 NOTE_OFF=66 NOTE_OFF=82 BAR_END BAR_START TIME_DELTA=24 NOTE_ON=80 NOTE_ON=49 TIME_DELTA=5 NOTE_ON=56 TIME_DELTA=5 NOTE_ON=61 TIME_DELTA=5 NOTE_ON=65 TIME_DELTA=8 NOTE_OFF=56 TIME_DELTA=2 NOTE_OFF=80 NOTE_OFF=49 TIME_DELTA=3 NOTE_OFF=61 NOTE_OFF=65 TIME_DELTA=1 NOTE_ON=66 TIME_DELTA=6 NOTE_OFF=66 TIME_DELTA=1 BAR_END BAR_START TIME_DELTA=24 NOTE_ON=75 NOTE_ON=46 TIME_DELTA=5 NOTE_ON=53 TIME_DELTA=5 NOTE_ON=73 NOTE_ON=58 NOTE_OFF=75 TIME_DELTA=4 NOTE_ON=61 TIME_DELTA=12 NOTE_OFF=73 TIME_DELTA=4 NOTE_ON=70 TIME_DELTA=1 NOTE_OFF=53 TIME_DELTA=1 NOTE_OFF=46 TIME_DELTA=4 NOTE_OFF=61 TIME_DELTA=2 NOTE_OFF=58 TIME_DELTA=24 NOTE_OFF=70 BAR_END BAR_START TIME_DELTA=24 NOTE_ON=51 TIME_DELTA=5 NOTE_ON=54 TIME_DELTA=5 NOTE_ON=58 NOTE_OFF=51 TIME_DELTA=4 NOTE_ON=66 TIME_DELTA=16 NOTE_ON=73 NOTE_OFF=54 TIME_DELTA=3 NOTE_OFF=58 TIME_DELTA=2 NOTE_OFF=73 TIME_DELTA=1 NOTE_OFF=66 TIME_DELTA=2 BAR_END TRACK_END\n",
       "3                                                                                                                                                                                         PIECE_START TRACK_START INST=0 BAR_START TIME_DELTA=24 NOTE_ON=80 NOTE_ON=49 TIME_DELTA=5 NOTE_ON=56 TIME_DELTA=5 NOTE_ON=61 TIME_DELTA=5 NOTE_ON=65 TIME_DELTA=8 NOTE_OFF=56 TIME_DELTA=2 NOTE_OFF=80 NOTE_OFF=49 TIME_DELTA=3 NOTE_OFF=61 NOTE_OFF=65 TIME_DELTA=1 NOTE_ON=66 TIME_DELTA=6 NOTE_OFF=66 TIME_DELTA=1 BAR_END BAR_START TIME_DELTA=24 NOTE_ON=75 NOTE_ON=46 TIME_DELTA=5 NOTE_ON=53 TIME_DELTA=5 NOTE_ON=73 NOTE_ON=58 NOTE_OFF=75 TIME_DELTA=4 NOTE_ON=61 TIME_DELTA=12 NOTE_OFF=73 TIME_DELTA=4 NOTE_ON=70 TIME_DELTA=1 NOTE_OFF=53 TIME_DELTA=1 NOTE_OFF=46 TIME_DELTA=4 NOTE_OFF=61 TIME_DELTA=2 NOTE_OFF=58 TIME_DELTA=24 NOTE_OFF=70 BAR_END BAR_START TIME_DELTA=24 NOTE_ON=51 TIME_DELTA=5 NOTE_ON=54 TIME_DELTA=5 NOTE_ON=58 NOTE_OFF=51 TIME_DELTA=4 NOTE_ON=66 TIME_DELTA=16 NOTE_ON=73 NOTE_OFF=54 TIME_DELTA=3 NOTE_OFF=58 TIME_DELTA=2 NOTE_OFF=73 TIME_DELTA=1 NOTE_OFF=66 TIME_DELTA=2 BAR_END BAR_START TIME_DELTA=24 NOTE_ON=78 NOTE_ON=47 TIME_DELTA=5 NOTE_ON=80 NOTE_ON=54 NOTE_OFF=78 TIME_DELTA=2 NOTE_OFF=80 TIME_DELTA=2 NOTE_ON=82 NOTE_ON=59 TIME_DELTA=5 NOTE_ON=63 TIME_DELTA=12 NOTE_OFF=54 NOTE_OFF=47 NOTE_OFF=82 NOTE_OFF=59 TIME_DELTA=2 NOTE_ON=73 TIME_DELTA=4 NOTE_OFF=63 NOTE_OFF=73 TIME_DELTA=4 BAR_END TRACK_END TRACK_START INST=0 BAR_START TIME_DELTA=24 NOTE_ON=80 NOTE_ON=49 TIME_DELTA=5 NOTE_ON=56 TIME_DELTA=5 NOTE_ON=61 TIME_DELTA=5 NOTE_ON=65 TIME_DELTA=8 NOTE_OFF=56 TIME_DELTA=2 NOTE_OFF=80 NOTE_OFF=49 TIME_DELTA=3 NOTE_OFF=61 NOTE_OFF=65 TIME_DELTA=1 NOTE_ON=66 TIME_DELTA=6 NOTE_OFF=66 TIME_DELTA=1 BAR_END BAR_START TIME_DELTA=24 NOTE_ON=75 NOTE_ON=46 TIME_DELTA=5 NOTE_ON=53 TIME_DELTA=5 NOTE_ON=73 NOTE_ON=58 NOTE_OFF=75 TIME_DELTA=4 NOTE_ON=61 TIME_DELTA=12 NOTE_OFF=73 TIME_DELTA=4 NOTE_ON=70 TIME_DELTA=1 NOTE_OFF=53 TIME_DELTA=1 NOTE_OFF=46 TIME_DELTA=4 NOTE_OFF=61 TIME_DELTA=2 NOTE_OFF=58 TIME_DELTA=24 NOTE_OFF=70 BAR_END BAR_START TIME_DELTA=24 NOTE_ON=51 TIME_DELTA=5 NOTE_ON=54 TIME_DELTA=5 NOTE_ON=58 NOTE_OFF=51 TIME_DELTA=4 NOTE_ON=66 TIME_DELTA=16 NOTE_ON=73 NOTE_OFF=54 TIME_DELTA=3 NOTE_OFF=58 TIME_DELTA=2 NOTE_OFF=73 TIME_DELTA=1 NOTE_OFF=66 TIME_DELTA=2 BAR_END BAR_START TIME_DELTA=24 NOTE_ON=78 NOTE_ON=47 TIME_DELTA=5 NOTE_ON=80 NOTE_ON=54 NOTE_OFF=78 TIME_DELTA=2 NOTE_OFF=80 TIME_DELTA=2 NOTE_ON=82 NOTE_ON=59 TIME_DELTA=5 NOTE_ON=63 TIME_DELTA=12 NOTE_OFF=54 NOTE_OFF=47 NOTE_OFF=82 NOTE_OFF=59 TIME_DELTA=2 NOTE_ON=73 TIME_DELTA=4 NOTE_OFF=63 NOTE_OFF=73 TIME_DELTA=4 BAR_END TRACK_END TRACK_START INST=0 BAR_START TIME_DELTA=24 NOTE_ON=80 NOTE_ON=49 TIME_DELTA=5 NOTE_ON=56 TIME_DELTA=5 NOTE_ON=61 TIME_DELTA=5 NOTE_ON=65 TIME_DELTA=8 NOTE_OFF=56 TIME_DELTA=2 NOTE_OFF=80 NOTE_OFF=49 TIME_DELTA=3 NOTE_OFF=61 NOTE_OFF=65 TIME_DELTA=1 NOTE_ON=66 TIME_DELTA=6 NOTE_OFF=66 TIME_DELTA=1 BAR_END BAR_START TIME_DELTA=24 NOTE_ON=75 NOTE_ON=46 TIME_DELTA=5 NOTE_ON=53 TIME_DELTA=5 NOTE_ON=73 NOTE_ON=58 NOTE_OFF=75 TIME_DELTA=4 NOTE_ON=61 TIME_DELTA=12 NOTE_OFF=73 TIME_DELTA=4 NOTE_ON=70 TIME_DELTA=1 NOTE_OFF=53 TIME_DELTA=1 NOTE_OFF=46 TIME_DELTA=4 NOTE_OFF=61 TIME_DELTA=2 NOTE_OFF=58 TIME_DELTA=24 NOTE_OFF=70 BAR_END BAR_START TIME_DELTA=24 NOTE_ON=51 TIME_DELTA=5 NOTE_ON=54 TIME_DELTA=5 NOTE_ON=58 NOTE_OFF=51 TIME_DELTA=4 NOTE_ON=66 TIME_DELTA=16 NOTE_ON=73 NOTE_OFF=54 TIME_DELTA=3 NOTE_OFF=58 TIME_DELTA=2 NOTE_OFF=73 TIME_DELTA=1 NOTE_OFF=66 TIME_DELTA=2 BAR_END BAR_START TIME_DELTA=24 NOTE_ON=78 NOTE_ON=47 TIME_DELTA=5 NOTE_ON=80 NOTE_ON=54 NOTE_OFF=78 TIME_DELTA=2 NOTE_OFF=80 TIME_DELTA=2 NOTE_ON=82 NOTE_ON=59 TIME_DELTA=5 NOTE_ON=63 TIME_DELTA=12 NOTE_OFF=54 NOTE_OFF=47 NOTE_OFF=82 NOTE_OFF=59 TIME_DELTA=2 NOTE_ON=73 TIME_DELTA=4 NOTE_OFF=63 NOTE_OFF=73 TIME_DELTA=4 BAR_END TRACK_END\n",
       "4                                                                                   PIECE_START TRACK_START INST=0 BAR_START TIME_DELTA=24 NOTE_ON=75 NOTE_ON=46 TIME_DELTA=5 NOTE_ON=53 TIME_DELTA=5 NOTE_ON=73 NOTE_ON=58 NOTE_OFF=75 TIME_DELTA=4 NOTE_ON=61 TIME_DELTA=12 NOTE_OFF=73 TIME_DELTA=4 NOTE_ON=70 TIME_DELTA=1 NOTE_OFF=53 TIME_DELTA=1 NOTE_OFF=46 TIME_DELTA=4 NOTE_OFF=61 TIME_DELTA=2 NOTE_OFF=58 TIME_DELTA=24 NOTE_OFF=70 BAR_END BAR_START TIME_DELTA=24 NOTE_ON=51 TIME_DELTA=5 NOTE_ON=54 TIME_DELTA=5 NOTE_ON=58 NOTE_OFF=51 TIME_DELTA=4 NOTE_ON=66 TIME_DELTA=16 NOTE_ON=73 NOTE_OFF=54 TIME_DELTA=3 NOTE_OFF=58 TIME_DELTA=2 NOTE_OFF=73 TIME_DELTA=1 NOTE_OFF=66 TIME_DELTA=2 BAR_END BAR_START TIME_DELTA=24 NOTE_ON=78 NOTE_ON=47 TIME_DELTA=5 NOTE_ON=80 NOTE_ON=54 NOTE_OFF=78 TIME_DELTA=2 NOTE_OFF=80 TIME_DELTA=2 NOTE_ON=82 NOTE_ON=59 TIME_DELTA=5 NOTE_ON=63 TIME_DELTA=12 NOTE_OFF=54 NOTE_OFF=47 NOTE_OFF=82 NOTE_OFF=59 TIME_DELTA=2 NOTE_ON=73 TIME_DELTA=4 NOTE_OFF=63 NOTE_OFF=73 TIME_DELTA=4 BAR_END BAR_START TIME_DELTA=24 NOTE_ON=78 NOTE_ON=56 NOTE_ON=61 NOTE_ON=49 TIME_DELTA=4 NOTE_OFF=78 NOTE_ON=80 TIME_DELTA=2 NOTE_OFF=56 NOTE_OFF=80 TIME_DELTA=2 NOTE_ON=82 NOTE_ON=56 TIME_DELTA=5 NOTE_ON=65 TIME_DELTA=1 NOTE_OFF=56 NOTE_OFF=61 TIME_DELTA=8 NOTE_OFF=82 TIME_DELTA=4 NOTE_OFF=65 NOTE_OFF=49 TIME_DELTA=12 BAR_END TRACK_END TRACK_START INST=0 BAR_START TIME_DELTA=24 NOTE_ON=75 NOTE_ON=46 TIME_DELTA=5 NOTE_ON=53 TIME_DELTA=5 NOTE_ON=73 NOTE_ON=58 NOTE_OFF=75 TIME_DELTA=4 NOTE_ON=61 TIME_DELTA=12 NOTE_OFF=73 TIME_DELTA=4 NOTE_ON=70 TIME_DELTA=1 NOTE_OFF=53 TIME_DELTA=1 NOTE_OFF=46 TIME_DELTA=4 NOTE_OFF=61 TIME_DELTA=2 NOTE_OFF=58 TIME_DELTA=24 NOTE_OFF=70 BAR_END BAR_START TIME_DELTA=24 NOTE_ON=51 TIME_DELTA=5 NOTE_ON=54 TIME_DELTA=5 NOTE_ON=58 NOTE_OFF=51 TIME_DELTA=4 NOTE_ON=66 TIME_DELTA=16 NOTE_ON=73 NOTE_OFF=54 TIME_DELTA=3 NOTE_OFF=58 TIME_DELTA=2 NOTE_OFF=73 TIME_DELTA=1 NOTE_OFF=66 TIME_DELTA=2 BAR_END BAR_START TIME_DELTA=24 NOTE_ON=78 NOTE_ON=47 TIME_DELTA=5 NOTE_ON=80 NOTE_ON=54 NOTE_OFF=78 TIME_DELTA=2 NOTE_OFF=80 TIME_DELTA=2 NOTE_ON=82 NOTE_ON=59 TIME_DELTA=5 NOTE_ON=63 TIME_DELTA=12 NOTE_OFF=54 NOTE_OFF=47 NOTE_OFF=82 NOTE_OFF=59 TIME_DELTA=2 NOTE_ON=73 TIME_DELTA=4 NOTE_OFF=63 NOTE_OFF=73 TIME_DELTA=4 BAR_END BAR_START TIME_DELTA=24 NOTE_ON=78 NOTE_ON=56 NOTE_ON=61 NOTE_ON=49 TIME_DELTA=4 NOTE_OFF=78 NOTE_ON=80 TIME_DELTA=2 NOTE_OFF=56 NOTE_OFF=80 TIME_DELTA=2 NOTE_ON=82 NOTE_ON=56 TIME_DELTA=5 NOTE_ON=65 TIME_DELTA=1 NOTE_OFF=56 NOTE_OFF=61 TIME_DELTA=8 NOTE_OFF=82 TIME_DELTA=4 NOTE_OFF=65 NOTE_OFF=49 TIME_DELTA=12 BAR_END TRACK_END TRACK_START INST=0 BAR_START TIME_DELTA=24 NOTE_ON=75 NOTE_ON=46 TIME_DELTA=5 NOTE_ON=53 TIME_DELTA=5 NOTE_ON=73 NOTE_ON=58 NOTE_OFF=75 TIME_DELTA=4 NOTE_ON=61 TIME_DELTA=12 NOTE_OFF=73 TIME_DELTA=4 NOTE_ON=70 TIME_DELTA=1 NOTE_OFF=53 TIME_DELTA=1 NOTE_OFF=46 TIME_DELTA=4 NOTE_OFF=61 TIME_DELTA=2 NOTE_OFF=58 TIME_DELTA=24 NOTE_OFF=70 BAR_END BAR_START TIME_DELTA=24 NOTE_ON=51 TIME_DELTA=5 NOTE_ON=54 TIME_DELTA=5 NOTE_ON=58 NOTE_OFF=51 TIME_DELTA=4 NOTE_ON=66 TIME_DELTA=16 NOTE_ON=73 NOTE_OFF=54 TIME_DELTA=3 NOTE_OFF=58 TIME_DELTA=2 NOTE_OFF=73 TIME_DELTA=1 NOTE_OFF=66 TIME_DELTA=2 BAR_END BAR_START TIME_DELTA=24 NOTE_ON=78 NOTE_ON=47 TIME_DELTA=5 NOTE_ON=80 NOTE_ON=54 NOTE_OFF=78 TIME_DELTA=2 NOTE_OFF=80 TIME_DELTA=2 NOTE_ON=82 NOTE_ON=59 TIME_DELTA=5 NOTE_ON=63 TIME_DELTA=12 NOTE_OFF=54 NOTE_OFF=47 NOTE_OFF=82 NOTE_OFF=59 TIME_DELTA=2 NOTE_ON=73 TIME_DELTA=4 NOTE_OFF=63 NOTE_OFF=73 TIME_DELTA=4 BAR_END BAR_START TIME_DELTA=24 NOTE_ON=78 NOTE_ON=56 NOTE_ON=61 NOTE_ON=49 TIME_DELTA=4 NOTE_OFF=78 NOTE_ON=80 TIME_DELTA=2 NOTE_OFF=56 NOTE_OFF=80 TIME_DELTA=2 NOTE_ON=82 NOTE_ON=56 TIME_DELTA=5 NOTE_ON=65 TIME_DELTA=1 NOTE_OFF=56 NOTE_OFF=61 TIME_DELTA=8 NOTE_OFF=82 TIME_DELTA=4 NOTE_OFF=65 NOTE_OFF=49 TIME_DELTA=12 BAR_END TRACK_END"
      ]
     },
     "execution_count": 63,
     "metadata": {},
     "output_type": "execute_result"
    }
   ],
   "source": [
    "# Display the first few rows of the Pandas DataFrame (df)\n",
    "df.head()"
   ]
  },
  {
   "cell_type": "code",
   "execution_count": 64,
   "metadata": {
    "id": "-y_aA6jJYgbw"
   },
   "outputs": [
    {
     "name": "stdout",
     "output_type": "stream",
     "text": [
      "Highest number of words: 1888\n",
      "Lowest number of words: 17\n",
      "Average number of words: 255.7036153009835\n"
     ]
    }
   ],
   "source": [
    "# Create a new column 'num_words' that contains the number of words in each row of the 'text' column\n",
    "df['num_words'] = df['text'].str.split().str.len()\n",
    "\n",
    "# Calculate the highest, lowest, and average number of words\n",
    "highest_num_words = df['num_words'].max()\n",
    "lowest_num_words = df['num_words'].min()\n",
    "average_num_words = df['num_words'].mean()\n",
    "\n",
    "# Print the results\n",
    "print('Highest number of words:', highest_num_words)\n",
    "print('Lowest number of words:', lowest_num_words)\n",
    "print('Average number of words:', average_num_words)"
   ]
  },
  {
   "cell_type": "code",
   "execution_count": 65,
   "metadata": {},
   "outputs": [
    {
     "data": {
      "image/png": "[encoded data removed]",
      "text/plain": [
       "<Figure size 1000x600 with 1 Axes>"
      ]
     },
     "metadata": {},
     "output_type": "display_data"
    }
   ],
   "source": [
    "import matplotlib.pyplot as plt\n",
    "\n",
    "# Create a histogram of word counts\n",
    "plt.figure(figsize=(10, 6))\n",
    "plt.hist(df['num_words'], bins=30, color='skyblue', edgecolor='black')\n",
    "\n",
    "# Customize the plot\n",
    "plt.title('Distribution of Word Counts')\n",
    "plt.xlabel('Number of Words')\n",
    "plt.ylabel('Number of Texts')\n",
    "plt.grid(True)\n",
    "plt.show()"
   ]
  },
  {
   "cell_type": "markdown",
   "metadata": {},
   "source": [
    "The right skewed histogram shows that most of the text length is between 17 and 400ish. To filter out the shorter texts, remove texts with a number of words less than 100."
   ]
  },
  {
   "cell_type": "code",
   "execution_count": 66,
   "metadata": {
    "id": "RGyWGiLOY9g3"
   },
   "outputs": [],
   "source": [
    "# Remove texts with a number of words less than 100\n",
    "df = df[df['num_words'] >= 100]"
   ]
  },
  {
   "cell_type": "code",
   "execution_count": 67,
   "metadata": {
    "id": "8zT6M_TTacV_"
   },
   "outputs": [
    {
     "name": "stdout",
     "output_type": "stream",
     "text": [
      "Highest number of words: 1888\n",
      "Lowest number of words: 100\n",
      "Average number of words: 263.8001215424124\n"
     ]
    }
   ],
   "source": [
    "# Calculate the highest, lowest, and average number of words\n",
    "highest_num_words = df['num_words'].max()\n",
    "lowest_num_words = df['num_words'].min()\n",
    "average_num_words = df['num_words'].mean()\n",
    "\n",
    "# Print the results\n",
    "print('Highest number of words:', highest_num_words)\n",
    "print('Lowest number of words:', lowest_num_words)\n",
    "print('Average number of words:', average_num_words)"
   ]
  },
  {
   "cell_type": "code",
   "execution_count": 68,
   "metadata": {},
   "outputs": [
    {
     "data": {
      "image/png": "[encoded data removed]",
      "text/plain": [
       "<Figure size 1000x600 with 1 Axes>"
      ]
     },
     "metadata": {},
     "output_type": "display_data"
    }
   ],
   "source": [
    "import matplotlib.pyplot as plt\n",
    "\n",
    "# Create a histogram of word counts\n",
    "plt.figure(figsize=(10, 6))\n",
    "plt.hist(df['num_words'], bins=30, color='skyblue', edgecolor='black')\n",
    "\n",
    "# Customize the plot\n",
    "plt.title('Distribution of Word Counts')\n",
    "plt.xlabel('Number of Words')\n",
    "plt.ylabel('Number of Texts')\n",
    "plt.grid(True)\n",
    "plt.show()"
   ]
  },
  {
   "cell_type": "code",
   "execution_count": 69,
   "metadata": {
    "id": "gfu4VQpfafpQ"
   },
   "outputs": [],
   "source": [
    "# Remove the 'num_words' column\n",
    "df = df.drop(columns=['num_words'])"
   ]
  },
  {
   "cell_type": "code",
   "execution_count": 73,
   "metadata": {
    "id": "0sqVST8raosQ"
   },
   "outputs": [
    {
     "data": {
      "text/plain": [
       "Dataset({\n",
       "    features: ['text', '__index_level_0__'],\n",
       "    num_rows: 153033\n",
       "})"
      ]
     },
     "execution_count": 73,
     "metadata": {},
     "output_type": "execute_result"
    }
   ],
   "source": [
    "# Convert the DataFrame to a Hugging Face dataset\n",
    "clean_dataset = Dataset.from_pandas(df)\n",
    "clean_dataset"
   ]
  },
  {
   "cell_type": "code",
   "execution_count": 33,
   "metadata": {
    "id": "k5f3jJhIbBQv"
   },
   "outputs": [],
   "source": [
    "# Remove the column \"__index_level_0__\" from the 'clean_dataset'\n",
    "clean_dataset = clean_dataset.remove_columns(\"__index_level_0__\")\n",
    "clean_dataset"
   ]
  },
  {
   "cell_type": "code",
   "execution_count": 42,
   "metadata": {
    "id": "u8kfAx-Bbhah"
   },
   "outputs": [
    {
     "data": {
      "application/vnd.jupyter.widget-view+json": {
       "model_id": "711e1178d219456b9c4a61094ee41e1e",
       "version_major": 2,
       "version_minor": 0
      },
      "text/plain": [
       "VBox(children=(HTML(value='<center> <img\\nsrc=https://huggingface.co/front/assets/huggingface_logo-noborder.sv…"
      ]
     },
     "metadata": {},
     "output_type": "display_data"
    }
   ],
   "source": [
    "# Log in to the Hugging Face Hub from within a Jupyter notebook\n",
    "notebook_login()"
   ]
  },
  {
   "cell_type": "code",
   "execution_count": 43,
   "metadata": {
    "id": "wRbYeYBxbkiv"
   },
   "outputs": [
    {
     "data": {
      "application/vnd.jupyter.widget-view+json": {
       "model_id": "5760b3854783406cb8c799332bbb2e18",
       "version_major": 2,
       "version_minor": 0
      },
      "text/plain": [
       "Uploading the dataset shards:   0%|          | 0/1 [00:00<?, ?it/s]"
      ]
     },
     "metadata": {},
     "output_type": "display_data"
    },
    {
     "data": {
      "application/vnd.jupyter.widget-view+json": {
       "model_id": "40ac965fde21422d8ebf1c47a6a284b8",
       "version_major": 2,
       "version_minor": 0
      },
      "text/plain": [
       "Creating parquet from Arrow format:   0%|          | 0/34 [00:00<?, ?ba/s]"
      ]
     },
     "metadata": {},
     "output_type": "display_data"
    },
    {
     "data": {
      "application/vnd.jupyter.widget-view+json": {
       "model_id": "2f004affc5ac4af1ac0bd982393e16f4",
       "version_major": 2,
       "version_minor": 0
      },
      "text/plain": [
       "README.md:   0%|          | 0.00/280 [00:00<?, ?B/s]"
      ]
     },
     "metadata": {},
     "output_type": "display_data"
    }
   ],
   "source": [
    "clean_dataset.push_to_hub(\"aimusicgen/pop909_clean_data\")"
   ]
  },
  {
   "cell_type": "code",
   "execution_count": null,
   "metadata": {
    "id": "d9eWs5Xub8Dw"
   },
   "outputs": [],
   "source": []
  }
 ],
 "metadata": {
  "colab": {
   "machine_shape": "hm",
   "provenance": []
  },
  "kernelspec": {
   "display_name": "Python 3 (ipykernel)",
   "language": "python",
   "name": "python3"
  },
  "language_info": {
   "codemirror_mode": {
    "name": "ipython",
    "version": 3
   },
   "file_extension": ".py",
   "mimetype": "text/x-python",
   "name": "python",
   "nbconvert_exporter": "python",
   "pygments_lexer": "ipython3",
   "version": "3.11.5"
  }
 },
 "nbformat": 4,
 "nbformat_minor": 1
}

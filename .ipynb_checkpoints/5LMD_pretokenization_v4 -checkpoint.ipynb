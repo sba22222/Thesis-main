{
 "cells": [
  {
   "cell_type": "markdown",
   "metadata": {},
   "source": [
    "To run this code you need to first create a hugging face account. "
   ]
  },
  {
   "cell_type": "markdown",
   "metadata": {
    "id": "NPmkrdB1s18k"
   },
   "source": [
    "## Install necessary libraries"
   ]
  },
  {
   "cell_type": "code",
   "execution_count": 1,
   "metadata": {
    "id": "yPGNyAscsvzD"
   },
   "outputs": [],
   "source": [
    "#!pip install datasets transformers\n",
    "#!pip install wandb"
   ]
  },
  {
   "cell_type": "code",
   "execution_count": 2,
   "metadata": {},
   "outputs": [],
   "source": [
    "# Import the load_dataset function from the 'datasets' library for dataset loading\n",
    "from datasets import load_dataset\n",
    "\n",
    "# Import AutoTokenizer from the 'transformers' library for handling tokenization\n",
    "from transformers import AutoTokenizer\n",
    "\n",
    "# Import Tokenizer, WordLevel model, WhitespaceSplit pre_tokenizer, and WordLevelTrainer from the 'tokenizers' library\n",
    "from tokenizers import Tokenizer\n",
    "from tokenizers.models import WordLevel\n",
    "from tokenizers.pre_tokenizers import WhitespaceSplit\n",
    "from tokenizers.trainers import WordLevelTrainer\n",
    "\n",
    "# Import PreTrainedTokenizerFast from the 'transformers' library for efficient tokenization\n",
    "from transformers import PreTrainedTokenizerFast\n",
    "\n",
    "# Import notebook_login from the 'huggingface_hub' library for logging into the Hugging Face Model Hub\n",
    "from huggingface_hub import notebook_login\n",
    "\n",
    "# Import pandas for data manipulation\n",
    "import pandas as pd\n",
    "\n",
    "# Import wandb for logging experiments with Weights & Biases\n",
    "import wandb"
   ]
  },
  {
   "cell_type": "code",
   "execution_count": 3,
   "metadata": {},
   "outputs": [],
   "source": [
    "# Set parameters for WandB (Weights & Biases) integration\n",
    "wandb_project = \"lmd_musicgen\"\n",
    "entity = \"musicgen\"\n",
    "data_processed = \"lmd_processed\""
   ]
  },
  {
   "cell_type": "markdown",
   "metadata": {
    "id": "Z4vQF0ZdtPzP"
   },
   "source": [
    "## Download Dataset from Hugging Face"
   ]
  },
  {
   "cell_type": "code",
   "execution_count": 4,
   "metadata": {
    "id": "3Se37G7o30ap"
   },
   "outputs": [
    {
     "name": "stderr",
     "output_type": "stream",
     "text": [
      "Found cached dataset parquet (C:/Users/naomi/.cache/huggingface/datasets/juancopi81___parquet/juancopi81--mmm_track_lmd_8bars_nots-449984f4d6dfe7ce/0.0.0/2a3b91fbd88a2c90d1dbbb32b460cf621d31bd5b05b934492fdef7d8d6f236ec)\n"
     ]
    },
    {
     "data": {
      "text/plain": [
       "DatasetDict({\n",
       "    train: Dataset({\n",
       "        features: ['text'],\n",
       "        num_rows: 159810\n",
       "    })\n",
       "    test: Dataset({\n",
       "        features: ['text'],\n",
       "        num_rows: 17757\n",
       "    })\n",
       "})"
      ]
     },
     "execution_count": 4,
     "metadata": {},
     "output_type": "execute_result"
    }
   ],
   "source": [
    "# Import necessary library or module for loading datasets\n",
    "from datasets import load_dataset\n",
    "\n",
    "# Load the dataset named \"juancopi81/mmm_track_lmd_8bars_nots\" with the \"train\" split\n",
    "ds = load_dataset(\"juancopi81/mmm_track_lmd_8bars_nots\", split=\"train\")\n",
    "\n",
    "# Split the loaded dataset into training and testing sets\n",
    "# Set test_size to 0.1, indicating that 10% of the data will be used for testing\n",
    "# Shuffle the data to ensure randomness in the selection of training and testing samples\n",
    "raw_datasets = ds.train_test_split(test_size=0.1, shuffle=True)\n",
    "\n",
    "# Display the resulting raw datasets, which now consist of training and testing sets\n",
    "raw_datasets\n"
   ]
  },
  {
   "cell_type": "markdown",
   "metadata": {
    "id": "ea__1shIWfLO"
   },
   "source": [
    "## Train the tokenizer"
   ]
  },
  {
   "cell_type": "markdown",
   "metadata": {
    "id": "xll9nVvzWqYQ"
   },
   "source": [
    "Let's start by seeing how the default GPT-2 tokenizer works on our dataset"
   ]
  },
  {
   "cell_type": "code",
   "execution_count": 5,
   "metadata": {
    "id": "3M_cWJdcW41U"
   },
   "outputs": [
    {
     "data": {
      "text/plain": [
       "'PIECE_START  GENRE=OTHER TRACK_START INST=0 DENSITY=0 BAR_START BAR_END BAR_START BAR_END BAR_START BAR_END BAR_START BAR_END BAR_START BAR_END BAR_START BAR_END BAR_START BAR_END BAR_START BAR_END TRACK_END TRACK_START INST=43 DENSITY=0 BAR_'"
      ]
     },
     "execution_count": 5,
     "metadata": {},
     "output_type": "execute_result"
    }
   ],
   "source": [
    "# Extract the \"text\" field from the \"train\" split of the raw_datasets\n",
    "\n",
    "# Select the 11th sample (index 10 since indexing starts at 0) from the \"train\" split\n",
    "sample_10 = raw_datasets[\"train\"][\"text\"][10]\n",
    "\n",
    "# Extract a substring from the selected sample, taking the first 242 characters\n",
    "sample = sample_10[:242]\n",
    "\n",
    "# Display the resulting substring (sample)\n",
    "sample\n"
   ]
  },
  {
   "cell_type": "code",
   "execution_count": 6,
   "metadata": {
    "id": "KI7Nv3ldWnpo"
   },
   "outputs": [
    {
     "name": "stdout",
     "output_type": "stream",
     "text": [
      "['PI', 'EC', 'E', '_', 'ST', 'ART', 'Ġ', 'ĠGEN', 'RE', '=', 'OTHER', 'ĠTR', 'ACK', '_', 'ST', 'ART', 'ĠINST', '=', '0', 'ĠD', 'ENS', 'ITY', '=', '0', 'ĠBAR', '_', 'ST', 'ART', 'ĠBAR', '_', 'END', 'ĠBAR', '_', 'ST', 'ART', 'ĠBAR', '_', 'END', 'ĠBAR', '_', 'ST', 'ART', 'ĠBAR', '_', 'END', 'ĠBAR', '_', 'ST', 'ART', 'ĠBAR', '_', 'END', 'ĠBAR', '_', 'ST', 'ART', 'ĠBAR', '_', 'END', 'ĠBAR', '_', 'ST', 'ART', 'ĠBAR', '_', 'END', 'ĠBAR', '_', 'ST', 'ART', 'ĠBAR', '_', 'END', 'ĠBAR', '_', 'ST', 'ART', 'ĠBAR', '_', 'END', 'ĠTR', 'ACK', '_', 'END', 'ĠTR', 'ACK', '_', 'ST', 'ART', 'ĠINST', '=', '43', 'ĠD', 'ENS', 'ITY', '=', '0', 'ĠBAR', '_']\n"
     ]
    }
   ],
   "source": [
    "# Load the pre-trained GPT-2 tokenizer\n",
    "tokenizer = AutoTokenizer.from_pretrained(\"gpt2\")\n",
    "\n",
    "# Print the tokens obtained by tokenizing the 'sample' using the GPT-2 tokenizer\n",
    "# The 'sample' is a text string, and the .tokens() method returns the list of tokens\n",
    "print(tokenizer(sample).tokens())\n"
   ]
  },
  {
   "cell_type": "markdown",
   "metadata": {
    "id": "p_mFOkvYXj00"
   },
   "source": [
    "Not the best since it's not familiar with this English vocabulary, the tokenizer is using quite a few subwords. The tokenizer process involves four steps: \n",
    "\n",
    "1. Normalization, \n",
    "2. Pretokenization, \n",
    "3. Applying the tokenizer model, and \n",
    "4. Postprocessing. \n",
    "\n",
    "Let's break down each step in our example."
   ]
  },
  {
   "cell_type": "markdown",
   "metadata": {
    "id": "K3BDqfunZmwi"
   },
   "source": [
    "### 1. Normalization\n",
    "\n",
    "In the normalization step, we perform *\"general cleanup, such as eliminating unnecessary whitespace, converting to lowercase, and/or removing accents...\"* as per the HF course.\n",
    "\n",
    "Since our vocabulary is already normalized, there's no requirement to eliminate whitespace, convert to lowercase, or perform any additional cleanup. This step can be bypassed."
   ]
  },
  {
   "cell_type": "markdown",
   "metadata": {
    "id": "KDKaWJI2aAxZ"
   },
   "source": [
    "### 2. Pretokenization\n",
    "\n",
    "*\"As outlined in the upcoming sections, training a tokenizer solely on raw text is not feasible. The initial step involves breaking down the texts into smaller units, such as words. This is where the pre-tokenization step becomes crucial. As demonstrated in Chapter 2, a word-based tokenizer can easily segment raw text into words based on whitespace and punctuation.\"* HF course.\n",
    "\n",
    "In our scenario, this step is straightforward; our pretokenization aims to segment our text into \"words\" since our dataset is already a sequence of tokens. Therefore, a Whitespace pre_tokenizer would be suitable here. Once again, the chosen model is \"WordLevel\"."
   ]
  },
  {
   "cell_type": "code",
   "execution_count": 7,
   "metadata": {
    "id": "uXenQmkeXjbQ"
   },
   "outputs": [],
   "source": [
    "# Initialize a new tokenizer with the WordLevel model\n",
    "# The 'unk_token=\"[UNK]\"' parameter sets the token to be used for unknown or out-of-vocabulary words\n",
    "new_tokenizer = Tokenizer(model=WordLevel(unk_token=\"[UNK]\"))"
   ]
  },
  {
   "cell_type": "code",
   "execution_count": 8,
   "metadata": {
    "id": "Hmzkr1Pia44T"
   },
   "outputs": [],
   "source": [
    "# Assign the WhitespaceSplit pre_tokenizer to the 'pre_tokenizer' attribute of the new_tokenizer\n",
    "new_tokenizer.pre_tokenizer = WhitespaceSplit()"
   ]
  },
  {
   "cell_type": "code",
   "execution_count": 9,
   "metadata": {
    "id": "_WzVrCZjXc4T"
   },
   "outputs": [
    {
     "data": {
      "text/plain": [
       "[('PIECE_START', (0, 11)),\n",
       " ('GENRE=OTHER', (13, 24)),\n",
       " ('TRACK_START', (25, 36)),\n",
       " ('INST=0', (37, 43)),\n",
       " ('DENSITY=0', (44, 53)),\n",
       " ('BAR_START', (54, 63)),\n",
       " ('BAR_END', (64, 71)),\n",
       " ('BAR_START', (72, 81)),\n",
       " ('BAR_END', (82, 89)),\n",
       " ('BAR_START', (90, 99)),\n",
       " ('BAR_END', (100, 107)),\n",
       " ('BAR_START', (108, 117)),\n",
       " ('BAR_END', (118, 125)),\n",
       " ('BAR_START', (126, 135)),\n",
       " ('BAR_END', (136, 143)),\n",
       " ('BAR_START', (144, 153)),\n",
       " ('BAR_END', (154, 161)),\n",
       " ('BAR_START', (162, 171)),\n",
       " ('BAR_END', (172, 179)),\n",
       " ('BAR_START', (180, 189)),\n",
       " ('BAR_END', (190, 197)),\n",
       " ('TRACK_END', (198, 207)),\n",
       " ('TRACK_START', (208, 219)),\n",
       " ('INST=43', (220, 227)),\n",
       " ('DENSITY=0', (228, 237)),\n",
       " ('BAR_', (238, 242))]"
      ]
     },
     "execution_count": 9,
     "metadata": {},
     "output_type": "execute_result"
    }
   ],
   "source": [
    "# Let's test our pre_tokenizer\n",
    "new_tokenizer.pre_tokenizer.pre_tokenize_str(sample)"
   ]
  },
  {
   "cell_type": "markdown",
   "metadata": {
    "id": "lA6hiwT1ch7J"
   },
   "source": [
    "### 3. Tokenizer model training"
   ]
  },
  {
   "cell_type": "code",
   "execution_count": 10,
   "metadata": {
    "id": "SkY5sbQqb-WQ"
   },
   "outputs": [],
   "source": [
    "# This function will yield the samples to train our tokenizer\n",
    "# Define a function named 'get_training_corpus' to generate training data in chunks\n",
    "def get_training_corpus():\n",
    "  # Access the \"train\" split of the raw_datasets\n",
    "  dataset = raw_datasets[\"train\"]\n",
    "  \n",
    "  # Iterate through the dataset in chunks of 1000 samples\n",
    "  for i in range(0, len(dataset), 1000):\n",
    "    # Yield the \"text\" field of each chunk, creating a generator for training corpus\n",
    "    yield dataset[i : i + 1000][\"text\"]"
   ]
  },
  {
   "cell_type": "code",
   "execution_count": 11,
   "metadata": {
    "id": "cVSePJPheV-D"
   },
   "outputs": [],
   "source": [
    "# Initialize a WordLevelTrainer for training a WordLevel tokenizer\n",
    "# The trainer is configured with special tokens including \"[UNK]\", \"[CLS]\", \"[SEP]\", \"[PAD]\", and \"[MASK]\"\n",
    "trainer = WordLevelTrainer(\n",
    "    special_tokens=[\"[UNK]\", \"[CLS]\", \"[SEP]\", \"[PAD]\", \"[MASK]\"]\n",
    ")"
   ]
  },
  {
   "cell_type": "markdown",
   "metadata": {},
   "source": [
    "**[UNK] (Unknown Token):**\n",
    "Represents unknown or out-of-vocabulary words. When the tokenizer encounters a word not present in its vocabulary, it replaces the unknown word with \"[UNK]\" during tokenization.Handles words that are not part of the model's training vocabulary, ensuring that even unseen words can be represented.<br>\n",
    "**[CLS] (Classification Token):**\n",
    "Represents the beginning of a sequence or a classification task. It is often used in conjunction with sequence classification tasks or sentence-level embeddings. Indicates the start of a sequence, helping models understand the structure of input data and facilitating tasks like sentence classification.<br>\n",
    "**[SEP] (Separator Token)**\n",
    "Represents the separation between two segments in a sequence. Commonly used to separate sentences or segments in tasks like question-answering or text generation. Helps the model distinguish between different parts of the input sequence, guiding the model to understand relationships between segments.<br>\n",
    "**[PAD] (Padding Token)**\n",
    "Represents padding in sequences. It is used to make sequences of variable lengths equal in size by adding padding tokens to shorter sequences. Ensures that input sequences have consistent lengths, allowing for efficient batch processing during training and inference.<br>\n",
    "**[MASK] (Mask Token)**\n",
    "Used in masked language modeling tasks. During training, some words are replaced with \"[MASK]\" tokens, and the model is tasked with predicting the original words based on the context. Supports the pre-training of language models by training the model to predict missing or masked words, enhancing its ability to understand context and relationships between words.<br>"
   ]
  },
  {
   "cell_type": "code",
   "execution_count": 12,
   "metadata": {
    "id": "ACDL4HrOeqxR"
   },
   "outputs": [],
   "source": [
    "# Train the 'new_tokenizer' using the training data generated by the 'get_training_corpus' function\n",
    "# The training is performed with the specified 'trainer', which is a WordLevelTrainer\n",
    "new_tokenizer.train_from_iterator(get_training_corpus(), trainer=trainer)"
   ]
  },
  {
   "cell_type": "markdown",
   "metadata": {
    "id": "lDfKKcxRfEs5"
   },
   "source": [
    "### 4. Post processing and save it to the hub"
   ]
  },
  {
   "cell_type": "code",
   "execution_count": 13,
   "metadata": {
    "id": "1JnIQDVpfB8i"
   },
   "outputs": [
    {
     "data": {
      "text/plain": [
       "0"
      ]
     },
     "execution_count": 13,
     "metadata": {},
     "output_type": "execute_result"
    }
   ],
   "source": [
    "# Save the trained 'new_tokenizer' to a file named \"tokenizer.json\"\n",
    "new_tokenizer.save(\"tokenizer.json\")\n",
    "\n",
    "# Load the saved tokenizer from \"tokenizer.json\" and create a new instance of PreTrainedTokenizerFast\n",
    "new_tokenizer = PreTrainedTokenizerFast(tokenizer_file=\"tokenizer.json\")\n",
    "\n",
    "# Add a special token, '[PAD]', to the loaded tokenizer\n",
    "new_tokenizer.add_special_tokens({'pad_token': '[PAD]'})\n",
    "\n",
    "# We will receive '0' as output if saving was successful with no errors"
   ]
  },
  {
   "cell_type": "markdown",
   "metadata": {},
   "source": [
    "You must create an 'Access Token' in hugging face with the same name as the new tokenizer to run the below. i.e. pop909_tokenizer."
   ]
  },
  {
   "cell_type": "code",
   "execution_count": 14,
   "metadata": {
    "id": "Z_87egVqfdj4"
   },
   "outputs": [
    {
     "data": {
      "application/vnd.jupyter.widget-view+json": {
       "model_id": "d476d0a099a04ff4969a929fbcd2ec66",
       "version_major": 2,
       "version_minor": 0
      },
      "text/plain": [
       "VBox(children=(HTML(value='<center> <img\\nsrc=https://huggingface.co/front/assets/huggingface_logo-noborder.sv…"
      ]
     },
     "metadata": {},
     "output_type": "display_data"
    }
   ],
   "source": [
    "# Log in to the Hugging Face Model Hub \n",
    "notebook_login()"
   ]
  },
  {
   "cell_type": "code",
   "execution_count": 28,
   "metadata": {
    "id": "aEWOdTATfhja"
   },
   "outputs": [
    {
     "data": {
      "text/plain": [
       "CommitInfo(commit_url='https://huggingface.co/aimusicgen/lmd_tokenizer/commit/fce7dab92a08aa2925bdfa46c94f8dadbd78e141', commit_message='Upload tokenizer', commit_description='', oid='fce7dab92a08aa2925bdfa46c94f8dadbd78e141', pr_url=None, pr_revision=None, pr_num=None)"
      ]
     },
     "execution_count": 28,
     "metadata": {},
     "output_type": "execute_result"
    }
   ],
   "source": [
    "# Push the trained 'new_tokenizer' to the Hugging Face Model Hub \n",
    "new_tokenizer.push_to_hub(\"aimusicgen/lmd_tokenizer\")"
   ]
  },
  {
   "cell_type": "code",
   "execution_count": 29,
   "metadata": {
    "id": "hl7Nvik4gC5A"
   },
   "outputs": [
    {
     "data": {
      "application/vnd.jupyter.widget-view+json": {
       "model_id": "54212872232d438e833f9b8a5e266d98",
       "version_major": 2,
       "version_minor": 0
      },
      "text/plain": [
       "Downloading tokenizer_config.json:   0%|          | 0.00/146 [00:00<?, ?B/s]"
      ]
     },
     "metadata": {},
     "output_type": "display_data"
    },
    {
     "data": {
      "application/vnd.jupyter.widget-view+json": {
       "model_id": "ce1ca5ba3ad94174b4cde2fad1b414dd",
       "version_major": 2,
       "version_minor": 0
      },
      "text/plain": [
       "Downloading tokenizer.json:   0%|          | 0.00/599k [00:00<?, ?B/s]"
      ]
     },
     "metadata": {},
     "output_type": "display_data"
    },
    {
     "data": {
      "application/vnd.jupyter.widget-view+json": {
       "model_id": "f9de85f3f9ca497daf1176058adfdcbc",
       "version_major": 2,
       "version_minor": 0
      },
      "text/plain": [
       "Downloading (…)cial_tokens_map.json:   0%|          | 0.00/27.0 [00:00<?, ?B/s]"
      ]
     },
     "metadata": {},
     "output_type": "display_data"
    }
   ],
   "source": [
    "# Load a pre-trained tokenizer using the AutoTokenizer class from the Hugging Face Model Hub\n",
    "# The tokenizer is loaded from the repository named \"aimusicgen/lmd_tokenizer\"\n",
    "load_tokenizer = AutoTokenizer.from_pretrained(\"aimusicgen/lmd_tokenizer\")"
   ]
  },
  {
   "cell_type": "code",
   "execution_count": 30,
   "metadata": {
    "id": "BHgHPrBggPG4"
   },
   "outputs": [
    {
     "data": {
      "text/plain": [
       "{'input_ids': [194, 780, 41, 173, 95, 6, 5, 6, 5, 6, 5, 6, 5, 6, 5, 6, 5, 6, 5, 6, 5, 40, 41, 1779, 95, 0], 'token_type_ids': [0, 0, 0, 0, 0, 0, 0, 0, 0, 0, 0, 0, 0, 0, 0, 0, 0, 0, 0, 0, 0, 0, 0, 0, 0, 0], 'attention_mask': [1, 1, 1, 1, 1, 1, 1, 1, 1, 1, 1, 1, 1, 1, 1, 1, 1, 1, 1, 1, 1, 1, 1, 1, 1, 1]}"
      ]
     },
     "execution_count": 30,
     "metadata": {},
     "output_type": "execute_result"
    }
   ],
   "source": [
    "# Tokenize the 'sample' text using the pre-trained 'load_tokenizer'\n",
    "# The 'sample' text is expected to be processed into a sequence of tokens\n",
    "load_tokenizer(sample)"
   ]
  },
  {
   "cell_type": "markdown",
   "metadata": {},
   "source": [
    "What we can see here is the tokenized text in the form of dictionaries.<br>\n",
    "\n",
    "**input_ids:** Represents the tokenized input sequence where each number corresponds to a specific token.Each number corresponds to a token in the vocabulary.<br>\n",
    "\n",
    "**token_type_ids:** Represents the segment or sentence to which each token belongs. All tokens in the sequence belong to the same segment or sentence (segment 0). <br>\n",
    "\n",
    "**attention_mask:** Represents the attention mask indicating which tokens should be attended to (have a value of 1) and which should be ignored (have a value of 0). All tokens in the sequence are attended to, indicating that none should be ignored."
   ]
  },
  {
   "cell_type": "code",
   "execution_count": 31,
   "metadata": {
    "id": "HCLmX2TMgQy5"
   },
   "outputs": [
    {
     "data": {
      "text/plain": [
       "['PIECE_START',\n",
       " 'GENRE=OTHER',\n",
       " 'TRACK_START',\n",
       " 'INST=0',\n",
       " 'DENSITY=0',\n",
       " 'BAR_START',\n",
       " 'BAR_END',\n",
       " 'BAR_START',\n",
       " 'BAR_END',\n",
       " 'BAR_START',\n",
       " 'BAR_END',\n",
       " 'BAR_START',\n",
       " 'BAR_END',\n",
       " 'BAR_START',\n",
       " 'BAR_END',\n",
       " 'BAR_START',\n",
       " 'BAR_END',\n",
       " 'BAR_START',\n",
       " 'BAR_END',\n",
       " 'BAR_START',\n",
       " 'BAR_END',\n",
       " 'TRACK_END',\n",
       " 'TRACK_START',\n",
       " 'INST=43',\n",
       " 'DENSITY=0',\n",
       " '[UNK]']"
      ]
     },
     "execution_count": 31,
     "metadata": {},
     "output_type": "execute_result"
    }
   ],
   "source": [
    "# Tokenize the 'sample' text using the pre-trained 'load_tokenizer'\n",
    "# Retrieve and display the list of tokens obtained from the tokenization process\n",
    "load_tokenizer(sample).tokens()"
   ]
  },
  {
   "cell_type": "code",
   "execution_count": 32,
   "metadata": {
    "id": "QjRhfQAZgTRR"
   },
   "outputs": [
    {
     "name": "stdout",
     "output_type": "stream",
     "text": [
      "['PIECE_START', 'GENRE=OTHER', 'TRACK_START', 'INST=0', 'DENSITY=0', 'BAR_START', 'BAR_END', 'BAR_START', 'BAR_END', 'BAR_START', 'BAR_END', 'BAR_START', 'BAR_END', 'BAR_START', 'BAR_END', 'BAR_START', 'BAR_END', 'BAR_START', 'BAR_END', 'BAR_START', 'BAR_END', 'TRACK_END', 'TRACK_START', 'INST=43', 'DENSITY=0', '[UNK]']\n"
     ]
    }
   ],
   "source": [
    "# Load a pre-trained tokenizer using the AutoTokenizer class from the Hugging Face Model Hub\n",
    "# The tokenizer is loaded from the repository named \"aimusicgen/lmd_tokenizer\"\n",
    "tokenizer = AutoTokenizer.from_pretrained(\"aimusicgen/lmd_tokenizer\")\n",
    "\n",
    "# Tokenize the 'sample' text using the loaded tokenizer\n",
    "# Print and display the list of tokens obtained from the tokenization process\n",
    "print(tokenizer(sample).tokens())"
   ]
  },
  {
   "cell_type": "code",
   "execution_count": 33,
   "metadata": {
    "id": "ZYzMkkHgMucc"
   },
   "outputs": [
    {
     "data": {
      "text/plain": [
       "{'TIME_DELTA=6.135416666666667': 5536,\n",
       " 'TIME_DELTA=14.864583333333332': 11884,\n",
       " 'TIME_DELTA=3.3125000000000004': 4853,\n",
       " 'TIME_DELTA=3.0999999999999988': 13364,\n",
       " 'TIME_DELTA=0.18749999999999956': 2013,\n",
       " 'TIME_DELTA=0.5312500000000018': 4786,\n",
       " 'TIME_DELTA=0.2777777777777781': 9629,\n",
       " 'TIME_DELTA=4.137931034482759': 13461,\n",
       " 'TIME_DELTA=0.031249999999998224': 3006,\n",
       " 'TIME_DELTA=8.583333333333334': 2229,\n",
       " 'TIME_DELTA=0.25925925925925924': 10412,\n",
       " 'TIME_DELTA=2.816666666666667': 3153,\n",
       " 'TIME_DELTA=4.031249999999999': 8485,\n",
       " 'TIME_DELTA=8.591666666666667': 8425,\n",
       " 'TIME_DELTA=3.302083333333334': 3955,\n",
       " 'TIME_DELTA=10.366666666666667': 4558,\n",
       " 'TIME_DELTA=1.6562499999999996': 7024,\n",
       " 'TIME_DELTA=3.6916666666666664': 3988,\n",
       " 'TIME_DELTA=0.36666666666666675': 12510,\n",
       " 'TIME_DELTA=1.9666666666666686': 5257,\n",
       " 'TIME_DELTA=3.5083333333333337': 7046,\n",
       " 'TIME_DELTA=21.925': 13293,\n",
       " 'TIME_DELTA=0.9375000000000009': 2264,\n",
       " 'TIME_DELTA=14.697916666666666': 6921,\n",
       " 'TIME_DELTA=6.9333333333333345': 13669,\n",
       " 'TIME_DELTA=2.216666666666666': 11303,\n",
       " 'TIME_DELTA=3.1041666666666665': 1407,\n",
       " 'TIME_DELTA=0.10833333333333295': 5217,\n",
       " 'TIME_DELTA=3.1458333333333335': 1404,\n",
       " 'TIME_DELTA=8.1': 2740,\n",
       " 'TIME_DELTA=5.2666666666666675': 5572,\n",
       " 'TIME_DELTA=5.437499999999998': 8577,\n",
       " 'TIME_DELTA=2.7249999999999996': 4008,\n",
       " 'TIME_DELTA=5.635416666666668': 6146,\n",
       " 'TIME_DELTA=7.312499999999998': 8986,\n",
       " 'TIME_DELTA=12.008333333333335': 9824,\n",
       " 'TIME_DELTA=5.066666666666668': 10938,\n",
       " 'TIME_DELTA=1.1916666666666667': 1858,\n",
       " 'TIME_DELTA=8.825': 8598,\n",
       " 'TIME_DELTA=6.531249999999998': 11478,\n",
       " 'TIME_DELTA=1.9333333333333333': 507,\n",
       " 'TIME_DELTA=6.885416666666668': 9440,\n",
       " 'TIME_DELTA=0.3666666666666689': 12511,\n",
       " 'TIME_DELTA=0.3666666666666667': 769,\n",
       " 'TIME_DELTA=2.0916666666666663': 10520,\n",
       " 'TIME_DELTA=0.09166666666666767': 6275,\n",
       " 'TIME_DELTA=8.197916666666668': 9449,\n",
       " 'TIME_DELTA=0.7500000000000009': 1245,\n",
       " 'TIME_DELTA=0.1458333333333357': 4465,\n",
       " 'TIME_DELTA=5.885416666666667': 4856,\n",
       " 'TIME_DELTA=11.8125': 2988,\n",
       " 'TIME_DELTA=15.383333333333333': 5502,\n",
       " 'TIME_DELTA=0.7708333333333337': 7694,\n",
       " 'TIME_DELTA=7.133333333333335': 9597,\n",
       " 'TIME_DELTA=0.8000000000000003': 2671,\n",
       " 'TIME_DELTA=8.066666666666668': 9961,\n",
       " 'TIME_DELTA=5.645833333333334': 4504,\n",
       " 'TIME_DELTA=2.7291666666666643': 10282,\n",
       " 'TIME_DELTA=5.556650246305419': 10598,\n",
       " 'TIME_DELTA=20.633333333333333': 10861,\n",
       " 'TIME_DELTA=6.450000000000001': 11475,\n",
       " 'TIME_DELTA=14.822916666666668': 11881,\n",
       " 'TIME_DELTA=2.1595092024539877': 11958,\n",
       " 'TIME_DELTA=0.3749999999999991': 987,\n",
       " 'TIME_DELTA=15.78125': 4907,\n",
       " 'TIME_DELTA=0.26041666666666785': 2078,\n",
       " 'TIME_DELTA=10.100000000000001': 9814,\n",
       " 'TIME_DELTA=8.697916666666666': 6350,\n",
       " 'TIME_DELTA=3.966666666666666': 7555,\n",
       " 'TIME_DELTA=4.900000000000001': 12190,\n",
       " 'TIME_DELTA=0.4479166666666665': 2494,\n",
       " 'TIME_DELTA=0.8166666666666647': 9011,\n",
       " 'TIME_DELTA=2.8854166666666665': 4456,\n",
       " 'TIME_DELTA=5.66666666666667': 12225,\n",
       " 'TIME_DELTA=13.950738916256158': 12997,\n",
       " 'TIME_DELTA=23.658333333333335': 13342,\n",
       " 'TIME_DELTA=3.0': 195,\n",
       " 'TIME_DELTA=2.6874999999999982': 5655,\n",
       " 'TIME_DELTA=3.8916666666666675': 5926,\n",
       " 'TIME_DELTA=0.33333333333333304': 152,\n",
       " 'TIME_DELTA=8.748768472906404': 13793,\n",
       " 'TIME_DELTA=1.0555555555555556': 6982,\n",
       " 'TIME_DELTA=10.766666666666666': 7388,\n",
       " 'TIME_DELTA=2.016666666666666': 11294,\n",
       " 'TIME_DELTA=9.697916666666664': 13837,\n",
       " 'TIME_DELTA=6.183333333333335': 12256,\n",
       " 'TIME_DELTA=7.916666666666667': 624,\n",
       " 'TIME_DELTA=7.041666666666664': 11497,\n",
       " 'TIME_DELTA=1.479166666666667': 827,\n",
       " 'TIME_DELTA=8.433333333333334': 3870,\n",
       " 'NOTE_ON=9': 6974,\n",
       " 'TIME_DELTA=7.697916666666668': 6724,\n",
       " 'TIME_DELTA=9.533333333333331': 12374,\n",
       " 'TIME_DELTA=2.239583333333335': 13190,\n",
       " 'TIME_DELTA=14.016666666666666': 11247,\n",
       " 'TIME_DELTA=0.9479166666666679': 3113,\n",
       " 'TIME_DELTA=7.270833333333336': 9748,\n",
       " 'TIME_DELTA=0.24999999999999956': 1124,\n",
       " 'TIME_DELTA=5.424999999999999': 11443,\n",
       " 'TIME_DELTA=2.9062499999999982': 8751,\n",
       " 'TIME_DELTA=2.066666666666666': 11955,\n",
       " 'TIME_DELTA=0.23333333333333317': 2726,\n",
       " 'TIME_DELTA=12.322916666666666': 8929,\n",
       " 'TIME_DELTA=2.3437500000000018': 10831,\n",
       " 'TIME_DELTA=9.833333333333334': 1292,\n",
       " 'TIME_DELTA=3.166666666666667': 1161,\n",
       " 'TIME_DELTA=3.552713678800501e-15': 3124,\n",
       " 'TIME_DELTA=0.21666666666666634': 4665,\n",
       " 'TIME_DELTA=8.104166666666668': 4954,\n",
       " 'TIME_DELTA=18.770833333333332': 11941,\n",
       " 'TIME_DELTA=7.900000000000001': 11524,\n",
       " 'TIME_DELTA=16.033333333333335': 9676,\n",
       " 'TIME_DELTA=4.947916666666667': 5265,\n",
       " 'TIME_DELTA=3.354166666666665': 7938,\n",
       " 'TIME_DELTA=11.175': 9656,\n",
       " 'TIME_DELTA=7.729166666666665': 9955,\n",
       " 'TIME_DELTA=2.947916666666668': 8854,\n",
       " 'TIME_DELTA=4.104166666666666': 3203,\n",
       " 'TIME_DELTA=1.3125000000000004': 3217,\n",
       " 'TIME_DELTA=7.858333333333334': 6149,\n",
       " 'TIME_DELTA=8.802083333333334': 7458,\n",
       " 'TIME_DELTA=11.916666666666664': 8061,\n",
       " 'TIME_DELTA=6.270833333333334': 5148,\n",
       " 'TIME_DELTA=6.158333333333334': 10972,\n",
       " 'TIME_DELTA=7.749999999999998': 5888,\n",
       " 'TIME_DELTA=3.895833333333335': 8867,\n",
       " 'TIME_DELTA=4.341666666666665': 11414,\n",
       " 'TIME_DELTA=0.5875000000000004': 12568,\n",
       " 'TIME_DELTA=3.927083333333332': 6756,\n",
       " 'TIME_DELTA=2.145833333333335': 11298,\n",
       " 'TIME_DELTA=5.614583333333332': 8163,\n",
       " 'TIME_DELTA=0.1333333333333364': 7689,\n",
       " 'TIME_DELTA=3.104166666666668': 4118,\n",
       " 'TIME_DELTA=1.1166666666666663': 3705,\n",
       " 'TIME_DELTA=13.599999999999998': 11852,\n",
       " 'TIME_DELTA=1.6333333333333346': 2806,\n",
       " 'TIME_DELTA=0.6166666666666671': 951,\n",
       " 'TIME_DELTA=0.11666666666666665': 5914,\n",
       " 'TIME_DELTA=10.891666666666667': 7432,\n",
       " 'TIME_DELTA=5.308333333333332': 11442,\n",
       " 'TIME_DELTA=0.27500000000000036': 803,\n",
       " 'TIME_DELTA=11.5': 1717,\n",
       " 'TIME_DELTA=1.5083333333333329': 2111,\n",
       " 'TIME_DELTA=14.229166666666666': 4271,\n",
       " 'TIME_DELTA=0.0875': 10165,\n",
       " 'TIME_DELTA=12.649999999999999': 10244,\n",
       " 'TIME_DELTA=0.5499999999999994': 12554,\n",
       " 'TIME_DELTA=11.908333333333333': 6035,\n",
       " 'TIME_DELTA=0.08750000000000036': 11055,\n",
       " 'TIME_DELTA=2.874999999999999': 2424,\n",
       " 'TIME_DELTA=0.9687500000000001': 6699,\n",
       " 'TIME_DELTA=5.175000000000001': 8966,\n",
       " 'TIME_DELTA=7.458333333333334': 2906,\n",
       " 'TIME_DELTA=2.5555555555555554': 10838,\n",
       " 'TIME_DELTA=0.1916666666666666': 11069,\n",
       " 'TIME_DELTA=0.6111111111111109': 12574,\n",
       " 'TIME_DELTA=2.608333333333334': 9545,\n",
       " 'TIME_DELTA=9.541666666666664': 12376,\n",
       " 'TIME_DELTA=1.8416666666666677': 12782,\n",
       " 'TIME_DELTA=11.4': 4139,\n",
       " 'TIME_DELTA=0.024539877300613355': 12392,\n",
       " 'TIME_DELTA=1.7000000000000028': 12755,\n",
       " 'TIME_DELTA=3.749999999999999': 2114,\n",
       " 'TIME_DELTA=9.475000000000001': 13826,\n",
       " 'TIME_DELTA=10.208333333333332': 4836,\n",
       " 'TIME_DELTA=12.891666666666666': 11840,\n",
       " 'TIME_DELTA=0.05555555555555547': 12403,\n",
       " 'TIME_DELTA=6.083333333333334': 2998,\n",
       " 'TIME_DELTA=6.197916666666668': 6368,\n",
       " 'TIME_DELTA=10.133333333333333': 3924,\n",
       " 'TIME_DELTA=3.533333333333335': 7264,\n",
       " 'TIME_DELTA=4.270833333333336': 10581,\n",
       " 'TIME_DELTA=0.1333333333333293': 12433,\n",
       " 'TIME_DELTA=15.358333333333334': 10501,\n",
       " 'TIME_DELTA=1.0625000000000004': 2896,\n",
       " 'TIME_DELTA=6.616666666666667': 6460,\n",
       " 'TIME_DELTA=6.591666666666668': 9186,\n",
       " 'TIME_DELTA=7.016666666666666': 8103,\n",
       " 'TIME_DELTA=5.90625': 4518,\n",
       " 'TIME_DELTA=1.0666666666666647': 7587,\n",
       " 'TIME_DELTA=0.22916666666666652': 654,\n",
       " 'TIME_DELTA=14.270833333333332': 8839,\n",
       " 'TIME_DELTA=6.566666666666667': 9185,\n",
       " 'NOTE_ON=22': 954,\n",
       " 'TIME_DELTA=6.572916666666666': 9591,\n",
       " 'TIME_DELTA=3.716666666666665': 8482,\n",
       " '=9_8': 6335,\n",
       " 'TIME_DELTA=0.20833333333333315': 6403,\n",
       " 'TIME_DELTA=0.06666666666666599': 10401,\n",
       " 'TIME_DELTA=14.366666666666665': 10493,\n",
       " 'TIME_DELTA=5.850000000000001': 10961,\n",
       " 'TIME_DELTA=1.0750000000000006': 11153,\n",
       " 'TIME_DELTA=1.4687499999999998': 4942,\n",
       " 'TIME_DELTA=23.966666666666665': 6122,\n",
       " 'TIME_DELTA=0.26249999999999996': 12475,\n",
       " 'TIME_DELTA=11.208333333333336': 9657,\n",
       " 'TIME_DELTA=2.260416666666668': 6292,\n",
       " 'TIME_DELTA=10.697916666666668': 10230,\n",
       " 'TIME_DELTA=15.895833333333332': 7606,\n",
       " 'TIME_DELTA=1.4478527607361968': 12709,\n",
       " 'TIME_DELTA=3.4999999999999982': 3157,\n",
       " 'TIME_DELTA=11.770833333333332': 6341,\n",
       " 'TIME_DELTA=2.9374999999999964': 13256,\n",
       " 'TIME_DELTA=7.791666666666664': 9956,\n",
       " 'TIME_DELTA=0.7499999999999982': 1625,\n",
       " 'TIME_DELTA=3.1000000000000014': 6170,\n",
       " 'TIME_DELTA=5.477832512315271': 12217,\n",
       " 'TIME_DELTA=12.135416666666666': 7391,\n",
       " 'TIME_DELTA=8.479166666666666': 3623,\n",
       " 'TIME_DELTA=9.489583333333334': 8791,\n",
       " 'NOTE_OFF=47': 83,\n",
       " 'TIME_DELTA=3.1979166666666674': 13376,\n",
       " 'TIME_DELTA=18.633333333333333': 9680,\n",
       " 'TIME_DELTA=0.025000000000000355': 473,\n",
       " 'TIME_DELTA=10.008333333333333': 6384,\n",
       " 'TIME_DELTA=13.933333333333332': 12996,\n",
       " 'TIME_DELTA=2.645833333333335': 9698,\n",
       " 'TIME_DELTA=0.42708333333333315': 12521,\n",
       " 'TIME_DELTA=3.8750000000000018': 3881,\n",
       " 'TIME_DELTA=4.633333333333336': 13493,\n",
       " 'NOTE_OFF=23': 735,\n",
       " 'TIME_DELTA=7.374999999999999': 4124,\n",
       " 'TIME_DELTA=13.3': 4662,\n",
       " 'GENRE=SKA': 9113,\n",
       " 'TIME_DELTA=0.039408866995073955': 12399,\n",
       " 'TIME_DELTA=5.802083333333333': 4717,\n",
       " 'TIME_DELTA=5.531250000000001': 12219,\n",
       " 'TIME_DELTA=13.625': 2510,\n",
       " 'TIME_DELTA=12.925': 9041,\n",
       " 'TIME_DELTA=2.8229166666666674': 13246,\n",
       " 'TIME_DELTA=5.241666666666668': 13543,\n",
       " 'TIME_DELTA=2.5416666666666665': 567,\n",
       " 'INST=69': 2718,\n",
       " 'TIME_DELTA=9.885416666666666': 7062,\n",
       " 'TIME_DELTA=7.574074074074074': 13712,\n",
       " 'TIME_DELTA=0.8229166666666667': 3602,\n",
       " 'TIME_DELTA=3.499999999999999': 2141,\n",
       " 'TIME_DELTA=2.84375': 3301,\n",
       " 'TIME_DELTA=7.833333333333332': 1137,\n",
       " 'TIME_DELTA=8.3': 3738,\n",
       " 'TIME_DELTA=6.991666666666666': 7056,\n",
       " 'TIME_DELTA=11.458333333333336': 10477,\n",
       " 'TIME_DELTA=21.866666666666667': 12029,\n",
       " 'TIME_DELTA=0.02083333333333337': 946,\n",
       " 'TIME_DELTA=11.975': 4859,\n",
       " 'TIME_DELTA=0.04999999999999999': 3209,\n",
       " 'TIME_DELTA=4.770833333333336': 11424,\n",
       " 'TIME_DELTA=7.385416666666666': 7961,\n",
       " 'TIME_DELTA=6.083333333333335': 9435,\n",
       " 'TIME_DELTA=1.4333333333333333': 694,\n",
       " 'TIME_DELTA=12.125': 2289,\n",
       " 'TIME_DELTA=3.208333333333334': 878,\n",
       " 'TIME_DELTA=3.241666666666667': 5054,\n",
       " 'TIME_DELTA=11.979166666666666': 1887,\n",
       " 'TIME_DELTA=1.9374999999999998': 3383,\n",
       " 'TIME_DELTA=1.1500000000000001': 6771,\n",
       " 'TIME_DELTA=0.37500000000000006': 3077,\n",
       " 'TIME_DELTA=16.841666666666665': 13091,\n",
       " 'TIME_DELTA=0.39166666666666683': 5665,\n",
       " 'TIME_DELTA=15.916666666666666': 656,\n",
       " 'TIME_DELTA=0.966666666666667': 10715,\n",
       " 'TIME_DELTA=3.489583333333332': 7939,\n",
       " 'TIME_DELTA=0.5104166666666665': 2579,\n",
       " 'INST=43': 1779,\n",
       " 'TIME_DELTA=8.625': 2336,\n",
       " 'TIME_DELTA=2.1666666666666665': 393,\n",
       " 'TIME_DELTA=1.9916666666666663': 4667,\n",
       " 'TIME_DELTA=14.008333333333333': 7297,\n",
       " 'TIME_DELTA=3.1874999999999996': 4399,\n",
       " 'TIME_DELTA=16.0625': 9252,\n",
       " 'TIME_DELTA=1.7833333333333314': 9135,\n",
       " 'TIME_DELTA=0.8854166666666661': 1667,\n",
       " 'TIME_DELTA=7.816666666666668': 11523,\n",
       " 'TIME_DELTA=2.3541666666666696': 13199,\n",
       " 'TIME_DELTA=1.5666666666666682': 4520,\n",
       " 'TIME_DELTA=5.025': 4973,\n",
       " 'TIME_DELTA=1.7083333333333321': 963,\n",
       " 'TIME_DELTA=4.033333333333334': 7944,\n",
       " 'TIME_DELTA=1.010416666666666': 1893,\n",
       " 'NOTE_OFF=102': 1446,\n",
       " 'TIME_DELTA=8.0625': 2236,\n",
       " 'TIME_DELTA=1.4083333333333337': 8287,\n",
       " 'TIME_DELTA=0.17708333333333326': 3099,\n",
       " 'TIME_DELTA=13.399014778325123': 11241,\n",
       " 'TIME_DELTA=3.2166666666666677': 13378,\n",
       " 'TIME_DELTA=13.458333333333334': 2812,\n",
       " 'TIME_DELTA=2.604166666666666': 1282,\n",
       " 'TIME_DELTA=9.908333333333333': 6872,\n",
       " 'TIME_DELTA=0.19791666666666666': 1082,\n",
       " 'TIME_DELTA=2.8249999999999997': 10286,\n",
       " 'TIME_DELTA=2.1999999999999997': 4058,\n",
       " 'TIME_DELTA=0.8703703703703702': 11677,\n",
       " 'TIME_DELTA=1.104166666666667': 759,\n",
       " 'TIME_DELTA=0.05833333333333346': 10656,\n",
       " 'TIME_DELTA=0.031249999999999997': 12394,\n",
       " 'TIME_DELTA=0.1458333333333333': 11580,\n",
       " 'TIME_DELTA=22.808333333333334': 13315,\n",
       " 'TIME_DELTA=8.8125': 3616,\n",
       " 'TIME_DELTA=7.533333333333334': 6965,\n",
       " 'TIME_DELTA=0.2708333333333334': 10179,\n",
       " 'INST=102': 3125,\n",
       " 'TIME_DELTA=3.187500000000001': 3774,\n",
       " 'TIME_DELTA=7.05': 4978,\n",
       " 'TIME_DELTA=0.22916666666666785': 620,\n",
       " 'TIME_DELTA=1.958333333333334': 140,\n",
       " 'TIME_DELTA=0.7000000000000002': 619,\n",
       " 'TIME_DELTA=7.416666666666667': 1415,\n",
       " 'TIME_DELTA=0.11111111111111072': 3489,\n",
       " 'TIME_DELTA=13.395833333333334': 4654,\n",
       " 'TIME_DELTA=2.8000000000000003': 4893,\n",
       " 'TIME_DELTA=1.9333333333333327': 4927,\n",
       " 'TIME_DELTA=1.7395833333333321': 4958,\n",
       " 'TIME_DELTA=9.958333333333336': 5975,\n",
       " 'TIME_DELTA=2.2583333333333333': 3722,\n",
       " 'TIME_DELTA=0.760416666666667': 2137,\n",
       " 'TIME_DELTA=2.15625': 2609,\n",
       " 'TIME_DELTA=14.333333333333332': 5280,\n",
       " 'TIME_DELTA=5.739583333333332': 7622,\n",
       " 'TIME_DELTA=0.037037037037037035': 7975,\n",
       " 'TIME_DELTA=0.9999999999999991': 840,\n",
       " 'TIME_DELTA=1.1333333333333335': 5441,\n",
       " 'TIME_DELTA=2.6250000000000018': 4392,\n",
       " 'TIME_DELTA=3.5104166666666665': 4274,\n",
       " 'TIME_DELTA=10.291666666666668': 5278,\n",
       " 'TIME_DELTA=15.908333333333333': 5292,\n",
       " 'TIME_DELTA=1.4166666666666674': 7071,\n",
       " 'TIME_DELTA=9.15625': 7880,\n",
       " 'TIME_DELTA=0.6416666666666668': 7019,\n",
       " 'TIME_DELTA=0.37499999999999645': 8803,\n",
       " 'TIME_DELTA=1.020833333333334': 492,\n",
       " 'TIME_DELTA=5.697916666666668': 6018,\n",
       " 'TIME_DELTA=1.8333333333333357': 5917,\n",
       " 'TIME_DELTA=9.033333333333335': 7745,\n",
       " 'TIME_DELTA=6.052083333333334': 8973,\n",
       " 'TIME_DELTA=0.3940886699507389': 9476,\n",
       " 'TIME_DELTA=12.741666666666667': 10031,\n",
       " 'TIME_DELTA=12.85': 6886,\n",
       " 'TIME_DELTA=2.4270833333333335': 3501,\n",
       " 'TIME_DELTA=3.5467980295566504': 10317,\n",
       " 'TIME_DELTA=5.591666666666667': 5507,\n",
       " 'TIME_DELTA=18.541666666666664': 11282,\n",
       " 'TIME_DELTA=7.075000000000001': 11499,\n",
       " 'TIME_DELTA=0.9791666666666665': 650,\n",
       " 'TIME_DELTA=10.275': 9028,\n",
       " 'TIME_DELTA=0.3958333333333286': 11623,\n",
       " 'TIME_DELTA=14.260416666666668': 11866,\n",
       " 'TIME_DELTA=3.9375': 588,\n",
       " 'TIME_DELTA=1.675': 2332,\n",
       " 'TIME_DELTA=0.35833333333333073': 12506,\n",
       " 'TIME_DELTA=1.0166666666666675': 1565,\n",
       " 'TIME_DELTA=3.5208333333333357': 13407,\n",
       " 'TIME_DELTA=12.016666666666667': 5339,\n",
       " 'TIME_DELTA=1.4687500000000018': 6530,\n",
       " 'TIME_DELTA=3.5312499999999996': 8755,\n",
       " 'TIME_DELTA=1.8020833333333348': 11183,\n",
       " 'TIME_DELTA=5.604166666666668': 3851,\n",
       " 'TIME_DELTA=3.616666666666667': 3412,\n",
       " 'TIME_DELTA=0.18749999999999994': 3672,\n",
       " 'TIME_DELTA=12.932515337423313': 12948,\n",
       " 'TIME_DELTA=1.7333333333333334': 553,\n",
       " 'TIME_DELTA=2.5740740740740744': 13220,\n",
       " 'TIME_DELTA=3.1979166666666643': 13375,\n",
       " 'TIME_DELTA=4.800000000000002': 13508,\n",
       " 'TIME_DELTA=3.447916666666667': 6393,\n",
       " 'TIME_DELTA=5.974999999999999': 13598,\n",
       " 'INST=99': 2042,\n",
       " 'TIME_DELTA=11.758333333333333': 6814,\n",
       " 'TIME_DELTA=1.3749999999999998': 2275,\n",
       " 'TIME_DELTA=14.864583333333334': 6190,\n",
       " 'TIME_DELTA=9.072916666666666': 8179,\n",
       " 'TIME_DELTA=5.75': 828,\n",
       " 'TIME_DELTA=0.2395833333333326': 10674,\n",
       " 'TIME_DELTA=5.758333333333333': 7505,\n",
       " 'TIME_DELTA=0.37499999999999956': 1464,\n",
       " 'TIME_DELTA=0.35416666666666696': 481,\n",
       " 'TIME_DELTA=6.541666666666666': 3362,\n",
       " 'TIME_DELTA=0.8645833333333339': 1555,\n",
       " 'INST=87': 1337,\n",
       " 'TIME_DELTA=15.408333333333333': 8075,\n",
       " 'INST=28': 754,\n",
       " 'TIME_DELTA=11.158333333333333': 8528,\n",
       " 'TIME_DELTA=15.895833333333334': 1432,\n",
       " 'TIME_DELTA=0.05833333333333329': 8506,\n",
       " 'TIME_DELTA=0.6979166666666665': 2388,\n",
       " 'TIME_DELTA=7.616666666666666': 4963,\n",
       " 'TIME_DELTA=11.233333333333334': 7911,\n",
       " 'TIME_DELTA=10.033333333333335': 9813,\n",
       " 'TIME_DELTA=2.816666666666668': 10848,\n",
       " 'TIME_DELTA=10.033333333333331': 9812,\n",
       " 'TIME_DELTA=9.533333333333335': 9617,\n",
       " 'TIME_DELTA=4.312500000000001': 5295,\n",
       " 'TIME_DELTA=2.8437499999999982': 10534,\n",
       " 'TIME_DELTA=0.7249999999999988': 11662,\n",
       " 'TIME_DELTA=6.908333333333333': 6903,\n",
       " 'TIME_DELTA=2.4416666666666647': 11970,\n",
       " 'TIME_DELTA=22.133333333333333': 12034,\n",
       " 'TIME_DELTA=6.520833333333336': 12274,\n",
       " 'TIME_DELTA=1.5999999999999992': 12738,\n",
       " 'TIME_DELTA=10.158333333333335': 12818,\n",
       " 'TIME_DELTA=13.116666666666665': 12960,\n",
       " 'TIME_DELTA=3.8416666666666663': 13434,\n",
       " 'TIME_DELTA=0.7395833333333321': 3298,\n",
       " 'TIME_DELTA=1.833333333333333': 256,\n",
       " 'TIME_DELTA=0.5666666666666667': 414,\n",
       " 'TIME_DELTA=0.40000000000000124': 9006,\n",
       " 'TIME_DELTA=3.8500000000000005': 8406,\n",
       " 'TIME_DELTA=0.6296296296296295': 11654,\n",
       " 'TIME_DELTA=1.1166666666666665': 7588,\n",
       " 'TIME_DELTA=14.510416666666668': 13014,\n",
       " 'TIME_DELTA=23.85': 12054,\n",
       " 'TIME_DELTA=7.683333333333334': 3253,\n",
       " 'TIME_DELTA=1.1041666666666652': 8283,\n",
       " 'TIME_DELTA=7.187500000000002': 8348,\n",
       " 'TIME_DELTA=2.808333333333333': 3760,\n",
       " 'TIME_DELTA=3.0937500000000004': 8946,\n",
       " 'TIME_DELTA=13.475': 8387,\n",
       " 'TIME_DELTA=1.354166666666667': 817,\n",
       " 'TIME_DELTA=5.016666666666666': 6649,\n",
       " 'TIME_DELTA=2.4333333333333345': 9860,\n",
       " 'TIME_DELTA=1.85': 873,\n",
       " 'TIME_DELTA=0.43750000000000006': 3490,\n",
       " 'TIME_DELTA=3.200000000000001': 4705,\n",
       " 'TIME_DELTA=0.21666666666666673': 8700,\n",
       " 'TIME_DELTA=15.9375': 1242,\n",
       " 'TIME_DELTA=2.6000000000000014': 5263,\n",
       " 'TIME_DELTA=0.2499999999999991': 807,\n",
       " 'TIME_DELTA=0.16666666666666963': 11067,\n",
       " 'TIME_DELTA=2.3249999999999997': 10060,\n",
       " 'TIME_DELTA=0.20833333333333037': 11073,\n",
       " 'TIME_DELTA=3.0249999999999986': 10299,\n",
       " 'TIME_DELTA=0.09166666666666634': 4814,\n",
       " 'TIME_DELTA=2.691666666666667': 3274,\n",
       " 'TIME_DELTA=6.020833333333335': 9730,\n",
       " 'TIME_DELTA=0.4479166666666663': 12527,\n",
       " 'TIME_DELTA=1.1770833333333337': 12667,\n",
       " 'TIME_DELTA=20.479166666666668': 13269,\n",
       " 'TIME_DELTA=0.010416666666667851': 1322,\n",
       " 'TIME_DELTA=0.3583333333333334': 1371,\n",
       " 'TIME_DELTA=7.391666666666667': 5447,\n",
       " 'TIME_DELTA=1.6875000000000004': 3378,\n",
       " 'TIME_DELTA=0.35000000000000003': 6087,\n",
       " 'TIME_DELTA=0.9': 462,\n",
       " 'TIME_DELTA=7.916666666666664': 8105,\n",
       " 'TIME_DELTA=3.3583333333333325': 6678,\n",
       " 'TIME_DELTA=0.44791666666666785': 2875,\n",
       " 'TIME_DELTA=1.0061349693251533': 10717,\n",
       " 'TIME_DELTA=20.791666666666668': 11337,\n",
       " 'TIME_DELTA=6.177083333333333': 5490,\n",
       " 'TIME_DELTA=6.500000000000001': 3769,\n",
       " 'TIME_DELTA=2.0208333333333357': 10052,\n",
       " 'TIME_DELTA=12.677083333333334': 8537,\n",
       " 'TIME_DELTA=2.9000000000000004': 1560,\n",
       " 'TIME_DELTA=2.3958333333333335': 1128,\n",
       " 'TIME_DELTA=5.525': 5224,\n",
       " 'TIME_DELTA=6.937500000000001': 5911,\n",
       " 'TIME_DELTA=6.687499999999999': 6103,\n",
       " 'TIME_DELTA=5.024999999999999': 11434,\n",
       " 'TIME_DELTA=5.16256157635468': 13536,\n",
       " 'TIME_DELTA=0.48749999999999993': 12543,\n",
       " 'TIME_DELTA=0.677083333333333': 2218,\n",
       " 'TIME_DELTA=4.7666666666666675': 5865,\n",
       " 'TIME_DELTA=6.808333333333333': 13660,\n",
       " 'TIME_DELTA=0.6875': 229,\n",
       " 'TIME_DELTA=2.3833333333333337': 5748,\n",
       " 'TIME_DELTA=21.958333333333332': 8855,\n",
       " 'TIME_DELTA=2.625000000000001': 2291,\n",
       " 'TIME_DELTA=2.770833333333334': 1488,\n",
       " 'TIME_DELTA=0.283333333333333': 12480,\n",
       " 'TIME_DELTA=2.575': 4337,\n",
       " 'TIME_DELTA=7.533333333333335': 13709,\n",
       " 'TIME_DELTA=1.1416666666666662': 11702,\n",
       " 'TIME_DELTA=2.6500000000000004': 2753,\n",
       " 'TIME_DELTA=2.249999999999999': 2216,\n",
       " 'TIME_DELTA=0.05833333333333268': 2815,\n",
       " 'TIME_DELTA=3.3166666666666664': 3185,\n",
       " 'TIME_DELTA=17.125': 10261,\n",
       " 'TIME_DELTA=0.671875': 7380,\n",
       " 'TIME_DELTA=11.364583333333332': 11222,\n",
       " 'TIME_DELTA=1.8333333333333335': 658,\n",
       " 'TIME_DELTA=6.40625': 5660,\n",
       " 'TIME_DELTA=2.7500000000000004': 2681,\n",
       " 'TIME_DELTA=1.635416666666666': 2560,\n",
       " 'TIME_DELTA=10.791666666666668': 6416,\n",
       " 'TIME_DELTA=1.1083333333333332': 7888,\n",
       " 'TIME_DELTA=2.03125': 1901,\n",
       " 'TIME_DELTA=0.20833333333333337': 870,\n",
       " 'TIME_DELTA=0.7395833333333335': 2731,\n",
       " 'TIME_DELTA=4.675': 5358,\n",
       " 'TIME_DELTA=1.5833333333333357': 6310,\n",
       " 'TIME_DELTA=7.283333333333333': 4895,\n",
       " 'TIME_DELTA=7.2333333333333325': 6790,\n",
       " 'TIME_DELTA=1.716666666666666': 6986,\n",
       " 'TIME_DELTA=2.66796875': 2248,\n",
       " 'TIME_DELTA=2.8999999999999986': 5430,\n",
       " 'TIME_DELTA=1.5500000000000003': 7591,\n",
       " 'TIME_DELTA=4.708333333333335': 8332,\n",
       " 'TIME_DELTA=5.066666666666666': 2213,\n",
       " 'TIME_DELTA=0.4791666666666667': 370,\n",
       " 'TIME_DELTA=3.283333333333334': 10309,\n",
       " 'TIME_DELTA=0.7604166666666665': 3036,\n",
       " 'TIME_DELTA=5.716666666666667': 3637,\n",
       " 'TIME_DELTA=7.031250000000002': 12296,\n",
       " 'TIME_DELTA=2.3166666666666655': 13194,\n",
       " 'TIME_DELTA=1.030674846625767': 10206,\n",
       " 'TIME_DELTA=0.6145833333333333': 3696,\n",
       " 'TIME_DELTA=3.3833333333333333': 3303,\n",
       " 'TIME_DELTA=0.5916666666666663': 7978,\n",
       " 'TIME_DELTA=5.84375': 4822,\n",
       " 'TIME_DELTA=14.408333333333333': 8545,\n",
       " 'TIME_DELTA=1.1416666666666668': 8199,\n",
       " 'TIME_DELTA=23.666666666666668': 10074,\n",
       " 'TIME_DELTA=1.364583333333333': 2354,\n",
       " 'TIME_DELTA=0.22499999999999998': 4287,\n",
       " 'TIME_DELTA=11.141666666666667': 7344,\n",
       " 'TIME_DELTA=6.177083333333332': 7367,\n",
       " 'TIME_DELTA=11.225': 8529,\n",
       " 'TIME_DELTA=15.799999999999999': 9674,\n",
       " 'TIME_DELTA=1.5083333333333335': 9497,\n",
       " 'TIME_DELTA=3.9999999999999964': 10099,\n",
       " 'TIME_DELTA=3.2187499999999982': 10307,\n",
       " 'TIME_DELTA=4.45': 4711,\n",
       " 'TIME_DELTA=7.124999999999999': 4032,\n",
       " 'TIME_DELTA=0.031249999999999556': 4358,\n",
       " 'TIME_DELTA=7.599999999999999': 11515,\n",
       " 'TIME_DELTA=0.32291666666666696': 1711,\n",
       " 'TIME_DELTA=15.729166666666666': 2197,\n",
       " 'TIME_DELTA=14.566666666666666': 4455,\n",
       " 'TIME_DELTA=5.375': 1054,\n",
       " 'TIME_DELTA=7.944444444444445': 9604,\n",
       " 'TIME_DELTA=1.9041666666666668': 12795,\n",
       " 'TIME_DELTA=3.9416666666666647': 11401,\n",
       " 'TIME_DELTA=3.3416666666666663': 13390,\n",
       " 'TIME_DELTA=1.9062499999999996': 6052,\n",
       " 'TIME_DELTA=0.20000000000000004': 10407,\n",
       " 'TIME_DELTA=10.266666666666667': 4818,\n",
       " 'TIME_DELTA=0.21875000000000003': 7882,\n",
       " 'TIME_DELTA=2.4791666666666674': 8648,\n",
       " 'TIME_DELTA=7.2666666666666675': 6301,\n",
       " 'TIME_DELTA=4.444444444444445': 13480,\n",
       " 'TIME_DELTA=9.866666666666665': 9459,\n",
       " 'TIME_DELTA=1.1562499999999982': 8200,\n",
       " 'TIME_DELTA=5.275000000000001': 13545,\n",
       " 'TIME_DELTA=8.236453201970443': 13764,\n",
       " 'TIME_DELTA=7.156249999999999': 9945,\n",
       " 'TIME_DELTA=1.927083333333334': 1863,\n",
       " 'TIME_DELTA=4.968749999999999': 9178,\n",
       " 'TIME_DELTA=0.15763546798029557': 4868,\n",
       " 'TIME_DELTA=0.6979166666666666': 1655,\n",
       " 'TIME_DELTA=6.687500000000001': 6020,\n",
       " 'TIME_DELTA=9.225': 7569,\n",
       " 'TIME_DELTA=1.3793103448275863': 7828,\n",
       " 'TIME_DELTA=1.933333333333334': 9649,\n",
       " 'TIME_DELTA=8.891666666666667': 6938,\n",
       " 'TIME_DELTA=23.625': 10868,\n",
       " 'TIME_DELTA=3.9749999999999988': 11402,\n",
       " 'TIME_DELTA=0.4166666666666714': 11627,\n",
       " 'TIME_DELTA=16.483333333333334': 13081,\n",
       " 'TIME_DELTA=0.13333333333333308': 6942,\n",
       " 'TIME_DELTA=0.5750000000000001': 8808,\n",
       " 'TIME_DELTA=15.524999999999999': 11900,\n",
       " 'TIME_DELTA=7.041666666666668': 2981,\n",
       " 'TIME_DELTA=2.333333333333334': 526,\n",
       " 'TIME_DELTA=3.416666666666665': 6264,\n",
       " 'TIME_DELTA=11.999999999999998': 9659,\n",
       " 'TIME_DELTA=3.0083333333333346': 12065,\n",
       " 'TIME_DELTA=0.049999999999998934': 1706,\n",
       " 'TIME_DELTA=2.6979166666666665': 3540,\n",
       " 'TIME_DELTA=0.9166666666666666': 186,\n",
       " 'TIME_DELTA=3.7604166666666665': 3682,\n",
       " 'TIME_DELTA=3.5749999999999993': 5366,\n",
       " 'TIME_DELTA=6.874999999999998': 6789,\n",
       " 'TIME_DELTA=3.3888888888888893': 13397,\n",
       " 'TIME_DELTA=3.927083333333335': 13443,\n",
       " 'TIME_DELTA=0.595833333333335': 12572,\n",
       " 'TIME_DELTA=7.364583333333335': 13699,\n",
       " 'TIME_DELTA=2.0000000000000004': 1392,\n",
       " 'TIME_DELTA=8.383333333333333': 6401,\n",
       " 'TIME_DELTA=1.572916666666666': 2443,\n",
       " 'TIME_DELTA=14.979166666666666': 3033,\n",
       " 'NOTE_ON=21': 844,\n",
       " 'TIME_DELTA=5.197916666666667': 4913,\n",
       " 'TIME_DELTA=6.108333333333333': 5420,\n",
       " 'TIME_DELTA=0.8854166666666665': 3141,\n",
       " 'TIME_DELTA=5.05': 4423,\n",
       " 'TIME_DELTA=1.0312499999999991': 5835,\n",
       " 'TIME_DELTA=15.883333333333333': 3938,\n",
       " 'TIME_DELTA=14.691666666666666': 6996,\n",
       " 'TIME_DELTA=7.899999999999999': 7186,\n",
       " 'TIME_DELTA=2.1666666666666643': 8225,\n",
       " 'TIME_DELTA=2.885416666666668': 6860,\n",
       " 'TIME_DELTA=14.354166666666668': 8641,\n",
       " 'TIME_DELTA=1.9583333333333357': 6286,\n",
       " 'TIME_DELTA=7.0666666666666655': 9595,\n",
       " 'TIME_DELTA=6.100000000000001': 9732,\n",
       " 'TIME_DELTA=0.8250000000000011': 4691,\n",
       " 'TIME_DELTA=1.6750000000000003': 7025,\n",
       " 'TIME_DELTA=0.0833333333333326': 3635,\n",
       " 'TIME_DELTA=7.854166666666665': 9107,\n",
       " 'TIME_DELTA=0.17499999999999716': 10172,\n",
       " 'TIME_DELTA=0.03125000000000011': 7233,\n",
       " 'TIME_DELTA=0.39166666666666927': 10686,\n",
       " 'INST=126': 3418,\n",
       " 'NOTE_OFF=127': 4955,\n",
       " 'TIME_DELTA=8.2': 3116,\n",
       " 'TIME_DELTA=3.4062499999999996': 8567,\n",
       " 'TIME_DELTA=3.5625000000000004': 5108,\n",
       " 'INST=95': 2323,\n",
       " 'TIME_DELTA=4.729064039408867': 11423,\n",
       " 'TIME_DELTA=0.13541666666666657': 12434,\n",
       " 'TIME_DELTA=0.19631901840490798': 8801,\n",
       " 'TIME_DELTA=14.358333333333334': 11868,\n",
       " 'TIME_DELTA=2.0166666666666666': 1188,\n",
       " 'TIME_DELTA=5.65625': 5176,\n",
       " 'TIME_DELTA=5.533333333333334': 8578,\n",
       " 'TIME_DELTA=9.34375': 6835,\n",
       " 'TIME_DELTA=0.42708333333333215': 2854,\n",
       " 'TIME_DELTA=1.533333333333335': 3551,\n",
       " 'TIME_DELTA=13.104166666666666': 4403,\n",
       " 'NOTE_ON=39': 137,\n",
       " 'TIME_DELTA=3.1499999999999995': 8400,\n",
       " 'TIME_DELTA=0.5312500000000004': 5632,\n",
       " 'TIME_DELTA=2.4062500000000004': 8942,\n",
       " 'TIME_DELTA=0.8669950738916254': 12621,\n",
       " 'TIME_DELTA=8.25': 1728,\n",
       " 'TIME_DELTA=3.7500000000000004': 2942,\n",
       " 'TIME_DELTA=3.3229166666666665': 4675,\n",
       " 'TIME_DELTA=2.2166666666666672': 10270,\n",
       " 'TIME_DELTA=11.645833333333336': 12900,\n",
       " 'TIME_DELTA=7.866666666666667': 2929,\n",
       " 'TIME_DELTA=17.7': 13107,\n",
       " 'TIME_DELTA=0.4375000000000018': 2372,\n",
       " 'TIME_DELTA=0.35833333333333295': 6692,\n",
       " 'TIME_DELTA=2.2749999999999986': 9856,\n",
       " 'TIME_DELTA=8.229166666666664': 12342,\n",
       " 'TIME_DELTA=7.3166666666666655': 13697,\n",
       " 'TIME_DELTA=4.354166666666666': 3913,\n",
       " 'TIME_DELTA=9.708333333333336': 9767,\n",
       " 'TIME_DELTA=1.3083333333333345': 11710,\n",
       " 'TIME_DELTA=15.802083333333334': 4673,\n",
       " 'TIME_DELTA=21.3': 9265,\n",
       " 'TIME_DELTA=5.427083333333334': 9292,\n",
       " 'TIME_DELTA=3.700000000000003': 11391,\n",
       " 'TIME_DELTA=11.354166666666664': 12886,\n",
       " 'TIME_DELTA=0.6458333333333333': 1275,\n",
       " 'TIME_DELTA=9.308333333333332': 11543,\n",
       " 'TIME_DELTA=3.145833333333335': 10080,\n",
       " 'TIME_DELTA=0.9750000000000003': 8120,\n",
       " 'TIME_DELTA=2.0122699386503067': 11293,\n",
       " 'TIME_DELTA=14.633333333333335': 9671,\n",
       " 'TIME_DELTA=11.799999999999999': 8733,\n",
       " 'TIME_DELTA=0.0729166666666643': 6582,\n",
       " 'TIME_DELTA=0.07083333333333286': 10402,\n",
       " 'TIME_DELTA=8.166666666666668': 3272,\n",
       " 'TIME_DELTA=47.983333333333334': 12196,\n",
       " 'TIME_DELTA=1.1666666666666652': 6115,\n",
       " 'TIME_DELTA=2.3958333333333357': 10528,\n",
       " 'TIME_DELTA=2.184049079754601': 13184,\n",
       " 'TIME_DELTA=3.1166666666666654': 8858,\n",
       " 'TIME_DELTA=8.697916666666668': 9611,\n",
       " 'TIME_DELTA=5.445833333333333': 13560,\n",
       " 'TIME_DELTA=8.174999999999999': 13761,\n",
       " 'TIME_DELTA=5.558333333333333': 10949,\n",
       " 'TIME_DELTA=2.5166666666666675': 4629,\n",
       " 'TIME_DELTA=5.96319018404908': 13596,\n",
       " 'TIME_DELTA=7.395833333333336': 11508,\n",
       " 'TIME_DELTA=4.033333333333332': 8569,\n",
       " 'TIME_DELTA=6.991666666666665': 10991,\n",
       " 'TIME_DELTA=2.6499999999999995': 7488,\n",
       " 'TIME_DELTA=0.4629629629629637': 5830,\n",
       " 'TIME_DELTA=2.333333333333332': 1624,\n",
       " 'TIME_DELTA=13.808333333333334': 6640,\n",
       " 'TIME_DELTA=1.3166666666666669': 3734,\n",
       " 'NOTE_ON=121': 3347,\n",
       " 'TIME_DELTA=0.7916666666666643': 3414,\n",
       " 'TIME_DELTA=0.7222222222222214': 8194,\n",
       " 'TIME_DELTA=1.0729166666666665': 3320,\n",
       " 'TIME_DELTA=0.4629629629629628': 6378,\n",
       " 'TIME_DELTA=3.614583333333334': 4632,\n",
       " 'TIME_DELTA=4.343750000000002': 12156,\n",
       " 'TIME_DELTA=4.895833333333334': 4018,\n",
       " 'TIME_DELTA=1.049999999999999': 4012,\n",
       " 'TIME_DELTA=10.333333333333336': 10468,\n",
       " 'TIME_DELTA=6.010416666666667': 6043,\n",
       " 'TIME_DELTA=4.299999999999999': 6608,\n",
       " 'TIME_DELTA=7.770833333333335': 9599,\n",
       " 'TIME_DELTA=0.4895833333333333': 1697,\n",
       " 'TIME_DELTA=10.733333333333334': 7251,\n",
       " 'TIME_DELTA=8.635416666666666': 7272,\n",
       " 'TIME_DELTA=6.927083333333332': 7095,\n",
       " 'TIME_DELTA=0.19999999999999998': 3031,\n",
       " 'TIME_DELTA=5.441666666666668': 9924,\n",
       " 'TIME_DELTA=3.8000000000000016': 10324,\n",
       " 'TIME_DELTA=15.770833333333332': 7304,\n",
       " 'TIME_DELTA=11.358333333333334': 10762,\n",
       " 'TIME_DELTA=0.9249999999999998': 2395,\n",
       " 'TIME_DELTA=0.7777777777777777': 6183,\n",
       " 'TIME_DELTA=7.600000000000001': 7814,\n",
       " 'TIME_DELTA=3.343750000000001': 8754,\n",
       " 'TIME_DELTA=0.6871165644171779': 5622,\n",
       " 'TIME_DELTA=14.966666666666667': 2834,\n",
       " 'TIME_DELTA=6.725': 5410,\n",
       " 'TIME_DELTA=14.108333333333333': 9250,\n",
       " 'TIME_DELTA=2.6250000000000004': 2478,\n",
       " 'TIME_DELTA=1.0208333333333321': 1281,\n",
       " 'TIME_DELTA=2.408333333333333': 3521,\n",
       " 'TIME_DELTA=1.5312500000000004': 5877,\n",
       " 'TIME_DELTA=6.343750000000001': 10608,\n",
       " 'TIME_DELTA=3.4791666666666643': 11381,\n",
       " 'NOTE_ON=71': 45,\n",
       " 'TIME_DELTA=0.15833333333333335': 7278,\n",
       " 'TIME_DELTA=2.7708333333333357': 11325,\n",
       " 'TIME_DELTA=6.691666666666667': 11486,\n",
       " 'TIME_DELTA=6.458333333333333': 1563,\n",
       " 'TIME_DELTA=0.12269938650306766': 12432,\n",
       " 'TIME_DELTA=11.416666666666666': 2543,\n",
       " 'TIME_DELTA=5.216666666666665': 13540,\n",
       " 'TIME_DELTA=16.891666666666666': 13093,\n",
       " 'TIME_DELTA=0.925': 1745,\n",
       " 'TIME_DELTA=0.02083333333333326': 494,\n",
       " 'TIME_DELTA=1.9375000000000018': 4426,\n",
       " 'TIME_DELTA=1.2333333333333325': 1220,\n",
       " 'TIME_DELTA=2.2395833333333335': 3479,\n",
       " 'TIME_DELTA=8.8': 3556,\n",
       " 'NOTE_OFF=95': 520,\n",
       " 'TIME_DELTA=0.38333333333333286': 982,\n",
       " 'TIME_DELTA=6.216666666666665': 13614,\n",
       " 'TIME_DELTA=5.312500000000001': 5445,\n",
       " 'TIME_DELTA=15.989583333333334': 4249,\n",
       " 'TIME_DELTA=1.177083333333334': 2537,\n",
       " 'TIME_DELTA=0.19791666666666674': 3022,\n",
       " 'TIME_DELTA=1.5520833333333321': 5131,\n",
       " 'TIME_DELTA=2.135416666666668': 6748,\n",
       " 'TIME_DELTA=7.316666666666667': 9191,\n",
       " 'TIME_DELTA=0.17916666666666667': 9324,\n",
       " 'TIME_DELTA=3.281249999999999': 8565,\n",
       " 'TIME_DELTA=4.785276073619632': 11426,\n",
       " 'TIME_DELTA=1.1666666666666665': 430,\n",
       " 'TIME_DELTA=2.666666666666667': 572,\n",
       " 'TIME_DELTA=9.433333333333334': 3601,\n",
       " 'TIME_DELTA=5.591666666666666': 12222,\n",
       " 'TIME_DELTA=3.7249999999999988': 13423,\n",
       " 'TIME_DELTA=13.791666666666666': 2343,\n",
       " 'TIME_DELTA=6.916666666666666': 3204,\n",
       " 'TIME_DELTA=14.4375': 3759,\n",
       " 'TIME_DELTA=2.1458333333333326': 7928,\n",
       " 'TIME_DELTA=3.5312500000000004': 7614,\n",
       " 'GENRE=POP/ROCK': 4395,\n",
       " 'TIME_DELTA=5.983333333333333': 2660,\n",
       " 'TIME_DELTA=6.891666666666667': 5703,\n",
       " 'TIME_DELTA=0.008333333333333335': 5349,\n",
       " 'TIME_DELTA=4.010416666666666': 5517,\n",
       " 'TIME_DELTA=10.108333333333333': 8055,\n",
       " 'TIME_DELTA=5.366666666666665': 7803,\n",
       " 'TIME_DELTA=7.906250000000002': 12332,\n",
       " 'TIME_DELTA=3.933333333333332': 8091,\n",
       " 'TIME_DELTA=0.8749999999999991': 1189,\n",
       " 'TIME_DELTA=14.05': 5965,\n",
       " 'TIME_DELTA=13.635416666666668': 10490,\n",
       " 'TIME_DELTA=8.391666666666667': 6429,\n",
       " 'TIME_DELTA=3.3083333333333327': 11368,\n",
       " 'TIME_DELTA=1.4270833333333321': 4898,\n",
       " 'TIME_DELTA=0.6305418719211822': 11121,\n",
       " 'TIME_DELTA=5.333333333333334': 1453,\n",
       " 'TIME_DELTA=6.1': 2605,\n",
       " 'NOTE_ON=38': 13,\n",
       " 'TIME_DELTA=1.208333333333334': 314,\n",
       " 'TIME_DELTA=0.1375': 10166,\n",
       " 'TIME_DELTA=6.291666666666665': 7183,\n",
       " 'TIME_DELTA=1.3854166666666679': 4242,\n",
       " 'TIME_DELTA=6.593749999999999': 10613,\n",
       " 'TIME_DELTA=5.466666666666669': 11445,\n",
       " 'TIME_DELTA=3.9249999999999994': 13441,\n",
       " 'TIME_DELTA=3.5337423312883436': 12091,\n",
       " 'TIME_DELTA=4.341666666666667': 5394,\n",
       " 'TIME_DELTA=0.6111111111111116': 8810,\n",
       " 'TIME_DELTA=3.7832512315270925': 13431,\n",
       " 'TIME_DELTA=4.520833333333332': 3813,\n",
       " 'TIME_DELTA=4.874999999999998': 5642,\n",
       " 'TIME_DELTA=1.6083333333333334': 1774,\n",
       " 'TIME_DELTA=7.116666666666666': 5615,\n",
       " 'TIME_DELTA=12.983333333333334': 10485,\n",
       " 'TIME_DELTA=1.4975369458128078': 7471,\n",
       " 'TIME_DELTA=4.183333333333334': 3532,\n",
       " 'TIME_DELTA=5.833333333333334': 2100,\n",
       " 'NOTE_ON=89': 292,\n",
       " 'TIME_DELTA=2.1111111111111107': 10822,\n",
       " 'TIME_DELTA=7.156250000000002': 13685,\n",
       " 'TIME_DELTA=0.15763546798029582': 11582,\n",
       " 'TIME_DELTA=15.633333333333333': 2911,\n",
       " 'TIME_DELTA=0.9666666666666659': 3974,\n",
       " 'TIME_DELTA=9.166666666666664': 8108,\n",
       " 'TIME_DELTA=5.479166666666665': 8872,\n",
       " 'TIME_DELTA=4.0583333333333345': 13456,\n",
       " 'TIME_DELTA=0.7833333333333323': 9209,\n",
       " 'TIME_DELTA=6.906249999999999': 8584,\n",
       " 'NOTE_OFF=63': 48,\n",
       " 'TIME_DELTA=6.858333333333334': 6618,\n",
       " 'TIME_DELTA=14.197916666666666': 7041,\n",
       " 'TIME_DELTA=3.864583333333334': 3162,\n",
       " 'TIME_DELTA=3.322916666666668': 7553,\n",
       " 'TIME_DELTA=1.7291666666666652': 7898,\n",
       " 'TIME_DELTA=11.275': 7912,\n",
       " 'TIME_DELTA=0.8541666666666663': 8816,\n",
       " 'TIME_DELTA=1.7708333333333326': 9021,\n",
       " 'TIME_DELTA=6.008333333333333': 5400,\n",
       " 'TIME_DELTA=14.075000000000001': 12999,\n",
       " 'TIME_DELTA=8.520833333333332': 6766,\n",
       " 'TIME_DELTA=1.5208333333333321': 1687,\n",
       " 'TIME_DELTA=2.924999999999999': 10857,\n",
       " 'TIME_DELTA=3.891666666666666': 11397,\n",
       " 'TIME_DELTA=5.989583333333332': 5453,\n",
       " 'INST=3': 1594,\n",
       " 'TIME_DELTA=14.291666666666666': 2477,\n",
       " 'TIME_DELTA=5.031250000000002': 13523,\n",
       " 'TIME_DELTA=2.266666666666666': 8227,\n",
       " 'TIME_DELTA=5.558333333333334': 4803,\n",
       " 'TIME_DELTA=3.364583333333333': 6123,\n",
       " 'TIME_DELTA=0.8583333333333336': 11140,\n",
       " 'TIME_DELTA=10.3125': 4306,\n",
       " 'TIME_DELTA=9.633333333333333': 3909,\n",
       " 'NOTE_OFF=69': 25,\n",
       " 'TIME_DELTA=0.3166666666666666': 9004,\n",
       " 'TIME_DELTA=5.822916666666668': 8341,\n",
       " 'NOTE_OFF=46': 85,\n",
       " 'TIME_DELTA=4.008333333333335': 10575,\n",
       " 'TIME_DELTA=8.283333333333333': 6131,\n",
       " 'TIME_DELTA=1.2187500000000002': 8518,\n",
       " 'TIME_DELTA=12.166666666666668': 5652,\n",
       " 'TIME_DELTA=12.520833333333334': 4728,\n",
       " 'TIME_DELTA=8.316666666666666': 5448,\n",
       " 'TIME_DELTA=2.7187500000000004': 9072,\n",
       " 'TIME_DELTA=0.19704433497536955': 12453,\n",
       " 'TIME_DELTA=0.05833333333333357': 568,\n",
       " 'TIME_DELTA=15.258333333333335': 11896,\n",
       " 'TIME_DELTA=1.2749999999999997': 12681,\n",
       " 'TIME_DELTA=16.183333333333334': 13068,\n",
       " 'TIME_DELTA=4.229166666666668': 3982,\n",
       " 'TIME_DELTA=2.7541666666666664': 13236,\n",
       " 'TIME_DELTA=6.466666666666669': 12271,\n",
       " 'TIME_DELTA=7.333333333333335': 7096,\n",
       " 'TIME_DELTA=7.739583333333332': 7145,\n",
       " 'TIME_DELTA=0.4249999999999998': 2206,\n",
       " 'TIME_DELTA=3.999999999999999': 1539,\n",
       " 'TIME_DELTA=3.5833333333333357': 9411,\n",
       " 'NOTE_OFF=43': 72,\n",
       " 'TIME_DELTA=12.425': 9662,\n",
       " 'TIME_DELTA=9.925925925925926': 9973,\n",
       " 'TIME_DELTA=14.366666666666667': 4391,\n",
       " 'TIME_DELTA=1.34375': 1531,\n",
       " 'TIME_DELTA=2.15': 2349,\n",
       " 'TIME_DELTA=0.8854166666666667': 4600,\n",
       " 'TIME_DELTA=1.4583333333333348': 5947,\n",
       " 'TIME_DELTA=1.2222222222222214': 9345,\n",
       " 'TIME_DELTA=11.858333333333334': 10238,\n",
       " 'TIME_DELTA=7.683333333333332': 10627,\n",
       " 'TIME_DELTA=1.0937499999999996': 7110,\n",
       " 'TIME_DELTA=1.1822660098522166': 11157,\n",
       " 'TIME_DELTA=0.14999999999999947': 2776,\n",
       " 'TIME_DELTA=6.041666666666666': 2649,\n",
       " 'TIME_DELTA=7.275': 4670,\n",
       " 'TIME_DELTA=1.6416666666666662': 11738,\n",
       " 'TIME_DELTA=9.354166666666666': 3818,\n",
       " 'TIME_DELTA=12.020833333333332': 5998,\n",
       " 'TIME_DELTA=12.024999999999999': 11821,\n",
       " 'TIME_DELTA=0.9416666666666664': 1144,\n",
       " 'TIME_DELTA=7.937499999999999': 3730,\n",
       " 'TIME_DELTA=0.31249999999999994': 4386,\n",
       " 'TIME_DELTA=1.5333333333333323': 5781,\n",
       " 'TIME_DELTA=6.145833333333336': 12255,\n",
       " 'INST=112': 3615,\n",
       " 'TIME_DELTA=0.0708333333333333': 12404,\n",
       " 'TIME_DELTA=5.116666666666667': 6487,\n",
       " 'TIME_DELTA=1.5729166666666663': 12730,\n",
       " 'TIME_DELTA=13.649999999999999': 12987,\n",
       " 'TIME_DELTA=4.593750000000002': 13490,\n",
       " 'TIME_DELTA=7.760416666666664': 13725,\n",
       " 'TIME_DELTA=10.000000000000002': 11200,\n",
       " 'TIME_DELTA=4.325': 6128,\n",
       " 'TIME_DELTA=11.016666666666666': 9231,\n",
       " 'TIME_DELTA=4.583333333333334': 2642,\n",
       " 'TIME_DELTA=2.6166666666666663': 5797,\n",
       " 'TIME_DELTA=5.708333333333336': 10955,\n",
       " 'TIME_DELTA=6.433333333333332': 12269,\n",
       " 'TIME_DELTA=6.062499999999998': 8777,\n",
       " 'TIME_DELTA=10.716666666666665': 12850,\n",
       " 'TIME_DELTA=0.9416666666666647': 9013,\n",
       " 'TIME_DELTA=3.3083333333333353': 13387,\n",
       " 'TIME_DELTA=4.770833333333332': 3676,\n",
       " 'TIME_DELTA=14.691666666666668': 13020,\n",
       " 'TIME_DELTA=1.15625': 1414,\n",
       " 'TIME_DELTA=8.799999999999999': 9318,\n",
       " 'TIME_DELTA=4.989583333333334': 7088,\n",
       " 'NOTE_ON=57': 15,\n",
       " 'TIME_DELTA=5.933333333333332': 9433,\n",
       " 'TIME_DELTA=1.3229166666666665': 3257,\n",
       " 'TIME_DELTA=1.033333333333333': 11150,\n",
       " 'TIME_DELTA=7.258333333333334': 6686,\n",
       " 'TIME_DELTA=3.437499999999999': 3946,\n",
       " 'TIME_DELTA=12.000000000000002': 9823,\n",
       " 'TIME_DELTA=12.533333333333335': 11834,\n",
       " 'TIME_DELTA=4.809815950920245': 13510,\n",
       " 'TIME_DELTA=3.6145833333333335': 4413,\n",
       " 'TIME_DELTA=2.9895833333333335': 3953,\n",
       " 'NOTE_ON=63': 49,\n",
       " 'TIME_DELTA=14.65625': 6596,\n",
       " 'TIME_DELTA=11.562499999999998': 12897,\n",
       " 'NOTE_ON=66': 32,\n",
       " 'TIME_DELTA=9.666666666666664': 10650,\n",
       " 'TIME_DELTA=0.2916666666666667': 189,\n",
       " 'TIME_DELTA=7.958333333333333': 504,\n",
       " 'TIME_DELTA=1.260416666666667': 2654,\n",
       " 'TIME_DELTA=6.183333333333334': 4928,\n",
       " 'TIME_DELTA=4.760416666666667': 5134,\n",
       " 'TIME_DELTA=0.9062499999999991': 6156,\n",
       " 'TIME_DELTA=16.166666666666668': 10510,\n",
       " 'TIME_DELTA=1.5937499999999998': 8370,\n",
       " 'TIME_DELTA=6.135416666666666': 8166,\n",
       " 'TIME_DELTA=7.843749999999999': 9310,\n",
       " 'TIME_DELTA=0.2666666666666665': 10678,\n",
       " 'TIME_DELTA=11.760416666666666': 6535,\n",
       " 'TIME_DELTA=1.9833333333333343': 741,\n",
       " 'TIME_DELTA=16.416666666666668': 10806,\n",
       " 'TIME_DELTA=5.437499999999999': 5844,\n",
       " 'TIME_DELTA=0.20833333333333334': 158,\n",
       " 'TIME_DELTA=0.45833333333333315': 6497,\n",
       " 'TIME_DELTA=0.9687499999999982': 6879,\n",
       " 'INST=84': 2079,\n",
       " 'TIME_DELTA=0.2833333333333332': 689,\n",
       " 'TIME_DELTA=0.65625': 837,\n",
       " 'TIME_DELTA=0.17708333333333331': 5352,\n",
       " 'TIME_DELTA=6.489583333333332': 5848,\n",
       " 'TIME_DELTA=2.7749999999999986': 7355,\n",
       " 'NOTE_ON=5': 7573,\n",
       " 'TIME_DELTA=0.36666666666666664': 367,\n",
       " 'TIME_DELTA=2.225': 3247,\n",
       " 'TIME_DELTA=8.84375': 8503,\n",
       " 'TIME_DELTA=15.516666666666667': 4668,\n",
       " 'TIME_DELTA=4.736196319018405': 12178,\n",
       " 'TIME_DELTA=0.48958333333333315': 9477,\n",
       " 'TIME_DELTA=9.895833333333334': 3013,\n",
       " 'TIME_DELTA=22.2': 12035,\n",
       " 'TIME_DELTA=11.875': 1549,\n",
       " 'TIME_DELTA=9.249999999999998': 12363,\n",
       " 'TIME_DELTA=0.741666666666668': 12608,\n",
       " 'TIME_DELTA=15.141666666666666': 10253,\n",
       " 'TIME_DELTA=2.9333333333333336': 1448,\n",
       " 'TIME_DELTA=0.9333333333333331': 1783,\n",
       " 'TIME_DELTA=2.7333333333333325': 3669,\n",
       " 'TIME_DELTA=12.895833333333334': 4378,\n",
       " 'TIME_DELTA=12.9': 4740,\n",
       " 'TIME_DELTA=14.302083333333334': 7298,\n",
       " 'TIME_DELTA=7.333333333333336': 11507,\n",
       " 'TIME_DELTA=1.864583333333334': 2021,\n",
       " 'TIME_DELTA=5.562500000000001': 6245,\n",
       " 'TIME_DELTA=11.525': 7914,\n",
       " 'TIME_DELTA=1.3750000000000002': 2595,\n",
       " 'TIME_DELTA=18.541666666666668': 13135,\n",
       " 'TIME_DELTA=7.604166666666666': 4075,\n",
       " 'TIME_DELTA=1.9479166666666674': 10754,\n",
       " 'TIME_DELTA=12.258333333333335': 12932,\n",
       " 'TIME_DELTA=0.7222222222222222': 5304,\n",
       " 'TIME_DELTA=1.6875000000000009': 3104,\n",
       " 'TIME_DELTA=7.739583333333334': 8891,\n",
       " 'TIME_DELTA=14.645833333333334': 3416,\n",
       " 'TIME_DELTA=0.01666666666666683': 3571,\n",
       " 'TIME_DELTA=0.9629629629629637': 12641,\n",
       " 'TIME_DELTA=12.258333333333333': 8301,\n",
       " 'TIME_DELTA=5.283333333333333': 4262,\n",
       " 'TIME_DELTA=2.703125': 6054,\n",
       " 'TIME_DELTA=3.739583333333333': 6056,\n",
       " 'TIME_DELTA=9.1875': 3323,\n",
       " 'TIME_DELTA=8.604166666666664': 11536,\n",
       " 'TIME_DELTA=0.5958333333333333': 11652,\n",
       " 'TIME_DELTA=0.5889570552147239': 12569,\n",
       " 'TIME_DELTA=1.7395833333333348': 12761,\n",
       " 'TIME_DELTA=5.329166666666667': 10346,\n",
       " 'TIME_DELTA=23.9': 13351,\n",
       " 'TIME_DELTA=4.466257668711656': 13482,\n",
       " 'TIME_DELTA=5.59375': 4497,\n",
       " 'TIME_DELTA=9.899999999999999': 8792,\n",
       " 'TIME_DELTA=4.091666666666667': 4545,\n",
       " 'TIME_DELTA=5.408333333333334': 10943,\n",
       " 'TIME_DELTA=5.133333333333333': 3398,\n",
       " 'TIME_DELTA=0.4666666666666668': 254,\n",
       " 'TIME_DELTA=3.6999999999999997': 5069,\n",
       " 'TIME_DELTA=12.96875': 7293,\n",
       " 'TIME_DELTA=0.1576354679802956': 9779,\n",
       " 'TIME_DELTA=17.6875': 13106,\n",
       " 'TIME_DELTA=5.802083333333332': 5736,\n",
       " 'TIME_DELTA=2.3020833333333335': 3335,\n",
       " 'NOTE_OFF=109': 2391,\n",
       " 'TIME_DELTA=2.7750000000000004': 4405,\n",
       " 'TIME_DELTA=0.36458333333333215': 2242,\n",
       " 'TIME_DELTA=3.0916666666666677': 11361,\n",
       " 'TIME_DELTA=1.7500000000000009': 1508,\n",
       " 'TIME_DELTA=3.058333333333333': 4272,\n",
       " 'TIME_DELTA=1.9310344827586208': 7901,\n",
       " 'TIME_DELTA=1.6916666666666673': 7339,\n",
       " 'TIME_DELTA=13.05': 7121,\n",
       " 'TIME_DELTA=2.8500000000000014': 10068,\n",
       " ...}"
      ]
     },
     "execution_count": 33,
     "metadata": {},
     "output_type": "execute_result"
    }
   ],
   "source": [
    "# Obtain the vocabulary of the tokenizer using the 'get_vocab' method\n",
    "vocab = tokenizer.get_vocab()\n",
    "\n",
    "# Display and store the obtained vocabulary\n",
    "vocab"
   ]
  },
  {
   "cell_type": "markdown",
   "metadata": {},
   "source": [
    "The vocabulary of the tokenizer is the equalivant as a metadata dictionary for the tokenizer we created. It maps tokens to numerical indices, providing information about the unique elements (tokens) present in the dataset.It outlines the structure and organization of the tokenization process, detailing how words or subwords are represented by numerical indices.\n",
    "\n",
    "Create a dataframe with the tokenizer's vocabulary to upload it to weights & bias."
   ]
  },
  {
   "cell_type": "code",
   "execution_count": 34,
   "metadata": {
    "id": "Lg3UVX6oMxfL"
   },
   "outputs": [
    {
     "data": {
      "text/html": [
       "<div>\n",
       "<style scoped>\n",
       "    .dataframe tbody tr th:only-of-type {\n",
       "        vertical-align: middle;\n",
       "    }\n",
       "\n",
       "    .dataframe tbody tr th {\n",
       "        vertical-align: top;\n",
       "    }\n",
       "\n",
       "    .dataframe thead th {\n",
       "        text-align: right;\n",
       "    }\n",
       "</style>\n",
       "<table border=\"1\" class=\"dataframe\">\n",
       "  <thead>\n",
       "    <tr style=\"text-align: right;\">\n",
       "      <th></th>\n",
       "      <th>Token</th>\n",
       "      <th>Index</th>\n",
       "    </tr>\n",
       "  </thead>\n",
       "  <tbody>\n",
       "    <tr>\n",
       "      <th>12314</th>\n",
       "      <td>[UNK]</td>\n",
       "      <td>0</td>\n",
       "    </tr>\n",
       "    <tr>\n",
       "      <th>2918</th>\n",
       "      <td>[CLS]</td>\n",
       "      <td>1</td>\n",
       "    </tr>\n",
       "    <tr>\n",
       "      <th>10915</th>\n",
       "      <td>[SEP]</td>\n",
       "      <td>2</td>\n",
       "    </tr>\n",
       "    <tr>\n",
       "      <th>12469</th>\n",
       "      <td>[PAD]</td>\n",
       "      <td>3</td>\n",
       "    </tr>\n",
       "    <tr>\n",
       "      <th>6134</th>\n",
       "      <td>[MASK]</td>\n",
       "      <td>4</td>\n",
       "    </tr>\n",
       "    <tr>\n",
       "      <th>...</th>\n",
       "      <td>...</td>\n",
       "      <td>...</td>\n",
       "    </tr>\n",
       "    <tr>\n",
       "      <th>4743</th>\n",
       "      <td>TIME_DELTA=9.925000000000002</td>\n",
       "      <td>13853</td>\n",
       "    </tr>\n",
       "    <tr>\n",
       "      <th>1343</th>\n",
       "      <td>TIME_DELTA=9.933333333333332</td>\n",
       "      <td>13854</td>\n",
       "    </tr>\n",
       "    <tr>\n",
       "      <th>12177</th>\n",
       "      <td>TIME_DELTA=9.974999999999998</td>\n",
       "      <td>13855</td>\n",
       "    </tr>\n",
       "    <tr>\n",
       "      <th>11076</th>\n",
       "      <td>TIME_DELTA=9.975000000000001</td>\n",
       "      <td>13856</td>\n",
       "    </tr>\n",
       "    <tr>\n",
       "      <th>2482</th>\n",
       "      <td>TIME_DELTA=9.991666666666665</td>\n",
       "      <td>13857</td>\n",
       "    </tr>\n",
       "  </tbody>\n",
       "</table>\n",
       "<p>13858 rows × 2 columns</p>\n",
       "</div>"
      ],
      "text/plain": [
       "                              Token  Index\n",
       "12314                         [UNK]      0\n",
       "2918                          [CLS]      1\n",
       "10915                         [SEP]      2\n",
       "12469                         [PAD]      3\n",
       "6134                         [MASK]      4\n",
       "...                             ...    ...\n",
       "4743   TIME_DELTA=9.925000000000002  13853\n",
       "1343   TIME_DELTA=9.933333333333332  13854\n",
       "12177  TIME_DELTA=9.974999999999998  13855\n",
       "11076  TIME_DELTA=9.975000000000001  13856\n",
       "2482   TIME_DELTA=9.991666666666665  13857\n",
       "\n",
       "[13858 rows x 2 columns]"
      ]
     },
     "execution_count": 34,
     "metadata": {},
     "output_type": "execute_result"
    }
   ],
   "source": [
    "# Create a DataFrame 'df' using a list comprehension, where each row contains a token and its corresponding index from\n",
    "# the tokenizer's vocabulary\n",
    "df = pd.DataFrame([{\"Token\": token, \"Index\": idx} for token, idx in vocab.items()]).sort_values(by=\"Index\")\n",
    "\n",
    "# Display the DataFrame 'df', which presents the tokens and their associated indices in the tokenizer's vocabulary\n",
    "df"
   ]
  },
  {
   "cell_type": "markdown",
   "metadata": {
    "id": "e9Z33hXEO94k"
   },
   "source": [
    "### Upload vocab to W&B"
   ]
  },
  {
   "cell_type": "code",
   "execution_count": 35,
   "metadata": {
    "id": "FeGFtbhMNMJl"
   },
   "outputs": [
    {
     "data": {
      "text/html": [
       "Tracking run with wandb version 0.16.2"
      ],
      "text/plain": [
       "<IPython.core.display.HTML object>"
      ]
     },
     "metadata": {},
     "output_type": "display_data"
    },
    {
     "data": {
      "text/html": [
       "Run data is saved locally in <code>C:\\Users\\naomi\\Thesis\\Thesis\\Thesis-main\\wandb\\run-20240125_115541-v1mb0ivt</code>"
      ],
      "text/plain": [
       "<IPython.core.display.HTML object>"
      ]
     },
     "metadata": {},
     "output_type": "display_data"
    },
    {
     "data": {
      "text/html": [
       "Syncing run <strong><a href='https://wandb.ai/musicgen/lmd_musicgen/runs/v1mb0ivt' target=\"_blank\">legendary-blaze-2</a></strong> to <a href='https://wandb.ai/musicgen/lmd_musicgen' target=\"_blank\">Weights & Biases</a> (<a href='https://wandb.me/run' target=\"_blank\">docs</a>)<br/>"
      ],
      "text/plain": [
       "<IPython.core.display.HTML object>"
      ]
     },
     "metadata": {},
     "output_type": "display_data"
    },
    {
     "data": {
      "text/html": [
       " View project at <a href='https://wandb.ai/musicgen/lmd_musicgen' target=\"_blank\">https://wandb.ai/musicgen/lmd_musicgen</a>"
      ],
      "text/plain": [
       "<IPython.core.display.HTML object>"
      ]
     },
     "metadata": {},
     "output_type": "display_data"
    },
    {
     "data": {
      "text/html": [
       " View run at <a href='https://wandb.ai/musicgen/lmd_musicgen/runs/v1mb0ivt' target=\"_blank\">https://wandb.ai/musicgen/lmd_musicgen/runs/v1mb0ivt</a>"
      ],
      "text/plain": [
       "<IPython.core.display.HTML object>"
      ]
     },
     "metadata": {},
     "output_type": "display_data"
    }
   ],
   "source": [
    "# Initialize a Weights & Biases (wandb) run with project name is set to \"lmd_pretokenization\", \n",
    "# and the job type is set to \"upload\"\n",
    "run = wandb.init(project=wandb_project, job_type=\"upload\")"
   ]
  },
  {
   "cell_type": "code",
   "execution_count": 36,
   "metadata": {
    "id": "0llSY2-jP8Rm"
   },
   "outputs": [],
   "source": [
    "# Create table with vocab\n",
    "vocab_table = wandb.Table(data=df)"
   ]
  },
  {
   "cell_type": "markdown",
   "metadata": {},
   "source": [
    "\"If your framework uses or produces models or datasets, you can log them for full traceability and have wandb automatically monitor your entire pipeline through W&B Artifacts.\" - https://docs.wandb.ai/guides/integrations/add-wandb-to-any-library"
   ]
  },
  {
   "cell_type": "code",
   "execution_count": 37,
   "metadata": {
    "id": "wYc1ACQSQEFd"
   },
   "outputs": [],
   "source": [
    "# Create artifact for raw data\n",
    "processed_data_at = wandb.Artifact(name=data_processed, type=\"processed_data\")"
   ]
  },
  {
   "cell_type": "code",
   "execution_count": 38,
   "metadata": {
    "id": "kNheYjlWQRF1"
   },
   "outputs": [
    {
     "data": {
      "text/plain": [
       "ArtifactManifestEntry(path='vocab_table.table.json', digest='41KqUPBY4eP+tHqAGdZPrw==', size=542886, local_path='C:\\\\Users\\\\naomi\\\\AppData\\\\Local\\\\wandb\\\\wandb\\\\artifacts\\\\staging\\\\tmpiptf_in0')"
      ]
     },
     "execution_count": 38,
     "metadata": {},
     "output_type": "execute_result"
    }
   ],
   "source": [
    "# Add 'vocab_table' to 'processed_data_at' artifact with the name \"vocab_table\"\n",
    "processed_data_at.add(vocab_table, name=\"vocab_table\")"
   ]
  },
  {
   "cell_type": "code",
   "execution_count": 39,
   "metadata": {
    "id": "O-84ZVqDQ7iM"
   },
   "outputs": [
    {
     "data": {
      "text/plain": [
       "<Artifact lmd_processed>"
      ]
     },
     "execution_count": 39,
     "metadata": {},
     "output_type": "execute_result"
    }
   ],
   "source": [
    "# Log the 'processed_data_at' artifact to the Weights & Biases run\n",
    "run.log_artifact(processed_data_at)"
   ]
  },
  {
   "cell_type": "code",
   "execution_count": 40,
   "metadata": {
    "id": "22YjV7gJRCXF"
   },
   "outputs": [
    {
     "data": {
      "application/vnd.jupyter.widget-view+json": {
       "model_id": "",
       "version_major": 2,
       "version_minor": 0
      },
      "text/plain": [
       "VBox(children=(Label(value='0.001 MB of 0.026 MB uploaded\\r'), FloatProgress(value=0.04424456501948217, max=1.…"
      ]
     },
     "metadata": {},
     "output_type": "display_data"
    },
    {
     "data": {
      "text/html": [
       " View run <strong style=\"color:#cdcd00\">legendary-blaze-2</strong> at: <a href='https://wandb.ai/musicgen/lmd_musicgen/runs/v1mb0ivt' target=\"_blank\">https://wandb.ai/musicgen/lmd_musicgen/runs/v1mb0ivt</a><br/> View job at <a href='https://wandb.ai/musicgen/lmd_musicgen/jobs/QXJ0aWZhY3RDb2xsZWN0aW9uOjEzMzY3OTgwOQ==/version_details/v0' target=\"_blank\">https://wandb.ai/musicgen/lmd_musicgen/jobs/QXJ0aWZhY3RDb2xsZWN0aW9uOjEzMzY3OTgwOQ==/version_details/v0</a><br/>Synced 5 W&B file(s), 0 media file(s), 0 artifact file(s) and 0 other file(s)"
      ],
      "text/plain": [
       "<IPython.core.display.HTML object>"
      ]
     },
     "metadata": {},
     "output_type": "display_data"
    },
    {
     "data": {
      "text/html": [
       "Find logs at: <code>.\\wandb\\run-20240125_115541-v1mb0ivt\\logs</code>"
      ],
      "text/plain": [
       "<IPython.core.display.HTML object>"
      ]
     },
     "metadata": {},
     "output_type": "display_data"
    }
   ],
   "source": [
    "# Complete and finish the Weights & Biases run\n",
    "run.finish()"
   ]
  },
  {
   "cell_type": "code",
   "execution_count": null,
   "metadata": {
    "id": "cCxK_DEBREOs"
   },
   "outputs": [],
   "source": []
  }
 ],
 "metadata": {
  "colab": {
   "provenance": []
  },
  "kernelspec": {
   "display_name": "Python 3 (ipykernel)",
   "language": "python",
   "name": "python3"
  },
  "language_info": {
   "codemirror_mode": {
    "name": "ipython",
    "version": 3
   },
   "file_extension": ".py",
   "mimetype": "text/x-python",
   "name": "python",
   "nbconvert_exporter": "python",
   "pygments_lexer": "ipython3",
   "version": "3.11.5"
  }
 },
 "nbformat": 4,
 "nbformat_minor": 1
}

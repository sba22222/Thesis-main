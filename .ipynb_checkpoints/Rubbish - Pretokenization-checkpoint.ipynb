{
 "cells": [
  {
   "cell_type": "code",
   "execution_count": null,
   "id": "1a043ec6",
   "metadata": {},
   "outputs": [],
   "source": [
    "# Take some sample from the dataset\n",
    "sample_10 = raw_datasets[\"train\"][\"text\"][10]\n",
    "sample = sample_10[:242]\n",
    "sample"
   ]
  },
  {
   "cell_type": "code",
   "execution_count": null,
   "id": "5ef3606a",
   "metadata": {},
   "outputs": [],
   "source": [
    "# Default GPT-2 tokenizer applied to our dataset\n",
    "from transformers import AutoTokenizer\n",
    "\n",
    "tokenizer = AutoTokenizer.from_pretrained(\"gpt2\")\n",
    "print(tokenizer(sample).tokens())"
   ]
  },
  {
   "cell_type": "code",
   "execution_count": null,
   "id": "8bb3c6b6",
   "metadata": {},
   "outputs": [],
   "source": []
  },
  {
   "cell_type": "code",
   "execution_count": null,
   "id": "304a58ba",
   "metadata": {},
   "outputs": [],
   "source": []
  },
  {
   "cell_type": "code",
   "execution_count": null,
   "id": "c8f29933",
   "metadata": {},
   "outputs": [],
   "source": []
  },
  {
   "cell_type": "code",
   "execution_count": null,
   "id": "444eff48",
   "metadata": {},
   "outputs": [],
   "source": []
  },
  {
   "cell_type": "code",
   "execution_count": null,
   "id": "2bd5e57e",
   "metadata": {},
   "outputs": [],
   "source": []
  },
  {
   "cell_type": "code",
   "execution_count": 1,
   "id": "81e2a8c1",
   "metadata": {},
   "outputs": [
    {
     "ename": "NameError",
     "evalue": "name 'sample' is not defined",
     "output_type": "error",
     "traceback": [
      "\u001b[1;31m---------------------------------------------------------------------------\u001b[0m",
      "\u001b[1;31mNameError\u001b[0m                                 Traceback (most recent call last)",
      "Cell \u001b[1;32mIn[1], line 13\u001b[0m\n\u001b[0;32m     10\u001b[0m new_tokenizer\u001b[38;5;241m.\u001b[39mpre_tokenizer \u001b[38;5;241m=\u001b[39m WhitespaceSplit()\n\u001b[0;32m     12\u001b[0m \u001b[38;5;66;03m# Let's test our pre_tokenizer\u001b[39;00m\n\u001b[1;32m---> 13\u001b[0m new_tokenizer\u001b[38;5;241m.\u001b[39mpre_tokenizer\u001b[38;5;241m.\u001b[39mpre_tokenize_str(\u001b[43msample\u001b[49m)\n",
      "\u001b[1;31mNameError\u001b[0m: name 'sample' is not defined"
     ]
    }
   ],
   "source": [
    "from tokenizers import Tokenizer\n",
    "from tokenizers.models import WordLevel\n",
    "\n",
    "# We need to specify the UNK token\n",
    "new_tokenizer = Tokenizer(model=WordLevel(unk_token=\"[UNK]\"))\n",
    "\n",
    "# Add pretokenizer\n",
    "from tokenizers.pre_tokenizers import WhitespaceSplit\n",
    "\n",
    "new_tokenizer.pre_tokenizer = WhitespaceSplit()\n",
    "\n",
    "# Let's test our pre_tokenizer\n",
    "new_tokenizer.pre_tokenizer.pre_tokenize_str(sample)"
   ]
  },
  {
   "cell_type": "code",
   "execution_count": null,
   "id": "165f6bef",
   "metadata": {},
   "outputs": [],
   "source": []
  }
 ],
 "metadata": {
  "kernelspec": {
   "display_name": "Python 3 (ipykernel)",
   "language": "python",
   "name": "python3"
  },
  "language_info": {
   "codemirror_mode": {
    "name": "ipython",
    "version": 3
   },
   "file_extension": ".py",
   "mimetype": "text/x-python",
   "name": "python",
   "nbconvert_exporter": "python",
   "pygments_lexer": "ipython3",
   "version": "3.9.13"
  }
 },
 "nbformat": 4,
 "nbformat_minor": 5
}

{
 "cells": [
  {
   "cell_type": "markdown",
   "id": "16ba19f4",
   "metadata": {},
   "source": [
    "# Tutorial on music generation for drums\n",
    "https://cpjku.github.io/partitura_tutorial/notebooks/04_generation/Drum_Generation_Transformer.html"
   ]
  },
  {
   "cell_type": "code",
   "execution_count": null,
   "id": "f7d13e3a",
   "metadata": {},
   "outputs": [],
   "source": []
  }
 ],
 "metadata": {
  "kernelspec": {
   "display_name": "Python 3 (ipykernel)",
   "language": "python",
   "name": "python3"
  },
  "language_info": {
   "codemirror_mode": {
    "name": "ipython",
    "version": 3
   },
   "file_extension": ".py",
   "mimetype": "text/x-python",
   "name": "python",
   "nbconvert_exporter": "python",
   "pygments_lexer": "ipython3",
   "version": "3.9.13"
  }
 },
 "nbformat": 4,
 "nbformat_minor": 5
}

{
 "cells": [
  {
   "cell_type": "code",
   "execution_count": 14,
   "id": "1e9f61a1",
   "metadata": {},
   "outputs": [
    {
     "ename": "UserSettingsException",
     "evalue": "attempting to set a value to a path that does not exist: C:\\path\\to\\your\\temporary\\directory",
     "output_type": "error",
     "traceback": [
      "\u001b[1;31m---------------------------------------------------------------------------\u001b[0m",
      "\u001b[1;31mUserSettingsException\u001b[0m                     Traceback (most recent call last)",
      "Cell \u001b[1;32mIn[14], line 6\u001b[0m\n\u001b[0;32m      3\u001b[0m \u001b[38;5;28;01mfrom\u001b[39;00m \u001b[38;5;21;01mmusic21\u001b[39;00m \u001b[38;5;28;01mimport\u001b[39;00m converter, metadata, environment\n\u001b[0;32m      5\u001b[0m \u001b[38;5;66;03m# Set the music21 environment to use a directory where you have write permissions\u001b[39;00m\n\u001b[1;32m----> 6\u001b[0m \u001b[43menvironment\u001b[49m\u001b[38;5;241;43m.\u001b[39;49m\u001b[43mUserSettings\u001b[49m\u001b[43m(\u001b[49m\u001b[43m)\u001b[49m\u001b[43m[\u001b[49m\u001b[38;5;124;43m'\u001b[39;49m\u001b[38;5;124;43mmusicxmlPath\u001b[39;49m\u001b[38;5;124;43m'\u001b[39;49m\u001b[43m]\u001b[49m \u001b[38;5;241m=\u001b[39m \u001b[38;5;124m'\u001b[39m\u001b[38;5;124mC:/path/to/your/temporary/directory/\u001b[39m\u001b[38;5;124m'\u001b[39m\n\u001b[0;32m      8\u001b[0m \u001b[38;5;66;03m# Directory path containing the pickle files\u001b[39;00m\n\u001b[0;32m      9\u001b[0m directory_path \u001b[38;5;241m=\u001b[39m \u001b[38;5;124m\"\u001b[39m\u001b[38;5;124mC:/Users/naomi/Thesis/Thesis/Thesis-main/pop-pickle/pop_pickle/\u001b[39m\u001b[38;5;124m\"\u001b[39m\n",
      "File \u001b[1;32m~\\anaconda3\\lib\\site-packages\\music21\\environment.py:1301\u001b[0m, in \u001b[0;36mUserSettings.__setitem__\u001b[1;34m(self, key, value)\u001b[0m\n\u001b[0;32m   1299\u001b[0m         value \u001b[38;5;241m=\u001b[39m common\u001b[38;5;241m.\u001b[39mcleanpath(value, returnPathlib\u001b[38;5;241m=\u001b[39m\u001b[38;5;28;01mFalse\u001b[39;00m)\n\u001b[0;32m   1300\u001b[0m         \u001b[38;5;28;01mif\u001b[39;00m \u001b[38;5;129;01mnot\u001b[39;00m os\u001b[38;5;241m.\u001b[39mpath\u001b[38;5;241m.\u001b[39mexists(value):\n\u001b[1;32m-> 1301\u001b[0m             \u001b[38;5;28;01mraise\u001b[39;00m UserSettingsException(\n\u001b[0;32m   1302\u001b[0m                 \u001b[38;5;124mf\u001b[39m\u001b[38;5;124m'\u001b[39m\u001b[38;5;124mattempting to set a value to a path that does not exist: \u001b[39m\u001b[38;5;132;01m{\u001b[39;00mvalue\u001b[38;5;132;01m}\u001b[39;00m\u001b[38;5;124m'\u001b[39m)\n\u001b[0;32m   1303\u001b[0m \u001b[38;5;66;03m# when setting a local corpus setting, if not a list, append\u001b[39;00m\n\u001b[0;32m   1304\u001b[0m \u001b[38;5;28;01melif\u001b[39;00m key \u001b[38;5;241m==\u001b[39m \u001b[38;5;124m'\u001b[39m\u001b[38;5;124mlocalCorpusSettings\u001b[39m\u001b[38;5;124m'\u001b[39m:\n",
      "\u001b[1;31mUserSettingsException\u001b[0m: attempting to set a value to a path that does not exist: C:\\path\\to\\your\\temporary\\directory"
     ]
    }
   ],
   "source": [
    "import os\n",
    "import pickle\n",
    "from music21 import converter, metadata, environment\n",
    "\n",
    "# Set the music21 environment to use a directory where you have write permissions\n",
    "environment.UserSettings()['musicxmlPath'] = 'C:/path/to/your/temporary/directory/'\n",
    "\n",
    "# Directory path containing the pickle files\n",
    "directory_path = \"C:/Users/naomi/Thesis/Thesis/Thesis-main/pop-pickle/pop_pickle/\"\n",
    "\n",
    "# Search for all .pickle files in the directory and its subdirectories\n",
    "pickle_files = [os.path.join(root, file) for root, dirs, files in os.walk(directory_path) for file in files if file.endswith(\".pickle\")]\n",
    "\n",
    "if not pickle_files:\n",
    "    print(\"Error: No pickle files found in the specified directory.\")\n",
    "else:\n",
    "    # Iterate through each .pickle file\n",
    "    for pickle_filepath in pickle_files:\n",
    "        try:\n",
    "            # Load the MIDI data from the pickle file\n",
    "            with open(pickle_filepath, 'rb') as file:\n",
    "                all_midis = pickle.load(file)\n",
    "\n",
    "            # Iterate through the MIDI streams and print metadata\n",
    "            for midi_stream in all_midis:\n",
    "                # Create a new Score object\n",
    "                score = converter.parse(midi_stream)\n",
    "                \n",
    "                # Use metadata.Metadata to extract metadata\n",
    "                metadata_info = metadata.Metadata()\n",
    "                metadata_info.extract(score)\n",
    "                \n",
    "                # Print metadata information\n",
    "                print(metadata_info)\n",
    "                \n",
    "        except Exception as e:\n",
    "            print(f\"An error occurred while processing {pickle_filepath}: {e}\")\n"
   ]
  },
  {
   "cell_type": "code",
   "execution_count": null,
   "id": "f07dd94a",
   "metadata": {},
   "outputs": [],
   "source": []
  }
 ],
 "metadata": {
  "kernelspec": {
   "display_name": "Python 3 (ipykernel)",
   "language": "python",
   "name": "python3"
  },
  "language_info": {
   "codemirror_mode": {
    "name": "ipython",
    "version": 3
   },
   "file_extension": ".py",
   "mimetype": "text/x-python",
   "name": "python",
   "nbconvert_exporter": "python",
   "pygments_lexer": "ipython3",
   "version": "3.9.13"
  }
 },
 "nbformat": 4,
 "nbformat_minor": 5
}

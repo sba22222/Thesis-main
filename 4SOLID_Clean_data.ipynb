{
 "cells": [
  {
   "cell_type": "code",
   "execution_count": 1,
   "metadata": {
    "id": "btPMKsNcR0xW"
   },
   "outputs": [
    {
     "name": "stdout",
     "output_type": "stream",
     "text": [
      "Requirement already satisfied: datasets in c:\\users\\naomi\\anaconda3\\lib\\site-packages (2.15.0)\n",
      "Requirement already satisfied: xxhash in c:\\users\\naomi\\anaconda3\\lib\\site-packages (from datasets) (3.4.1)\n",
      "Requirement already satisfied: multiprocess in c:\\users\\naomi\\anaconda3\\lib\\site-packages (from datasets) (0.70.15)\n",
      "Requirement already satisfied: fsspec[http]<=2023.10.0,>=2023.1.0 in c:\\users\\naomi\\anaconda3\\lib\\site-packages (from datasets) (2023.10.0)\n",
      "Requirement already satisfied: aiohttp in c:\\users\\naomi\\anaconda3\\lib\\site-packages (from datasets) (3.9.1)\n",
      "Requirement already satisfied: numpy>=1.17 in c:\\users\\naomi\\anaconda3\\lib\\site-packages (from datasets) (1.21.5)\n",
      "Requirement already satisfied: pyarrow-hotfix in c:\\users\\naomi\\anaconda3\\lib\\site-packages (from datasets) (0.6)\n",
      "Requirement already satisfied: tqdm>=4.62.1 in c:\\users\\naomi\\anaconda3\\lib\\site-packages (from datasets) (4.64.0)\n",
      "Requirement already satisfied: packaging in c:\\users\\naomi\\appdata\\roaming\\python\\python39\\site-packages (from datasets) (22.0)\n",
      "Requirement already satisfied: pyyaml>=5.1 in c:\\users\\naomi\\anaconda3\\lib\\site-packages (from datasets) (6.0)\n",
      "Requirement already satisfied: requests>=2.19.0 in c:\\users\\naomi\\anaconda3\\lib\\site-packages (from datasets) (2.28.1)\n",
      "Requirement already satisfied: pyarrow>=8.0.0 in c:\\users\\naomi\\anaconda3\\lib\\site-packages (from datasets) (14.0.1)\n",
      "Requirement already satisfied: pandas in c:\\users\\naomi\\anaconda3\\lib\\site-packages (from datasets) (1.4.4)\n",
      "Requirement already satisfied: huggingface-hub>=0.18.0 in c:\\users\\naomi\\anaconda3\\lib\\site-packages (from datasets) (0.19.4)\n",
      "Requirement already satisfied: dill<0.3.8,>=0.3.0 in c:\\users\\naomi\\anaconda3\\lib\\site-packages (from datasets) (0.3.7)\n",
      "Requirement already satisfied: multidict<7.0,>=4.5 in c:\\users\\naomi\\anaconda3\\lib\\site-packages (from aiohttp->datasets) (6.0.4)\n",
      "Requirement already satisfied: aiosignal>=1.1.2 in c:\\users\\naomi\\anaconda3\\lib\\site-packages (from aiohttp->datasets) (1.3.1)\n",
      "Requirement already satisfied: yarl<2.0,>=1.0 in c:\\users\\naomi\\anaconda3\\lib\\site-packages (from aiohttp->datasets) (1.9.4)\n",
      "Requirement already satisfied: async-timeout<5.0,>=4.0 in c:\\users\\naomi\\anaconda3\\lib\\site-packages (from aiohttp->datasets) (4.0.3)\n",
      "Requirement already satisfied: frozenlist>=1.1.1 in c:\\users\\naomi\\anaconda3\\lib\\site-packages (from aiohttp->datasets) (1.4.0)\n",
      "Requirement already satisfied: attrs>=17.3.0 in c:\\users\\naomi\\anaconda3\\lib\\site-packages (from aiohttp->datasets) (21.4.0)\n",
      "Requirement already satisfied: filelock in c:\\users\\naomi\\anaconda3\\lib\\site-packages (from huggingface-hub>=0.18.0->datasets) (3.13.1)\n",
      "Requirement already satisfied: typing-extensions>=3.7.4.3 in c:\\users\\naomi\\anaconda3\\lib\\site-packages (from huggingface-hub>=0.18.0->datasets) (4.9.0)\n",
      "Requirement already satisfied: certifi>=2017.4.17 in c:\\users\\naomi\\anaconda3\\lib\\site-packages (from requests>=2.19.0->datasets) (2022.9.14)\n",
      "Requirement already satisfied: charset-normalizer<3,>=2 in c:\\users\\naomi\\anaconda3\\lib\\site-packages (from requests>=2.19.0->datasets) (2.0.4)\n",
      "Requirement already satisfied: urllib3<1.27,>=1.21.1 in c:\\users\\naomi\\anaconda3\\lib\\site-packages (from requests>=2.19.0->datasets) (1.26.11)\n",
      "Requirement already satisfied: idna<4,>=2.5 in c:\\users\\naomi\\anaconda3\\lib\\site-packages (from requests>=2.19.0->datasets) (3.3)\n",
      "Requirement already satisfied: colorama in c:\\users\\naomi\\appdata\\roaming\\python\\python39\\site-packages (from tqdm>=4.62.1->datasets) (0.4.6)\n",
      "Requirement already satisfied: pytz>=2020.1 in c:\\users\\naomi\\anaconda3\\lib\\site-packages (from pandas->datasets) (2022.1)\n",
      "Requirement already satisfied: python-dateutil>=2.8.1 in c:\\users\\naomi\\appdata\\roaming\\python\\python39\\site-packages (from pandas->datasets) (2.8.2)\n",
      "Requirement already satisfied: six>=1.5 in c:\\users\\naomi\\appdata\\roaming\\python\\python39\\site-packages (from python-dateutil>=2.8.1->pandas->datasets) (1.16.0)\n"
     ]
    }
   ],
   "source": [
    "!pip install datasets"
   ]
  },
  {
   "cell_type": "code",
   "execution_count": 12,
   "metadata": {
    "id": "kY2RUbWcSbTi"
   },
   "outputs": [
    {
     "name": "stdout",
     "output_type": "stream",
     "text": [
      "1\n"
     ]
    }
   ],
   "source": [
    "import glob\n",
    "\n",
    "dataset_files = glob.glob(r\"C:\\Users\\naomi\\Thesis\\Thesis\\Thesis-main\\tokenized_output_v2\\all_tokenized_outputs.txt\")\n",
    "print(len(dataset_files))"
   ]
  },
  {
   "cell_type": "code",
   "execution_count": 13,
   "metadata": {
    "id": "dNxgf-F9R6ar"
   },
   "outputs": [
    {
     "data": {
      "application/vnd.jupyter.widget-view+json": {
       "model_id": "70971ba6ac6f4f408f07472953497ac4",
       "version_major": 2,
       "version_minor": 0
      },
      "text/plain": [
       "Downloading data files:   0%|          | 0/1 [00:00<?, ?it/s]"
      ]
     },
     "metadata": {},
     "output_type": "display_data"
    },
    {
     "data": {
      "application/vnd.jupyter.widget-view+json": {
       "model_id": "63cd1cc843574e5e9d032375a7925d6d",
       "version_major": 2,
       "version_minor": 0
      },
      "text/plain": [
       "Extracting data files:   0%|          | 0/1 [00:00<?, ?it/s]"
      ]
     },
     "metadata": {},
     "output_type": "display_data"
    },
    {
     "data": {
      "application/vnd.jupyter.widget-view+json": {
       "model_id": "18c12bf7dc9743ef8c2bca0bfb1bc993",
       "version_major": 2,
       "version_minor": 0
      },
      "text/plain": [
       "Generating train split: 0 examples [00:00, ? examples/s]"
      ]
     },
     "metadata": {},
     "output_type": "display_data"
    }
   ],
   "source": [
    "from datasets import load_dataset\n",
    "dataset = load_dataset(\"text\", data_files=dataset_files)"
   ]
  },
  {
   "cell_type": "code",
   "execution_count": 14,
   "metadata": {
    "id": "sSymUp-cTdAD"
   },
   "outputs": [],
   "source": [
    "ds = dataset[\"train\"]"
   ]
  },
  {
   "cell_type": "code",
   "execution_count": 15,
   "metadata": {
    "id": "FjUY6GvJUqe2"
   },
   "outputs": [],
   "source": [
    "df = ds.to_pandas()"
   ]
  },
  {
   "cell_type": "code",
   "execution_count": 16,
   "metadata": {
    "id": "_d3cRpOjWPfP"
   },
   "outputs": [
    {
     "data": {
      "text/html": [
       "<div>\n",
       "<style scoped>\n",
       "    .dataframe tbody tr th:only-of-type {\n",
       "        vertical-align: middle;\n",
       "    }\n",
       "\n",
       "    .dataframe tbody tr th {\n",
       "        vertical-align: top;\n",
       "    }\n",
       "\n",
       "    .dataframe thead th {\n",
       "        text-align: right;\n",
       "    }\n",
       "</style>\n",
       "<table border=\"1\" class=\"dataframe\">\n",
       "  <thead>\n",
       "    <tr style=\"text-align: right;\">\n",
       "      <th></th>\n",
       "      <th>text</th>\n",
       "    </tr>\n",
       "  </thead>\n",
       "  <tbody>\n",
       "    <tr>\n",
       "      <th>0</th>\n",
       "      <td>PIECE_START TRACK_START INST=0 BAR_START TIME_...</td>\n",
       "    </tr>\n",
       "    <tr>\n",
       "      <th>1</th>\n",
       "      <td>PIECE_START TRACK_START INST=0 BAR_START TIME_...</td>\n",
       "    </tr>\n",
       "    <tr>\n",
       "      <th>2</th>\n",
       "      <td>PIECE_START TRACK_START INST=0 BAR_START TIME_...</td>\n",
       "    </tr>\n",
       "    <tr>\n",
       "      <th>3</th>\n",
       "      <td>PIECE_START TRACK_START INST=0 BAR_START TIME_...</td>\n",
       "    </tr>\n",
       "    <tr>\n",
       "      <th>4</th>\n",
       "      <td>PIECE_START TRACK_START INST=0 BAR_START TIME_...</td>\n",
       "    </tr>\n",
       "  </tbody>\n",
       "</table>\n",
       "</div>"
      ],
      "text/plain": [
       "                                                text\n",
       "0  PIECE_START TRACK_START INST=0 BAR_START TIME_...\n",
       "1  PIECE_START TRACK_START INST=0 BAR_START TIME_...\n",
       "2  PIECE_START TRACK_START INST=0 BAR_START TIME_...\n",
       "3  PIECE_START TRACK_START INST=0 BAR_START TIME_...\n",
       "4  PIECE_START TRACK_START INST=0 BAR_START TIME_..."
      ]
     },
     "execution_count": 16,
     "metadata": {},
     "output_type": "execute_result"
    }
   ],
   "source": [
    "df.head()"
   ]
  },
  {
   "cell_type": "code",
   "execution_count": 17,
   "metadata": {
    "id": "L_V8oZJcWhb5"
   },
   "outputs": [
    {
     "name": "stdout",
     "output_type": "stream",
     "text": [
      "Empty rows at the following indices: Int64Index([    13,     26,     40,     54,     68,     82,     96,    110,\n",
      "               125,    140,\n",
      "            ...\n",
      "            205025, 205055, 205086, 205117, 205123, 205153, 205184, 205214,\n",
      "            205244, 205274],\n",
      "           dtype='int64', length=9234)\n"
     ]
    }
   ],
   "source": [
    "import pandas as pd\n",
    "\n",
    "# Let's say df is your DataFrame\n",
    "\n",
    "# Create a mask for empty rows\n",
    "mask = df['text'].isna() | (df['text'] == '')\n",
    "\n",
    "# Apply the mask and get the index of empty rows\n",
    "empty_rows_index = df[mask].index\n",
    "\n",
    "# Check if there are any empty rows\n",
    "if empty_rows_index.empty:\n",
    "    print('No empty rows')\n",
    "else:\n",
    "    print('Empty rows at the following indices:', empty_rows_index)"
   ]
  },
  {
   "cell_type": "code",
   "execution_count": 18,
   "metadata": {
    "id": "bY8Vaa2nWnWX"
   },
   "outputs": [
    {
     "data": {
      "text/plain": [
       "205282"
      ]
     },
     "execution_count": 18,
     "metadata": {},
     "output_type": "execute_result"
    }
   ],
   "source": [
    "len(df)"
   ]
  },
  {
   "cell_type": "code",
   "execution_count": 19,
   "metadata": {
    "id": "KMEr8g5BWrBy"
   },
   "outputs": [],
   "source": [
    "df = df[df['text'] != '']"
   ]
  },
  {
   "cell_type": "code",
   "execution_count": 20,
   "metadata": {
    "id": "Q4hzPql_WsaX"
   },
   "outputs": [
    {
     "data": {
      "text/plain": [
       "196048"
      ]
     },
     "execution_count": 20,
     "metadata": {},
     "output_type": "execute_result"
    }
   ],
   "source": [
    "len(df)"
   ]
  },
  {
   "cell_type": "code",
   "execution_count": 21,
   "metadata": {
    "id": "T5OAXaUMWtDG"
   },
   "outputs": [
    {
     "name": "stdout",
     "output_type": "stream",
     "text": [
      "Duplicate rows at the following indices: Int64Index([    29,     30,     37,     38,     39,     51,     52,     53,\n",
      "                56,     57,\n",
      "            ...\n",
      "            205268, 205269, 205270, 205271, 205272, 205273, 205276, 205277,\n",
      "            205278, 205279],\n",
      "           dtype='int64', length=35970)\n"
     ]
    }
   ],
   "source": [
    "# Create a mask for duplicate rows\n",
    "duplicate_mask = df.duplicated(subset=['text'], keep='first')\n",
    "\n",
    "# Apply the mask and get the index of duplicate rows\n",
    "duplicate_rows_index = df[duplicate_mask].index\n",
    "\n",
    "# Check if there are any duplicate rows\n",
    "if duplicate_rows_index.empty:\n",
    "    print('No duplicate rows')\n",
    "else:\n",
    "    print('Duplicate rows at the following indices:', duplicate_rows_index)"
   ]
  },
  {
   "cell_type": "code",
   "execution_count": 22,
   "metadata": {
    "id": "UI8u33r_XDKg"
   },
   "outputs": [],
   "source": [
    "df = df.drop_duplicates(subset=['text'], keep='first')"
   ]
  },
  {
   "cell_type": "code",
   "execution_count": 23,
   "metadata": {
    "id": "WzGw-stdXjD-"
   },
   "outputs": [
    {
     "name": "stdout",
     "output_type": "stream",
     "text": [
      "No duplicate rows\n"
     ]
    }
   ],
   "source": [
    "# Create a mask for duplicate rows\n",
    "duplicate_mask = df.duplicated(subset=['text'], keep='first')\n",
    "\n",
    "# Apply the mask and get the index of duplicate rows\n",
    "duplicate_rows_index = df[duplicate_mask].index\n",
    "\n",
    "# Check if there are any duplicate rows\n",
    "if duplicate_rows_index.empty:\n",
    "    print('No duplicate rows')\n",
    "else:\n",
    "    print('Duplicate rows at the following indices:', duplicate_rows_index)"
   ]
  },
  {
   "cell_type": "code",
   "execution_count": 24,
   "metadata": {
    "id": "GXK3YblJXq7n"
   },
   "outputs": [
    {
     "data": {
      "text/plain": [
       "160078"
      ]
     },
     "execution_count": 24,
     "metadata": {},
     "output_type": "execute_result"
    }
   ],
   "source": [
    "len(df)"
   ]
  },
  {
   "cell_type": "code",
   "execution_count": 25,
   "metadata": {
    "id": "qZf34Ak5XsOu"
   },
   "outputs": [
    {
     "name": "stdout",
     "output_type": "stream",
     "text": [
      "Rows that do not contain \"NOTE_ON\" at the following indices: Int64Index([   266,   1440,   1635,   3047,   3048,   3049,   6276,   7279,\n",
      "              8306,  17145,  17146,  18898,  18899,  37960,  60380,  60381,\n",
      "             65362,  65672,  67947,  67948,  67949,  74613,  75929,  76001,\n",
      "             76239,  92151,  92152, 124792, 124793, 124794, 124925, 124926,\n",
      "            162775, 171003, 171004, 171005],\n",
      "           dtype='int64')\n"
     ]
    }
   ],
   "source": [
    "mask = ~df['text'].str.contains('NOTE_ON')\n",
    "\n",
    "# Apply the mask and get the index of rows that do not contain 'NOTE_ON'\n",
    "no_note_on_index = df[mask].index\n",
    "\n",
    "# Check if there are any rows that do not contain 'NOTE_ON'\n",
    "if no_note_on_index.empty:\n",
    "    print('All rows contain \"NOTE_ON\"')\n",
    "else:\n",
    "    print('Rows that do not contain \"NOTE_ON\" at the following indices:', no_note_on_index)"
   ]
  },
  {
   "cell_type": "code",
   "execution_count": 26,
   "metadata": {
    "id": "jwJ61dduYGYh"
   },
   "outputs": [],
   "source": [
    "pd.set_option('display.max_columns', None)  # This ensures that all columns are displayed\n",
    "pd.set_option('display.width', None)        # This ensures that each line of output will be as wide as necessary\n",
    "pd.set_option('display.max_colwidth', None) # This ensures that columns will not be truncated\n"
   ]
  },
  {
   "cell_type": "code",
   "execution_count": 27,
   "metadata": {
    "id": "0V-7ITqMYMUZ"
   },
   "outputs": [
    {
     "ename": "KeyError",
     "evalue": "185354",
     "output_type": "error",
     "traceback": [
      "\u001b[1;31m---------------------------------------------------------------------------\u001b[0m",
      "\u001b[1;31mKeyError\u001b[0m                                  Traceback (most recent call last)",
      "File \u001b[1;32m~\\anaconda3\\lib\\site-packages\\pandas\\core\\indexes\\base.py:3629\u001b[0m, in \u001b[0;36mIndex.get_loc\u001b[1;34m(self, key, method, tolerance)\u001b[0m\n\u001b[0;32m   3628\u001b[0m \u001b[38;5;28;01mtry\u001b[39;00m:\n\u001b[1;32m-> 3629\u001b[0m     \u001b[38;5;28;01mreturn\u001b[39;00m \u001b[38;5;28;43mself\u001b[39;49m\u001b[38;5;241;43m.\u001b[39;49m\u001b[43m_engine\u001b[49m\u001b[38;5;241;43m.\u001b[39;49m\u001b[43mget_loc\u001b[49m\u001b[43m(\u001b[49m\u001b[43mcasted_key\u001b[49m\u001b[43m)\u001b[49m\n\u001b[0;32m   3630\u001b[0m \u001b[38;5;28;01mexcept\u001b[39;00m \u001b[38;5;167;01mKeyError\u001b[39;00m \u001b[38;5;28;01mas\u001b[39;00m err:\n",
      "File \u001b[1;32m~\\anaconda3\\lib\\site-packages\\pandas\\_libs\\index.pyx:136\u001b[0m, in \u001b[0;36mpandas._libs.index.IndexEngine.get_loc\u001b[1;34m()\u001b[0m\n",
      "File \u001b[1;32m~\\anaconda3\\lib\\site-packages\\pandas\\_libs\\index.pyx:163\u001b[0m, in \u001b[0;36mpandas._libs.index.IndexEngine.get_loc\u001b[1;34m()\u001b[0m\n",
      "File \u001b[1;32mpandas\\_libs\\hashtable_class_helper.pxi:2131\u001b[0m, in \u001b[0;36mpandas._libs.hashtable.Int64HashTable.get_item\u001b[1;34m()\u001b[0m\n",
      "File \u001b[1;32mpandas\\_libs\\hashtable_class_helper.pxi:2140\u001b[0m, in \u001b[0;36mpandas._libs.hashtable.Int64HashTable.get_item\u001b[1;34m()\u001b[0m\n",
      "\u001b[1;31mKeyError\u001b[0m: 185354",
      "\nThe above exception was the direct cause of the following exception:\n",
      "\u001b[1;31mKeyError\u001b[0m                                  Traceback (most recent call last)",
      "Cell \u001b[1;32mIn[27], line 1\u001b[0m\n\u001b[1;32m----> 1\u001b[0m row \u001b[38;5;241m=\u001b[39m \u001b[43mdf\u001b[49m\u001b[38;5;241;43m.\u001b[39;49m\u001b[43mloc\u001b[49m\u001b[43m[\u001b[49m\u001b[38;5;241;43m185354\u001b[39;49m\u001b[43m]\u001b[49m\n\u001b[0;32m      2\u001b[0m \u001b[38;5;28mprint\u001b[39m(row)\n",
      "File \u001b[1;32m~\\anaconda3\\lib\\site-packages\\pandas\\core\\indexing.py:967\u001b[0m, in \u001b[0;36m_LocationIndexer.__getitem__\u001b[1;34m(self, key)\u001b[0m\n\u001b[0;32m    964\u001b[0m axis \u001b[38;5;241m=\u001b[39m \u001b[38;5;28mself\u001b[39m\u001b[38;5;241m.\u001b[39maxis \u001b[38;5;129;01mor\u001b[39;00m \u001b[38;5;241m0\u001b[39m\n\u001b[0;32m    966\u001b[0m maybe_callable \u001b[38;5;241m=\u001b[39m com\u001b[38;5;241m.\u001b[39mapply_if_callable(key, \u001b[38;5;28mself\u001b[39m\u001b[38;5;241m.\u001b[39mobj)\n\u001b[1;32m--> 967\u001b[0m \u001b[38;5;28;01mreturn\u001b[39;00m \u001b[38;5;28;43mself\u001b[39;49m\u001b[38;5;241;43m.\u001b[39;49m\u001b[43m_getitem_axis\u001b[49m\u001b[43m(\u001b[49m\u001b[43mmaybe_callable\u001b[49m\u001b[43m,\u001b[49m\u001b[43m \u001b[49m\u001b[43maxis\u001b[49m\u001b[38;5;241;43m=\u001b[39;49m\u001b[43maxis\u001b[49m\u001b[43m)\u001b[49m\n",
      "File \u001b[1;32m~\\anaconda3\\lib\\site-packages\\pandas\\core\\indexing.py:1205\u001b[0m, in \u001b[0;36m_LocIndexer._getitem_axis\u001b[1;34m(self, key, axis)\u001b[0m\n\u001b[0;32m   1203\u001b[0m \u001b[38;5;66;03m# fall thru to straight lookup\u001b[39;00m\n\u001b[0;32m   1204\u001b[0m \u001b[38;5;28mself\u001b[39m\u001b[38;5;241m.\u001b[39m_validate_key(key, axis)\n\u001b[1;32m-> 1205\u001b[0m \u001b[38;5;28;01mreturn\u001b[39;00m \u001b[38;5;28;43mself\u001b[39;49m\u001b[38;5;241;43m.\u001b[39;49m\u001b[43m_get_label\u001b[49m\u001b[43m(\u001b[49m\u001b[43mkey\u001b[49m\u001b[43m,\u001b[49m\u001b[43m \u001b[49m\u001b[43maxis\u001b[49m\u001b[38;5;241;43m=\u001b[39;49m\u001b[43maxis\u001b[49m\u001b[43m)\u001b[49m\n",
      "File \u001b[1;32m~\\anaconda3\\lib\\site-packages\\pandas\\core\\indexing.py:1153\u001b[0m, in \u001b[0;36m_LocIndexer._get_label\u001b[1;34m(self, label, axis)\u001b[0m\n\u001b[0;32m   1151\u001b[0m \u001b[38;5;28;01mdef\u001b[39;00m \u001b[38;5;21m_get_label\u001b[39m(\u001b[38;5;28mself\u001b[39m, label, axis: \u001b[38;5;28mint\u001b[39m):\n\u001b[0;32m   1152\u001b[0m     \u001b[38;5;66;03m# GH#5667 this will fail if the label is not present in the axis.\u001b[39;00m\n\u001b[1;32m-> 1153\u001b[0m     \u001b[38;5;28;01mreturn\u001b[39;00m \u001b[38;5;28;43mself\u001b[39;49m\u001b[38;5;241;43m.\u001b[39;49m\u001b[43mobj\u001b[49m\u001b[38;5;241;43m.\u001b[39;49m\u001b[43mxs\u001b[49m\u001b[43m(\u001b[49m\u001b[43mlabel\u001b[49m\u001b[43m,\u001b[49m\u001b[43m \u001b[49m\u001b[43maxis\u001b[49m\u001b[38;5;241;43m=\u001b[39;49m\u001b[43maxis\u001b[49m\u001b[43m)\u001b[49m\n",
      "File \u001b[1;32m~\\anaconda3\\lib\\site-packages\\pandas\\core\\generic.py:3864\u001b[0m, in \u001b[0;36mNDFrame.xs\u001b[1;34m(self, key, axis, level, drop_level)\u001b[0m\n\u001b[0;32m   3862\u001b[0m             new_index \u001b[38;5;241m=\u001b[39m index[loc]\n\u001b[0;32m   3863\u001b[0m \u001b[38;5;28;01melse\u001b[39;00m:\n\u001b[1;32m-> 3864\u001b[0m     loc \u001b[38;5;241m=\u001b[39m \u001b[43mindex\u001b[49m\u001b[38;5;241;43m.\u001b[39;49m\u001b[43mget_loc\u001b[49m\u001b[43m(\u001b[49m\u001b[43mkey\u001b[49m\u001b[43m)\u001b[49m\n\u001b[0;32m   3866\u001b[0m     \u001b[38;5;28;01mif\u001b[39;00m \u001b[38;5;28misinstance\u001b[39m(loc, np\u001b[38;5;241m.\u001b[39mndarray):\n\u001b[0;32m   3867\u001b[0m         \u001b[38;5;28;01mif\u001b[39;00m loc\u001b[38;5;241m.\u001b[39mdtype \u001b[38;5;241m==\u001b[39m np\u001b[38;5;241m.\u001b[39mbool_:\n",
      "File \u001b[1;32m~\\anaconda3\\lib\\site-packages\\pandas\\core\\indexes\\base.py:3631\u001b[0m, in \u001b[0;36mIndex.get_loc\u001b[1;34m(self, key, method, tolerance)\u001b[0m\n\u001b[0;32m   3629\u001b[0m     \u001b[38;5;28;01mreturn\u001b[39;00m \u001b[38;5;28mself\u001b[39m\u001b[38;5;241m.\u001b[39m_engine\u001b[38;5;241m.\u001b[39mget_loc(casted_key)\n\u001b[0;32m   3630\u001b[0m \u001b[38;5;28;01mexcept\u001b[39;00m \u001b[38;5;167;01mKeyError\u001b[39;00m \u001b[38;5;28;01mas\u001b[39;00m err:\n\u001b[1;32m-> 3631\u001b[0m     \u001b[38;5;28;01mraise\u001b[39;00m \u001b[38;5;167;01mKeyError\u001b[39;00m(key) \u001b[38;5;28;01mfrom\u001b[39;00m \u001b[38;5;21;01merr\u001b[39;00m\n\u001b[0;32m   3632\u001b[0m \u001b[38;5;28;01mexcept\u001b[39;00m \u001b[38;5;167;01mTypeError\u001b[39;00m:\n\u001b[0;32m   3633\u001b[0m     \u001b[38;5;66;03m# If we have a listlike key, _check_indexing_error will raise\u001b[39;00m\n\u001b[0;32m   3634\u001b[0m     \u001b[38;5;66;03m#  InvalidIndexError. Otherwise we fall through and re-raise\u001b[39;00m\n\u001b[0;32m   3635\u001b[0m     \u001b[38;5;66;03m#  the TypeError.\u001b[39;00m\n\u001b[0;32m   3636\u001b[0m     \u001b[38;5;28mself\u001b[39m\u001b[38;5;241m.\u001b[39m_check_indexing_error(key)\n",
      "\u001b[1;31mKeyError\u001b[0m: 185354"
     ]
    }
   ],
   "source": [
    "row = df.loc[185354]\n",
    "print(row)"
   ]
  },
  {
   "cell_type": "code",
   "execution_count": 28,
   "metadata": {
    "id": "HGnCQByJYSd2"
   },
   "outputs": [],
   "source": [
    "mask = df['text'].str.contains('NOTE_ON')\n",
    "\n",
    "# Apply the mask and keep only the rows that contain 'NOTE_ON'\n",
    "df = df[mask]"
   ]
  },
  {
   "cell_type": "code",
   "execution_count": 29,
   "metadata": {
    "id": "ASGnnNdJYbhw"
   },
   "outputs": [
    {
     "data": {
      "text/html": [
       "<div>\n",
       "<style scoped>\n",
       "    .dataframe tbody tr th:only-of-type {\n",
       "        vertical-align: middle;\n",
       "    }\n",
       "\n",
       "    .dataframe tbody tr th {\n",
       "        vertical-align: top;\n",
       "    }\n",
       "\n",
       "    .dataframe thead th {\n",
       "        text-align: right;\n",
       "    }\n",
       "</style>\n",
       "<table border=\"1\" class=\"dataframe\">\n",
       "  <thead>\n",
       "    <tr style=\"text-align: right;\">\n",
       "      <th></th>\n",
       "      <th>text</th>\n",
       "    </tr>\n",
       "  </thead>\n",
       "  <tbody>\n",
       "    <tr>\n",
       "      <th>0</th>\n",
       "      <td>PIECE_START TRACK_START INST=0 BAR_START TIME_DELTA=24 BAR_END BAR_START TIME_DELTA=24 NOTE_ON=66 TIME_DELTA=8 NOTE_OFF=66 BAR_END BAR_START TIME_DELTA=24 NOTE_ON=75 NOTE_ON=47 TIME_DELTA=5 NOTE_ON=54 TIME_DELTA=5 NOTE_OFF=75 NOTE_ON=73 NOTE_ON=59 TIME_DELTA=5 NOTE_ON=66 NOTE_OFF=73 TIME_DELTA=4 NOTE_ON=71 TIME_DELTA=6 NOTE_OFF=59 NOTE_OFF=71 TIME_DELTA=1 NOTE_OFF=47 TIME_DELTA=1 NOTE_OFF=54 TIME_DELTA=1 NOTE_ON=80 TIME_DELTA=4 NOTE_OFF=80 TIME_DELTA=1 NOTE_ON=82 TIME_DELTA=4 NOTE_OFF=66 NOTE_OFF=82 BAR_END BAR_START TIME_DELTA=24 NOTE_ON=80 NOTE_ON=49 TIME_DELTA=5 NOTE_ON=56 TIME_DELTA=5 NOTE_ON=61 TIME_DELTA=5 NOTE_ON=65 TIME_DELTA=8 NOTE_OFF=56 TIME_DELTA=2 NOTE_OFF=80 NOTE_OFF=49 TIME_DELTA=3 NOTE_OFF=61 NOTE_OFF=65 TIME_DELTA=1 NOTE_ON=66 TIME_DELTA=6 NOTE_OFF=66 TIME_DELTA=1 BAR_END TRACK_END TRACK_START INST=0 BAR_START TIME_DELTA=24 BAR_END BAR_START TIME_DELTA=24 NOTE_ON=66 TIME_DELTA=8 NOTE_OFF=66 BAR_END BAR_START TIME_DELTA=24 NOTE_ON=75 NOTE_ON=47 TIME_DELTA=5 NOTE_ON=54 TIME_DELTA=5 NOTE_OFF=75 NOTE_ON=73 NOTE_ON=59 TIME_DELTA=5 NOTE_ON=66 NOTE_OFF=73 TIME_DELTA=4 NOTE_ON=71 TIME_DELTA=6 NOTE_OFF=59 NOTE_OFF=71 TIME_DELTA=1 NOTE_OFF=47 TIME_DELTA=1 NOTE_OFF=54 TIME_DELTA=1 NOTE_ON=80 TIME_DELTA=4 NOTE_OFF=80 TIME_DELTA=1 NOTE_ON=82 TIME_DELTA=4 NOTE_OFF=66 NOTE_OFF=82 BAR_END BAR_START TIME_DELTA=24 NOTE_ON=80 NOTE_ON=49 TIME_DELTA=5 NOTE_ON=56 TIME_DELTA=5 NOTE_ON=61 TIME_DELTA=5 NOTE_ON=65 TIME_DELTA=8 NOTE_OFF=56 TIME_DELTA=2 NOTE_OFF=80 NOTE_OFF=49 TIME_DELTA=3 NOTE_OFF=61 NOTE_OFF=65 TIME_DELTA=1 NOTE_ON=66 TIME_DELTA=6 NOTE_OFF=66 TIME_DELTA=1 BAR_END TRACK_END TRACK_START INST=0 BAR_START TIME_DELTA=24 BAR_END BAR_START TIME_DELTA=24 NOTE_ON=66 TIME_DELTA=8 NOTE_OFF=66 BAR_END BAR_START TIME_DELTA=24 NOTE_ON=75 NOTE_ON=47 TIME_DELTA=5 NOTE_ON=54 TIME_DELTA=5 NOTE_OFF=75 NOTE_ON=73 NOTE_ON=59 TIME_DELTA=5 NOTE_ON=66 NOTE_OFF=73 TIME_DELTA=4 NOTE_ON=71 TIME_DELTA=6 NOTE_OFF=59 NOTE_OFF=71 TIME_DELTA=1 NOTE_OFF=47 TIME_DELTA=1 NOTE_OFF=54 TIME_DELTA=1 NOTE_ON=80 TIME_DELTA=4 NOTE_OFF=80 TIME_DELTA=1 NOTE_ON=82 TIME_DELTA=4 NOTE_OFF=66 NOTE_OFF=82 BAR_END BAR_START TIME_DELTA=24 NOTE_ON=80 NOTE_ON=49 TIME_DELTA=5 NOTE_ON=56 TIME_DELTA=5 NOTE_ON=61 TIME_DELTA=5 NOTE_ON=65 TIME_DELTA=8 NOTE_OFF=56 TIME_DELTA=2 NOTE_OFF=80 NOTE_OFF=49 TIME_DELTA=3 NOTE_OFF=61 NOTE_OFF=65 TIME_DELTA=1 NOTE_ON=66 TIME_DELTA=6 NOTE_OFF=66 TIME_DELTA=1 BAR_END TRACK_END</td>\n",
       "    </tr>\n",
       "    <tr>\n",
       "      <th>1</th>\n",
       "      <td>PIECE_START TRACK_START INST=0 BAR_START TIME_DELTA=24 NOTE_ON=66 TIME_DELTA=8 NOTE_OFF=66 BAR_END BAR_START TIME_DELTA=24 NOTE_ON=75 NOTE_ON=47 TIME_DELTA=5 NOTE_ON=54 TIME_DELTA=5 NOTE_OFF=75 NOTE_ON=73 NOTE_ON=59 TIME_DELTA=5 NOTE_ON=66 NOTE_OFF=73 TIME_DELTA=4 NOTE_ON=71 TIME_DELTA=6 NOTE_OFF=59 NOTE_OFF=71 TIME_DELTA=1 NOTE_OFF=47 TIME_DELTA=1 NOTE_OFF=54 TIME_DELTA=1 NOTE_ON=80 TIME_DELTA=4 NOTE_OFF=80 TIME_DELTA=1 NOTE_ON=82 TIME_DELTA=4 NOTE_OFF=66 NOTE_OFF=82 BAR_END BAR_START TIME_DELTA=24 NOTE_ON=80 NOTE_ON=49 TIME_DELTA=5 NOTE_ON=56 TIME_DELTA=5 NOTE_ON=61 TIME_DELTA=5 NOTE_ON=65 TIME_DELTA=8 NOTE_OFF=56 TIME_DELTA=2 NOTE_OFF=80 NOTE_OFF=49 TIME_DELTA=3 NOTE_OFF=61 NOTE_OFF=65 TIME_DELTA=1 NOTE_ON=66 TIME_DELTA=6 NOTE_OFF=66 TIME_DELTA=1 BAR_END BAR_START TIME_DELTA=24 NOTE_ON=75 NOTE_ON=46 TIME_DELTA=5 NOTE_ON=53 TIME_DELTA=5 NOTE_ON=73 NOTE_ON=58 NOTE_OFF=75 TIME_DELTA=4 NOTE_ON=61 TIME_DELTA=12 NOTE_OFF=73 TIME_DELTA=4 NOTE_ON=70 TIME_DELTA=1 NOTE_OFF=53 TIME_DELTA=1 NOTE_OFF=46 TIME_DELTA=4 NOTE_OFF=61 TIME_DELTA=2 NOTE_OFF=58 TIME_DELTA=24 NOTE_OFF=70 BAR_END TRACK_END TRACK_START INST=0 BAR_START TIME_DELTA=24 NOTE_ON=66 TIME_DELTA=8 NOTE_OFF=66 BAR_END BAR_START TIME_DELTA=24 NOTE_ON=75 NOTE_ON=47 TIME_DELTA=5 NOTE_ON=54 TIME_DELTA=5 NOTE_OFF=75 NOTE_ON=73 NOTE_ON=59 TIME_DELTA=5 NOTE_ON=66 NOTE_OFF=73 TIME_DELTA=4 NOTE_ON=71 TIME_DELTA=6 NOTE_OFF=59 NOTE_OFF=71 TIME_DELTA=1 NOTE_OFF=47 TIME_DELTA=1 NOTE_OFF=54 TIME_DELTA=1 NOTE_ON=80 TIME_DELTA=4 NOTE_OFF=80 TIME_DELTA=1 NOTE_ON=82 TIME_DELTA=4 NOTE_OFF=66 NOTE_OFF=82 BAR_END BAR_START TIME_DELTA=24 NOTE_ON=80 NOTE_ON=49 TIME_DELTA=5 NOTE_ON=56 TIME_DELTA=5 NOTE_ON=61 TIME_DELTA=5 NOTE_ON=65 TIME_DELTA=8 NOTE_OFF=56 TIME_DELTA=2 NOTE_OFF=80 NOTE_OFF=49 TIME_DELTA=3 NOTE_OFF=61 NOTE_OFF=65 TIME_DELTA=1 NOTE_ON=66 TIME_DELTA=6 NOTE_OFF=66 TIME_DELTA=1 BAR_END BAR_START TIME_DELTA=24 NOTE_ON=75 NOTE_ON=46 TIME_DELTA=5 NOTE_ON=53 TIME_DELTA=5 NOTE_ON=73 NOTE_ON=58 NOTE_OFF=75 TIME_DELTA=4 NOTE_ON=61 TIME_DELTA=12 NOTE_OFF=73 TIME_DELTA=4 NOTE_ON=70 TIME_DELTA=1 NOTE_OFF=53 TIME_DELTA=1 NOTE_OFF=46 TIME_DELTA=4 NOTE_OFF=61 TIME_DELTA=2 NOTE_OFF=58 TIME_DELTA=24 NOTE_OFF=70 BAR_END TRACK_END TRACK_START INST=0 BAR_START TIME_DELTA=24 NOTE_ON=66 TIME_DELTA=8 NOTE_OFF=66 BAR_END BAR_START TIME_DELTA=24 NOTE_ON=75 NOTE_ON=47 TIME_DELTA=5 NOTE_ON=54 TIME_DELTA=5 NOTE_OFF=75 NOTE_ON=73 NOTE_ON=59 TIME_DELTA=5 NOTE_ON=66 NOTE_OFF=73 TIME_DELTA=4 NOTE_ON=71 TIME_DELTA=6 NOTE_OFF=59 NOTE_OFF=71 TIME_DELTA=1 NOTE_OFF=47 TIME_DELTA=1 NOTE_OFF=54 TIME_DELTA=1 NOTE_ON=80 TIME_DELTA=4 NOTE_OFF=80 TIME_DELTA=1 NOTE_ON=82 TIME_DELTA=4 NOTE_OFF=66 NOTE_OFF=82 BAR_END BAR_START TIME_DELTA=24 NOTE_ON=80 NOTE_ON=49 TIME_DELTA=5 NOTE_ON=56 TIME_DELTA=5 NOTE_ON=61 TIME_DELTA=5 NOTE_ON=65 TIME_DELTA=8 NOTE_OFF=56 TIME_DELTA=2 NOTE_OFF=80 NOTE_OFF=49 TIME_DELTA=3 NOTE_OFF=61 NOTE_OFF=65 TIME_DELTA=1 NOTE_ON=66 TIME_DELTA=6 NOTE_OFF=66 TIME_DELTA=1 BAR_END BAR_START TIME_DELTA=24 NOTE_ON=75 NOTE_ON=46 TIME_DELTA=5 NOTE_ON=53 TIME_DELTA=5 NOTE_ON=73 NOTE_ON=58 NOTE_OFF=75 TIME_DELTA=4 NOTE_ON=61 TIME_DELTA=12 NOTE_OFF=73 TIME_DELTA=4 NOTE_ON=70 TIME_DELTA=1 NOTE_OFF=53 TIME_DELTA=1 NOTE_OFF=46 TIME_DELTA=4 NOTE_OFF=61 TIME_DELTA=2 NOTE_OFF=58 TIME_DELTA=24 NOTE_OFF=70 BAR_END TRACK_END</td>\n",
       "    </tr>\n",
       "    <tr>\n",
       "      <th>2</th>\n",
       "      <td>PIECE_START TRACK_START INST=0 BAR_START TIME_DELTA=24 NOTE_ON=75 NOTE_ON=47 TIME_DELTA=5 NOTE_ON=54 TIME_DELTA=5 NOTE_OFF=75 NOTE_ON=73 NOTE_ON=59 TIME_DELTA=5 NOTE_ON=66 NOTE_OFF=73 TIME_DELTA=4 NOTE_ON=71 TIME_DELTA=6 NOTE_OFF=59 NOTE_OFF=71 TIME_DELTA=1 NOTE_OFF=47 TIME_DELTA=1 NOTE_OFF=54 TIME_DELTA=1 NOTE_ON=80 TIME_DELTA=4 NOTE_OFF=80 TIME_DELTA=1 NOTE_ON=82 TIME_DELTA=4 NOTE_OFF=66 NOTE_OFF=82 BAR_END BAR_START TIME_DELTA=24 NOTE_ON=80 NOTE_ON=49 TIME_DELTA=5 NOTE_ON=56 TIME_DELTA=5 NOTE_ON=61 TIME_DELTA=5 NOTE_ON=65 TIME_DELTA=8 NOTE_OFF=56 TIME_DELTA=2 NOTE_OFF=80 NOTE_OFF=49 TIME_DELTA=3 NOTE_OFF=61 NOTE_OFF=65 TIME_DELTA=1 NOTE_ON=66 TIME_DELTA=6 NOTE_OFF=66 TIME_DELTA=1 BAR_END BAR_START TIME_DELTA=24 NOTE_ON=75 NOTE_ON=46 TIME_DELTA=5 NOTE_ON=53 TIME_DELTA=5 NOTE_ON=73 NOTE_ON=58 NOTE_OFF=75 TIME_DELTA=4 NOTE_ON=61 TIME_DELTA=12 NOTE_OFF=73 TIME_DELTA=4 NOTE_ON=70 TIME_DELTA=1 NOTE_OFF=53 TIME_DELTA=1 NOTE_OFF=46 TIME_DELTA=4 NOTE_OFF=61 TIME_DELTA=2 NOTE_OFF=58 TIME_DELTA=24 NOTE_OFF=70 BAR_END BAR_START TIME_DELTA=24 NOTE_ON=51 TIME_DELTA=5 NOTE_ON=54 TIME_DELTA=5 NOTE_ON=58 NOTE_OFF=51 TIME_DELTA=4 NOTE_ON=66 TIME_DELTA=16 NOTE_ON=73 NOTE_OFF=54 TIME_DELTA=3 NOTE_OFF=58 TIME_DELTA=2 NOTE_OFF=73 TIME_DELTA=1 NOTE_OFF=66 TIME_DELTA=2 BAR_END TRACK_END TRACK_START INST=0 BAR_START TIME_DELTA=24 NOTE_ON=75 NOTE_ON=47 TIME_DELTA=5 NOTE_ON=54 TIME_DELTA=5 NOTE_OFF=75 NOTE_ON=73 NOTE_ON=59 TIME_DELTA=5 NOTE_ON=66 NOTE_OFF=73 TIME_DELTA=4 NOTE_ON=71 TIME_DELTA=6 NOTE_OFF=59 NOTE_OFF=71 TIME_DELTA=1 NOTE_OFF=47 TIME_DELTA=1 NOTE_OFF=54 TIME_DELTA=1 NOTE_ON=80 TIME_DELTA=4 NOTE_OFF=80 TIME_DELTA=1 NOTE_ON=82 TIME_DELTA=4 NOTE_OFF=66 NOTE_OFF=82 BAR_END BAR_START TIME_DELTA=24 NOTE_ON=80 NOTE_ON=49 TIME_DELTA=5 NOTE_ON=56 TIME_DELTA=5 NOTE_ON=61 TIME_DELTA=5 NOTE_ON=65 TIME_DELTA=8 NOTE_OFF=56 TIME_DELTA=2 NOTE_OFF=80 NOTE_OFF=49 TIME_DELTA=3 NOTE_OFF=61 NOTE_OFF=65 TIME_DELTA=1 NOTE_ON=66 TIME_DELTA=6 NOTE_OFF=66 TIME_DELTA=1 BAR_END BAR_START TIME_DELTA=24 NOTE_ON=75 NOTE_ON=46 TIME_DELTA=5 NOTE_ON=53 TIME_DELTA=5 NOTE_ON=73 NOTE_ON=58 NOTE_OFF=75 TIME_DELTA=4 NOTE_ON=61 TIME_DELTA=12 NOTE_OFF=73 TIME_DELTA=4 NOTE_ON=70 TIME_DELTA=1 NOTE_OFF=53 TIME_DELTA=1 NOTE_OFF=46 TIME_DELTA=4 NOTE_OFF=61 TIME_DELTA=2 NOTE_OFF=58 TIME_DELTA=24 NOTE_OFF=70 BAR_END BAR_START TIME_DELTA=24 NOTE_ON=51 TIME_DELTA=5 NOTE_ON=54 TIME_DELTA=5 NOTE_ON=58 NOTE_OFF=51 TIME_DELTA=4 NOTE_ON=66 TIME_DELTA=16 NOTE_ON=73 NOTE_OFF=54 TIME_DELTA=3 NOTE_OFF=58 TIME_DELTA=2 NOTE_OFF=73 TIME_DELTA=1 NOTE_OFF=66 TIME_DELTA=2 BAR_END TRACK_END TRACK_START INST=0 BAR_START TIME_DELTA=24 NOTE_ON=75 NOTE_ON=47 TIME_DELTA=5 NOTE_ON=54 TIME_DELTA=5 NOTE_OFF=75 NOTE_ON=73 NOTE_ON=59 TIME_DELTA=5 NOTE_ON=66 NOTE_OFF=73 TIME_DELTA=4 NOTE_ON=71 TIME_DELTA=6 NOTE_OFF=59 NOTE_OFF=71 TIME_DELTA=1 NOTE_OFF=47 TIME_DELTA=1 NOTE_OFF=54 TIME_DELTA=1 NOTE_ON=80 TIME_DELTA=4 NOTE_OFF=80 TIME_DELTA=1 NOTE_ON=82 TIME_DELTA=4 NOTE_OFF=66 NOTE_OFF=82 BAR_END BAR_START TIME_DELTA=24 NOTE_ON=80 NOTE_ON=49 TIME_DELTA=5 NOTE_ON=56 TIME_DELTA=5 NOTE_ON=61 TIME_DELTA=5 NOTE_ON=65 TIME_DELTA=8 NOTE_OFF=56 TIME_DELTA=2 NOTE_OFF=80 NOTE_OFF=49 TIME_DELTA=3 NOTE_OFF=61 NOTE_OFF=65 TIME_DELTA=1 NOTE_ON=66 TIME_DELTA=6 NOTE_OFF=66 TIME_DELTA=1 BAR_END BAR_START TIME_DELTA=24 NOTE_ON=75 NOTE_ON=46 TIME_DELTA=5 NOTE_ON=53 TIME_DELTA=5 NOTE_ON=73 NOTE_ON=58 NOTE_OFF=75 TIME_DELTA=4 NOTE_ON=61 TIME_DELTA=12 NOTE_OFF=73 TIME_DELTA=4 NOTE_ON=70 TIME_DELTA=1 NOTE_OFF=53 TIME_DELTA=1 NOTE_OFF=46 TIME_DELTA=4 NOTE_OFF=61 TIME_DELTA=2 NOTE_OFF=58 TIME_DELTA=24 NOTE_OFF=70 BAR_END BAR_START TIME_DELTA=24 NOTE_ON=51 TIME_DELTA=5 NOTE_ON=54 TIME_DELTA=5 NOTE_ON=58 NOTE_OFF=51 TIME_DELTA=4 NOTE_ON=66 TIME_DELTA=16 NOTE_ON=73 NOTE_OFF=54 TIME_DELTA=3 NOTE_OFF=58 TIME_DELTA=2 NOTE_OFF=73 TIME_DELTA=1 NOTE_OFF=66 TIME_DELTA=2 BAR_END TRACK_END</td>\n",
       "    </tr>\n",
       "    <tr>\n",
       "      <th>3</th>\n",
       "      <td>PIECE_START TRACK_START INST=0 BAR_START TIME_DELTA=24 NOTE_ON=80 NOTE_ON=49 TIME_DELTA=5 NOTE_ON=56 TIME_DELTA=5 NOTE_ON=61 TIME_DELTA=5 NOTE_ON=65 TIME_DELTA=8 NOTE_OFF=56 TIME_DELTA=2 NOTE_OFF=80 NOTE_OFF=49 TIME_DELTA=3 NOTE_OFF=61 NOTE_OFF=65 TIME_DELTA=1 NOTE_ON=66 TIME_DELTA=6 NOTE_OFF=66 TIME_DELTA=1 BAR_END BAR_START TIME_DELTA=24 NOTE_ON=75 NOTE_ON=46 TIME_DELTA=5 NOTE_ON=53 TIME_DELTA=5 NOTE_ON=73 NOTE_ON=58 NOTE_OFF=75 TIME_DELTA=4 NOTE_ON=61 TIME_DELTA=12 NOTE_OFF=73 TIME_DELTA=4 NOTE_ON=70 TIME_DELTA=1 NOTE_OFF=53 TIME_DELTA=1 NOTE_OFF=46 TIME_DELTA=4 NOTE_OFF=61 TIME_DELTA=2 NOTE_OFF=58 TIME_DELTA=24 NOTE_OFF=70 BAR_END BAR_START TIME_DELTA=24 NOTE_ON=51 TIME_DELTA=5 NOTE_ON=54 TIME_DELTA=5 NOTE_ON=58 NOTE_OFF=51 TIME_DELTA=4 NOTE_ON=66 TIME_DELTA=16 NOTE_ON=73 NOTE_OFF=54 TIME_DELTA=3 NOTE_OFF=58 TIME_DELTA=2 NOTE_OFF=73 TIME_DELTA=1 NOTE_OFF=66 TIME_DELTA=2 BAR_END BAR_START TIME_DELTA=24 NOTE_ON=78 NOTE_ON=47 TIME_DELTA=5 NOTE_ON=80 NOTE_ON=54 NOTE_OFF=78 TIME_DELTA=2 NOTE_OFF=80 TIME_DELTA=2 NOTE_ON=82 NOTE_ON=59 TIME_DELTA=5 NOTE_ON=63 TIME_DELTA=12 NOTE_OFF=54 NOTE_OFF=47 NOTE_OFF=82 NOTE_OFF=59 TIME_DELTA=2 NOTE_ON=73 TIME_DELTA=4 NOTE_OFF=63 NOTE_OFF=73 TIME_DELTA=4 BAR_END TRACK_END TRACK_START INST=0 BAR_START TIME_DELTA=24 NOTE_ON=80 NOTE_ON=49 TIME_DELTA=5 NOTE_ON=56 TIME_DELTA=5 NOTE_ON=61 TIME_DELTA=5 NOTE_ON=65 TIME_DELTA=8 NOTE_OFF=56 TIME_DELTA=2 NOTE_OFF=80 NOTE_OFF=49 TIME_DELTA=3 NOTE_OFF=61 NOTE_OFF=65 TIME_DELTA=1 NOTE_ON=66 TIME_DELTA=6 NOTE_OFF=66 TIME_DELTA=1 BAR_END BAR_START TIME_DELTA=24 NOTE_ON=75 NOTE_ON=46 TIME_DELTA=5 NOTE_ON=53 TIME_DELTA=5 NOTE_ON=73 NOTE_ON=58 NOTE_OFF=75 TIME_DELTA=4 NOTE_ON=61 TIME_DELTA=12 NOTE_OFF=73 TIME_DELTA=4 NOTE_ON=70 TIME_DELTA=1 NOTE_OFF=53 TIME_DELTA=1 NOTE_OFF=46 TIME_DELTA=4 NOTE_OFF=61 TIME_DELTA=2 NOTE_OFF=58 TIME_DELTA=24 NOTE_OFF=70 BAR_END BAR_START TIME_DELTA=24 NOTE_ON=51 TIME_DELTA=5 NOTE_ON=54 TIME_DELTA=5 NOTE_ON=58 NOTE_OFF=51 TIME_DELTA=4 NOTE_ON=66 TIME_DELTA=16 NOTE_ON=73 NOTE_OFF=54 TIME_DELTA=3 NOTE_OFF=58 TIME_DELTA=2 NOTE_OFF=73 TIME_DELTA=1 NOTE_OFF=66 TIME_DELTA=2 BAR_END BAR_START TIME_DELTA=24 NOTE_ON=78 NOTE_ON=47 TIME_DELTA=5 NOTE_ON=80 NOTE_ON=54 NOTE_OFF=78 TIME_DELTA=2 NOTE_OFF=80 TIME_DELTA=2 NOTE_ON=82 NOTE_ON=59 TIME_DELTA=5 NOTE_ON=63 TIME_DELTA=12 NOTE_OFF=54 NOTE_OFF=47 NOTE_OFF=82 NOTE_OFF=59 TIME_DELTA=2 NOTE_ON=73 TIME_DELTA=4 NOTE_OFF=63 NOTE_OFF=73 TIME_DELTA=4 BAR_END TRACK_END TRACK_START INST=0 BAR_START TIME_DELTA=24 NOTE_ON=80 NOTE_ON=49 TIME_DELTA=5 NOTE_ON=56 TIME_DELTA=5 NOTE_ON=61 TIME_DELTA=5 NOTE_ON=65 TIME_DELTA=8 NOTE_OFF=56 TIME_DELTA=2 NOTE_OFF=80 NOTE_OFF=49 TIME_DELTA=3 NOTE_OFF=61 NOTE_OFF=65 TIME_DELTA=1 NOTE_ON=66 TIME_DELTA=6 NOTE_OFF=66 TIME_DELTA=1 BAR_END BAR_START TIME_DELTA=24 NOTE_ON=75 NOTE_ON=46 TIME_DELTA=5 NOTE_ON=53 TIME_DELTA=5 NOTE_ON=73 NOTE_ON=58 NOTE_OFF=75 TIME_DELTA=4 NOTE_ON=61 TIME_DELTA=12 NOTE_OFF=73 TIME_DELTA=4 NOTE_ON=70 TIME_DELTA=1 NOTE_OFF=53 TIME_DELTA=1 NOTE_OFF=46 TIME_DELTA=4 NOTE_OFF=61 TIME_DELTA=2 NOTE_OFF=58 TIME_DELTA=24 NOTE_OFF=70 BAR_END BAR_START TIME_DELTA=24 NOTE_ON=51 TIME_DELTA=5 NOTE_ON=54 TIME_DELTA=5 NOTE_ON=58 NOTE_OFF=51 TIME_DELTA=4 NOTE_ON=66 TIME_DELTA=16 NOTE_ON=73 NOTE_OFF=54 TIME_DELTA=3 NOTE_OFF=58 TIME_DELTA=2 NOTE_OFF=73 TIME_DELTA=1 NOTE_OFF=66 TIME_DELTA=2 BAR_END BAR_START TIME_DELTA=24 NOTE_ON=78 NOTE_ON=47 TIME_DELTA=5 NOTE_ON=80 NOTE_ON=54 NOTE_OFF=78 TIME_DELTA=2 NOTE_OFF=80 TIME_DELTA=2 NOTE_ON=82 NOTE_ON=59 TIME_DELTA=5 NOTE_ON=63 TIME_DELTA=12 NOTE_OFF=54 NOTE_OFF=47 NOTE_OFF=82 NOTE_OFF=59 TIME_DELTA=2 NOTE_ON=73 TIME_DELTA=4 NOTE_OFF=63 NOTE_OFF=73 TIME_DELTA=4 BAR_END TRACK_END</td>\n",
       "    </tr>\n",
       "    <tr>\n",
       "      <th>4</th>\n",
       "      <td>PIECE_START TRACK_START INST=0 BAR_START TIME_DELTA=24 NOTE_ON=75 NOTE_ON=46 TIME_DELTA=5 NOTE_ON=53 TIME_DELTA=5 NOTE_ON=73 NOTE_ON=58 NOTE_OFF=75 TIME_DELTA=4 NOTE_ON=61 TIME_DELTA=12 NOTE_OFF=73 TIME_DELTA=4 NOTE_ON=70 TIME_DELTA=1 NOTE_OFF=53 TIME_DELTA=1 NOTE_OFF=46 TIME_DELTA=4 NOTE_OFF=61 TIME_DELTA=2 NOTE_OFF=58 TIME_DELTA=24 NOTE_OFF=70 BAR_END BAR_START TIME_DELTA=24 NOTE_ON=51 TIME_DELTA=5 NOTE_ON=54 TIME_DELTA=5 NOTE_ON=58 NOTE_OFF=51 TIME_DELTA=4 NOTE_ON=66 TIME_DELTA=16 NOTE_ON=73 NOTE_OFF=54 TIME_DELTA=3 NOTE_OFF=58 TIME_DELTA=2 NOTE_OFF=73 TIME_DELTA=1 NOTE_OFF=66 TIME_DELTA=2 BAR_END BAR_START TIME_DELTA=24 NOTE_ON=78 NOTE_ON=47 TIME_DELTA=5 NOTE_ON=80 NOTE_ON=54 NOTE_OFF=78 TIME_DELTA=2 NOTE_OFF=80 TIME_DELTA=2 NOTE_ON=82 NOTE_ON=59 TIME_DELTA=5 NOTE_ON=63 TIME_DELTA=12 NOTE_OFF=54 NOTE_OFF=47 NOTE_OFF=82 NOTE_OFF=59 TIME_DELTA=2 NOTE_ON=73 TIME_DELTA=4 NOTE_OFF=63 NOTE_OFF=73 TIME_DELTA=4 BAR_END BAR_START TIME_DELTA=24 NOTE_ON=78 NOTE_ON=56 NOTE_ON=61 NOTE_ON=49 TIME_DELTA=4 NOTE_OFF=78 NOTE_ON=80 TIME_DELTA=2 NOTE_OFF=56 NOTE_OFF=80 TIME_DELTA=2 NOTE_ON=82 NOTE_ON=56 TIME_DELTA=5 NOTE_ON=65 TIME_DELTA=1 NOTE_OFF=56 NOTE_OFF=61 TIME_DELTA=8 NOTE_OFF=82 TIME_DELTA=4 NOTE_OFF=65 NOTE_OFF=49 TIME_DELTA=12 BAR_END TRACK_END TRACK_START INST=0 BAR_START TIME_DELTA=24 NOTE_ON=75 NOTE_ON=46 TIME_DELTA=5 NOTE_ON=53 TIME_DELTA=5 NOTE_ON=73 NOTE_ON=58 NOTE_OFF=75 TIME_DELTA=4 NOTE_ON=61 TIME_DELTA=12 NOTE_OFF=73 TIME_DELTA=4 NOTE_ON=70 TIME_DELTA=1 NOTE_OFF=53 TIME_DELTA=1 NOTE_OFF=46 TIME_DELTA=4 NOTE_OFF=61 TIME_DELTA=2 NOTE_OFF=58 TIME_DELTA=24 NOTE_OFF=70 BAR_END BAR_START TIME_DELTA=24 NOTE_ON=51 TIME_DELTA=5 NOTE_ON=54 TIME_DELTA=5 NOTE_ON=58 NOTE_OFF=51 TIME_DELTA=4 NOTE_ON=66 TIME_DELTA=16 NOTE_ON=73 NOTE_OFF=54 TIME_DELTA=3 NOTE_OFF=58 TIME_DELTA=2 NOTE_OFF=73 TIME_DELTA=1 NOTE_OFF=66 TIME_DELTA=2 BAR_END BAR_START TIME_DELTA=24 NOTE_ON=78 NOTE_ON=47 TIME_DELTA=5 NOTE_ON=80 NOTE_ON=54 NOTE_OFF=78 TIME_DELTA=2 NOTE_OFF=80 TIME_DELTA=2 NOTE_ON=82 NOTE_ON=59 TIME_DELTA=5 NOTE_ON=63 TIME_DELTA=12 NOTE_OFF=54 NOTE_OFF=47 NOTE_OFF=82 NOTE_OFF=59 TIME_DELTA=2 NOTE_ON=73 TIME_DELTA=4 NOTE_OFF=63 NOTE_OFF=73 TIME_DELTA=4 BAR_END BAR_START TIME_DELTA=24 NOTE_ON=78 NOTE_ON=56 NOTE_ON=61 NOTE_ON=49 TIME_DELTA=4 NOTE_OFF=78 NOTE_ON=80 TIME_DELTA=2 NOTE_OFF=56 NOTE_OFF=80 TIME_DELTA=2 NOTE_ON=82 NOTE_ON=56 TIME_DELTA=5 NOTE_ON=65 TIME_DELTA=1 NOTE_OFF=56 NOTE_OFF=61 TIME_DELTA=8 NOTE_OFF=82 TIME_DELTA=4 NOTE_OFF=65 NOTE_OFF=49 TIME_DELTA=12 BAR_END TRACK_END TRACK_START INST=0 BAR_START TIME_DELTA=24 NOTE_ON=75 NOTE_ON=46 TIME_DELTA=5 NOTE_ON=53 TIME_DELTA=5 NOTE_ON=73 NOTE_ON=58 NOTE_OFF=75 TIME_DELTA=4 NOTE_ON=61 TIME_DELTA=12 NOTE_OFF=73 TIME_DELTA=4 NOTE_ON=70 TIME_DELTA=1 NOTE_OFF=53 TIME_DELTA=1 NOTE_OFF=46 TIME_DELTA=4 NOTE_OFF=61 TIME_DELTA=2 NOTE_OFF=58 TIME_DELTA=24 NOTE_OFF=70 BAR_END BAR_START TIME_DELTA=24 NOTE_ON=51 TIME_DELTA=5 NOTE_ON=54 TIME_DELTA=5 NOTE_ON=58 NOTE_OFF=51 TIME_DELTA=4 NOTE_ON=66 TIME_DELTA=16 NOTE_ON=73 NOTE_OFF=54 TIME_DELTA=3 NOTE_OFF=58 TIME_DELTA=2 NOTE_OFF=73 TIME_DELTA=1 NOTE_OFF=66 TIME_DELTA=2 BAR_END BAR_START TIME_DELTA=24 NOTE_ON=78 NOTE_ON=47 TIME_DELTA=5 NOTE_ON=80 NOTE_ON=54 NOTE_OFF=78 TIME_DELTA=2 NOTE_OFF=80 TIME_DELTA=2 NOTE_ON=82 NOTE_ON=59 TIME_DELTA=5 NOTE_ON=63 TIME_DELTA=12 NOTE_OFF=54 NOTE_OFF=47 NOTE_OFF=82 NOTE_OFF=59 TIME_DELTA=2 NOTE_ON=73 TIME_DELTA=4 NOTE_OFF=63 NOTE_OFF=73 TIME_DELTA=4 BAR_END BAR_START TIME_DELTA=24 NOTE_ON=78 NOTE_ON=56 NOTE_ON=61 NOTE_ON=49 TIME_DELTA=4 NOTE_OFF=78 NOTE_ON=80 TIME_DELTA=2 NOTE_OFF=56 NOTE_OFF=80 TIME_DELTA=2 NOTE_ON=82 NOTE_ON=56 TIME_DELTA=5 NOTE_ON=65 TIME_DELTA=1 NOTE_OFF=56 NOTE_OFF=61 TIME_DELTA=8 NOTE_OFF=82 TIME_DELTA=4 NOTE_OFF=65 NOTE_OFF=49 TIME_DELTA=12 BAR_END TRACK_END</td>\n",
       "    </tr>\n",
       "  </tbody>\n",
       "</table>\n",
       "</div>"
      ],
      "text/plain": [
       "                                                                                                                                                                                                                                                                                                                                                                                                                                                                                                                                                                                                                                                                                                                                                                                                                                                                                                                                                                                                                                                                                                                                                                                                                                                                                                                                                                                                                                                                                                                                                                                                                                                                                                                                                                                                                                                                                                                                                                                                                                                                                                                                                                                                                                                                                                                                                                                                                                                                                                                                                                                                                                                                                                                                                                                                                                                                                                                                                                                                                                                                                                                                                                                                                                                                                                                                                                                                                                                                                                                                                                                                                                                                                                                                                                                                                                                                                                                                                                                           text\n",
       "0                                                                                                                                                                                                                                                                                                                                                                                                                                                                                                                                                                                                                                                                                                                                                                                                                                                                                                                                                                                                                                                                                                                                                                                                                                                                                                                                                                                                                                                                                         PIECE_START TRACK_START INST=0 BAR_START TIME_DELTA=24 BAR_END BAR_START TIME_DELTA=24 NOTE_ON=66 TIME_DELTA=8 NOTE_OFF=66 BAR_END BAR_START TIME_DELTA=24 NOTE_ON=75 NOTE_ON=47 TIME_DELTA=5 NOTE_ON=54 TIME_DELTA=5 NOTE_OFF=75 NOTE_ON=73 NOTE_ON=59 TIME_DELTA=5 NOTE_ON=66 NOTE_OFF=73 TIME_DELTA=4 NOTE_ON=71 TIME_DELTA=6 NOTE_OFF=59 NOTE_OFF=71 TIME_DELTA=1 NOTE_OFF=47 TIME_DELTA=1 NOTE_OFF=54 TIME_DELTA=1 NOTE_ON=80 TIME_DELTA=4 NOTE_OFF=80 TIME_DELTA=1 NOTE_ON=82 TIME_DELTA=4 NOTE_OFF=66 NOTE_OFF=82 BAR_END BAR_START TIME_DELTA=24 NOTE_ON=80 NOTE_ON=49 TIME_DELTA=5 NOTE_ON=56 TIME_DELTA=5 NOTE_ON=61 TIME_DELTA=5 NOTE_ON=65 TIME_DELTA=8 NOTE_OFF=56 TIME_DELTA=2 NOTE_OFF=80 NOTE_OFF=49 TIME_DELTA=3 NOTE_OFF=61 NOTE_OFF=65 TIME_DELTA=1 NOTE_ON=66 TIME_DELTA=6 NOTE_OFF=66 TIME_DELTA=1 BAR_END TRACK_END TRACK_START INST=0 BAR_START TIME_DELTA=24 BAR_END BAR_START TIME_DELTA=24 NOTE_ON=66 TIME_DELTA=8 NOTE_OFF=66 BAR_END BAR_START TIME_DELTA=24 NOTE_ON=75 NOTE_ON=47 TIME_DELTA=5 NOTE_ON=54 TIME_DELTA=5 NOTE_OFF=75 NOTE_ON=73 NOTE_ON=59 TIME_DELTA=5 NOTE_ON=66 NOTE_OFF=73 TIME_DELTA=4 NOTE_ON=71 TIME_DELTA=6 NOTE_OFF=59 NOTE_OFF=71 TIME_DELTA=1 NOTE_OFF=47 TIME_DELTA=1 NOTE_OFF=54 TIME_DELTA=1 NOTE_ON=80 TIME_DELTA=4 NOTE_OFF=80 TIME_DELTA=1 NOTE_ON=82 TIME_DELTA=4 NOTE_OFF=66 NOTE_OFF=82 BAR_END BAR_START TIME_DELTA=24 NOTE_ON=80 NOTE_ON=49 TIME_DELTA=5 NOTE_ON=56 TIME_DELTA=5 NOTE_ON=61 TIME_DELTA=5 NOTE_ON=65 TIME_DELTA=8 NOTE_OFF=56 TIME_DELTA=2 NOTE_OFF=80 NOTE_OFF=49 TIME_DELTA=3 NOTE_OFF=61 NOTE_OFF=65 TIME_DELTA=1 NOTE_ON=66 TIME_DELTA=6 NOTE_OFF=66 TIME_DELTA=1 BAR_END TRACK_END TRACK_START INST=0 BAR_START TIME_DELTA=24 BAR_END BAR_START TIME_DELTA=24 NOTE_ON=66 TIME_DELTA=8 NOTE_OFF=66 BAR_END BAR_START TIME_DELTA=24 NOTE_ON=75 NOTE_ON=47 TIME_DELTA=5 NOTE_ON=54 TIME_DELTA=5 NOTE_OFF=75 NOTE_ON=73 NOTE_ON=59 TIME_DELTA=5 NOTE_ON=66 NOTE_OFF=73 TIME_DELTA=4 NOTE_ON=71 TIME_DELTA=6 NOTE_OFF=59 NOTE_OFF=71 TIME_DELTA=1 NOTE_OFF=47 TIME_DELTA=1 NOTE_OFF=54 TIME_DELTA=1 NOTE_ON=80 TIME_DELTA=4 NOTE_OFF=80 TIME_DELTA=1 NOTE_ON=82 TIME_DELTA=4 NOTE_OFF=66 NOTE_OFF=82 BAR_END BAR_START TIME_DELTA=24 NOTE_ON=80 NOTE_ON=49 TIME_DELTA=5 NOTE_ON=56 TIME_DELTA=5 NOTE_ON=61 TIME_DELTA=5 NOTE_ON=65 TIME_DELTA=8 NOTE_OFF=56 TIME_DELTA=2 NOTE_OFF=80 NOTE_OFF=49 TIME_DELTA=3 NOTE_OFF=61 NOTE_OFF=65 TIME_DELTA=1 NOTE_ON=66 TIME_DELTA=6 NOTE_OFF=66 TIME_DELTA=1 BAR_END TRACK_END\n",
       "1                                                                                                                                                                                                                                                                                                                                                                                                                                                                                                                                                                          PIECE_START TRACK_START INST=0 BAR_START TIME_DELTA=24 NOTE_ON=66 TIME_DELTA=8 NOTE_OFF=66 BAR_END BAR_START TIME_DELTA=24 NOTE_ON=75 NOTE_ON=47 TIME_DELTA=5 NOTE_ON=54 TIME_DELTA=5 NOTE_OFF=75 NOTE_ON=73 NOTE_ON=59 TIME_DELTA=5 NOTE_ON=66 NOTE_OFF=73 TIME_DELTA=4 NOTE_ON=71 TIME_DELTA=6 NOTE_OFF=59 NOTE_OFF=71 TIME_DELTA=1 NOTE_OFF=47 TIME_DELTA=1 NOTE_OFF=54 TIME_DELTA=1 NOTE_ON=80 TIME_DELTA=4 NOTE_OFF=80 TIME_DELTA=1 NOTE_ON=82 TIME_DELTA=4 NOTE_OFF=66 NOTE_OFF=82 BAR_END BAR_START TIME_DELTA=24 NOTE_ON=80 NOTE_ON=49 TIME_DELTA=5 NOTE_ON=56 TIME_DELTA=5 NOTE_ON=61 TIME_DELTA=5 NOTE_ON=65 TIME_DELTA=8 NOTE_OFF=56 TIME_DELTA=2 NOTE_OFF=80 NOTE_OFF=49 TIME_DELTA=3 NOTE_OFF=61 NOTE_OFF=65 TIME_DELTA=1 NOTE_ON=66 TIME_DELTA=6 NOTE_OFF=66 TIME_DELTA=1 BAR_END BAR_START TIME_DELTA=24 NOTE_ON=75 NOTE_ON=46 TIME_DELTA=5 NOTE_ON=53 TIME_DELTA=5 NOTE_ON=73 NOTE_ON=58 NOTE_OFF=75 TIME_DELTA=4 NOTE_ON=61 TIME_DELTA=12 NOTE_OFF=73 TIME_DELTA=4 NOTE_ON=70 TIME_DELTA=1 NOTE_OFF=53 TIME_DELTA=1 NOTE_OFF=46 TIME_DELTA=4 NOTE_OFF=61 TIME_DELTA=2 NOTE_OFF=58 TIME_DELTA=24 NOTE_OFF=70 BAR_END TRACK_END TRACK_START INST=0 BAR_START TIME_DELTA=24 NOTE_ON=66 TIME_DELTA=8 NOTE_OFF=66 BAR_END BAR_START TIME_DELTA=24 NOTE_ON=75 NOTE_ON=47 TIME_DELTA=5 NOTE_ON=54 TIME_DELTA=5 NOTE_OFF=75 NOTE_ON=73 NOTE_ON=59 TIME_DELTA=5 NOTE_ON=66 NOTE_OFF=73 TIME_DELTA=4 NOTE_ON=71 TIME_DELTA=6 NOTE_OFF=59 NOTE_OFF=71 TIME_DELTA=1 NOTE_OFF=47 TIME_DELTA=1 NOTE_OFF=54 TIME_DELTA=1 NOTE_ON=80 TIME_DELTA=4 NOTE_OFF=80 TIME_DELTA=1 NOTE_ON=82 TIME_DELTA=4 NOTE_OFF=66 NOTE_OFF=82 BAR_END BAR_START TIME_DELTA=24 NOTE_ON=80 NOTE_ON=49 TIME_DELTA=5 NOTE_ON=56 TIME_DELTA=5 NOTE_ON=61 TIME_DELTA=5 NOTE_ON=65 TIME_DELTA=8 NOTE_OFF=56 TIME_DELTA=2 NOTE_OFF=80 NOTE_OFF=49 TIME_DELTA=3 NOTE_OFF=61 NOTE_OFF=65 TIME_DELTA=1 NOTE_ON=66 TIME_DELTA=6 NOTE_OFF=66 TIME_DELTA=1 BAR_END BAR_START TIME_DELTA=24 NOTE_ON=75 NOTE_ON=46 TIME_DELTA=5 NOTE_ON=53 TIME_DELTA=5 NOTE_ON=73 NOTE_ON=58 NOTE_OFF=75 TIME_DELTA=4 NOTE_ON=61 TIME_DELTA=12 NOTE_OFF=73 TIME_DELTA=4 NOTE_ON=70 TIME_DELTA=1 NOTE_OFF=53 TIME_DELTA=1 NOTE_OFF=46 TIME_DELTA=4 NOTE_OFF=61 TIME_DELTA=2 NOTE_OFF=58 TIME_DELTA=24 NOTE_OFF=70 BAR_END TRACK_END TRACK_START INST=0 BAR_START TIME_DELTA=24 NOTE_ON=66 TIME_DELTA=8 NOTE_OFF=66 BAR_END BAR_START TIME_DELTA=24 NOTE_ON=75 NOTE_ON=47 TIME_DELTA=5 NOTE_ON=54 TIME_DELTA=5 NOTE_OFF=75 NOTE_ON=73 NOTE_ON=59 TIME_DELTA=5 NOTE_ON=66 NOTE_OFF=73 TIME_DELTA=4 NOTE_ON=71 TIME_DELTA=6 NOTE_OFF=59 NOTE_OFF=71 TIME_DELTA=1 NOTE_OFF=47 TIME_DELTA=1 NOTE_OFF=54 TIME_DELTA=1 NOTE_ON=80 TIME_DELTA=4 NOTE_OFF=80 TIME_DELTA=1 NOTE_ON=82 TIME_DELTA=4 NOTE_OFF=66 NOTE_OFF=82 BAR_END BAR_START TIME_DELTA=24 NOTE_ON=80 NOTE_ON=49 TIME_DELTA=5 NOTE_ON=56 TIME_DELTA=5 NOTE_ON=61 TIME_DELTA=5 NOTE_ON=65 TIME_DELTA=8 NOTE_OFF=56 TIME_DELTA=2 NOTE_OFF=80 NOTE_OFF=49 TIME_DELTA=3 NOTE_OFF=61 NOTE_OFF=65 TIME_DELTA=1 NOTE_ON=66 TIME_DELTA=6 NOTE_OFF=66 TIME_DELTA=1 BAR_END BAR_START TIME_DELTA=24 NOTE_ON=75 NOTE_ON=46 TIME_DELTA=5 NOTE_ON=53 TIME_DELTA=5 NOTE_ON=73 NOTE_ON=58 NOTE_OFF=75 TIME_DELTA=4 NOTE_ON=61 TIME_DELTA=12 NOTE_OFF=73 TIME_DELTA=4 NOTE_ON=70 TIME_DELTA=1 NOTE_OFF=53 TIME_DELTA=1 NOTE_OFF=46 TIME_DELTA=4 NOTE_OFF=61 TIME_DELTA=2 NOTE_OFF=58 TIME_DELTA=24 NOTE_OFF=70 BAR_END TRACK_END\n",
       "2  PIECE_START TRACK_START INST=0 BAR_START TIME_DELTA=24 NOTE_ON=75 NOTE_ON=47 TIME_DELTA=5 NOTE_ON=54 TIME_DELTA=5 NOTE_OFF=75 NOTE_ON=73 NOTE_ON=59 TIME_DELTA=5 NOTE_ON=66 NOTE_OFF=73 TIME_DELTA=4 NOTE_ON=71 TIME_DELTA=6 NOTE_OFF=59 NOTE_OFF=71 TIME_DELTA=1 NOTE_OFF=47 TIME_DELTA=1 NOTE_OFF=54 TIME_DELTA=1 NOTE_ON=80 TIME_DELTA=4 NOTE_OFF=80 TIME_DELTA=1 NOTE_ON=82 TIME_DELTA=4 NOTE_OFF=66 NOTE_OFF=82 BAR_END BAR_START TIME_DELTA=24 NOTE_ON=80 NOTE_ON=49 TIME_DELTA=5 NOTE_ON=56 TIME_DELTA=5 NOTE_ON=61 TIME_DELTA=5 NOTE_ON=65 TIME_DELTA=8 NOTE_OFF=56 TIME_DELTA=2 NOTE_OFF=80 NOTE_OFF=49 TIME_DELTA=3 NOTE_OFF=61 NOTE_OFF=65 TIME_DELTA=1 NOTE_ON=66 TIME_DELTA=6 NOTE_OFF=66 TIME_DELTA=1 BAR_END BAR_START TIME_DELTA=24 NOTE_ON=75 NOTE_ON=46 TIME_DELTA=5 NOTE_ON=53 TIME_DELTA=5 NOTE_ON=73 NOTE_ON=58 NOTE_OFF=75 TIME_DELTA=4 NOTE_ON=61 TIME_DELTA=12 NOTE_OFF=73 TIME_DELTA=4 NOTE_ON=70 TIME_DELTA=1 NOTE_OFF=53 TIME_DELTA=1 NOTE_OFF=46 TIME_DELTA=4 NOTE_OFF=61 TIME_DELTA=2 NOTE_OFF=58 TIME_DELTA=24 NOTE_OFF=70 BAR_END BAR_START TIME_DELTA=24 NOTE_ON=51 TIME_DELTA=5 NOTE_ON=54 TIME_DELTA=5 NOTE_ON=58 NOTE_OFF=51 TIME_DELTA=4 NOTE_ON=66 TIME_DELTA=16 NOTE_ON=73 NOTE_OFF=54 TIME_DELTA=3 NOTE_OFF=58 TIME_DELTA=2 NOTE_OFF=73 TIME_DELTA=1 NOTE_OFF=66 TIME_DELTA=2 BAR_END TRACK_END TRACK_START INST=0 BAR_START TIME_DELTA=24 NOTE_ON=75 NOTE_ON=47 TIME_DELTA=5 NOTE_ON=54 TIME_DELTA=5 NOTE_OFF=75 NOTE_ON=73 NOTE_ON=59 TIME_DELTA=5 NOTE_ON=66 NOTE_OFF=73 TIME_DELTA=4 NOTE_ON=71 TIME_DELTA=6 NOTE_OFF=59 NOTE_OFF=71 TIME_DELTA=1 NOTE_OFF=47 TIME_DELTA=1 NOTE_OFF=54 TIME_DELTA=1 NOTE_ON=80 TIME_DELTA=4 NOTE_OFF=80 TIME_DELTA=1 NOTE_ON=82 TIME_DELTA=4 NOTE_OFF=66 NOTE_OFF=82 BAR_END BAR_START TIME_DELTA=24 NOTE_ON=80 NOTE_ON=49 TIME_DELTA=5 NOTE_ON=56 TIME_DELTA=5 NOTE_ON=61 TIME_DELTA=5 NOTE_ON=65 TIME_DELTA=8 NOTE_OFF=56 TIME_DELTA=2 NOTE_OFF=80 NOTE_OFF=49 TIME_DELTA=3 NOTE_OFF=61 NOTE_OFF=65 TIME_DELTA=1 NOTE_ON=66 TIME_DELTA=6 NOTE_OFF=66 TIME_DELTA=1 BAR_END BAR_START TIME_DELTA=24 NOTE_ON=75 NOTE_ON=46 TIME_DELTA=5 NOTE_ON=53 TIME_DELTA=5 NOTE_ON=73 NOTE_ON=58 NOTE_OFF=75 TIME_DELTA=4 NOTE_ON=61 TIME_DELTA=12 NOTE_OFF=73 TIME_DELTA=4 NOTE_ON=70 TIME_DELTA=1 NOTE_OFF=53 TIME_DELTA=1 NOTE_OFF=46 TIME_DELTA=4 NOTE_OFF=61 TIME_DELTA=2 NOTE_OFF=58 TIME_DELTA=24 NOTE_OFF=70 BAR_END BAR_START TIME_DELTA=24 NOTE_ON=51 TIME_DELTA=5 NOTE_ON=54 TIME_DELTA=5 NOTE_ON=58 NOTE_OFF=51 TIME_DELTA=4 NOTE_ON=66 TIME_DELTA=16 NOTE_ON=73 NOTE_OFF=54 TIME_DELTA=3 NOTE_OFF=58 TIME_DELTA=2 NOTE_OFF=73 TIME_DELTA=1 NOTE_OFF=66 TIME_DELTA=2 BAR_END TRACK_END TRACK_START INST=0 BAR_START TIME_DELTA=24 NOTE_ON=75 NOTE_ON=47 TIME_DELTA=5 NOTE_ON=54 TIME_DELTA=5 NOTE_OFF=75 NOTE_ON=73 NOTE_ON=59 TIME_DELTA=5 NOTE_ON=66 NOTE_OFF=73 TIME_DELTA=4 NOTE_ON=71 TIME_DELTA=6 NOTE_OFF=59 NOTE_OFF=71 TIME_DELTA=1 NOTE_OFF=47 TIME_DELTA=1 NOTE_OFF=54 TIME_DELTA=1 NOTE_ON=80 TIME_DELTA=4 NOTE_OFF=80 TIME_DELTA=1 NOTE_ON=82 TIME_DELTA=4 NOTE_OFF=66 NOTE_OFF=82 BAR_END BAR_START TIME_DELTA=24 NOTE_ON=80 NOTE_ON=49 TIME_DELTA=5 NOTE_ON=56 TIME_DELTA=5 NOTE_ON=61 TIME_DELTA=5 NOTE_ON=65 TIME_DELTA=8 NOTE_OFF=56 TIME_DELTA=2 NOTE_OFF=80 NOTE_OFF=49 TIME_DELTA=3 NOTE_OFF=61 NOTE_OFF=65 TIME_DELTA=1 NOTE_ON=66 TIME_DELTA=6 NOTE_OFF=66 TIME_DELTA=1 BAR_END BAR_START TIME_DELTA=24 NOTE_ON=75 NOTE_ON=46 TIME_DELTA=5 NOTE_ON=53 TIME_DELTA=5 NOTE_ON=73 NOTE_ON=58 NOTE_OFF=75 TIME_DELTA=4 NOTE_ON=61 TIME_DELTA=12 NOTE_OFF=73 TIME_DELTA=4 NOTE_ON=70 TIME_DELTA=1 NOTE_OFF=53 TIME_DELTA=1 NOTE_OFF=46 TIME_DELTA=4 NOTE_OFF=61 TIME_DELTA=2 NOTE_OFF=58 TIME_DELTA=24 NOTE_OFF=70 BAR_END BAR_START TIME_DELTA=24 NOTE_ON=51 TIME_DELTA=5 NOTE_ON=54 TIME_DELTA=5 NOTE_ON=58 NOTE_OFF=51 TIME_DELTA=4 NOTE_ON=66 TIME_DELTA=16 NOTE_ON=73 NOTE_OFF=54 TIME_DELTA=3 NOTE_OFF=58 TIME_DELTA=2 NOTE_OFF=73 TIME_DELTA=1 NOTE_OFF=66 TIME_DELTA=2 BAR_END TRACK_END\n",
       "3                                                                                                                                                                                         PIECE_START TRACK_START INST=0 BAR_START TIME_DELTA=24 NOTE_ON=80 NOTE_ON=49 TIME_DELTA=5 NOTE_ON=56 TIME_DELTA=5 NOTE_ON=61 TIME_DELTA=5 NOTE_ON=65 TIME_DELTA=8 NOTE_OFF=56 TIME_DELTA=2 NOTE_OFF=80 NOTE_OFF=49 TIME_DELTA=3 NOTE_OFF=61 NOTE_OFF=65 TIME_DELTA=1 NOTE_ON=66 TIME_DELTA=6 NOTE_OFF=66 TIME_DELTA=1 BAR_END BAR_START TIME_DELTA=24 NOTE_ON=75 NOTE_ON=46 TIME_DELTA=5 NOTE_ON=53 TIME_DELTA=5 NOTE_ON=73 NOTE_ON=58 NOTE_OFF=75 TIME_DELTA=4 NOTE_ON=61 TIME_DELTA=12 NOTE_OFF=73 TIME_DELTA=4 NOTE_ON=70 TIME_DELTA=1 NOTE_OFF=53 TIME_DELTA=1 NOTE_OFF=46 TIME_DELTA=4 NOTE_OFF=61 TIME_DELTA=2 NOTE_OFF=58 TIME_DELTA=24 NOTE_OFF=70 BAR_END BAR_START TIME_DELTA=24 NOTE_ON=51 TIME_DELTA=5 NOTE_ON=54 TIME_DELTA=5 NOTE_ON=58 NOTE_OFF=51 TIME_DELTA=4 NOTE_ON=66 TIME_DELTA=16 NOTE_ON=73 NOTE_OFF=54 TIME_DELTA=3 NOTE_OFF=58 TIME_DELTA=2 NOTE_OFF=73 TIME_DELTA=1 NOTE_OFF=66 TIME_DELTA=2 BAR_END BAR_START TIME_DELTA=24 NOTE_ON=78 NOTE_ON=47 TIME_DELTA=5 NOTE_ON=80 NOTE_ON=54 NOTE_OFF=78 TIME_DELTA=2 NOTE_OFF=80 TIME_DELTA=2 NOTE_ON=82 NOTE_ON=59 TIME_DELTA=5 NOTE_ON=63 TIME_DELTA=12 NOTE_OFF=54 NOTE_OFF=47 NOTE_OFF=82 NOTE_OFF=59 TIME_DELTA=2 NOTE_ON=73 TIME_DELTA=4 NOTE_OFF=63 NOTE_OFF=73 TIME_DELTA=4 BAR_END TRACK_END TRACK_START INST=0 BAR_START TIME_DELTA=24 NOTE_ON=80 NOTE_ON=49 TIME_DELTA=5 NOTE_ON=56 TIME_DELTA=5 NOTE_ON=61 TIME_DELTA=5 NOTE_ON=65 TIME_DELTA=8 NOTE_OFF=56 TIME_DELTA=2 NOTE_OFF=80 NOTE_OFF=49 TIME_DELTA=3 NOTE_OFF=61 NOTE_OFF=65 TIME_DELTA=1 NOTE_ON=66 TIME_DELTA=6 NOTE_OFF=66 TIME_DELTA=1 BAR_END BAR_START TIME_DELTA=24 NOTE_ON=75 NOTE_ON=46 TIME_DELTA=5 NOTE_ON=53 TIME_DELTA=5 NOTE_ON=73 NOTE_ON=58 NOTE_OFF=75 TIME_DELTA=4 NOTE_ON=61 TIME_DELTA=12 NOTE_OFF=73 TIME_DELTA=4 NOTE_ON=70 TIME_DELTA=1 NOTE_OFF=53 TIME_DELTA=1 NOTE_OFF=46 TIME_DELTA=4 NOTE_OFF=61 TIME_DELTA=2 NOTE_OFF=58 TIME_DELTA=24 NOTE_OFF=70 BAR_END BAR_START TIME_DELTA=24 NOTE_ON=51 TIME_DELTA=5 NOTE_ON=54 TIME_DELTA=5 NOTE_ON=58 NOTE_OFF=51 TIME_DELTA=4 NOTE_ON=66 TIME_DELTA=16 NOTE_ON=73 NOTE_OFF=54 TIME_DELTA=3 NOTE_OFF=58 TIME_DELTA=2 NOTE_OFF=73 TIME_DELTA=1 NOTE_OFF=66 TIME_DELTA=2 BAR_END BAR_START TIME_DELTA=24 NOTE_ON=78 NOTE_ON=47 TIME_DELTA=5 NOTE_ON=80 NOTE_ON=54 NOTE_OFF=78 TIME_DELTA=2 NOTE_OFF=80 TIME_DELTA=2 NOTE_ON=82 NOTE_ON=59 TIME_DELTA=5 NOTE_ON=63 TIME_DELTA=12 NOTE_OFF=54 NOTE_OFF=47 NOTE_OFF=82 NOTE_OFF=59 TIME_DELTA=2 NOTE_ON=73 TIME_DELTA=4 NOTE_OFF=63 NOTE_OFF=73 TIME_DELTA=4 BAR_END TRACK_END TRACK_START INST=0 BAR_START TIME_DELTA=24 NOTE_ON=80 NOTE_ON=49 TIME_DELTA=5 NOTE_ON=56 TIME_DELTA=5 NOTE_ON=61 TIME_DELTA=5 NOTE_ON=65 TIME_DELTA=8 NOTE_OFF=56 TIME_DELTA=2 NOTE_OFF=80 NOTE_OFF=49 TIME_DELTA=3 NOTE_OFF=61 NOTE_OFF=65 TIME_DELTA=1 NOTE_ON=66 TIME_DELTA=6 NOTE_OFF=66 TIME_DELTA=1 BAR_END BAR_START TIME_DELTA=24 NOTE_ON=75 NOTE_ON=46 TIME_DELTA=5 NOTE_ON=53 TIME_DELTA=5 NOTE_ON=73 NOTE_ON=58 NOTE_OFF=75 TIME_DELTA=4 NOTE_ON=61 TIME_DELTA=12 NOTE_OFF=73 TIME_DELTA=4 NOTE_ON=70 TIME_DELTA=1 NOTE_OFF=53 TIME_DELTA=1 NOTE_OFF=46 TIME_DELTA=4 NOTE_OFF=61 TIME_DELTA=2 NOTE_OFF=58 TIME_DELTA=24 NOTE_OFF=70 BAR_END BAR_START TIME_DELTA=24 NOTE_ON=51 TIME_DELTA=5 NOTE_ON=54 TIME_DELTA=5 NOTE_ON=58 NOTE_OFF=51 TIME_DELTA=4 NOTE_ON=66 TIME_DELTA=16 NOTE_ON=73 NOTE_OFF=54 TIME_DELTA=3 NOTE_OFF=58 TIME_DELTA=2 NOTE_OFF=73 TIME_DELTA=1 NOTE_OFF=66 TIME_DELTA=2 BAR_END BAR_START TIME_DELTA=24 NOTE_ON=78 NOTE_ON=47 TIME_DELTA=5 NOTE_ON=80 NOTE_ON=54 NOTE_OFF=78 TIME_DELTA=2 NOTE_OFF=80 TIME_DELTA=2 NOTE_ON=82 NOTE_ON=59 TIME_DELTA=5 NOTE_ON=63 TIME_DELTA=12 NOTE_OFF=54 NOTE_OFF=47 NOTE_OFF=82 NOTE_OFF=59 TIME_DELTA=2 NOTE_ON=73 TIME_DELTA=4 NOTE_OFF=63 NOTE_OFF=73 TIME_DELTA=4 BAR_END TRACK_END\n",
       "4                                                                                   PIECE_START TRACK_START INST=0 BAR_START TIME_DELTA=24 NOTE_ON=75 NOTE_ON=46 TIME_DELTA=5 NOTE_ON=53 TIME_DELTA=5 NOTE_ON=73 NOTE_ON=58 NOTE_OFF=75 TIME_DELTA=4 NOTE_ON=61 TIME_DELTA=12 NOTE_OFF=73 TIME_DELTA=4 NOTE_ON=70 TIME_DELTA=1 NOTE_OFF=53 TIME_DELTA=1 NOTE_OFF=46 TIME_DELTA=4 NOTE_OFF=61 TIME_DELTA=2 NOTE_OFF=58 TIME_DELTA=24 NOTE_OFF=70 BAR_END BAR_START TIME_DELTA=24 NOTE_ON=51 TIME_DELTA=5 NOTE_ON=54 TIME_DELTA=5 NOTE_ON=58 NOTE_OFF=51 TIME_DELTA=4 NOTE_ON=66 TIME_DELTA=16 NOTE_ON=73 NOTE_OFF=54 TIME_DELTA=3 NOTE_OFF=58 TIME_DELTA=2 NOTE_OFF=73 TIME_DELTA=1 NOTE_OFF=66 TIME_DELTA=2 BAR_END BAR_START TIME_DELTA=24 NOTE_ON=78 NOTE_ON=47 TIME_DELTA=5 NOTE_ON=80 NOTE_ON=54 NOTE_OFF=78 TIME_DELTA=2 NOTE_OFF=80 TIME_DELTA=2 NOTE_ON=82 NOTE_ON=59 TIME_DELTA=5 NOTE_ON=63 TIME_DELTA=12 NOTE_OFF=54 NOTE_OFF=47 NOTE_OFF=82 NOTE_OFF=59 TIME_DELTA=2 NOTE_ON=73 TIME_DELTA=4 NOTE_OFF=63 NOTE_OFF=73 TIME_DELTA=4 BAR_END BAR_START TIME_DELTA=24 NOTE_ON=78 NOTE_ON=56 NOTE_ON=61 NOTE_ON=49 TIME_DELTA=4 NOTE_OFF=78 NOTE_ON=80 TIME_DELTA=2 NOTE_OFF=56 NOTE_OFF=80 TIME_DELTA=2 NOTE_ON=82 NOTE_ON=56 TIME_DELTA=5 NOTE_ON=65 TIME_DELTA=1 NOTE_OFF=56 NOTE_OFF=61 TIME_DELTA=8 NOTE_OFF=82 TIME_DELTA=4 NOTE_OFF=65 NOTE_OFF=49 TIME_DELTA=12 BAR_END TRACK_END TRACK_START INST=0 BAR_START TIME_DELTA=24 NOTE_ON=75 NOTE_ON=46 TIME_DELTA=5 NOTE_ON=53 TIME_DELTA=5 NOTE_ON=73 NOTE_ON=58 NOTE_OFF=75 TIME_DELTA=4 NOTE_ON=61 TIME_DELTA=12 NOTE_OFF=73 TIME_DELTA=4 NOTE_ON=70 TIME_DELTA=1 NOTE_OFF=53 TIME_DELTA=1 NOTE_OFF=46 TIME_DELTA=4 NOTE_OFF=61 TIME_DELTA=2 NOTE_OFF=58 TIME_DELTA=24 NOTE_OFF=70 BAR_END BAR_START TIME_DELTA=24 NOTE_ON=51 TIME_DELTA=5 NOTE_ON=54 TIME_DELTA=5 NOTE_ON=58 NOTE_OFF=51 TIME_DELTA=4 NOTE_ON=66 TIME_DELTA=16 NOTE_ON=73 NOTE_OFF=54 TIME_DELTA=3 NOTE_OFF=58 TIME_DELTA=2 NOTE_OFF=73 TIME_DELTA=1 NOTE_OFF=66 TIME_DELTA=2 BAR_END BAR_START TIME_DELTA=24 NOTE_ON=78 NOTE_ON=47 TIME_DELTA=5 NOTE_ON=80 NOTE_ON=54 NOTE_OFF=78 TIME_DELTA=2 NOTE_OFF=80 TIME_DELTA=2 NOTE_ON=82 NOTE_ON=59 TIME_DELTA=5 NOTE_ON=63 TIME_DELTA=12 NOTE_OFF=54 NOTE_OFF=47 NOTE_OFF=82 NOTE_OFF=59 TIME_DELTA=2 NOTE_ON=73 TIME_DELTA=4 NOTE_OFF=63 NOTE_OFF=73 TIME_DELTA=4 BAR_END BAR_START TIME_DELTA=24 NOTE_ON=78 NOTE_ON=56 NOTE_ON=61 NOTE_ON=49 TIME_DELTA=4 NOTE_OFF=78 NOTE_ON=80 TIME_DELTA=2 NOTE_OFF=56 NOTE_OFF=80 TIME_DELTA=2 NOTE_ON=82 NOTE_ON=56 TIME_DELTA=5 NOTE_ON=65 TIME_DELTA=1 NOTE_OFF=56 NOTE_OFF=61 TIME_DELTA=8 NOTE_OFF=82 TIME_DELTA=4 NOTE_OFF=65 NOTE_OFF=49 TIME_DELTA=12 BAR_END TRACK_END TRACK_START INST=0 BAR_START TIME_DELTA=24 NOTE_ON=75 NOTE_ON=46 TIME_DELTA=5 NOTE_ON=53 TIME_DELTA=5 NOTE_ON=73 NOTE_ON=58 NOTE_OFF=75 TIME_DELTA=4 NOTE_ON=61 TIME_DELTA=12 NOTE_OFF=73 TIME_DELTA=4 NOTE_ON=70 TIME_DELTA=1 NOTE_OFF=53 TIME_DELTA=1 NOTE_OFF=46 TIME_DELTA=4 NOTE_OFF=61 TIME_DELTA=2 NOTE_OFF=58 TIME_DELTA=24 NOTE_OFF=70 BAR_END BAR_START TIME_DELTA=24 NOTE_ON=51 TIME_DELTA=5 NOTE_ON=54 TIME_DELTA=5 NOTE_ON=58 NOTE_OFF=51 TIME_DELTA=4 NOTE_ON=66 TIME_DELTA=16 NOTE_ON=73 NOTE_OFF=54 TIME_DELTA=3 NOTE_OFF=58 TIME_DELTA=2 NOTE_OFF=73 TIME_DELTA=1 NOTE_OFF=66 TIME_DELTA=2 BAR_END BAR_START TIME_DELTA=24 NOTE_ON=78 NOTE_ON=47 TIME_DELTA=5 NOTE_ON=80 NOTE_ON=54 NOTE_OFF=78 TIME_DELTA=2 NOTE_OFF=80 TIME_DELTA=2 NOTE_ON=82 NOTE_ON=59 TIME_DELTA=5 NOTE_ON=63 TIME_DELTA=12 NOTE_OFF=54 NOTE_OFF=47 NOTE_OFF=82 NOTE_OFF=59 TIME_DELTA=2 NOTE_ON=73 TIME_DELTA=4 NOTE_OFF=63 NOTE_OFF=73 TIME_DELTA=4 BAR_END BAR_START TIME_DELTA=24 NOTE_ON=78 NOTE_ON=56 NOTE_ON=61 NOTE_ON=49 TIME_DELTA=4 NOTE_OFF=78 NOTE_ON=80 TIME_DELTA=2 NOTE_OFF=56 NOTE_OFF=80 TIME_DELTA=2 NOTE_ON=82 NOTE_ON=56 TIME_DELTA=5 NOTE_ON=65 TIME_DELTA=1 NOTE_OFF=56 NOTE_OFF=61 TIME_DELTA=8 NOTE_OFF=82 TIME_DELTA=4 NOTE_OFF=65 NOTE_OFF=49 TIME_DELTA=12 BAR_END TRACK_END"
      ]
     },
     "execution_count": 29,
     "metadata": {},
     "output_type": "execute_result"
    }
   ],
   "source": [
    "df.head()"
   ]
  },
  {
   "cell_type": "code",
   "execution_count": 30,
   "metadata": {
    "id": "40JrkM72drkY"
   },
   "outputs": [
    {
     "data": {
      "text/plain": [
       "160042"
      ]
     },
     "execution_count": 30,
     "metadata": {},
     "output_type": "execute_result"
    }
   ],
   "source": [
    "len(df)"
   ]
  },
  {
   "cell_type": "code",
   "execution_count": 32,
   "metadata": {},
   "outputs": [
    {
     "name": "stderr",
     "output_type": "stream",
     "text": [
      "C:\\Users\\naomi\\AppData\\Local\\Temp\\ipykernel_8796\\2786023770.py:1: SettingWithCopyWarning: \n",
      "A value is trying to be set on a copy of a slice from a DataFrame.\n",
      "Try using .loc[row_indexer,col_indexer] = value instead\n",
      "\n",
      "See the caveats in the documentation: https://pandas.pydata.org/pandas-docs/stable/user_guide/indexing.html#returning-a-view-versus-a-copy\n",
      "  df.loc[:, 'text'] = df['text'].str.replace(r'\\b=4_4\\b', '', case=False, regex=True)\n"
     ]
    }
   ],
   "source": [
    "df.loc[:, 'text'] = df['text'].str.replace(r'\\b=4_4\\b', '', case=False, regex=True)"
   ]
  },
  {
   "cell_type": "code",
   "execution_count": 31,
   "metadata": {
    "id": "s4DYyDMPdeM5"
   },
   "outputs": [
    {
     "name": "stderr",
     "output_type": "stream",
     "text": [
      "C:\\Users\\naomi\\AppData\\Local\\Temp\\ipykernel_8796\\650831069.py:1: SettingWithCopyWarning: \n",
      "A value is trying to be set on a copy of a slice from a DataFrame.\n",
      "Try using .loc[row_indexer,col_indexer] = value instead\n",
      "\n",
      "See the caveats in the documentation: https://pandas.pydata.org/pandas-docs/stable/user_guide/indexing.html#returning-a-view-versus-a-copy\n",
      "  df['text'] = df['text'].str.replace(r'\\b=4_4\\b', '', case=False, regex=True)\n"
     ]
    }
   ],
   "source": [
    "#df['text'] = df['text'].str.replace(r'\\b=4_4\\b', '', case=False, regex=True)"
   ]
  },
  {
   "cell_type": "code",
   "execution_count": 33,
   "metadata": {
    "id": "QfuchdY6dtkX"
   },
   "outputs": [
    {
     "name": "stderr",
     "output_type": "stream",
     "text": [
      "C:\\Users\\naomi\\AppData\\Local\\Temp\\ipykernel_8796\\1497059129.py:1: SettingWithCopyWarning: \n",
      "A value is trying to be set on a copy of a slice from a DataFrame.\n",
      "Try using .loc[row_indexer,col_indexer] = value instead\n",
      "\n",
      "See the caveats in the documentation: https://pandas.pydata.org/pandas-docs/stable/user_guide/indexing.html#returning-a-view-versus-a-copy\n",
      "  df['text'] = df['text'].str.replace('=4_4', '', regex=False)\n"
     ]
    }
   ],
   "source": [
    "df['text'] = df['text'].str.replace('=4_4', '', regex=False)"
   ]
  },
  {
   "cell_type": "code",
   "execution_count": 34,
   "metadata": {
    "id": "09uU7Y4TeZxh"
   },
   "outputs": [
    {
     "data": {
      "text/html": [
       "<div>\n",
       "<style scoped>\n",
       "    .dataframe tbody tr th:only-of-type {\n",
       "        vertical-align: middle;\n",
       "    }\n",
       "\n",
       "    .dataframe tbody tr th {\n",
       "        vertical-align: top;\n",
       "    }\n",
       "\n",
       "    .dataframe thead th {\n",
       "        text-align: right;\n",
       "    }\n",
       "</style>\n",
       "<table border=\"1\" class=\"dataframe\">\n",
       "  <thead>\n",
       "    <tr style=\"text-align: right;\">\n",
       "      <th></th>\n",
       "      <th>text</th>\n",
       "    </tr>\n",
       "  </thead>\n",
       "  <tbody>\n",
       "    <tr>\n",
       "      <th>0</th>\n",
       "      <td>PIECE_START TRACK_START INST=0 BAR_START TIME_DELTA=24 BAR_END BAR_START TIME_DELTA=24 NOTE_ON=66 TIME_DELTA=8 NOTE_OFF=66 BAR_END BAR_START TIME_DELTA=24 NOTE_ON=75 NOTE_ON=47 TIME_DELTA=5 NOTE_ON=54 TIME_DELTA=5 NOTE_OFF=75 NOTE_ON=73 NOTE_ON=59 TIME_DELTA=5 NOTE_ON=66 NOTE_OFF=73 TIME_DELTA=4 NOTE_ON=71 TIME_DELTA=6 NOTE_OFF=59 NOTE_OFF=71 TIME_DELTA=1 NOTE_OFF=47 TIME_DELTA=1 NOTE_OFF=54 TIME_DELTA=1 NOTE_ON=80 TIME_DELTA=4 NOTE_OFF=80 TIME_DELTA=1 NOTE_ON=82 TIME_DELTA=4 NOTE_OFF=66 NOTE_OFF=82 BAR_END BAR_START TIME_DELTA=24 NOTE_ON=80 NOTE_ON=49 TIME_DELTA=5 NOTE_ON=56 TIME_DELTA=5 NOTE_ON=61 TIME_DELTA=5 NOTE_ON=65 TIME_DELTA=8 NOTE_OFF=56 TIME_DELTA=2 NOTE_OFF=80 NOTE_OFF=49 TIME_DELTA=3 NOTE_OFF=61 NOTE_OFF=65 TIME_DELTA=1 NOTE_ON=66 TIME_DELTA=6 NOTE_OFF=66 TIME_DELTA=1 BAR_END TRACK_END TRACK_START INST=0 BAR_START TIME_DELTA=24 BAR_END BAR_START TIME_DELTA=24 NOTE_ON=66 TIME_DELTA=8 NOTE_OFF=66 BAR_END BAR_START TIME_DELTA=24 NOTE_ON=75 NOTE_ON=47 TIME_DELTA=5 NOTE_ON=54 TIME_DELTA=5 NOTE_OFF=75 NOTE_ON=73 NOTE_ON=59 TIME_DELTA=5 NOTE_ON=66 NOTE_OFF=73 TIME_DELTA=4 NOTE_ON=71 TIME_DELTA=6 NOTE_OFF=59 NOTE_OFF=71 TIME_DELTA=1 NOTE_OFF=47 TIME_DELTA=1 NOTE_OFF=54 TIME_DELTA=1 NOTE_ON=80 TIME_DELTA=4 NOTE_OFF=80 TIME_DELTA=1 NOTE_ON=82 TIME_DELTA=4 NOTE_OFF=66 NOTE_OFF=82 BAR_END BAR_START TIME_DELTA=24 NOTE_ON=80 NOTE_ON=49 TIME_DELTA=5 NOTE_ON=56 TIME_DELTA=5 NOTE_ON=61 TIME_DELTA=5 NOTE_ON=65 TIME_DELTA=8 NOTE_OFF=56 TIME_DELTA=2 NOTE_OFF=80 NOTE_OFF=49 TIME_DELTA=3 NOTE_OFF=61 NOTE_OFF=65 TIME_DELTA=1 NOTE_ON=66 TIME_DELTA=6 NOTE_OFF=66 TIME_DELTA=1 BAR_END TRACK_END TRACK_START INST=0 BAR_START TIME_DELTA=24 BAR_END BAR_START TIME_DELTA=24 NOTE_ON=66 TIME_DELTA=8 NOTE_OFF=66 BAR_END BAR_START TIME_DELTA=24 NOTE_ON=75 NOTE_ON=47 TIME_DELTA=5 NOTE_ON=54 TIME_DELTA=5 NOTE_OFF=75 NOTE_ON=73 NOTE_ON=59 TIME_DELTA=5 NOTE_ON=66 NOTE_OFF=73 TIME_DELTA=4 NOTE_ON=71 TIME_DELTA=6 NOTE_OFF=59 NOTE_OFF=71 TIME_DELTA=1 NOTE_OFF=47 TIME_DELTA=1 NOTE_OFF=54 TIME_DELTA=1 NOTE_ON=80 TIME_DELTA=4 NOTE_OFF=80 TIME_DELTA=1 NOTE_ON=82 TIME_DELTA=4 NOTE_OFF=66 NOTE_OFF=82 BAR_END BAR_START TIME_DELTA=24 NOTE_ON=80 NOTE_ON=49 TIME_DELTA=5 NOTE_ON=56 TIME_DELTA=5 NOTE_ON=61 TIME_DELTA=5 NOTE_ON=65 TIME_DELTA=8 NOTE_OFF=56 TIME_DELTA=2 NOTE_OFF=80 NOTE_OFF=49 TIME_DELTA=3 NOTE_OFF=61 NOTE_OFF=65 TIME_DELTA=1 NOTE_ON=66 TIME_DELTA=6 NOTE_OFF=66 TIME_DELTA=1 BAR_END TRACK_END</td>\n",
       "    </tr>\n",
       "    <tr>\n",
       "      <th>1</th>\n",
       "      <td>PIECE_START TRACK_START INST=0 BAR_START TIME_DELTA=24 NOTE_ON=66 TIME_DELTA=8 NOTE_OFF=66 BAR_END BAR_START TIME_DELTA=24 NOTE_ON=75 NOTE_ON=47 TIME_DELTA=5 NOTE_ON=54 TIME_DELTA=5 NOTE_OFF=75 NOTE_ON=73 NOTE_ON=59 TIME_DELTA=5 NOTE_ON=66 NOTE_OFF=73 TIME_DELTA=4 NOTE_ON=71 TIME_DELTA=6 NOTE_OFF=59 NOTE_OFF=71 TIME_DELTA=1 NOTE_OFF=47 TIME_DELTA=1 NOTE_OFF=54 TIME_DELTA=1 NOTE_ON=80 TIME_DELTA=4 NOTE_OFF=80 TIME_DELTA=1 NOTE_ON=82 TIME_DELTA=4 NOTE_OFF=66 NOTE_OFF=82 BAR_END BAR_START TIME_DELTA=24 NOTE_ON=80 NOTE_ON=49 TIME_DELTA=5 NOTE_ON=56 TIME_DELTA=5 NOTE_ON=61 TIME_DELTA=5 NOTE_ON=65 TIME_DELTA=8 NOTE_OFF=56 TIME_DELTA=2 NOTE_OFF=80 NOTE_OFF=49 TIME_DELTA=3 NOTE_OFF=61 NOTE_OFF=65 TIME_DELTA=1 NOTE_ON=66 TIME_DELTA=6 NOTE_OFF=66 TIME_DELTA=1 BAR_END BAR_START TIME_DELTA=24 NOTE_ON=75 NOTE_ON=46 TIME_DELTA=5 NOTE_ON=53 TIME_DELTA=5 NOTE_ON=73 NOTE_ON=58 NOTE_OFF=75 TIME_DELTA=4 NOTE_ON=61 TIME_DELTA=12 NOTE_OFF=73 TIME_DELTA=4 NOTE_ON=70 TIME_DELTA=1 NOTE_OFF=53 TIME_DELTA=1 NOTE_OFF=46 TIME_DELTA=4 NOTE_OFF=61 TIME_DELTA=2 NOTE_OFF=58 TIME_DELTA=24 NOTE_OFF=70 BAR_END TRACK_END TRACK_START INST=0 BAR_START TIME_DELTA=24 NOTE_ON=66 TIME_DELTA=8 NOTE_OFF=66 BAR_END BAR_START TIME_DELTA=24 NOTE_ON=75 NOTE_ON=47 TIME_DELTA=5 NOTE_ON=54 TIME_DELTA=5 NOTE_OFF=75 NOTE_ON=73 NOTE_ON=59 TIME_DELTA=5 NOTE_ON=66 NOTE_OFF=73 TIME_DELTA=4 NOTE_ON=71 TIME_DELTA=6 NOTE_OFF=59 NOTE_OFF=71 TIME_DELTA=1 NOTE_OFF=47 TIME_DELTA=1 NOTE_OFF=54 TIME_DELTA=1 NOTE_ON=80 TIME_DELTA=4 NOTE_OFF=80 TIME_DELTA=1 NOTE_ON=82 TIME_DELTA=4 NOTE_OFF=66 NOTE_OFF=82 BAR_END BAR_START TIME_DELTA=24 NOTE_ON=80 NOTE_ON=49 TIME_DELTA=5 NOTE_ON=56 TIME_DELTA=5 NOTE_ON=61 TIME_DELTA=5 NOTE_ON=65 TIME_DELTA=8 NOTE_OFF=56 TIME_DELTA=2 NOTE_OFF=80 NOTE_OFF=49 TIME_DELTA=3 NOTE_OFF=61 NOTE_OFF=65 TIME_DELTA=1 NOTE_ON=66 TIME_DELTA=6 NOTE_OFF=66 TIME_DELTA=1 BAR_END BAR_START TIME_DELTA=24 NOTE_ON=75 NOTE_ON=46 TIME_DELTA=5 NOTE_ON=53 TIME_DELTA=5 NOTE_ON=73 NOTE_ON=58 NOTE_OFF=75 TIME_DELTA=4 NOTE_ON=61 TIME_DELTA=12 NOTE_OFF=73 TIME_DELTA=4 NOTE_ON=70 TIME_DELTA=1 NOTE_OFF=53 TIME_DELTA=1 NOTE_OFF=46 TIME_DELTA=4 NOTE_OFF=61 TIME_DELTA=2 NOTE_OFF=58 TIME_DELTA=24 NOTE_OFF=70 BAR_END TRACK_END TRACK_START INST=0 BAR_START TIME_DELTA=24 NOTE_ON=66 TIME_DELTA=8 NOTE_OFF=66 BAR_END BAR_START TIME_DELTA=24 NOTE_ON=75 NOTE_ON=47 TIME_DELTA=5 NOTE_ON=54 TIME_DELTA=5 NOTE_OFF=75 NOTE_ON=73 NOTE_ON=59 TIME_DELTA=5 NOTE_ON=66 NOTE_OFF=73 TIME_DELTA=4 NOTE_ON=71 TIME_DELTA=6 NOTE_OFF=59 NOTE_OFF=71 TIME_DELTA=1 NOTE_OFF=47 TIME_DELTA=1 NOTE_OFF=54 TIME_DELTA=1 NOTE_ON=80 TIME_DELTA=4 NOTE_OFF=80 TIME_DELTA=1 NOTE_ON=82 TIME_DELTA=4 NOTE_OFF=66 NOTE_OFF=82 BAR_END BAR_START TIME_DELTA=24 NOTE_ON=80 NOTE_ON=49 TIME_DELTA=5 NOTE_ON=56 TIME_DELTA=5 NOTE_ON=61 TIME_DELTA=5 NOTE_ON=65 TIME_DELTA=8 NOTE_OFF=56 TIME_DELTA=2 NOTE_OFF=80 NOTE_OFF=49 TIME_DELTA=3 NOTE_OFF=61 NOTE_OFF=65 TIME_DELTA=1 NOTE_ON=66 TIME_DELTA=6 NOTE_OFF=66 TIME_DELTA=1 BAR_END BAR_START TIME_DELTA=24 NOTE_ON=75 NOTE_ON=46 TIME_DELTA=5 NOTE_ON=53 TIME_DELTA=5 NOTE_ON=73 NOTE_ON=58 NOTE_OFF=75 TIME_DELTA=4 NOTE_ON=61 TIME_DELTA=12 NOTE_OFF=73 TIME_DELTA=4 NOTE_ON=70 TIME_DELTA=1 NOTE_OFF=53 TIME_DELTA=1 NOTE_OFF=46 TIME_DELTA=4 NOTE_OFF=61 TIME_DELTA=2 NOTE_OFF=58 TIME_DELTA=24 NOTE_OFF=70 BAR_END TRACK_END</td>\n",
       "    </tr>\n",
       "    <tr>\n",
       "      <th>2</th>\n",
       "      <td>PIECE_START TRACK_START INST=0 BAR_START TIME_DELTA=24 NOTE_ON=75 NOTE_ON=47 TIME_DELTA=5 NOTE_ON=54 TIME_DELTA=5 NOTE_OFF=75 NOTE_ON=73 NOTE_ON=59 TIME_DELTA=5 NOTE_ON=66 NOTE_OFF=73 TIME_DELTA=4 NOTE_ON=71 TIME_DELTA=6 NOTE_OFF=59 NOTE_OFF=71 TIME_DELTA=1 NOTE_OFF=47 TIME_DELTA=1 NOTE_OFF=54 TIME_DELTA=1 NOTE_ON=80 TIME_DELTA=4 NOTE_OFF=80 TIME_DELTA=1 NOTE_ON=82 TIME_DELTA=4 NOTE_OFF=66 NOTE_OFF=82 BAR_END BAR_START TIME_DELTA=24 NOTE_ON=80 NOTE_ON=49 TIME_DELTA=5 NOTE_ON=56 TIME_DELTA=5 NOTE_ON=61 TIME_DELTA=5 NOTE_ON=65 TIME_DELTA=8 NOTE_OFF=56 TIME_DELTA=2 NOTE_OFF=80 NOTE_OFF=49 TIME_DELTA=3 NOTE_OFF=61 NOTE_OFF=65 TIME_DELTA=1 NOTE_ON=66 TIME_DELTA=6 NOTE_OFF=66 TIME_DELTA=1 BAR_END BAR_START TIME_DELTA=24 NOTE_ON=75 NOTE_ON=46 TIME_DELTA=5 NOTE_ON=53 TIME_DELTA=5 NOTE_ON=73 NOTE_ON=58 NOTE_OFF=75 TIME_DELTA=4 NOTE_ON=61 TIME_DELTA=12 NOTE_OFF=73 TIME_DELTA=4 NOTE_ON=70 TIME_DELTA=1 NOTE_OFF=53 TIME_DELTA=1 NOTE_OFF=46 TIME_DELTA=4 NOTE_OFF=61 TIME_DELTA=2 NOTE_OFF=58 TIME_DELTA=24 NOTE_OFF=70 BAR_END BAR_START TIME_DELTA=24 NOTE_ON=51 TIME_DELTA=5 NOTE_ON=54 TIME_DELTA=5 NOTE_ON=58 NOTE_OFF=51 TIME_DELTA=4 NOTE_ON=66 TIME_DELTA=16 NOTE_ON=73 NOTE_OFF=54 TIME_DELTA=3 NOTE_OFF=58 TIME_DELTA=2 NOTE_OFF=73 TIME_DELTA=1 NOTE_OFF=66 TIME_DELTA=2 BAR_END TRACK_END TRACK_START INST=0 BAR_START TIME_DELTA=24 NOTE_ON=75 NOTE_ON=47 TIME_DELTA=5 NOTE_ON=54 TIME_DELTA=5 NOTE_OFF=75 NOTE_ON=73 NOTE_ON=59 TIME_DELTA=5 NOTE_ON=66 NOTE_OFF=73 TIME_DELTA=4 NOTE_ON=71 TIME_DELTA=6 NOTE_OFF=59 NOTE_OFF=71 TIME_DELTA=1 NOTE_OFF=47 TIME_DELTA=1 NOTE_OFF=54 TIME_DELTA=1 NOTE_ON=80 TIME_DELTA=4 NOTE_OFF=80 TIME_DELTA=1 NOTE_ON=82 TIME_DELTA=4 NOTE_OFF=66 NOTE_OFF=82 BAR_END BAR_START TIME_DELTA=24 NOTE_ON=80 NOTE_ON=49 TIME_DELTA=5 NOTE_ON=56 TIME_DELTA=5 NOTE_ON=61 TIME_DELTA=5 NOTE_ON=65 TIME_DELTA=8 NOTE_OFF=56 TIME_DELTA=2 NOTE_OFF=80 NOTE_OFF=49 TIME_DELTA=3 NOTE_OFF=61 NOTE_OFF=65 TIME_DELTA=1 NOTE_ON=66 TIME_DELTA=6 NOTE_OFF=66 TIME_DELTA=1 BAR_END BAR_START TIME_DELTA=24 NOTE_ON=75 NOTE_ON=46 TIME_DELTA=5 NOTE_ON=53 TIME_DELTA=5 NOTE_ON=73 NOTE_ON=58 NOTE_OFF=75 TIME_DELTA=4 NOTE_ON=61 TIME_DELTA=12 NOTE_OFF=73 TIME_DELTA=4 NOTE_ON=70 TIME_DELTA=1 NOTE_OFF=53 TIME_DELTA=1 NOTE_OFF=46 TIME_DELTA=4 NOTE_OFF=61 TIME_DELTA=2 NOTE_OFF=58 TIME_DELTA=24 NOTE_OFF=70 BAR_END BAR_START TIME_DELTA=24 NOTE_ON=51 TIME_DELTA=5 NOTE_ON=54 TIME_DELTA=5 NOTE_ON=58 NOTE_OFF=51 TIME_DELTA=4 NOTE_ON=66 TIME_DELTA=16 NOTE_ON=73 NOTE_OFF=54 TIME_DELTA=3 NOTE_OFF=58 TIME_DELTA=2 NOTE_OFF=73 TIME_DELTA=1 NOTE_OFF=66 TIME_DELTA=2 BAR_END TRACK_END TRACK_START INST=0 BAR_START TIME_DELTA=24 NOTE_ON=75 NOTE_ON=47 TIME_DELTA=5 NOTE_ON=54 TIME_DELTA=5 NOTE_OFF=75 NOTE_ON=73 NOTE_ON=59 TIME_DELTA=5 NOTE_ON=66 NOTE_OFF=73 TIME_DELTA=4 NOTE_ON=71 TIME_DELTA=6 NOTE_OFF=59 NOTE_OFF=71 TIME_DELTA=1 NOTE_OFF=47 TIME_DELTA=1 NOTE_OFF=54 TIME_DELTA=1 NOTE_ON=80 TIME_DELTA=4 NOTE_OFF=80 TIME_DELTA=1 NOTE_ON=82 TIME_DELTA=4 NOTE_OFF=66 NOTE_OFF=82 BAR_END BAR_START TIME_DELTA=24 NOTE_ON=80 NOTE_ON=49 TIME_DELTA=5 NOTE_ON=56 TIME_DELTA=5 NOTE_ON=61 TIME_DELTA=5 NOTE_ON=65 TIME_DELTA=8 NOTE_OFF=56 TIME_DELTA=2 NOTE_OFF=80 NOTE_OFF=49 TIME_DELTA=3 NOTE_OFF=61 NOTE_OFF=65 TIME_DELTA=1 NOTE_ON=66 TIME_DELTA=6 NOTE_OFF=66 TIME_DELTA=1 BAR_END BAR_START TIME_DELTA=24 NOTE_ON=75 NOTE_ON=46 TIME_DELTA=5 NOTE_ON=53 TIME_DELTA=5 NOTE_ON=73 NOTE_ON=58 NOTE_OFF=75 TIME_DELTA=4 NOTE_ON=61 TIME_DELTA=12 NOTE_OFF=73 TIME_DELTA=4 NOTE_ON=70 TIME_DELTA=1 NOTE_OFF=53 TIME_DELTA=1 NOTE_OFF=46 TIME_DELTA=4 NOTE_OFF=61 TIME_DELTA=2 NOTE_OFF=58 TIME_DELTA=24 NOTE_OFF=70 BAR_END BAR_START TIME_DELTA=24 NOTE_ON=51 TIME_DELTA=5 NOTE_ON=54 TIME_DELTA=5 NOTE_ON=58 NOTE_OFF=51 TIME_DELTA=4 NOTE_ON=66 TIME_DELTA=16 NOTE_ON=73 NOTE_OFF=54 TIME_DELTA=3 NOTE_OFF=58 TIME_DELTA=2 NOTE_OFF=73 TIME_DELTA=1 NOTE_OFF=66 TIME_DELTA=2 BAR_END TRACK_END</td>\n",
       "    </tr>\n",
       "    <tr>\n",
       "      <th>3</th>\n",
       "      <td>PIECE_START TRACK_START INST=0 BAR_START TIME_DELTA=24 NOTE_ON=80 NOTE_ON=49 TIME_DELTA=5 NOTE_ON=56 TIME_DELTA=5 NOTE_ON=61 TIME_DELTA=5 NOTE_ON=65 TIME_DELTA=8 NOTE_OFF=56 TIME_DELTA=2 NOTE_OFF=80 NOTE_OFF=49 TIME_DELTA=3 NOTE_OFF=61 NOTE_OFF=65 TIME_DELTA=1 NOTE_ON=66 TIME_DELTA=6 NOTE_OFF=66 TIME_DELTA=1 BAR_END BAR_START TIME_DELTA=24 NOTE_ON=75 NOTE_ON=46 TIME_DELTA=5 NOTE_ON=53 TIME_DELTA=5 NOTE_ON=73 NOTE_ON=58 NOTE_OFF=75 TIME_DELTA=4 NOTE_ON=61 TIME_DELTA=12 NOTE_OFF=73 TIME_DELTA=4 NOTE_ON=70 TIME_DELTA=1 NOTE_OFF=53 TIME_DELTA=1 NOTE_OFF=46 TIME_DELTA=4 NOTE_OFF=61 TIME_DELTA=2 NOTE_OFF=58 TIME_DELTA=24 NOTE_OFF=70 BAR_END BAR_START TIME_DELTA=24 NOTE_ON=51 TIME_DELTA=5 NOTE_ON=54 TIME_DELTA=5 NOTE_ON=58 NOTE_OFF=51 TIME_DELTA=4 NOTE_ON=66 TIME_DELTA=16 NOTE_ON=73 NOTE_OFF=54 TIME_DELTA=3 NOTE_OFF=58 TIME_DELTA=2 NOTE_OFF=73 TIME_DELTA=1 NOTE_OFF=66 TIME_DELTA=2 BAR_END BAR_START TIME_DELTA=24 NOTE_ON=78 NOTE_ON=47 TIME_DELTA=5 NOTE_ON=80 NOTE_ON=54 NOTE_OFF=78 TIME_DELTA=2 NOTE_OFF=80 TIME_DELTA=2 NOTE_ON=82 NOTE_ON=59 TIME_DELTA=5 NOTE_ON=63 TIME_DELTA=12 NOTE_OFF=54 NOTE_OFF=47 NOTE_OFF=82 NOTE_OFF=59 TIME_DELTA=2 NOTE_ON=73 TIME_DELTA=4 NOTE_OFF=63 NOTE_OFF=73 TIME_DELTA=4 BAR_END TRACK_END TRACK_START INST=0 BAR_START TIME_DELTA=24 NOTE_ON=80 NOTE_ON=49 TIME_DELTA=5 NOTE_ON=56 TIME_DELTA=5 NOTE_ON=61 TIME_DELTA=5 NOTE_ON=65 TIME_DELTA=8 NOTE_OFF=56 TIME_DELTA=2 NOTE_OFF=80 NOTE_OFF=49 TIME_DELTA=3 NOTE_OFF=61 NOTE_OFF=65 TIME_DELTA=1 NOTE_ON=66 TIME_DELTA=6 NOTE_OFF=66 TIME_DELTA=1 BAR_END BAR_START TIME_DELTA=24 NOTE_ON=75 NOTE_ON=46 TIME_DELTA=5 NOTE_ON=53 TIME_DELTA=5 NOTE_ON=73 NOTE_ON=58 NOTE_OFF=75 TIME_DELTA=4 NOTE_ON=61 TIME_DELTA=12 NOTE_OFF=73 TIME_DELTA=4 NOTE_ON=70 TIME_DELTA=1 NOTE_OFF=53 TIME_DELTA=1 NOTE_OFF=46 TIME_DELTA=4 NOTE_OFF=61 TIME_DELTA=2 NOTE_OFF=58 TIME_DELTA=24 NOTE_OFF=70 BAR_END BAR_START TIME_DELTA=24 NOTE_ON=51 TIME_DELTA=5 NOTE_ON=54 TIME_DELTA=5 NOTE_ON=58 NOTE_OFF=51 TIME_DELTA=4 NOTE_ON=66 TIME_DELTA=16 NOTE_ON=73 NOTE_OFF=54 TIME_DELTA=3 NOTE_OFF=58 TIME_DELTA=2 NOTE_OFF=73 TIME_DELTA=1 NOTE_OFF=66 TIME_DELTA=2 BAR_END BAR_START TIME_DELTA=24 NOTE_ON=78 NOTE_ON=47 TIME_DELTA=5 NOTE_ON=80 NOTE_ON=54 NOTE_OFF=78 TIME_DELTA=2 NOTE_OFF=80 TIME_DELTA=2 NOTE_ON=82 NOTE_ON=59 TIME_DELTA=5 NOTE_ON=63 TIME_DELTA=12 NOTE_OFF=54 NOTE_OFF=47 NOTE_OFF=82 NOTE_OFF=59 TIME_DELTA=2 NOTE_ON=73 TIME_DELTA=4 NOTE_OFF=63 NOTE_OFF=73 TIME_DELTA=4 BAR_END TRACK_END TRACK_START INST=0 BAR_START TIME_DELTA=24 NOTE_ON=80 NOTE_ON=49 TIME_DELTA=5 NOTE_ON=56 TIME_DELTA=5 NOTE_ON=61 TIME_DELTA=5 NOTE_ON=65 TIME_DELTA=8 NOTE_OFF=56 TIME_DELTA=2 NOTE_OFF=80 NOTE_OFF=49 TIME_DELTA=3 NOTE_OFF=61 NOTE_OFF=65 TIME_DELTA=1 NOTE_ON=66 TIME_DELTA=6 NOTE_OFF=66 TIME_DELTA=1 BAR_END BAR_START TIME_DELTA=24 NOTE_ON=75 NOTE_ON=46 TIME_DELTA=5 NOTE_ON=53 TIME_DELTA=5 NOTE_ON=73 NOTE_ON=58 NOTE_OFF=75 TIME_DELTA=4 NOTE_ON=61 TIME_DELTA=12 NOTE_OFF=73 TIME_DELTA=4 NOTE_ON=70 TIME_DELTA=1 NOTE_OFF=53 TIME_DELTA=1 NOTE_OFF=46 TIME_DELTA=4 NOTE_OFF=61 TIME_DELTA=2 NOTE_OFF=58 TIME_DELTA=24 NOTE_OFF=70 BAR_END BAR_START TIME_DELTA=24 NOTE_ON=51 TIME_DELTA=5 NOTE_ON=54 TIME_DELTA=5 NOTE_ON=58 NOTE_OFF=51 TIME_DELTA=4 NOTE_ON=66 TIME_DELTA=16 NOTE_ON=73 NOTE_OFF=54 TIME_DELTA=3 NOTE_OFF=58 TIME_DELTA=2 NOTE_OFF=73 TIME_DELTA=1 NOTE_OFF=66 TIME_DELTA=2 BAR_END BAR_START TIME_DELTA=24 NOTE_ON=78 NOTE_ON=47 TIME_DELTA=5 NOTE_ON=80 NOTE_ON=54 NOTE_OFF=78 TIME_DELTA=2 NOTE_OFF=80 TIME_DELTA=2 NOTE_ON=82 NOTE_ON=59 TIME_DELTA=5 NOTE_ON=63 TIME_DELTA=12 NOTE_OFF=54 NOTE_OFF=47 NOTE_OFF=82 NOTE_OFF=59 TIME_DELTA=2 NOTE_ON=73 TIME_DELTA=4 NOTE_OFF=63 NOTE_OFF=73 TIME_DELTA=4 BAR_END TRACK_END</td>\n",
       "    </tr>\n",
       "    <tr>\n",
       "      <th>4</th>\n",
       "      <td>PIECE_START TRACK_START INST=0 BAR_START TIME_DELTA=24 NOTE_ON=75 NOTE_ON=46 TIME_DELTA=5 NOTE_ON=53 TIME_DELTA=5 NOTE_ON=73 NOTE_ON=58 NOTE_OFF=75 TIME_DELTA=4 NOTE_ON=61 TIME_DELTA=12 NOTE_OFF=73 TIME_DELTA=4 NOTE_ON=70 TIME_DELTA=1 NOTE_OFF=53 TIME_DELTA=1 NOTE_OFF=46 TIME_DELTA=4 NOTE_OFF=61 TIME_DELTA=2 NOTE_OFF=58 TIME_DELTA=24 NOTE_OFF=70 BAR_END BAR_START TIME_DELTA=24 NOTE_ON=51 TIME_DELTA=5 NOTE_ON=54 TIME_DELTA=5 NOTE_ON=58 NOTE_OFF=51 TIME_DELTA=4 NOTE_ON=66 TIME_DELTA=16 NOTE_ON=73 NOTE_OFF=54 TIME_DELTA=3 NOTE_OFF=58 TIME_DELTA=2 NOTE_OFF=73 TIME_DELTA=1 NOTE_OFF=66 TIME_DELTA=2 BAR_END BAR_START TIME_DELTA=24 NOTE_ON=78 NOTE_ON=47 TIME_DELTA=5 NOTE_ON=80 NOTE_ON=54 NOTE_OFF=78 TIME_DELTA=2 NOTE_OFF=80 TIME_DELTA=2 NOTE_ON=82 NOTE_ON=59 TIME_DELTA=5 NOTE_ON=63 TIME_DELTA=12 NOTE_OFF=54 NOTE_OFF=47 NOTE_OFF=82 NOTE_OFF=59 TIME_DELTA=2 NOTE_ON=73 TIME_DELTA=4 NOTE_OFF=63 NOTE_OFF=73 TIME_DELTA=4 BAR_END BAR_START TIME_DELTA=24 NOTE_ON=78 NOTE_ON=56 NOTE_ON=61 NOTE_ON=49 TIME_DELTA=4 NOTE_OFF=78 NOTE_ON=80 TIME_DELTA=2 NOTE_OFF=56 NOTE_OFF=80 TIME_DELTA=2 NOTE_ON=82 NOTE_ON=56 TIME_DELTA=5 NOTE_ON=65 TIME_DELTA=1 NOTE_OFF=56 NOTE_OFF=61 TIME_DELTA=8 NOTE_OFF=82 TIME_DELTA=4 NOTE_OFF=65 NOTE_OFF=49 TIME_DELTA=12 BAR_END TRACK_END TRACK_START INST=0 BAR_START TIME_DELTA=24 NOTE_ON=75 NOTE_ON=46 TIME_DELTA=5 NOTE_ON=53 TIME_DELTA=5 NOTE_ON=73 NOTE_ON=58 NOTE_OFF=75 TIME_DELTA=4 NOTE_ON=61 TIME_DELTA=12 NOTE_OFF=73 TIME_DELTA=4 NOTE_ON=70 TIME_DELTA=1 NOTE_OFF=53 TIME_DELTA=1 NOTE_OFF=46 TIME_DELTA=4 NOTE_OFF=61 TIME_DELTA=2 NOTE_OFF=58 TIME_DELTA=24 NOTE_OFF=70 BAR_END BAR_START TIME_DELTA=24 NOTE_ON=51 TIME_DELTA=5 NOTE_ON=54 TIME_DELTA=5 NOTE_ON=58 NOTE_OFF=51 TIME_DELTA=4 NOTE_ON=66 TIME_DELTA=16 NOTE_ON=73 NOTE_OFF=54 TIME_DELTA=3 NOTE_OFF=58 TIME_DELTA=2 NOTE_OFF=73 TIME_DELTA=1 NOTE_OFF=66 TIME_DELTA=2 BAR_END BAR_START TIME_DELTA=24 NOTE_ON=78 NOTE_ON=47 TIME_DELTA=5 NOTE_ON=80 NOTE_ON=54 NOTE_OFF=78 TIME_DELTA=2 NOTE_OFF=80 TIME_DELTA=2 NOTE_ON=82 NOTE_ON=59 TIME_DELTA=5 NOTE_ON=63 TIME_DELTA=12 NOTE_OFF=54 NOTE_OFF=47 NOTE_OFF=82 NOTE_OFF=59 TIME_DELTA=2 NOTE_ON=73 TIME_DELTA=4 NOTE_OFF=63 NOTE_OFF=73 TIME_DELTA=4 BAR_END BAR_START TIME_DELTA=24 NOTE_ON=78 NOTE_ON=56 NOTE_ON=61 NOTE_ON=49 TIME_DELTA=4 NOTE_OFF=78 NOTE_ON=80 TIME_DELTA=2 NOTE_OFF=56 NOTE_OFF=80 TIME_DELTA=2 NOTE_ON=82 NOTE_ON=56 TIME_DELTA=5 NOTE_ON=65 TIME_DELTA=1 NOTE_OFF=56 NOTE_OFF=61 TIME_DELTA=8 NOTE_OFF=82 TIME_DELTA=4 NOTE_OFF=65 NOTE_OFF=49 TIME_DELTA=12 BAR_END TRACK_END TRACK_START INST=0 BAR_START TIME_DELTA=24 NOTE_ON=75 NOTE_ON=46 TIME_DELTA=5 NOTE_ON=53 TIME_DELTA=5 NOTE_ON=73 NOTE_ON=58 NOTE_OFF=75 TIME_DELTA=4 NOTE_ON=61 TIME_DELTA=12 NOTE_OFF=73 TIME_DELTA=4 NOTE_ON=70 TIME_DELTA=1 NOTE_OFF=53 TIME_DELTA=1 NOTE_OFF=46 TIME_DELTA=4 NOTE_OFF=61 TIME_DELTA=2 NOTE_OFF=58 TIME_DELTA=24 NOTE_OFF=70 BAR_END BAR_START TIME_DELTA=24 NOTE_ON=51 TIME_DELTA=5 NOTE_ON=54 TIME_DELTA=5 NOTE_ON=58 NOTE_OFF=51 TIME_DELTA=4 NOTE_ON=66 TIME_DELTA=16 NOTE_ON=73 NOTE_OFF=54 TIME_DELTA=3 NOTE_OFF=58 TIME_DELTA=2 NOTE_OFF=73 TIME_DELTA=1 NOTE_OFF=66 TIME_DELTA=2 BAR_END BAR_START TIME_DELTA=24 NOTE_ON=78 NOTE_ON=47 TIME_DELTA=5 NOTE_ON=80 NOTE_ON=54 NOTE_OFF=78 TIME_DELTA=2 NOTE_OFF=80 TIME_DELTA=2 NOTE_ON=82 NOTE_ON=59 TIME_DELTA=5 NOTE_ON=63 TIME_DELTA=12 NOTE_OFF=54 NOTE_OFF=47 NOTE_OFF=82 NOTE_OFF=59 TIME_DELTA=2 NOTE_ON=73 TIME_DELTA=4 NOTE_OFF=63 NOTE_OFF=73 TIME_DELTA=4 BAR_END BAR_START TIME_DELTA=24 NOTE_ON=78 NOTE_ON=56 NOTE_ON=61 NOTE_ON=49 TIME_DELTA=4 NOTE_OFF=78 NOTE_ON=80 TIME_DELTA=2 NOTE_OFF=56 NOTE_OFF=80 TIME_DELTA=2 NOTE_ON=82 NOTE_ON=56 TIME_DELTA=5 NOTE_ON=65 TIME_DELTA=1 NOTE_OFF=56 NOTE_OFF=61 TIME_DELTA=8 NOTE_OFF=82 TIME_DELTA=4 NOTE_OFF=65 NOTE_OFF=49 TIME_DELTA=12 BAR_END TRACK_END</td>\n",
       "    </tr>\n",
       "  </tbody>\n",
       "</table>\n",
       "</div>"
      ],
      "text/plain": [
       "                                                                                                                                                                                                                                                                                                                                                                                                                                                                                                                                                                                                                                                                                                                                                                                                                                                                                                                                                                                                                                                                                                                                                                                                                                                                                                                                                                                                                                                                                                                                                                                                                                                                                                                                                                                                                                                                                                                                                                                                                                                                                                                                                                                                                                                                                                                                                                                                                                                                                                                                                                                                                                                                                                                                                                                                                                                                                                                                                                                                                                                                                                                                                                                                                                                                                                                                                                                                                                                                                                                                                                                                                                                                                                                                                                                                                                                                                                                                                                                           text\n",
       "0                                                                                                                                                                                                                                                                                                                                                                                                                                                                                                                                                                                                                                                                                                                                                                                                                                                                                                                                                                                                                                                                                                                                                                                                                                                                                                                                                                                                                                                                                         PIECE_START TRACK_START INST=0 BAR_START TIME_DELTA=24 BAR_END BAR_START TIME_DELTA=24 NOTE_ON=66 TIME_DELTA=8 NOTE_OFF=66 BAR_END BAR_START TIME_DELTA=24 NOTE_ON=75 NOTE_ON=47 TIME_DELTA=5 NOTE_ON=54 TIME_DELTA=5 NOTE_OFF=75 NOTE_ON=73 NOTE_ON=59 TIME_DELTA=5 NOTE_ON=66 NOTE_OFF=73 TIME_DELTA=4 NOTE_ON=71 TIME_DELTA=6 NOTE_OFF=59 NOTE_OFF=71 TIME_DELTA=1 NOTE_OFF=47 TIME_DELTA=1 NOTE_OFF=54 TIME_DELTA=1 NOTE_ON=80 TIME_DELTA=4 NOTE_OFF=80 TIME_DELTA=1 NOTE_ON=82 TIME_DELTA=4 NOTE_OFF=66 NOTE_OFF=82 BAR_END BAR_START TIME_DELTA=24 NOTE_ON=80 NOTE_ON=49 TIME_DELTA=5 NOTE_ON=56 TIME_DELTA=5 NOTE_ON=61 TIME_DELTA=5 NOTE_ON=65 TIME_DELTA=8 NOTE_OFF=56 TIME_DELTA=2 NOTE_OFF=80 NOTE_OFF=49 TIME_DELTA=3 NOTE_OFF=61 NOTE_OFF=65 TIME_DELTA=1 NOTE_ON=66 TIME_DELTA=6 NOTE_OFF=66 TIME_DELTA=1 BAR_END TRACK_END TRACK_START INST=0 BAR_START TIME_DELTA=24 BAR_END BAR_START TIME_DELTA=24 NOTE_ON=66 TIME_DELTA=8 NOTE_OFF=66 BAR_END BAR_START TIME_DELTA=24 NOTE_ON=75 NOTE_ON=47 TIME_DELTA=5 NOTE_ON=54 TIME_DELTA=5 NOTE_OFF=75 NOTE_ON=73 NOTE_ON=59 TIME_DELTA=5 NOTE_ON=66 NOTE_OFF=73 TIME_DELTA=4 NOTE_ON=71 TIME_DELTA=6 NOTE_OFF=59 NOTE_OFF=71 TIME_DELTA=1 NOTE_OFF=47 TIME_DELTA=1 NOTE_OFF=54 TIME_DELTA=1 NOTE_ON=80 TIME_DELTA=4 NOTE_OFF=80 TIME_DELTA=1 NOTE_ON=82 TIME_DELTA=4 NOTE_OFF=66 NOTE_OFF=82 BAR_END BAR_START TIME_DELTA=24 NOTE_ON=80 NOTE_ON=49 TIME_DELTA=5 NOTE_ON=56 TIME_DELTA=5 NOTE_ON=61 TIME_DELTA=5 NOTE_ON=65 TIME_DELTA=8 NOTE_OFF=56 TIME_DELTA=2 NOTE_OFF=80 NOTE_OFF=49 TIME_DELTA=3 NOTE_OFF=61 NOTE_OFF=65 TIME_DELTA=1 NOTE_ON=66 TIME_DELTA=6 NOTE_OFF=66 TIME_DELTA=1 BAR_END TRACK_END TRACK_START INST=0 BAR_START TIME_DELTA=24 BAR_END BAR_START TIME_DELTA=24 NOTE_ON=66 TIME_DELTA=8 NOTE_OFF=66 BAR_END BAR_START TIME_DELTA=24 NOTE_ON=75 NOTE_ON=47 TIME_DELTA=5 NOTE_ON=54 TIME_DELTA=5 NOTE_OFF=75 NOTE_ON=73 NOTE_ON=59 TIME_DELTA=5 NOTE_ON=66 NOTE_OFF=73 TIME_DELTA=4 NOTE_ON=71 TIME_DELTA=6 NOTE_OFF=59 NOTE_OFF=71 TIME_DELTA=1 NOTE_OFF=47 TIME_DELTA=1 NOTE_OFF=54 TIME_DELTA=1 NOTE_ON=80 TIME_DELTA=4 NOTE_OFF=80 TIME_DELTA=1 NOTE_ON=82 TIME_DELTA=4 NOTE_OFF=66 NOTE_OFF=82 BAR_END BAR_START TIME_DELTA=24 NOTE_ON=80 NOTE_ON=49 TIME_DELTA=5 NOTE_ON=56 TIME_DELTA=5 NOTE_ON=61 TIME_DELTA=5 NOTE_ON=65 TIME_DELTA=8 NOTE_OFF=56 TIME_DELTA=2 NOTE_OFF=80 NOTE_OFF=49 TIME_DELTA=3 NOTE_OFF=61 NOTE_OFF=65 TIME_DELTA=1 NOTE_ON=66 TIME_DELTA=6 NOTE_OFF=66 TIME_DELTA=1 BAR_END TRACK_END\n",
       "1                                                                                                                                                                                                                                                                                                                                                                                                                                                                                                                                                                          PIECE_START TRACK_START INST=0 BAR_START TIME_DELTA=24 NOTE_ON=66 TIME_DELTA=8 NOTE_OFF=66 BAR_END BAR_START TIME_DELTA=24 NOTE_ON=75 NOTE_ON=47 TIME_DELTA=5 NOTE_ON=54 TIME_DELTA=5 NOTE_OFF=75 NOTE_ON=73 NOTE_ON=59 TIME_DELTA=5 NOTE_ON=66 NOTE_OFF=73 TIME_DELTA=4 NOTE_ON=71 TIME_DELTA=6 NOTE_OFF=59 NOTE_OFF=71 TIME_DELTA=1 NOTE_OFF=47 TIME_DELTA=1 NOTE_OFF=54 TIME_DELTA=1 NOTE_ON=80 TIME_DELTA=4 NOTE_OFF=80 TIME_DELTA=1 NOTE_ON=82 TIME_DELTA=4 NOTE_OFF=66 NOTE_OFF=82 BAR_END BAR_START TIME_DELTA=24 NOTE_ON=80 NOTE_ON=49 TIME_DELTA=5 NOTE_ON=56 TIME_DELTA=5 NOTE_ON=61 TIME_DELTA=5 NOTE_ON=65 TIME_DELTA=8 NOTE_OFF=56 TIME_DELTA=2 NOTE_OFF=80 NOTE_OFF=49 TIME_DELTA=3 NOTE_OFF=61 NOTE_OFF=65 TIME_DELTA=1 NOTE_ON=66 TIME_DELTA=6 NOTE_OFF=66 TIME_DELTA=1 BAR_END BAR_START TIME_DELTA=24 NOTE_ON=75 NOTE_ON=46 TIME_DELTA=5 NOTE_ON=53 TIME_DELTA=5 NOTE_ON=73 NOTE_ON=58 NOTE_OFF=75 TIME_DELTA=4 NOTE_ON=61 TIME_DELTA=12 NOTE_OFF=73 TIME_DELTA=4 NOTE_ON=70 TIME_DELTA=1 NOTE_OFF=53 TIME_DELTA=1 NOTE_OFF=46 TIME_DELTA=4 NOTE_OFF=61 TIME_DELTA=2 NOTE_OFF=58 TIME_DELTA=24 NOTE_OFF=70 BAR_END TRACK_END TRACK_START INST=0 BAR_START TIME_DELTA=24 NOTE_ON=66 TIME_DELTA=8 NOTE_OFF=66 BAR_END BAR_START TIME_DELTA=24 NOTE_ON=75 NOTE_ON=47 TIME_DELTA=5 NOTE_ON=54 TIME_DELTA=5 NOTE_OFF=75 NOTE_ON=73 NOTE_ON=59 TIME_DELTA=5 NOTE_ON=66 NOTE_OFF=73 TIME_DELTA=4 NOTE_ON=71 TIME_DELTA=6 NOTE_OFF=59 NOTE_OFF=71 TIME_DELTA=1 NOTE_OFF=47 TIME_DELTA=1 NOTE_OFF=54 TIME_DELTA=1 NOTE_ON=80 TIME_DELTA=4 NOTE_OFF=80 TIME_DELTA=1 NOTE_ON=82 TIME_DELTA=4 NOTE_OFF=66 NOTE_OFF=82 BAR_END BAR_START TIME_DELTA=24 NOTE_ON=80 NOTE_ON=49 TIME_DELTA=5 NOTE_ON=56 TIME_DELTA=5 NOTE_ON=61 TIME_DELTA=5 NOTE_ON=65 TIME_DELTA=8 NOTE_OFF=56 TIME_DELTA=2 NOTE_OFF=80 NOTE_OFF=49 TIME_DELTA=3 NOTE_OFF=61 NOTE_OFF=65 TIME_DELTA=1 NOTE_ON=66 TIME_DELTA=6 NOTE_OFF=66 TIME_DELTA=1 BAR_END BAR_START TIME_DELTA=24 NOTE_ON=75 NOTE_ON=46 TIME_DELTA=5 NOTE_ON=53 TIME_DELTA=5 NOTE_ON=73 NOTE_ON=58 NOTE_OFF=75 TIME_DELTA=4 NOTE_ON=61 TIME_DELTA=12 NOTE_OFF=73 TIME_DELTA=4 NOTE_ON=70 TIME_DELTA=1 NOTE_OFF=53 TIME_DELTA=1 NOTE_OFF=46 TIME_DELTA=4 NOTE_OFF=61 TIME_DELTA=2 NOTE_OFF=58 TIME_DELTA=24 NOTE_OFF=70 BAR_END TRACK_END TRACK_START INST=0 BAR_START TIME_DELTA=24 NOTE_ON=66 TIME_DELTA=8 NOTE_OFF=66 BAR_END BAR_START TIME_DELTA=24 NOTE_ON=75 NOTE_ON=47 TIME_DELTA=5 NOTE_ON=54 TIME_DELTA=5 NOTE_OFF=75 NOTE_ON=73 NOTE_ON=59 TIME_DELTA=5 NOTE_ON=66 NOTE_OFF=73 TIME_DELTA=4 NOTE_ON=71 TIME_DELTA=6 NOTE_OFF=59 NOTE_OFF=71 TIME_DELTA=1 NOTE_OFF=47 TIME_DELTA=1 NOTE_OFF=54 TIME_DELTA=1 NOTE_ON=80 TIME_DELTA=4 NOTE_OFF=80 TIME_DELTA=1 NOTE_ON=82 TIME_DELTA=4 NOTE_OFF=66 NOTE_OFF=82 BAR_END BAR_START TIME_DELTA=24 NOTE_ON=80 NOTE_ON=49 TIME_DELTA=5 NOTE_ON=56 TIME_DELTA=5 NOTE_ON=61 TIME_DELTA=5 NOTE_ON=65 TIME_DELTA=8 NOTE_OFF=56 TIME_DELTA=2 NOTE_OFF=80 NOTE_OFF=49 TIME_DELTA=3 NOTE_OFF=61 NOTE_OFF=65 TIME_DELTA=1 NOTE_ON=66 TIME_DELTA=6 NOTE_OFF=66 TIME_DELTA=1 BAR_END BAR_START TIME_DELTA=24 NOTE_ON=75 NOTE_ON=46 TIME_DELTA=5 NOTE_ON=53 TIME_DELTA=5 NOTE_ON=73 NOTE_ON=58 NOTE_OFF=75 TIME_DELTA=4 NOTE_ON=61 TIME_DELTA=12 NOTE_OFF=73 TIME_DELTA=4 NOTE_ON=70 TIME_DELTA=1 NOTE_OFF=53 TIME_DELTA=1 NOTE_OFF=46 TIME_DELTA=4 NOTE_OFF=61 TIME_DELTA=2 NOTE_OFF=58 TIME_DELTA=24 NOTE_OFF=70 BAR_END TRACK_END\n",
       "2  PIECE_START TRACK_START INST=0 BAR_START TIME_DELTA=24 NOTE_ON=75 NOTE_ON=47 TIME_DELTA=5 NOTE_ON=54 TIME_DELTA=5 NOTE_OFF=75 NOTE_ON=73 NOTE_ON=59 TIME_DELTA=5 NOTE_ON=66 NOTE_OFF=73 TIME_DELTA=4 NOTE_ON=71 TIME_DELTA=6 NOTE_OFF=59 NOTE_OFF=71 TIME_DELTA=1 NOTE_OFF=47 TIME_DELTA=1 NOTE_OFF=54 TIME_DELTA=1 NOTE_ON=80 TIME_DELTA=4 NOTE_OFF=80 TIME_DELTA=1 NOTE_ON=82 TIME_DELTA=4 NOTE_OFF=66 NOTE_OFF=82 BAR_END BAR_START TIME_DELTA=24 NOTE_ON=80 NOTE_ON=49 TIME_DELTA=5 NOTE_ON=56 TIME_DELTA=5 NOTE_ON=61 TIME_DELTA=5 NOTE_ON=65 TIME_DELTA=8 NOTE_OFF=56 TIME_DELTA=2 NOTE_OFF=80 NOTE_OFF=49 TIME_DELTA=3 NOTE_OFF=61 NOTE_OFF=65 TIME_DELTA=1 NOTE_ON=66 TIME_DELTA=6 NOTE_OFF=66 TIME_DELTA=1 BAR_END BAR_START TIME_DELTA=24 NOTE_ON=75 NOTE_ON=46 TIME_DELTA=5 NOTE_ON=53 TIME_DELTA=5 NOTE_ON=73 NOTE_ON=58 NOTE_OFF=75 TIME_DELTA=4 NOTE_ON=61 TIME_DELTA=12 NOTE_OFF=73 TIME_DELTA=4 NOTE_ON=70 TIME_DELTA=1 NOTE_OFF=53 TIME_DELTA=1 NOTE_OFF=46 TIME_DELTA=4 NOTE_OFF=61 TIME_DELTA=2 NOTE_OFF=58 TIME_DELTA=24 NOTE_OFF=70 BAR_END BAR_START TIME_DELTA=24 NOTE_ON=51 TIME_DELTA=5 NOTE_ON=54 TIME_DELTA=5 NOTE_ON=58 NOTE_OFF=51 TIME_DELTA=4 NOTE_ON=66 TIME_DELTA=16 NOTE_ON=73 NOTE_OFF=54 TIME_DELTA=3 NOTE_OFF=58 TIME_DELTA=2 NOTE_OFF=73 TIME_DELTA=1 NOTE_OFF=66 TIME_DELTA=2 BAR_END TRACK_END TRACK_START INST=0 BAR_START TIME_DELTA=24 NOTE_ON=75 NOTE_ON=47 TIME_DELTA=5 NOTE_ON=54 TIME_DELTA=5 NOTE_OFF=75 NOTE_ON=73 NOTE_ON=59 TIME_DELTA=5 NOTE_ON=66 NOTE_OFF=73 TIME_DELTA=4 NOTE_ON=71 TIME_DELTA=6 NOTE_OFF=59 NOTE_OFF=71 TIME_DELTA=1 NOTE_OFF=47 TIME_DELTA=1 NOTE_OFF=54 TIME_DELTA=1 NOTE_ON=80 TIME_DELTA=4 NOTE_OFF=80 TIME_DELTA=1 NOTE_ON=82 TIME_DELTA=4 NOTE_OFF=66 NOTE_OFF=82 BAR_END BAR_START TIME_DELTA=24 NOTE_ON=80 NOTE_ON=49 TIME_DELTA=5 NOTE_ON=56 TIME_DELTA=5 NOTE_ON=61 TIME_DELTA=5 NOTE_ON=65 TIME_DELTA=8 NOTE_OFF=56 TIME_DELTA=2 NOTE_OFF=80 NOTE_OFF=49 TIME_DELTA=3 NOTE_OFF=61 NOTE_OFF=65 TIME_DELTA=1 NOTE_ON=66 TIME_DELTA=6 NOTE_OFF=66 TIME_DELTA=1 BAR_END BAR_START TIME_DELTA=24 NOTE_ON=75 NOTE_ON=46 TIME_DELTA=5 NOTE_ON=53 TIME_DELTA=5 NOTE_ON=73 NOTE_ON=58 NOTE_OFF=75 TIME_DELTA=4 NOTE_ON=61 TIME_DELTA=12 NOTE_OFF=73 TIME_DELTA=4 NOTE_ON=70 TIME_DELTA=1 NOTE_OFF=53 TIME_DELTA=1 NOTE_OFF=46 TIME_DELTA=4 NOTE_OFF=61 TIME_DELTA=2 NOTE_OFF=58 TIME_DELTA=24 NOTE_OFF=70 BAR_END BAR_START TIME_DELTA=24 NOTE_ON=51 TIME_DELTA=5 NOTE_ON=54 TIME_DELTA=5 NOTE_ON=58 NOTE_OFF=51 TIME_DELTA=4 NOTE_ON=66 TIME_DELTA=16 NOTE_ON=73 NOTE_OFF=54 TIME_DELTA=3 NOTE_OFF=58 TIME_DELTA=2 NOTE_OFF=73 TIME_DELTA=1 NOTE_OFF=66 TIME_DELTA=2 BAR_END TRACK_END TRACK_START INST=0 BAR_START TIME_DELTA=24 NOTE_ON=75 NOTE_ON=47 TIME_DELTA=5 NOTE_ON=54 TIME_DELTA=5 NOTE_OFF=75 NOTE_ON=73 NOTE_ON=59 TIME_DELTA=5 NOTE_ON=66 NOTE_OFF=73 TIME_DELTA=4 NOTE_ON=71 TIME_DELTA=6 NOTE_OFF=59 NOTE_OFF=71 TIME_DELTA=1 NOTE_OFF=47 TIME_DELTA=1 NOTE_OFF=54 TIME_DELTA=1 NOTE_ON=80 TIME_DELTA=4 NOTE_OFF=80 TIME_DELTA=1 NOTE_ON=82 TIME_DELTA=4 NOTE_OFF=66 NOTE_OFF=82 BAR_END BAR_START TIME_DELTA=24 NOTE_ON=80 NOTE_ON=49 TIME_DELTA=5 NOTE_ON=56 TIME_DELTA=5 NOTE_ON=61 TIME_DELTA=5 NOTE_ON=65 TIME_DELTA=8 NOTE_OFF=56 TIME_DELTA=2 NOTE_OFF=80 NOTE_OFF=49 TIME_DELTA=3 NOTE_OFF=61 NOTE_OFF=65 TIME_DELTA=1 NOTE_ON=66 TIME_DELTA=6 NOTE_OFF=66 TIME_DELTA=1 BAR_END BAR_START TIME_DELTA=24 NOTE_ON=75 NOTE_ON=46 TIME_DELTA=5 NOTE_ON=53 TIME_DELTA=5 NOTE_ON=73 NOTE_ON=58 NOTE_OFF=75 TIME_DELTA=4 NOTE_ON=61 TIME_DELTA=12 NOTE_OFF=73 TIME_DELTA=4 NOTE_ON=70 TIME_DELTA=1 NOTE_OFF=53 TIME_DELTA=1 NOTE_OFF=46 TIME_DELTA=4 NOTE_OFF=61 TIME_DELTA=2 NOTE_OFF=58 TIME_DELTA=24 NOTE_OFF=70 BAR_END BAR_START TIME_DELTA=24 NOTE_ON=51 TIME_DELTA=5 NOTE_ON=54 TIME_DELTA=5 NOTE_ON=58 NOTE_OFF=51 TIME_DELTA=4 NOTE_ON=66 TIME_DELTA=16 NOTE_ON=73 NOTE_OFF=54 TIME_DELTA=3 NOTE_OFF=58 TIME_DELTA=2 NOTE_OFF=73 TIME_DELTA=1 NOTE_OFF=66 TIME_DELTA=2 BAR_END TRACK_END\n",
       "3                                                                                                                                                                                         PIECE_START TRACK_START INST=0 BAR_START TIME_DELTA=24 NOTE_ON=80 NOTE_ON=49 TIME_DELTA=5 NOTE_ON=56 TIME_DELTA=5 NOTE_ON=61 TIME_DELTA=5 NOTE_ON=65 TIME_DELTA=8 NOTE_OFF=56 TIME_DELTA=2 NOTE_OFF=80 NOTE_OFF=49 TIME_DELTA=3 NOTE_OFF=61 NOTE_OFF=65 TIME_DELTA=1 NOTE_ON=66 TIME_DELTA=6 NOTE_OFF=66 TIME_DELTA=1 BAR_END BAR_START TIME_DELTA=24 NOTE_ON=75 NOTE_ON=46 TIME_DELTA=5 NOTE_ON=53 TIME_DELTA=5 NOTE_ON=73 NOTE_ON=58 NOTE_OFF=75 TIME_DELTA=4 NOTE_ON=61 TIME_DELTA=12 NOTE_OFF=73 TIME_DELTA=4 NOTE_ON=70 TIME_DELTA=1 NOTE_OFF=53 TIME_DELTA=1 NOTE_OFF=46 TIME_DELTA=4 NOTE_OFF=61 TIME_DELTA=2 NOTE_OFF=58 TIME_DELTA=24 NOTE_OFF=70 BAR_END BAR_START TIME_DELTA=24 NOTE_ON=51 TIME_DELTA=5 NOTE_ON=54 TIME_DELTA=5 NOTE_ON=58 NOTE_OFF=51 TIME_DELTA=4 NOTE_ON=66 TIME_DELTA=16 NOTE_ON=73 NOTE_OFF=54 TIME_DELTA=3 NOTE_OFF=58 TIME_DELTA=2 NOTE_OFF=73 TIME_DELTA=1 NOTE_OFF=66 TIME_DELTA=2 BAR_END BAR_START TIME_DELTA=24 NOTE_ON=78 NOTE_ON=47 TIME_DELTA=5 NOTE_ON=80 NOTE_ON=54 NOTE_OFF=78 TIME_DELTA=2 NOTE_OFF=80 TIME_DELTA=2 NOTE_ON=82 NOTE_ON=59 TIME_DELTA=5 NOTE_ON=63 TIME_DELTA=12 NOTE_OFF=54 NOTE_OFF=47 NOTE_OFF=82 NOTE_OFF=59 TIME_DELTA=2 NOTE_ON=73 TIME_DELTA=4 NOTE_OFF=63 NOTE_OFF=73 TIME_DELTA=4 BAR_END TRACK_END TRACK_START INST=0 BAR_START TIME_DELTA=24 NOTE_ON=80 NOTE_ON=49 TIME_DELTA=5 NOTE_ON=56 TIME_DELTA=5 NOTE_ON=61 TIME_DELTA=5 NOTE_ON=65 TIME_DELTA=8 NOTE_OFF=56 TIME_DELTA=2 NOTE_OFF=80 NOTE_OFF=49 TIME_DELTA=3 NOTE_OFF=61 NOTE_OFF=65 TIME_DELTA=1 NOTE_ON=66 TIME_DELTA=6 NOTE_OFF=66 TIME_DELTA=1 BAR_END BAR_START TIME_DELTA=24 NOTE_ON=75 NOTE_ON=46 TIME_DELTA=5 NOTE_ON=53 TIME_DELTA=5 NOTE_ON=73 NOTE_ON=58 NOTE_OFF=75 TIME_DELTA=4 NOTE_ON=61 TIME_DELTA=12 NOTE_OFF=73 TIME_DELTA=4 NOTE_ON=70 TIME_DELTA=1 NOTE_OFF=53 TIME_DELTA=1 NOTE_OFF=46 TIME_DELTA=4 NOTE_OFF=61 TIME_DELTA=2 NOTE_OFF=58 TIME_DELTA=24 NOTE_OFF=70 BAR_END BAR_START TIME_DELTA=24 NOTE_ON=51 TIME_DELTA=5 NOTE_ON=54 TIME_DELTA=5 NOTE_ON=58 NOTE_OFF=51 TIME_DELTA=4 NOTE_ON=66 TIME_DELTA=16 NOTE_ON=73 NOTE_OFF=54 TIME_DELTA=3 NOTE_OFF=58 TIME_DELTA=2 NOTE_OFF=73 TIME_DELTA=1 NOTE_OFF=66 TIME_DELTA=2 BAR_END BAR_START TIME_DELTA=24 NOTE_ON=78 NOTE_ON=47 TIME_DELTA=5 NOTE_ON=80 NOTE_ON=54 NOTE_OFF=78 TIME_DELTA=2 NOTE_OFF=80 TIME_DELTA=2 NOTE_ON=82 NOTE_ON=59 TIME_DELTA=5 NOTE_ON=63 TIME_DELTA=12 NOTE_OFF=54 NOTE_OFF=47 NOTE_OFF=82 NOTE_OFF=59 TIME_DELTA=2 NOTE_ON=73 TIME_DELTA=4 NOTE_OFF=63 NOTE_OFF=73 TIME_DELTA=4 BAR_END TRACK_END TRACK_START INST=0 BAR_START TIME_DELTA=24 NOTE_ON=80 NOTE_ON=49 TIME_DELTA=5 NOTE_ON=56 TIME_DELTA=5 NOTE_ON=61 TIME_DELTA=5 NOTE_ON=65 TIME_DELTA=8 NOTE_OFF=56 TIME_DELTA=2 NOTE_OFF=80 NOTE_OFF=49 TIME_DELTA=3 NOTE_OFF=61 NOTE_OFF=65 TIME_DELTA=1 NOTE_ON=66 TIME_DELTA=6 NOTE_OFF=66 TIME_DELTA=1 BAR_END BAR_START TIME_DELTA=24 NOTE_ON=75 NOTE_ON=46 TIME_DELTA=5 NOTE_ON=53 TIME_DELTA=5 NOTE_ON=73 NOTE_ON=58 NOTE_OFF=75 TIME_DELTA=4 NOTE_ON=61 TIME_DELTA=12 NOTE_OFF=73 TIME_DELTA=4 NOTE_ON=70 TIME_DELTA=1 NOTE_OFF=53 TIME_DELTA=1 NOTE_OFF=46 TIME_DELTA=4 NOTE_OFF=61 TIME_DELTA=2 NOTE_OFF=58 TIME_DELTA=24 NOTE_OFF=70 BAR_END BAR_START TIME_DELTA=24 NOTE_ON=51 TIME_DELTA=5 NOTE_ON=54 TIME_DELTA=5 NOTE_ON=58 NOTE_OFF=51 TIME_DELTA=4 NOTE_ON=66 TIME_DELTA=16 NOTE_ON=73 NOTE_OFF=54 TIME_DELTA=3 NOTE_OFF=58 TIME_DELTA=2 NOTE_OFF=73 TIME_DELTA=1 NOTE_OFF=66 TIME_DELTA=2 BAR_END BAR_START TIME_DELTA=24 NOTE_ON=78 NOTE_ON=47 TIME_DELTA=5 NOTE_ON=80 NOTE_ON=54 NOTE_OFF=78 TIME_DELTA=2 NOTE_OFF=80 TIME_DELTA=2 NOTE_ON=82 NOTE_ON=59 TIME_DELTA=5 NOTE_ON=63 TIME_DELTA=12 NOTE_OFF=54 NOTE_OFF=47 NOTE_OFF=82 NOTE_OFF=59 TIME_DELTA=2 NOTE_ON=73 TIME_DELTA=4 NOTE_OFF=63 NOTE_OFF=73 TIME_DELTA=4 BAR_END TRACK_END\n",
       "4                                                                                   PIECE_START TRACK_START INST=0 BAR_START TIME_DELTA=24 NOTE_ON=75 NOTE_ON=46 TIME_DELTA=5 NOTE_ON=53 TIME_DELTA=5 NOTE_ON=73 NOTE_ON=58 NOTE_OFF=75 TIME_DELTA=4 NOTE_ON=61 TIME_DELTA=12 NOTE_OFF=73 TIME_DELTA=4 NOTE_ON=70 TIME_DELTA=1 NOTE_OFF=53 TIME_DELTA=1 NOTE_OFF=46 TIME_DELTA=4 NOTE_OFF=61 TIME_DELTA=2 NOTE_OFF=58 TIME_DELTA=24 NOTE_OFF=70 BAR_END BAR_START TIME_DELTA=24 NOTE_ON=51 TIME_DELTA=5 NOTE_ON=54 TIME_DELTA=5 NOTE_ON=58 NOTE_OFF=51 TIME_DELTA=4 NOTE_ON=66 TIME_DELTA=16 NOTE_ON=73 NOTE_OFF=54 TIME_DELTA=3 NOTE_OFF=58 TIME_DELTA=2 NOTE_OFF=73 TIME_DELTA=1 NOTE_OFF=66 TIME_DELTA=2 BAR_END BAR_START TIME_DELTA=24 NOTE_ON=78 NOTE_ON=47 TIME_DELTA=5 NOTE_ON=80 NOTE_ON=54 NOTE_OFF=78 TIME_DELTA=2 NOTE_OFF=80 TIME_DELTA=2 NOTE_ON=82 NOTE_ON=59 TIME_DELTA=5 NOTE_ON=63 TIME_DELTA=12 NOTE_OFF=54 NOTE_OFF=47 NOTE_OFF=82 NOTE_OFF=59 TIME_DELTA=2 NOTE_ON=73 TIME_DELTA=4 NOTE_OFF=63 NOTE_OFF=73 TIME_DELTA=4 BAR_END BAR_START TIME_DELTA=24 NOTE_ON=78 NOTE_ON=56 NOTE_ON=61 NOTE_ON=49 TIME_DELTA=4 NOTE_OFF=78 NOTE_ON=80 TIME_DELTA=2 NOTE_OFF=56 NOTE_OFF=80 TIME_DELTA=2 NOTE_ON=82 NOTE_ON=56 TIME_DELTA=5 NOTE_ON=65 TIME_DELTA=1 NOTE_OFF=56 NOTE_OFF=61 TIME_DELTA=8 NOTE_OFF=82 TIME_DELTA=4 NOTE_OFF=65 NOTE_OFF=49 TIME_DELTA=12 BAR_END TRACK_END TRACK_START INST=0 BAR_START TIME_DELTA=24 NOTE_ON=75 NOTE_ON=46 TIME_DELTA=5 NOTE_ON=53 TIME_DELTA=5 NOTE_ON=73 NOTE_ON=58 NOTE_OFF=75 TIME_DELTA=4 NOTE_ON=61 TIME_DELTA=12 NOTE_OFF=73 TIME_DELTA=4 NOTE_ON=70 TIME_DELTA=1 NOTE_OFF=53 TIME_DELTA=1 NOTE_OFF=46 TIME_DELTA=4 NOTE_OFF=61 TIME_DELTA=2 NOTE_OFF=58 TIME_DELTA=24 NOTE_OFF=70 BAR_END BAR_START TIME_DELTA=24 NOTE_ON=51 TIME_DELTA=5 NOTE_ON=54 TIME_DELTA=5 NOTE_ON=58 NOTE_OFF=51 TIME_DELTA=4 NOTE_ON=66 TIME_DELTA=16 NOTE_ON=73 NOTE_OFF=54 TIME_DELTA=3 NOTE_OFF=58 TIME_DELTA=2 NOTE_OFF=73 TIME_DELTA=1 NOTE_OFF=66 TIME_DELTA=2 BAR_END BAR_START TIME_DELTA=24 NOTE_ON=78 NOTE_ON=47 TIME_DELTA=5 NOTE_ON=80 NOTE_ON=54 NOTE_OFF=78 TIME_DELTA=2 NOTE_OFF=80 TIME_DELTA=2 NOTE_ON=82 NOTE_ON=59 TIME_DELTA=5 NOTE_ON=63 TIME_DELTA=12 NOTE_OFF=54 NOTE_OFF=47 NOTE_OFF=82 NOTE_OFF=59 TIME_DELTA=2 NOTE_ON=73 TIME_DELTA=4 NOTE_OFF=63 NOTE_OFF=73 TIME_DELTA=4 BAR_END BAR_START TIME_DELTA=24 NOTE_ON=78 NOTE_ON=56 NOTE_ON=61 NOTE_ON=49 TIME_DELTA=4 NOTE_OFF=78 NOTE_ON=80 TIME_DELTA=2 NOTE_OFF=56 NOTE_OFF=80 TIME_DELTA=2 NOTE_ON=82 NOTE_ON=56 TIME_DELTA=5 NOTE_ON=65 TIME_DELTA=1 NOTE_OFF=56 NOTE_OFF=61 TIME_DELTA=8 NOTE_OFF=82 TIME_DELTA=4 NOTE_OFF=65 NOTE_OFF=49 TIME_DELTA=12 BAR_END TRACK_END TRACK_START INST=0 BAR_START TIME_DELTA=24 NOTE_ON=75 NOTE_ON=46 TIME_DELTA=5 NOTE_ON=53 TIME_DELTA=5 NOTE_ON=73 NOTE_ON=58 NOTE_OFF=75 TIME_DELTA=4 NOTE_ON=61 TIME_DELTA=12 NOTE_OFF=73 TIME_DELTA=4 NOTE_ON=70 TIME_DELTA=1 NOTE_OFF=53 TIME_DELTA=1 NOTE_OFF=46 TIME_DELTA=4 NOTE_OFF=61 TIME_DELTA=2 NOTE_OFF=58 TIME_DELTA=24 NOTE_OFF=70 BAR_END BAR_START TIME_DELTA=24 NOTE_ON=51 TIME_DELTA=5 NOTE_ON=54 TIME_DELTA=5 NOTE_ON=58 NOTE_OFF=51 TIME_DELTA=4 NOTE_ON=66 TIME_DELTA=16 NOTE_ON=73 NOTE_OFF=54 TIME_DELTA=3 NOTE_OFF=58 TIME_DELTA=2 NOTE_OFF=73 TIME_DELTA=1 NOTE_OFF=66 TIME_DELTA=2 BAR_END BAR_START TIME_DELTA=24 NOTE_ON=78 NOTE_ON=47 TIME_DELTA=5 NOTE_ON=80 NOTE_ON=54 NOTE_OFF=78 TIME_DELTA=2 NOTE_OFF=80 TIME_DELTA=2 NOTE_ON=82 NOTE_ON=59 TIME_DELTA=5 NOTE_ON=63 TIME_DELTA=12 NOTE_OFF=54 NOTE_OFF=47 NOTE_OFF=82 NOTE_OFF=59 TIME_DELTA=2 NOTE_ON=73 TIME_DELTA=4 NOTE_OFF=63 NOTE_OFF=73 TIME_DELTA=4 BAR_END BAR_START TIME_DELTA=24 NOTE_ON=78 NOTE_ON=56 NOTE_ON=61 NOTE_ON=49 TIME_DELTA=4 NOTE_OFF=78 NOTE_ON=80 TIME_DELTA=2 NOTE_OFF=56 NOTE_OFF=80 TIME_DELTA=2 NOTE_ON=82 NOTE_ON=56 TIME_DELTA=5 NOTE_ON=65 TIME_DELTA=1 NOTE_OFF=56 NOTE_OFF=61 TIME_DELTA=8 NOTE_OFF=82 TIME_DELTA=4 NOTE_OFF=65 NOTE_OFF=49 TIME_DELTA=12 BAR_END TRACK_END"
      ]
     },
     "execution_count": 34,
     "metadata": {},
     "output_type": "execute_result"
    }
   ],
   "source": [
    "df.head()"
   ]
  },
  {
   "cell_type": "code",
   "execution_count": 35,
   "metadata": {
    "id": "-y_aA6jJYgbw"
   },
   "outputs": [
    {
     "name": "stdout",
     "output_type": "stream",
     "text": [
      "Highest number of words: 1888\n",
      "Lowest number of words: 17\n",
      "Average number of words: 255.7036153009835\n"
     ]
    },
    {
     "name": "stderr",
     "output_type": "stream",
     "text": [
      "C:\\Users\\naomi\\AppData\\Local\\Temp\\ipykernel_8796\\1686469422.py:2: SettingWithCopyWarning: \n",
      "A value is trying to be set on a copy of a slice from a DataFrame.\n",
      "Try using .loc[row_indexer,col_indexer] = value instead\n",
      "\n",
      "See the caveats in the documentation: https://pandas.pydata.org/pandas-docs/stable/user_guide/indexing.html#returning-a-view-versus-a-copy\n",
      "  df['num_words'] = df['text'].str.split().str.len()\n"
     ]
    }
   ],
   "source": [
    "# Create a new column 'num_words' that contains the number of words in each row of the 'text' column\n",
    "df['num_words'] = df['text'].str.split().str.len()\n",
    "\n",
    "# Calculate the highest, lowest, and average number of words\n",
    "highest_num_words = df['num_words'].max()\n",
    "lowest_num_words = df['num_words'].min()\n",
    "average_num_words = df['num_words'].mean()\n",
    "\n",
    "print('Highest number of words:', highest_num_words)\n",
    "print('Lowest number of words:', lowest_num_words)\n",
    "print('Average number of words:', average_num_words)"
   ]
  },
  {
   "cell_type": "markdown",
   "metadata": {},
   "source": [
    "## why 300? What do the numbers mean?"
   ]
  },
  {
   "cell_type": "code",
   "execution_count": 36,
   "metadata": {
    "id": "RGyWGiLOY9g3"
   },
   "outputs": [],
   "source": [
    "df = df[df['num_words'] >= 300]"
   ]
  },
  {
   "cell_type": "code",
   "execution_count": 37,
   "metadata": {
    "id": "8zT6M_TTacV_"
   },
   "outputs": [
    {
     "name": "stdout",
     "output_type": "stream",
     "text": [
      "Highest number of words: 1888\n",
      "Lowest number of words: 301\n",
      "Average number of words: 472.8603860957421\n"
     ]
    }
   ],
   "source": [
    "# Calculate the highest, lowest, and average number of words\n",
    "highest_num_words = df['num_words'].max()\n",
    "lowest_num_words = df['num_words'].min()\n",
    "average_num_words = df['num_words'].mean()\n",
    "\n",
    "print('Highest number of words:', highest_num_words)\n",
    "print('Lowest number of words:', lowest_num_words)\n",
    "print('Average number of words:', average_num_words)"
   ]
  },
  {
   "cell_type": "code",
   "execution_count": 38,
   "metadata": {
    "id": "gfu4VQpfafpQ"
   },
   "outputs": [],
   "source": [
    "# Remove the 'num_words' column\n",
    "df = df.drop(columns=['num_words'])"
   ]
  },
  {
   "cell_type": "code",
   "execution_count": 39,
   "metadata": {
    "id": "0sqVST8raosQ"
   },
   "outputs": [],
   "source": [
    "from datasets import Dataset\n",
    "# Convert the DataFrame to a Hugging Face dataset\n",
    "clean_dataset = Dataset.from_pandas(df)"
   ]
  },
  {
   "cell_type": "code",
   "execution_count": 40,
   "metadata": {
    "id": "_A1Gcxhoa9FY"
   },
   "outputs": [
    {
     "data": {
      "text/plain": [
       "Dataset({\n",
       "    features: ['text', '__index_level_0__'],\n",
       "    num_rows: 33256\n",
       "})"
      ]
     },
     "execution_count": 40,
     "metadata": {},
     "output_type": "execute_result"
    }
   ],
   "source": [
    "clean_dataset"
   ]
  },
  {
   "cell_type": "code",
   "execution_count": 41,
   "metadata": {
    "id": "k5f3jJhIbBQv"
   },
   "outputs": [],
   "source": [
    "clean_dataset = clean_dataset.remove_columns(\"__index_level_0__\")"
   ]
  },
  {
   "cell_type": "code",
   "execution_count": 42,
   "metadata": {
    "id": "KiyMwXRobNZQ"
   },
   "outputs": [
    {
     "data": {
      "text/plain": [
       "Dataset({\n",
       "    features: ['text'],\n",
       "    num_rows: 33256\n",
       "})"
      ]
     },
     "execution_count": 42,
     "metadata": {},
     "output_type": "execute_result"
    }
   ],
   "source": [
    "clean_dataset"
   ]
  },
  {
   "cell_type": "code",
   "execution_count": 43,
   "metadata": {
    "id": "LNWBkQahbZ7g"
   },
   "outputs": [],
   "source": [
    "from huggingface_hub import notebook_login"
   ]
  },
  {
   "cell_type": "code",
   "execution_count": 45,
   "metadata": {
    "id": "u8kfAx-Bbhah"
   },
   "outputs": [
    {
     "data": {
      "application/vnd.jupyter.widget-view+json": {
       "model_id": "f1ef69ca44e04a44aab6691f7a0b0e0e",
       "version_major": 2,
       "version_minor": 0
      },
      "text/plain": [
       "VBox(children=(HTML(value='<center> <img\\nsrc=https://huggingface.co/front/assets/huggingface_logo-noborder.sv…"
      ]
     },
     "metadata": {},
     "output_type": "display_data"
    }
   ],
   "source": [
    "notebook_login()"
   ]
  },
  {
   "cell_type": "code",
   "execution_count": null,
   "metadata": {
    "id": "wRbYeYBxbkiv"
   },
   "outputs": [],
   "source": [
    "clean_dataset.push_to_hub(\"juancopi81/mmm_track_lmd_8bars_nots\")"
   ]
  },
  {
   "cell_type": "code",
   "execution_count": null,
   "metadata": {
    "id": "d9eWs5Xub8Dw"
   },
   "outputs": [],
   "source": []
  }
 ],
 "metadata": {
  "colab": {
   "machine_shape": "hm",
   "provenance": []
  },
  "kernelspec": {
   "display_name": "Python 3 (ipykernel)",
   "language": "python",
   "name": "python3"
  },
  "language_info": {
   "codemirror_mode": {
    "name": "ipython",
    "version": 3
   },
   "file_extension": ".py",
   "mimetype": "text/x-python",
   "name": "python",
   "nbconvert_exporter": "python",
   "pygments_lexer": "ipython3",
   "version": "3.9.13"
  }
 },
 "nbformat": 4,
 "nbformat_minor": 1
}

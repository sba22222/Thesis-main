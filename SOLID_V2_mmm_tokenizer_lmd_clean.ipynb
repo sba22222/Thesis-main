{
 "cells": [
  {
   "cell_type": "markdown",
   "id": "ed63e1a2",
   "metadata": {},
   "source": [
    "REF:https://github.com/juancopi81/mmm_tokenizer_lmd_clean/blob/main/create_dataset_mmm.py"
   ]
  },
  {
   "cell_type": "code",
   "execution_count": 5,
   "id": "676f5b09",
   "metadata": {},
   "outputs": [
    {
     "name": "stdout",
     "output_type": "stream",
     "text": [
      "Requirement already satisfied: music21 in c:\\users\\naomi\\anaconda3\\lib\\site-packages (8.3.0)\n",
      "Requirement already satisfied: more-itertools in c:\\users\\naomi\\anaconda3\\lib\\site-packages (from music21) (10.1.0)\n",
      "Requirement already satisfied: matplotlib in c:\\users\\naomi\\anaconda3\\lib\\site-packages (from music21) (3.5.2)\n",
      "Requirement already satisfied: numpy in c:\\users\\naomi\\anaconda3\\lib\\site-packages (from music21) (1.21.5)\n",
      "Requirement already satisfied: joblib in c:\\users\\naomi\\anaconda3\\lib\\site-packages (from music21) (1.1.0)\n",
      "Requirement already satisfied: requests in c:\\users\\naomi\\anaconda3\\lib\\site-packages (from music21) (2.28.1)\n",
      "Requirement already satisfied: chardet in c:\\users\\naomi\\anaconda3\\lib\\site-packages (from music21) (4.0.0)\n",
      "Requirement already satisfied: webcolors>=1.5 in c:\\users\\naomi\\anaconda3\\lib\\site-packages (from music21) (1.13)\n",
      "Requirement already satisfied: jsonpickle in c:\\users\\naomi\\anaconda3\\lib\\site-packages (from music21) (3.0.2)\n",
      "Requirement already satisfied: packaging>=20.0 in c:\\users\\naomi\\appdata\\roaming\\python\\python39\\site-packages (from matplotlib->music21) (22.0)\n",
      "Requirement already satisfied: pyparsing>=2.2.1 in c:\\users\\naomi\\anaconda3\\lib\\site-packages (from matplotlib->music21) (3.0.9)\n",
      "Requirement already satisfied: cycler>=0.10 in c:\\users\\naomi\\anaconda3\\lib\\site-packages (from matplotlib->music21) (0.11.0)\n",
      "Requirement already satisfied: pillow>=6.2.0 in c:\\users\\naomi\\anaconda3\\lib\\site-packages (from matplotlib->music21) (9.2.0)\n",
      "Requirement already satisfied: kiwisolver>=1.0.1 in c:\\users\\naomi\\anaconda3\\lib\\site-packages (from matplotlib->music21) (1.4.2)\n",
      "Requirement already satisfied: fonttools>=4.22.0 in c:\\users\\naomi\\anaconda3\\lib\\site-packages (from matplotlib->music21) (4.25.0)\n",
      "Requirement already satisfied: python-dateutil>=2.7 in c:\\users\\naomi\\appdata\\roaming\\python\\python39\\site-packages (from matplotlib->music21) (2.8.2)\n",
      "Requirement already satisfied: urllib3<1.27,>=1.21.1 in c:\\users\\naomi\\anaconda3\\lib\\site-packages (from requests->music21) (1.26.11)\n",
      "Requirement already satisfied: charset-normalizer<3,>=2 in c:\\users\\naomi\\anaconda3\\lib\\site-packages (from requests->music21) (2.0.4)\n",
      "Requirement already satisfied: certifi>=2017.4.17 in c:\\users\\naomi\\anaconda3\\lib\\site-packages (from requests->music21) (2022.9.14)\n",
      "Requirement already satisfied: idna<4,>=2.5 in c:\\users\\naomi\\anaconda3\\lib\\site-packages (from requests->music21) (3.3)\n",
      "Requirement already satisfied: six>=1.5 in c:\\users\\naomi\\appdata\\roaming\\python\\python39\\site-packages (from python-dateutil>=2.7->matplotlib->music21) (1.16.0)\n",
      "Requirement already satisfied: pandas in c:\\users\\naomi\\anaconda3\\lib\\site-packages (1.4.4)\n",
      "Requirement already satisfied: python-dateutil>=2.8.1 in c:\\users\\naomi\\appdata\\roaming\\python\\python39\\site-packages (from pandas) (2.8.2)\n",
      "Requirement already satisfied: numpy>=1.18.5 in c:\\users\\naomi\\anaconda3\\lib\\site-packages (from pandas) (1.21.5)\n",
      "Requirement already satisfied: pytz>=2020.1 in c:\\users\\naomi\\anaconda3\\lib\\site-packages (from pandas) (2022.1)\n",
      "Requirement already satisfied: six>=1.5 in c:\\users\\naomi\\appdata\\roaming\\python\\python39\\site-packages (from python-dateutil>=2.8.1->pandas) (1.16.0)\n",
      "Requirement already satisfied: pydantic in c:\\users\\naomi\\anaconda3\\lib\\site-packages (1.10.13)\n",
      "Requirement already satisfied: typing-extensions>=4.2.0 in c:\\users\\naomi\\anaconda3\\lib\\site-packages (from pydantic) (4.9.0)\n"
     ]
    }
   ],
   "source": [
    "!pip install music21\n",
    "!pip install pandas\n",
    "!pip install pydantic\n",
    "#!pip install pydantic_argparse\n"
   ]
  },
  {
   "cell_type": "code",
   "execution_count": 8,
   "id": "dad94896",
   "metadata": {},
   "outputs": [
    {
     "ename": "ModuleNotFoundError",
     "evalue": "No module named 'source.datasetcreatorconfig'",
     "output_type": "error",
     "traceback": [
      "\u001b[1;31m---------------------------------------------------------------------------\u001b[0m",
      "\u001b[1;31mModuleNotFoundError\u001b[0m                       Traceback (most recent call last)",
      "Cell \u001b[1;32mIn[8], line 23\u001b[0m\n\u001b[0;32m     19\u001b[0m \u001b[38;5;28;01mfrom\u001b[39;00m \u001b[38;5;21;01mpathlib\u001b[39;00m \u001b[38;5;28;01mimport\u001b[39;00m Path\n\u001b[0;32m     21\u001b[0m \u001b[38;5;28;01mimport\u001b[39;00m \u001b[38;5;21;01mpydantic_argparse\u001b[39;00m\n\u001b[1;32m---> 23\u001b[0m \u001b[38;5;28;01mfrom\u001b[39;00m \u001b[38;5;21;01msource\u001b[39;00m\u001b[38;5;21;01m.\u001b[39;00m\u001b[38;5;21;01mdatasetcreatorconfig\u001b[39;00m \u001b[38;5;28;01mimport\u001b[39;00m LMDCleanDatasetCreatorBarConfig\n\u001b[0;32m     24\u001b[0m \u001b[38;5;28;01mfrom\u001b[39;00m \u001b[38;5;21;01msource\u001b[39;00m \u001b[38;5;28;01mimport\u001b[39;00m datasetcreator\n\u001b[0;32m     25\u001b[0m \u001b[38;5;28;01mfrom\u001b[39;00m \u001b[38;5;21;01msource\u001b[39;00m \u001b[38;5;28;01mimport\u001b[39;00m logging\n",
      "\u001b[1;31mModuleNotFoundError\u001b[0m: No module named 'source.datasetcreatorconfig'"
     ]
    }
   ],
   "source": [
    "# Original License:\n",
    "# Copyright 2021 Tristan Behrens.\n",
    "#\n",
    "# Licensed under the Apache License, Version 2.0 (the \"License\");\n",
    "# you may not use this file except in compliance with the License.\n",
    "# You may obtain a copy of the License at\n",
    "#\n",
    "#     http://www.apache.org/licenses/LICENSE-2.0\n",
    "#\n",
    "# Unless required by applicable law or agreed to in writing, software\n",
    "# distributed under the License is distributed on an \"AS IS\" BASIS,\n",
    "# WITHOUT WARRANTIES OR CONDITIONS OF ANY KIND, either express or implied.\n",
    "# See the License for the specific language governing permissions and\n",
    "# limitations under the License.\n",
    "\n",
    "# Lint as: python3\n",
    "\n",
    "import os\n",
    "from pathlib import Path\n",
    "\n",
    "import pydantic_argparse\n",
    "\n",
    "from source.datasetcreatorconfig import LMDCleanDatasetCreatorBarConfig\n",
    "from source import datasetcreator\n",
    "from source import logging\n",
    "from source.preprocess.loading.loaderiterator import LoaderIterator\n",
    "from source.preprocess.loading.serialization import Music21Serializer\n",
    "\n",
    "\n",
    "logger = logging.create_logger(\"main\")\n",
    "# Create dataset if it does not exist yet\n",
    "# dataset_creator_config = datasetcreatorconfig.CustomDatasetCreatorTrackConfig()\n",
    "# dataset_creator.create(dataset_path=os.path.join(\"datasets\"), overwrite=True)\n",
    "\n",
    "\n",
    "def main() -> None:\n",
    "    # Create Parser and Parse Args\n",
    "    parser = pydantic_argparse.ArgumentParser(\n",
    "        model=LMDCleanDatasetCreatorBarConfig,\n",
    "        prog=\"MMM Tokenizer LMD Clean\",\n",
    "        description=\"This programs tokenize the LMD clean dataset using the MMM tokenizer\",\n",
    "        version=\"0.0.1\",\n",
    "        epilog=\"Based on the implemenatation of Dr. Tristan Behrens.\",\n",
    "    )\n",
    "    dataset_creator_config = parser.parse_typed_args()\n",
    "\n",
    "    # Print Args\n",
    "    logger.info(\"Creating DatasetCreator\")\n",
    "    dataset_creator = datasetcreator.DatasetCreator(dataset_creator_config)\n",
    "\n",
    "    # Get songs from folder and iterate in batches\n",
    "    logger.info(\"Creating list of path files...\")\n",
    "    midi_paths = sorted(\n",
    "        list(Path(dataset_creator_config.midi_source).glob(\"**/*.mid\"))\n",
    "        + list(Path(dataset_creator_config.midi_source).glob(\"**/*.midi\"))\n",
    "    )\n",
    "    logger.info(f\"There are {len(midi_paths)} midi files in the directory\")\n",
    "    batch_size = dataset_creator_config.num_files_per_iteration\n",
    "\n",
    "    logger.info(\"Creating loader iterator...\")\n",
    "    loader_iterator = LoaderIterator(Music21Serializer(), batch_size, midi_paths)\n",
    "    logger.info(f\"Loader iterator ready.\")\n",
    "\n",
    "    # Try to recover last iteration from a file\n",
    "    iteration_file = (\n",
    "        dataset_creator_config.save_path\n",
    "        / dataset_creator_config.dataset_name\n",
    "        / \"last_iteration.txt\"\n",
    "    )\n",
    "    if os.path.exists(iteration_file):\n",
    "        with open(iteration_file, \"r\") as f:\n",
    "            last_iteration = int(f.read().strip())\n",
    "            loader_iterator.set_current_iteration(last_iteration)\n",
    "\n",
    "    # Iterate over the batches\n",
    "    logger.info(f\"Loading songs\")\n",
    "    for batch_data in loader_iterator:\n",
    "        logger.info(f\"Got {len(batch_data)} songs\")\n",
    "        # Do some processing\n",
    "        dataset_creator.create(\n",
    "            dataset_path=dataset_creator_config.save_path,\n",
    "            m21_streams=batch_data,\n",
    "            current_iteration=loader_iterator._current_iteration,\n",
    "            overwrite=True,\n",
    "        )\n",
    "\n",
    "        # Keep some how the information in long-term storage so if the computer breaks, we can resume the processing\n",
    "        # Write current iteration to a file\n",
    "        loader_iterator.write_current_iteration(iteration_file)\n",
    "\n",
    "\n",
    "if __name__ == \"__main__\":\n",
    "    main()"
   ]
  },
  {
   "cell_type": "code",
   "execution_count": 7,
   "id": "e865d7a2",
   "metadata": {},
   "outputs": [
    {
     "name": "stderr",
     "output_type": "stream",
     "text": [
      "ERROR: Invalid requirement: '#.datasetcreatorconfig'\n"
     ]
    }
   ],
   "source": [
    "! pip install source #.datasetcreatorconfig"
   ]
  },
  {
   "cell_type": "code",
   "execution_count": null,
   "id": "1f78c116",
   "metadata": {},
   "outputs": [],
   "source": []
  }
 ],
 "metadata": {
  "kernelspec": {
   "display_name": "Python 3 (ipykernel)",
   "language": "python",
   "name": "python3"
  },
  "language_info": {
   "codemirror_mode": {
    "name": "ipython",
    "version": 3
   },
   "file_extension": ".py",
   "mimetype": "text/x-python",
   "name": "python",
   "nbconvert_exporter": "python",
   "pygments_lexer": "ipython3",
   "version": "3.9.13"
  }
 },
 "nbformat": 4,
 "nbformat_minor": 5
}
